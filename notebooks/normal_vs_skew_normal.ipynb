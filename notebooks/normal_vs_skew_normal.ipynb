{
 "cells": [
  {
   "cell_type": "markdown",
   "metadata": {},
   "source": [
    "# Generalized gaussian versus gaussian when there is no skew"
   ]
  },
  {
   "cell_type": "code",
   "execution_count": 15,
   "metadata": {},
   "outputs": [],
   "source": [
    "library(brms)\n",
    "library(tidyverse)\n",
    "library(broom)"
   ]
  },
  {
   "cell_type": "code",
   "execution_count": 32,
   "metadata": {},
   "outputs": [],
   "source": [
    "# sim data\n",
    "a <- 2\n",
    "b <- 2\n",
    "b2 <- 3\n",
    "b_b2 <- 2\n",
    "treatment_a <- c(rep(0, 50), rep(1, 50))\n",
    "treatment_b <- c(rep(0, 25), rep(1, 25), rep(0, 25), rep(1, 25))\n",
    "y <- rnorm(\n",
    "    mean = a + b*treatment_a + b2*treatment_b + b_b2*treatment_a*treatment_b,\n",
    "    sd = 2, n = 100)\n",
    "\n",
    "df <- tibble(treatment_a = treatment_a, treatment_b = treatment_b, y = y)"
   ]
  },
  {
   "cell_type": "code",
   "execution_count": 33,
   "metadata": {},
   "outputs": [
    {
     "name": "stderr",
     "output_type": "stream",
     "text": [
      "Compiling the C++ model\n",
      "recompiling to avoid crashing R session\n",
      "Start sampling\n"
     ]
    },
    {
     "name": "stdout",
     "output_type": "stream",
     "text": [
      "\n",
      "SAMPLING FOR MODEL 'e66a7d4dacb9d9402f7a8b6dd6fb40f7' NOW (CHAIN 1).\n",
      "Chain 1: \n",
      "Chain 1: Gradient evaluation took 3.6e-05 seconds\n",
      "Chain 1: 1000 transitions using 10 leapfrog steps per transition would take 0.36 seconds.\n",
      "Chain 1: Adjust your expectations accordingly!\n",
      "Chain 1: \n",
      "Chain 1: \n",
      "Chain 1: Iteration:    1 / 2000 [  0%]  (Warmup)\n",
      "Chain 1: Iteration:  200 / 2000 [ 10%]  (Warmup)\n",
      "Chain 1: Iteration:  400 / 2000 [ 20%]  (Warmup)\n",
      "Chain 1: Iteration:  600 / 2000 [ 30%]  (Warmup)\n",
      "Chain 1: Iteration:  800 / 2000 [ 40%]  (Warmup)\n",
      "Chain 1: Iteration: 1000 / 2000 [ 50%]  (Warmup)\n",
      "Chain 1: Iteration: 1001 / 2000 [ 50%]  (Sampling)\n",
      "Chain 1: Iteration: 1200 / 2000 [ 60%]  (Sampling)\n",
      "Chain 1: Iteration: 1400 / 2000 [ 70%]  (Sampling)\n",
      "Chain 1: Iteration: 1600 / 2000 [ 80%]  (Sampling)\n",
      "Chain 1: Iteration: 1800 / 2000 [ 90%]  (Sampling)\n",
      "Chain 1: Iteration: 2000 / 2000 [100%]  (Sampling)\n",
      "Chain 1: \n",
      "Chain 1:  Elapsed Time: 0.095144 seconds (Warm-up)\n",
      "Chain 1:                0.072201 seconds (Sampling)\n",
      "Chain 1:                0.167345 seconds (Total)\n",
      "Chain 1: \n",
      "\n",
      "SAMPLING FOR MODEL 'e66a7d4dacb9d9402f7a8b6dd6fb40f7' NOW (CHAIN 2).\n",
      "Chain 2: \n",
      "Chain 2: Gradient evaluation took 1.1e-05 seconds\n",
      "Chain 2: 1000 transitions using 10 leapfrog steps per transition would take 0.11 seconds.\n",
      "Chain 2: Adjust your expectations accordingly!\n",
      "Chain 2: \n",
      "Chain 2: \n",
      "Chain 2: Iteration:    1 / 2000 [  0%]  (Warmup)\n",
      "Chain 2: Iteration:  200 / 2000 [ 10%]  (Warmup)\n",
      "Chain 2: Iteration:  400 / 2000 [ 20%]  (Warmup)\n",
      "Chain 2: Iteration:  600 / 2000 [ 30%]  (Warmup)\n",
      "Chain 2: Iteration:  800 / 2000 [ 40%]  (Warmup)\n",
      "Chain 2: Iteration: 1000 / 2000 [ 50%]  (Warmup)\n",
      "Chain 2: Iteration: 1001 / 2000 [ 50%]  (Sampling)\n",
      "Chain 2: Iteration: 1200 / 2000 [ 60%]  (Sampling)\n",
      "Chain 2: Iteration: 1400 / 2000 [ 70%]  (Sampling)\n",
      "Chain 2: Iteration: 1600 / 2000 [ 80%]  (Sampling)\n",
      "Chain 2: Iteration: 1800 / 2000 [ 90%]  (Sampling)\n",
      "Chain 2: Iteration: 2000 / 2000 [100%]  (Sampling)\n",
      "Chain 2: \n",
      "Chain 2:  Elapsed Time: 0.086331 seconds (Warm-up)\n",
      "Chain 2:                0.086963 seconds (Sampling)\n",
      "Chain 2:                0.173294 seconds (Total)\n",
      "Chain 2: \n",
      "\n",
      "SAMPLING FOR MODEL 'e66a7d4dacb9d9402f7a8b6dd6fb40f7' NOW (CHAIN 3).\n",
      "Chain 3: \n",
      "Chain 3: Gradient evaluation took 1.4e-05 seconds\n",
      "Chain 3: 1000 transitions using 10 leapfrog steps per transition would take 0.14 seconds.\n",
      "Chain 3: Adjust your expectations accordingly!\n",
      "Chain 3: \n",
      "Chain 3: \n",
      "Chain 3: Iteration:    1 / 2000 [  0%]  (Warmup)\n",
      "Chain 3: Iteration:  200 / 2000 [ 10%]  (Warmup)\n",
      "Chain 3: Iteration:  400 / 2000 [ 20%]  (Warmup)\n",
      "Chain 3: Iteration:  600 / 2000 [ 30%]  (Warmup)\n",
      "Chain 3: Iteration:  800 / 2000 [ 40%]  (Warmup)\n",
      "Chain 3: Iteration: 1000 / 2000 [ 50%]  (Warmup)\n",
      "Chain 3: Iteration: 1001 / 2000 [ 50%]  (Sampling)\n",
      "Chain 3: Iteration: 1200 / 2000 [ 60%]  (Sampling)\n",
      "Chain 3: Iteration: 1400 / 2000 [ 70%]  (Sampling)\n",
      "Chain 3: Iteration: 1600 / 2000 [ 80%]  (Sampling)\n",
      "Chain 3: Iteration: 1800 / 2000 [ 90%]  (Sampling)\n",
      "Chain 3: Iteration: 2000 / 2000 [100%]  (Sampling)\n",
      "Chain 3: \n",
      "Chain 3:  Elapsed Time: 0.099772 seconds (Warm-up)\n",
      "Chain 3:                0.077536 seconds (Sampling)\n",
      "Chain 3:                0.177308 seconds (Total)\n",
      "Chain 3: \n",
      "\n",
      "SAMPLING FOR MODEL 'e66a7d4dacb9d9402f7a8b6dd6fb40f7' NOW (CHAIN 4).\n",
      "Chain 4: \n",
      "Chain 4: Gradient evaluation took 1.2e-05 seconds\n",
      "Chain 4: 1000 transitions using 10 leapfrog steps per transition would take 0.12 seconds.\n",
      "Chain 4: Adjust your expectations accordingly!\n",
      "Chain 4: \n",
      "Chain 4: \n",
      "Chain 4: Iteration:    1 / 2000 [  0%]  (Warmup)\n",
      "Chain 4: Iteration:  200 / 2000 [ 10%]  (Warmup)\n",
      "Chain 4: Iteration:  400 / 2000 [ 20%]  (Warmup)\n",
      "Chain 4: Iteration:  600 / 2000 [ 30%]  (Warmup)\n",
      "Chain 4: Iteration:  800 / 2000 [ 40%]  (Warmup)\n",
      "Chain 4: Iteration: 1000 / 2000 [ 50%]  (Warmup)\n",
      "Chain 4: Iteration: 1001 / 2000 [ 50%]  (Sampling)\n",
      "Chain 4: Iteration: 1200 / 2000 [ 60%]  (Sampling)\n",
      "Chain 4: Iteration: 1400 / 2000 [ 70%]  (Sampling)\n",
      "Chain 4: Iteration: 1600 / 2000 [ 80%]  (Sampling)\n",
      "Chain 4: Iteration: 1800 / 2000 [ 90%]  (Sampling)\n",
      "Chain 4: Iteration: 2000 / 2000 [100%]  (Sampling)\n",
      "Chain 4: \n",
      "Chain 4:  Elapsed Time: 0.088892 seconds (Warm-up)\n",
      "Chain 4:                0.07857 seconds (Sampling)\n",
      "Chain 4:                0.167462 seconds (Total)\n",
      "Chain 4: \n"
     ]
    }
   ],
   "source": [
    "fit <- brm(y ~ 1 + treatment_a*treatment_b, data = df)"
   ]
  },
  {
   "cell_type": "code",
   "execution_count": 34,
   "metadata": {},
   "outputs": [
    {
     "name": "stderr",
     "output_type": "stream",
     "text": [
      "Compiling the C++ model\n",
      "recompiling to avoid crashing R session\n",
      "Start sampling\n"
     ]
    },
    {
     "name": "stdout",
     "output_type": "stream",
     "text": [
      "\n",
      "SAMPLING FOR MODEL '7950c448ccefa79e7a3776922fb71191' NOW (CHAIN 1).\n",
      "Chain 1: \n",
      "Chain 1: Gradient evaluation took 6.1e-05 seconds\n",
      "Chain 1: 1000 transitions using 10 leapfrog steps per transition would take 0.61 seconds.\n",
      "Chain 1: Adjust your expectations accordingly!\n",
      "Chain 1: \n",
      "Chain 1: \n",
      "Chain 1: Iteration:    1 / 2000 [  0%]  (Warmup)\n",
      "Chain 1: Iteration:  200 / 2000 [ 10%]  (Warmup)\n",
      "Chain 1: Iteration:  400 / 2000 [ 20%]  (Warmup)\n",
      "Chain 1: Iteration:  600 / 2000 [ 30%]  (Warmup)\n",
      "Chain 1: Iteration:  800 / 2000 [ 40%]  (Warmup)\n",
      "Chain 1: Iteration: 1000 / 2000 [ 50%]  (Warmup)\n",
      "Chain 1: Iteration: 1001 / 2000 [ 50%]  (Sampling)\n",
      "Chain 1: Iteration: 1200 / 2000 [ 60%]  (Sampling)\n",
      "Chain 1: Iteration: 1400 / 2000 [ 70%]  (Sampling)\n",
      "Chain 1: Iteration: 1600 / 2000 [ 80%]  (Sampling)\n",
      "Chain 1: Iteration: 1800 / 2000 [ 90%]  (Sampling)\n",
      "Chain 1: Iteration: 2000 / 2000 [100%]  (Sampling)\n",
      "Chain 1: \n",
      "Chain 1:  Elapsed Time: 0.29979 seconds (Warm-up)\n",
      "Chain 1:                0.219405 seconds (Sampling)\n",
      "Chain 1:                0.519195 seconds (Total)\n",
      "Chain 1: \n",
      "\n",
      "SAMPLING FOR MODEL '7950c448ccefa79e7a3776922fb71191' NOW (CHAIN 2).\n",
      "Chain 2: \n",
      "Chain 2: Gradient evaluation took 3.5e-05 seconds\n",
      "Chain 2: 1000 transitions using 10 leapfrog steps per transition would take 0.35 seconds.\n",
      "Chain 2: Adjust your expectations accordingly!\n",
      "Chain 2: \n",
      "Chain 2: \n",
      "Chain 2: Iteration:    1 / 2000 [  0%]  (Warmup)\n",
      "Chain 2: Iteration:  200 / 2000 [ 10%]  (Warmup)\n",
      "Chain 2: Iteration:  400 / 2000 [ 20%]  (Warmup)\n",
      "Chain 2: Iteration:  600 / 2000 [ 30%]  (Warmup)\n",
      "Chain 2: Iteration:  800 / 2000 [ 40%]  (Warmup)\n",
      "Chain 2: Iteration: 1000 / 2000 [ 50%]  (Warmup)\n",
      "Chain 2: Iteration: 1001 / 2000 [ 50%]  (Sampling)\n",
      "Chain 2: Iteration: 1200 / 2000 [ 60%]  (Sampling)\n",
      "Chain 2: Iteration: 1400 / 2000 [ 70%]  (Sampling)\n",
      "Chain 2: Iteration: 1600 / 2000 [ 80%]  (Sampling)\n",
      "Chain 2: Iteration: 1800 / 2000 [ 90%]  (Sampling)\n",
      "Chain 2: Iteration: 2000 / 2000 [100%]  (Sampling)\n",
      "Chain 2: \n",
      "Chain 2:  Elapsed Time: 0.284992 seconds (Warm-up)\n",
      "Chain 2:                0.239561 seconds (Sampling)\n",
      "Chain 2:                0.524553 seconds (Total)\n",
      "Chain 2: \n",
      "\n",
      "SAMPLING FOR MODEL '7950c448ccefa79e7a3776922fb71191' NOW (CHAIN 3).\n",
      "Chain 3: Rejecting initial value:\n",
      "Chain 3:   Gradient evaluated at the initial value is not finite.\n",
      "Chain 3:   Stan can't start sampling from this initial value.\n",
      "Chain 3: \n",
      "Chain 3: Gradient evaluation took 3.8e-05 seconds\n",
      "Chain 3: 1000 transitions using 10 leapfrog steps per transition would take 0.38 seconds.\n",
      "Chain 3: Adjust your expectations accordingly!\n",
      "Chain 3: \n",
      "Chain 3: \n",
      "Chain 3: Iteration:    1 / 2000 [  0%]  (Warmup)\n",
      "Chain 3: Iteration:  200 / 2000 [ 10%]  (Warmup)\n",
      "Chain 3: Iteration:  400 / 2000 [ 20%]  (Warmup)\n",
      "Chain 3: Iteration:  600 / 2000 [ 30%]  (Warmup)\n",
      "Chain 3: Iteration:  800 / 2000 [ 40%]  (Warmup)\n",
      "Chain 3: Iteration: 1000 / 2000 [ 50%]  (Warmup)\n",
      "Chain 3: Iteration: 1001 / 2000 [ 50%]  (Sampling)\n",
      "Chain 3: Iteration: 1200 / 2000 [ 60%]  (Sampling)\n",
      "Chain 3: Iteration: 1400 / 2000 [ 70%]  (Sampling)\n",
      "Chain 3: Iteration: 1600 / 2000 [ 80%]  (Sampling)\n",
      "Chain 3: Iteration: 1800 / 2000 [ 90%]  (Sampling)\n",
      "Chain 3: Iteration: 2000 / 2000 [100%]  (Sampling)\n",
      "Chain 3: \n",
      "Chain 3:  Elapsed Time: 0.301448 seconds (Warm-up)\n",
      "Chain 3:                0.225684 seconds (Sampling)\n",
      "Chain 3:                0.527132 seconds (Total)\n",
      "Chain 3: \n",
      "\n",
      "SAMPLING FOR MODEL '7950c448ccefa79e7a3776922fb71191' NOW (CHAIN 4).\n",
      "Chain 4: \n",
      "Chain 4: Gradient evaluation took 3.2e-05 seconds\n",
      "Chain 4: 1000 transitions using 10 leapfrog steps per transition would take 0.32 seconds.\n",
      "Chain 4: Adjust your expectations accordingly!\n",
      "Chain 4: \n",
      "Chain 4: \n",
      "Chain 4: Iteration:    1 / 2000 [  0%]  (Warmup)\n",
      "Chain 4: Iteration:  200 / 2000 [ 10%]  (Warmup)\n",
      "Chain 4: Iteration:  400 / 2000 [ 20%]  (Warmup)\n",
      "Chain 4: Iteration:  600 / 2000 [ 30%]  (Warmup)\n",
      "Chain 4: Iteration:  800 / 2000 [ 40%]  (Warmup)\n",
      "Chain 4: Iteration: 1000 / 2000 [ 50%]  (Warmup)\n",
      "Chain 4: Iteration: 1001 / 2000 [ 50%]  (Sampling)\n",
      "Chain 4: Iteration: 1200 / 2000 [ 60%]  (Sampling)\n",
      "Chain 4: Iteration: 1400 / 2000 [ 70%]  (Sampling)\n",
      "Chain 4: Iteration: 1600 / 2000 [ 80%]  (Sampling)\n",
      "Chain 4: Iteration: 1800 / 2000 [ 90%]  (Sampling)\n",
      "Chain 4: Iteration: 2000 / 2000 [100%]  (Sampling)\n",
      "Chain 4: \n",
      "Chain 4:  Elapsed Time: 0.300005 seconds (Warm-up)\n",
      "Chain 4:                0.276956 seconds (Sampling)\n",
      "Chain 4:                0.576961 seconds (Total)\n",
      "Chain 4: \n"
     ]
    }
   ],
   "source": [
    "fit_g <- brm(y ~ 1 + treatment_a*treatment_b, family = skew_normal(), data = df)"
   ]
  },
  {
   "cell_type": "code",
   "execution_count": 35,
   "metadata": {},
   "outputs": [
    {
     "data": {
      "text/plain": [
       " Family: gaussian \n",
       "  Links: mu = identity; sigma = identity \n",
       "Formula: y ~ 1 + treatment_a * treatment_b \n",
       "   Data: df (Number of observations: 100) \n",
       "Samples: 4 chains, each with iter = 2000; warmup = 1000; thin = 1;\n",
       "         total post-warmup samples = 4000\n",
       "\n",
       "Population-Level Effects: \n",
       "                        Estimate Est.Error l-95% CI u-95% CI Eff.Sample Rhat\n",
       "Intercept                   2.37      0.41     1.55     3.16       2318 1.00\n",
       "treatment_a                 1.90      0.60     0.76     3.08       2085 1.00\n",
       "treatment_b                 2.92      0.58     1.77     4.03       2246 1.00\n",
       "treatment_a:treatment_b     1.93      0.84     0.30     3.57       2027 1.00\n",
       "\n",
       "Family Specific Parameters: \n",
       "      Estimate Est.Error l-95% CI u-95% CI Eff.Sample Rhat\n",
       "sigma     2.10      0.15     1.83     2.42       3333 1.00\n",
       "\n",
       "Samples were drawn using sampling(NUTS). For each parameter, Eff.Sample \n",
       "is a crude measure of effective sample size, and Rhat is the potential \n",
       "scale reduction factor on split chains (at convergence, Rhat = 1)."
      ]
     },
     "metadata": {},
     "output_type": "display_data"
    },
    {
     "data": {
      "text/plain": [
       " Family: skew_normal \n",
       "  Links: mu = identity; sigma = identity; alpha = identity \n",
       "Formula: y ~ 1 + treatment_a * treatment_b \n",
       "   Data: df (Number of observations: 100) \n",
       "Samples: 4 chains, each with iter = 2000; warmup = 1000; thin = 1;\n",
       "         total post-warmup samples = 4000\n",
       "\n",
       "Population-Level Effects: \n",
       "                        Estimate Est.Error l-95% CI u-95% CI Eff.Sample Rhat\n",
       "Intercept                   2.37      0.42     1.57     3.19       2574 1.00\n",
       "treatment_a                 1.91      0.61     0.70     3.07       2187 1.00\n",
       "treatment_b                 2.90      0.60     1.71     4.06       2371 1.00\n",
       "treatment_a:treatment_b     1.96      0.84     0.30     3.60       1784 1.00\n",
       "\n",
       "Family Specific Parameters: \n",
       "      Estimate Est.Error l-95% CI u-95% CI Eff.Sample Rhat\n",
       "sigma     2.11      0.16     1.84     2.45       3640 1.00\n",
       "alpha     0.40      1.07    -1.52     2.34       2941 1.00\n",
       "\n",
       "Samples were drawn using sampling(NUTS). For each parameter, Eff.Sample \n",
       "is a crude measure of effective sample size, and Rhat is the potential \n",
       "scale reduction factor on split chains (at convergence, Rhat = 1)."
      ]
     },
     "metadata": {},
     "output_type": "display_data"
    }
   ],
   "source": [
    "summary(fit)\n",
    "summary(fit_g)"
   ]
  },
  {
   "cell_type": "code",
   "execution_count": 36,
   "metadata": {},
   "outputs": [
    {
     "data": {
      "text/html": [
       "<table>\n",
       "<thead><tr><th scope=col>term</th><th scope=col>estimate</th><th scope=col>std.error</th><th scope=col>lower</th><th scope=col>upper</th></tr></thead>\n",
       "<tbody>\n",
       "\t<tr><td>b_Intercept              </td><td>   2.365309              </td><td>0.4103134                </td><td>   1.6943324             </td><td>   3.037853              </td></tr>\n",
       "\t<tr><td>b_treatment_a            </td><td>   1.900002              </td><td>0.5963468                </td><td>   0.9182754             </td><td>   2.889015              </td></tr>\n",
       "\t<tr><td>b_treatment_b            </td><td>   2.916170              </td><td>0.5777463                </td><td>   1.9645749             </td><td>   3.853358              </td></tr>\n",
       "\t<tr><td>b_treatment_a:treatment_b</td><td>   1.926150              </td><td>0.8362831                </td><td>   0.5534887             </td><td>   3.314504              </td></tr>\n",
       "\t<tr><td>sigma                    </td><td>   2.099973              </td><td>0.1528552                </td><td>   1.8652092             </td><td>   2.372590              </td></tr>\n",
       "\t<tr><td>lp__                     </td><td>-220.269220              </td><td>1.6115723                </td><td>-223.3638900             </td><td>-218.291702              </td></tr>\n",
       "</tbody>\n",
       "</table>\n"
      ],
      "text/latex": [
       "\\begin{tabular}{r|lllll}\n",
       " term & estimate & std.error & lower & upper\\\\\n",
       "\\hline\n",
       "\t b\\_Intercept               &    2.365309                 & 0.4103134                   &    1.6943324                &    3.037853                \\\\\n",
       "\t b\\_treatment\\_a             &    1.900002                   & 0.5963468                     &    0.9182754                  &    2.889015                  \\\\\n",
       "\t b\\_treatment\\_b             &    2.916170                   & 0.5777463                     &    1.9645749                  &    3.853358                  \\\\\n",
       "\t b\\_treatment\\_a:treatment\\_b &    1.926150                     & 0.8362831                       &    0.5534887                    &    3.314504                    \\\\\n",
       "\t sigma                     &    2.099973               & 0.1528552                 &    1.8652092              &    2.372590              \\\\\n",
       "\t lp\\_\\_                      & -220.269220                   & 1.6115723                     & -223.3638900                  & -218.291702                  \\\\\n",
       "\\end{tabular}\n"
      ],
      "text/markdown": [
       "\n",
       "term | estimate | std.error | lower | upper | \n",
       "|---|---|---|---|---|---|\n",
       "| b_Intercept               |    2.365309               | 0.4103134                 |    1.6943324              |    3.037853               | \n",
       "| b_treatment_a             |    1.900002               | 0.5963468                 |    0.9182754              |    2.889015               | \n",
       "| b_treatment_b             |    2.916170               | 0.5777463                 |    1.9645749              |    3.853358               | \n",
       "| b_treatment_a:treatment_b |    1.926150               | 0.8362831                 |    0.5534887              |    3.314504               | \n",
       "| sigma                     |    2.099973               | 0.1528552                 |    1.8652092              |    2.372590               | \n",
       "| lp__                      | -220.269220               | 1.6115723                 | -223.3638900              | -218.291702               | \n",
       "\n",
       "\n"
      ],
      "text/plain": [
       "  term                      estimate    std.error lower        upper      \n",
       "1 b_Intercept                  2.365309 0.4103134    1.6943324    3.037853\n",
       "2 b_treatment_a                1.900002 0.5963468    0.9182754    2.889015\n",
       "3 b_treatment_b                2.916170 0.5777463    1.9645749    3.853358\n",
       "4 b_treatment_a:treatment_b    1.926150 0.8362831    0.5534887    3.314504\n",
       "5 sigma                        2.099973 0.1528552    1.8652092    2.372590\n",
       "6 lp__                      -220.269220 1.6115723 -223.3638900 -218.291702"
      ]
     },
     "metadata": {},
     "output_type": "display_data"
    },
    {
     "data": {
      "text/html": [
       "<table>\n",
       "<thead><tr><th scope=col>term</th><th scope=col>estimate</th><th scope=col>std.error</th><th scope=col>lower</th><th scope=col>upper</th></tr></thead>\n",
       "<tbody>\n",
       "\t<tr><td>b_Intercept              </td><td>   2.368372              </td><td>0.4159775                </td><td>   1.6929437             </td><td>   3.058047              </td></tr>\n",
       "\t<tr><td>b_treatment_a            </td><td>   1.906806              </td><td>0.6051003                </td><td>   0.8992847             </td><td>   2.888506              </td></tr>\n",
       "\t<tr><td>b_treatment_b            </td><td>   2.898493              </td><td>0.5964351                </td><td>   1.9002172             </td><td>   3.879458              </td></tr>\n",
       "\t<tr><td>b_treatment_a:treatment_b</td><td>   1.959147              </td><td>0.8400708                </td><td>   0.5650679             </td><td>   3.353046              </td></tr>\n",
       "\t<tr><td>sigma                    </td><td>   2.114376              </td><td>0.1561377                </td><td>   1.8792641             </td><td>   2.383833              </td></tr>\n",
       "\t<tr><td>alpha                    </td><td>   0.404266              </td><td>1.0697914                </td><td>  -1.3036374             </td><td>   2.101409              </td></tr>\n",
       "\t<tr><td>lp__                     </td><td>-222.819619              </td><td>1.7089899                </td><td>-225.9836236             </td><td>-220.697496              </td></tr>\n",
       "</tbody>\n",
       "</table>\n"
      ],
      "text/latex": [
       "\\begin{tabular}{r|lllll}\n",
       " term & estimate & std.error & lower & upper\\\\\n",
       "\\hline\n",
       "\t b\\_Intercept               &    2.368372                 & 0.4159775                   &    1.6929437                &    3.058047                \\\\\n",
       "\t b\\_treatment\\_a             &    1.906806                   & 0.6051003                     &    0.8992847                  &    2.888506                  \\\\\n",
       "\t b\\_treatment\\_b             &    2.898493                   & 0.5964351                     &    1.9002172                  &    3.879458                  \\\\\n",
       "\t b\\_treatment\\_a:treatment\\_b &    1.959147                     & 0.8400708                       &    0.5650679                    &    3.353046                    \\\\\n",
       "\t sigma                     &    2.114376               & 0.1561377                 &    1.8792641              &    2.383833              \\\\\n",
       "\t alpha                     &    0.404266               & 1.0697914                 &   -1.3036374              &    2.101409              \\\\\n",
       "\t lp\\_\\_                      & -222.819619                   & 1.7089899                     & -225.9836236                  & -220.697496                  \\\\\n",
       "\\end{tabular}\n"
      ],
      "text/markdown": [
       "\n",
       "term | estimate | std.error | lower | upper | \n",
       "|---|---|---|---|---|---|---|\n",
       "| b_Intercept               |    2.368372               | 0.4159775                 |    1.6929437              |    3.058047               | \n",
       "| b_treatment_a             |    1.906806               | 0.6051003                 |    0.8992847              |    2.888506               | \n",
       "| b_treatment_b             |    2.898493               | 0.5964351                 |    1.9002172              |    3.879458               | \n",
       "| b_treatment_a:treatment_b |    1.959147               | 0.8400708                 |    0.5650679              |    3.353046               | \n",
       "| sigma                     |    2.114376               | 0.1561377                 |    1.8792641              |    2.383833               | \n",
       "| alpha                     |    0.404266               | 1.0697914                 |   -1.3036374              |    2.101409               | \n",
       "| lp__                      | -222.819619               | 1.7089899                 | -225.9836236              | -220.697496               | \n",
       "\n",
       "\n"
      ],
      "text/plain": [
       "  term                      estimate    std.error lower        upper      \n",
       "1 b_Intercept                  2.368372 0.4159775    1.6929437    3.058047\n",
       "2 b_treatment_a                1.906806 0.6051003    0.8992847    2.888506\n",
       "3 b_treatment_b                2.898493 0.5964351    1.9002172    3.879458\n",
       "4 b_treatment_a:treatment_b    1.959147 0.8400708    0.5650679    3.353046\n",
       "5 sigma                        2.114376 0.1561377    1.8792641    2.383833\n",
       "6 alpha                        0.404266 1.0697914   -1.3036374    2.101409\n",
       "7 lp__                      -222.819619 1.7089899 -225.9836236 -220.697496"
      ]
     },
     "metadata": {},
     "output_type": "display_data"
    }
   ],
   "source": [
    "tidy(fit)\n",
    "tidy(fit_g)"
   ]
  },
  {
   "cell_type": "code",
   "execution_count": 37,
   "metadata": {},
   "outputs": [
    {
     "data": {},
     "metadata": {},
     "output_type": "display_data"
    },
    {
     "data": {
      "image/png": "[encoded data removed]",
      "text/plain": [
       "plot without title"
      ]
     },
     "metadata": {},
     "output_type": "display_data"
    }
   ],
   "source": [
    "ggplot(df, aes(y)) +\n",
    "    geom_density()"
   ]
  },
  {
   "cell_type": "code",
   "execution_count": null,
   "metadata": {},
   "outputs": [],
   "source": []
  }
 ],
 "metadata": {
  "kernelspec": {
   "display_name": "R",
   "language": "R",
   "name": "ir"
  },
  "language_info": {
   "codemirror_mode": "r",
   "file_extension": ".r",
   "mimetype": "text/x-r-source",
   "name": "R",
   "pygments_lexer": "r",
   "version": "3.5.1"
  }
 },
 "nbformat": 4,
 "nbformat_minor": 2
}
