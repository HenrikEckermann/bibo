{
 "cells": [
  {
   "cell_type": "markdown",
   "metadata": {},
   "source": [
    "# Dan Knight tutorial"
   ]
  },
  {
   "cell_type": "code",
   "execution_count": 29,
   "metadata": {},
   "outputs": [],
   "source": [
    "library(vegan)\n",
    "library(here)\n",
    "library(biom)\n",
    "library(tidyverse)"
   ]
  },
  {
   "cell_type": "code",
   "execution_count": 30,
   "metadata": {},
   "outputs": [],
   "source": [
    "otus.biom <- read_biom(here('data/tutorial/data/guerreronegro/otu_table_json.biom'))\n",
    "map <- read.table(\n",
    "    here(\"data/tutorial/data/guerreronegro/map.txt\"), sep = \"\\t\", comment = \"\", head = TRUE, row.names = 1)"
   ]
  },
  {
   "cell_type": "code",
   "execution_count": 53,
   "metadata": {},
   "outputs": [],
   "source": [
    "otus <- as.matrix(biom_data(otus.biom)) %>% t()\n",
    "otus <- sweep(otus, 1, rowSums(otus), \"/\")"
   ]
  },
  {
   "cell_type": "code",
   "execution_count": 54,
   "metadata": {},
   "outputs": [],
   "source": [
    "common.ids <- intersect(rownames(map), rownames(otus))\n",
    "otus <- otus[common.ids, ]\n",
    "map <- map[common.ids, ]"
   ]
  },
  {
   "cell_type": "code",
   "execution_count": 55,
   "metadata": {},
   "outputs": [],
   "source": [
    "#euclidean distance\n",
    "d.euc <- dist(otus)\n",
    "# bray curtis\n",
    "d.bray <- vegdist(otus)\n",
    "# chi square distance\n",
    "my.ca <- cca(otus)\n",
    "d.chisq <- as.matrix(dist(my.ca$CA$u[,1:2]))"
   ]
  },
  {
   "cell_type": "code",
   "execution_count": 60,
   "metadata": {},
   "outputs": [],
   "source": [
    "otu.ix <- order(colMeans(otus), decreasing = T)[1:10]\n",
    "pca.otus <- princomp(otus[, otu.ix])$scores"
   ]
  },
  {
   "cell_type": "code",
   "execution_count": 65,
   "metadata": {},
   "outputs": [],
   "source": [
    "# compare outcomes of different functions\n",
    "pc.bray <- cmdscale(d.bray, k = 2)"
   ]
  },
  {
   "cell_type": "code",
   "execution_count": 66,
   "metadata": {},
   "outputs": [
    {
     "data": {
      "text/html": [
       "<table>\n",
       "<tbody>\n",
       "\t<tr><th scope=row>GN01P.484257</th><td>-0.4703701 </td><td> 0.28968066</td></tr>\n",
       "\t<tr><th scope=row>GN01P.o.484256</th><td>-0.4727013 </td><td> 0.29696878</td></tr>\n",
       "\t<tr><th scope=row>GN02P.o.484250</th><td>-0.4644563 </td><td> 0.07738391</td></tr>\n",
       "\t<tr><th scope=row>GN02P.484248</th><td>-0.4546669 </td><td> 0.06952805</td></tr>\n",
       "\t<tr><th scope=row>GN03P.484253</th><td>-0.3205785 </td><td>-0.13192243</td></tr>\n",
       "\t<tr><th scope=row>GN03P.o.484249</th><td>-0.3082119 </td><td>-0.16276307</td></tr>\n",
       "\t<tr><th scope=row>GN04P.484258</th><td>-0.1064831 </td><td>-0.23269497</td></tr>\n",
       "\t<tr><th scope=row>GN04P.o.484251</th><td>-0.1020568 </td><td>-0.22676664</td></tr>\n",
       "\t<tr><th scope=row>GN05P.o.484260</th><td> 0.1770236 </td><td>-0.27123581</td></tr>\n",
       "\t<tr><th scope=row>GN05P.484261</th><td> 0.1891522 </td><td>-0.28147347</td></tr>\n",
       "\t<tr><th scope=row>GN06P.o.484262</th><td> 0.1823404 </td><td>-0.26455675</td></tr>\n",
       "\t<tr><th scope=row>GN06P.484247</th><td> 0.1655056 </td><td>-0.26208163</td></tr>\n",
       "\t<tr><th scope=row>GN07P.o.484246</th><td> 0.2808872 </td><td>-0.04270046</td></tr>\n",
       "\t<tr><th scope=row>GN07P.484259</th><td> 0.2730996 </td><td>-0.02128774</td></tr>\n",
       "\t<tr><th scope=row>GN08P.484265</th><td> 0.3694894 </td><td> 0.21959165</td></tr>\n",
       "\t<tr><th scope=row>GN08P.o.484263</th><td> 0.3610739 </td><td> 0.22483549</td></tr>\n",
       "\t<tr><th scope=row>GN09P.484254</th><td> 0.3524889 </td><td> 0.36090684</td></tr>\n",
       "\t<tr><th scope=row>GN09P.o.484264</th><td> 0.3484641 </td><td> 0.35858760</td></tr>\n",
       "</tbody>\n",
       "</table>\n"
      ],
      "text/latex": [
       "\\begin{tabular}{r|ll}\n",
       "\tGN01P.484257 & -0.4703701  &  0.28968066\\\\\n",
       "\tGN01P.o.484256 & -0.4727013  &  0.29696878\\\\\n",
       "\tGN02P.o.484250 & -0.4644563  &  0.07738391\\\\\n",
       "\tGN02P.484248 & -0.4546669  &  0.06952805\\\\\n",
       "\tGN03P.484253 & -0.3205785  & -0.13192243\\\\\n",
       "\tGN03P.o.484249 & -0.3082119  & -0.16276307\\\\\n",
       "\tGN04P.484258 & -0.1064831  & -0.23269497\\\\\n",
       "\tGN04P.o.484251 & -0.1020568  & -0.22676664\\\\\n",
       "\tGN05P.o.484260 &  0.1770236  & -0.27123581\\\\\n",
       "\tGN05P.484261 &  0.1891522  & -0.28147347\\\\\n",
       "\tGN06P.o.484262 &  0.1823404  & -0.26455675\\\\\n",
       "\tGN06P.484247 &  0.1655056  & -0.26208163\\\\\n",
       "\tGN07P.o.484246 &  0.2808872  & -0.04270046\\\\\n",
       "\tGN07P.484259 &  0.2730996  & -0.02128774\\\\\n",
       "\tGN08P.484265 &  0.3694894  &  0.21959165\\\\\n",
       "\tGN08P.o.484263 &  0.3610739  &  0.22483549\\\\\n",
       "\tGN09P.484254 &  0.3524889  &  0.36090684\\\\\n",
       "\tGN09P.o.484264 &  0.3484641  &  0.35858760\\\\\n",
       "\\end{tabular}\n"
      ],
      "text/markdown": [
       "\n",
       "| GN01P.484257 | -0.4703701  |  0.28968066 | \n",
       "| GN01P.o.484256 | -0.4727013  |  0.29696878 | \n",
       "| GN02P.o.484250 | -0.4644563  |  0.07738391 | \n",
       "| GN02P.484248 | -0.4546669  |  0.06952805 | \n",
       "| GN03P.484253 | -0.3205785  | -0.13192243 | \n",
       "| GN03P.o.484249 | -0.3082119  | -0.16276307 | \n",
       "| GN04P.484258 | -0.1064831  | -0.23269497 | \n",
       "| GN04P.o.484251 | -0.1020568  | -0.22676664 | \n",
       "| GN05P.o.484260 |  0.1770236  | -0.27123581 | \n",
       "| GN05P.484261 |  0.1891522  | -0.28147347 | \n",
       "| GN06P.o.484262 |  0.1823404  | -0.26455675 | \n",
       "| GN06P.484247 |  0.1655056  | -0.26208163 | \n",
       "| GN07P.o.484246 |  0.2808872  | -0.04270046 | \n",
       "| GN07P.484259 |  0.2730996  | -0.02128774 | \n",
       "| GN08P.484265 |  0.3694894  |  0.21959165 | \n",
       "| GN08P.o.484263 |  0.3610739  |  0.22483549 | \n",
       "| GN09P.484254 |  0.3524889  |  0.36090684 | \n",
       "| GN09P.o.484264 |  0.3484641  |  0.35858760 | \n",
       "\n",
       "\n"
      ],
      "text/plain": [
       "               [,1]       [,2]       \n",
       "GN01P.484257   -0.4703701  0.28968066\n",
       "GN01P.o.484256 -0.4727013  0.29696878\n",
       "GN02P.o.484250 -0.4644563  0.07738391\n",
       "GN02P.484248   -0.4546669  0.06952805\n",
       "GN03P.484253   -0.3205785 -0.13192243\n",
       "GN03P.o.484249 -0.3082119 -0.16276307\n",
       "GN04P.484258   -0.1064831 -0.23269497\n",
       "GN04P.o.484251 -0.1020568 -0.22676664\n",
       "GN05P.o.484260  0.1770236 -0.27123581\n",
       "GN05P.484261    0.1891522 -0.28147347\n",
       "GN06P.o.484262  0.1823404 -0.26455675\n",
       "GN06P.484247    0.1655056 -0.26208163\n",
       "GN07P.o.484246  0.2808872 -0.04270046\n",
       "GN07P.484259    0.2730996 -0.02128774\n",
       "GN08P.484265    0.3694894  0.21959165\n",
       "GN08P.o.484263  0.3610739  0.22483549\n",
       "GN09P.484254    0.3524889  0.36090684\n",
       "GN09P.o.484264  0.3484641  0.35858760"
      ]
     },
     "metadata": {},
     "output_type": "display_data"
    }
   ],
   "source": []
  },
  {
   "cell_type": "code",
   "execution_count": null,
   "metadata": {},
   "outputs": [],
   "source": []
  }
 ],
 "metadata": {
  "kernelspec": {
   "display_name": "R",
   "language": "R",
   "name": "ir"
  },
  "language_info": {
   "codemirror_mode": "r",
   "file_extension": ".r",
   "mimetype": "text/x-r-source",
   "name": "R",
   "pygments_lexer": "r",
   "version": "3.5.1"
  }
 },
 "nbformat": 4,
 "nbformat_minor": 2
}
