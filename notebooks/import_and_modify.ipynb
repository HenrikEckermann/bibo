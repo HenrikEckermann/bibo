{
 "cells": [
  {
   "cell_type": "markdown",
   "metadata": {},
   "source": [
    "# Data preparation\n",
    "\n"
   ]
  },
  {
   "cell_type": "code",
   "execution_count": 1,
   "metadata": {
    "autoscroll": false,
    "scrolled": true
   },
   "outputs": [
    {
     "name": "stderr",
     "output_type": "stream",
     "text": [
      "Loading required package: phyloseq\n",
      "Loading required package: ggplot2\n",
      "\n",
      "microbiome R package (microbiome.github.com)\n",
      "    \n",
      "\n",
      "\n",
      " Copyright (C) 2011-2018 Leo Lahti et al. <microbiome.github.io>\n",
      "\n",
      "\n",
      "Attaching package: ‘microbiome’\n",
      "\n",
      "The following object is masked from ‘package:base’:\n",
      "\n",
      "    transform\n",
      "\n",
      "── Attaching packages ─────────────────────────────────────── tidyverse 1.2.1 ──\n",
      "✔ tibble  2.0.1     ✔ purrr   0.2.5\n",
      "✔ tidyr   0.8.2     ✔ dplyr   0.7.8\n",
      "✔ readr   1.3.1     ✔ stringr 1.3.1\n",
      "✔ tibble  2.0.1     ✔ forcats 0.3.0\n",
      "── Conflicts ────────────────────────────────────────── tidyverse_conflicts() ──\n",
      "✖ dplyr::filter() masks stats::filter()\n",
      "✖ dplyr::lag()    masks stats::lag()\n",
      "here() starts at /Users/henrikeckermann/workspace/research_master/minor_research_project/article/analyses/bibo\n",
      "Loading required package: DBI\n",
      "Loading required package: preprocessCore\n",
      "Loading required package: RMySQL\n",
      "Loading required package: RPA\n",
      "Loading required package: affy\n",
      "Loading required package: BiocGenerics\n",
      "Loading required package: parallel\n",
      "\n",
      "Attaching package: ‘BiocGenerics’\n",
      "\n",
      "The following objects are masked from ‘package:parallel’:\n",
      "\n",
      "    clusterApply, clusterApplyLB, clusterCall, clusterEvalQ,\n",
      "    clusterExport, clusterMap, parApply, parCapply, parLapply,\n",
      "    parLapplyLB, parRapply, parSapply, parSapplyLB\n",
      "\n",
      "The following objects are masked from ‘package:dplyr’:\n",
      "\n",
      "    combine, intersect, setdiff, union\n",
      "\n",
      "The following objects are masked from ‘package:stats’:\n",
      "\n",
      "    IQR, mad, sd, var, xtabs\n",
      "\n",
      "The following objects are masked from ‘package:base’:\n",
      "\n",
      "    Filter, Find, Map, Position, Reduce, anyDuplicated, append,\n",
      "    as.data.frame, basename, cbind, colMeans, colSums, colnames,\n",
      "    dirname, do.call, duplicated, eval, evalq, get, grep, grepl,\n",
      "    intersect, is.unsorted, lapply, lengths, mapply, match, mget,\n",
      "    order, paste, pmax, pmax.int, pmin, pmin.int, rank, rbind,\n",
      "    rowMeans, rowSums, rownames, sapply, setdiff, sort, table, tapply,\n",
      "    union, unique, unsplit, which, which.max, which.min\n",
      "\n",
      "Loading required package: Biobase\n",
      "Welcome to Bioconductor\n",
      "\n",
      "    Vignettes contain introductory material; view with\n",
      "    'browseVignettes()'. To cite Bioconductor, see\n",
      "    'citation(\"Biobase\")', and for packages 'citation(\"pkgname\")'.\n",
      "\n",
      "\n",
      "Attaching package: ‘Biobase’\n",
      "\n",
      "The following object is masked from ‘package:phyloseq’:\n",
      "\n",
      "    sampleNames\n",
      "\n",
      "\n",
      "RPA Copyright (C) 2008-2017 Leo Lahti. See http://microbiome.github.io/\n",
      "\n",
      "Loading required package: tcltk\n",
      "\n",
      "HITChipDB R package (microbiome.github.com)\n",
      "(C) 2011-2016 Leo Lahti and Jarkko Salojarvi <microbiome-admin@googlegroups.com>\n",
      "\n",
      "\n",
      "Attaching package: ‘HITChipDB’\n",
      "\n",
      "The following objects are masked from ‘package:RPA’:\n",
      "\n",
      "    n.phylotypes.per.oligo, summarize.rpa, summarize.sum\n",
      "\n"
     ]
    }
   ],
   "source": [
    "# to view longer dfs I set print option\n",
    "options(dplyr.print_max = 1e9)\n",
    "library(microbiome)\n",
    "library(tidyverse)\n",
    "library(here)\n",
    "# load HITChip data using Leo's script\n",
    "source(here(\"R/read.R\"))"
   ]
  },
  {
   "cell_type": "code",
   "execution_count": 2,
   "metadata": {
    "scrolled": false
   },
   "outputs": [
    {
     "data": {
      "text/html": [
       "<table>\n",
       "<thead><tr><th scope=col>sample</th><th scope=col>inverse_simpson</th><th scope=col>gini_simpson</th><th scope=col>shannon</th><th scope=col>fisher</th><th scope=col>coverage</th></tr></thead>\n",
       "<tbody>\n",
       "\t<tr><td>sa_2288  </td><td>13.136503</td><td>0.9238762</td><td>3.287956 </td><td>5.184989 </td><td>7        </td></tr>\n",
       "\t<tr><td>sa_3262  </td><td> 3.058327</td><td>0.6730239</td><td>1.852293 </td><td>5.253170 </td><td>2        </td></tr>\n",
       "\t<tr><td>sa_1746  </td><td>25.006936</td><td>0.9600111</td><td>3.662045 </td><td>5.342255 </td><td>9        </td></tr>\n",
       "\t<tr><td>sa_7099  </td><td> 2.627252</td><td>0.6193742</td><td>1.879375 </td><td>5.233835 </td><td>1        </td></tr>\n",
       "\t<tr><td>sa_9870  </td><td> 2.697641</td><td>0.6293058</td><td>1.622226 </td><td>5.149014 </td><td>1        </td></tr>\n",
       "\t<tr><td>sa_10996 </td><td> 2.767507</td><td>0.6386639</td><td>1.986984 </td><td>5.335409 </td><td>1        </td></tr>\n",
       "</tbody>\n",
       "</table>\n"
      ],
      "text/latex": [
       "\\begin{tabular}{r|llllll}\n",
       " sample & inverse\\_simpson & gini\\_simpson & shannon & fisher & coverage\\\\\n",
       "\\hline\n",
       "\t sa\\_2288  & 13.136503  & 0.9238762  & 3.287956   & 5.184989   & 7         \\\\\n",
       "\t sa\\_3262  &  3.058327  & 0.6730239  & 1.852293   & 5.253170   & 2         \\\\\n",
       "\t sa\\_1746  & 25.006936  & 0.9600111  & 3.662045   & 5.342255   & 9         \\\\\n",
       "\t sa\\_7099  &  2.627252  & 0.6193742  & 1.879375   & 5.233835   & 1         \\\\\n",
       "\t sa\\_9870  &  2.697641  & 0.6293058  & 1.622226   & 5.149014   & 1         \\\\\n",
       "\t sa\\_10996 &  2.767507  & 0.6386639  & 1.986984   & 5.335409   & 1         \\\\\n",
       "\\end{tabular}\n"
      ],
      "text/markdown": [
       "\n",
       "| sample | inverse_simpson | gini_simpson | shannon | fisher | coverage |\n",
       "|---|---|---|---|---|---|\n",
       "| sa_2288   | 13.136503 | 0.9238762 | 3.287956  | 5.184989  | 7         |\n",
       "| sa_3262   |  3.058327 | 0.6730239 | 1.852293  | 5.253170  | 2         |\n",
       "| sa_1746   | 25.006936 | 0.9600111 | 3.662045  | 5.342255  | 9         |\n",
       "| sa_7099   |  2.627252 | 0.6193742 | 1.879375  | 5.233835  | 1         |\n",
       "| sa_9870   |  2.697641 | 0.6293058 | 1.622226  | 5.149014  | 1         |\n",
       "| sa_10996  |  2.767507 | 0.6386639 | 1.986984  | 5.335409  | 1         |\n",
       "\n"
      ],
      "text/plain": [
       "  sample   inverse_simpson gini_simpson shannon  fisher   coverage\n",
       "1 sa_2288  13.136503       0.9238762    3.287956 5.184989 7       \n",
       "2 sa_3262   3.058327       0.6730239    1.852293 5.253170 2       \n",
       "3 sa_1746  25.006936       0.9600111    3.662045 5.342255 9       \n",
       "4 sa_7099   2.627252       0.6193742    1.879375 5.233835 1       \n",
       "5 sa_9870   2.697641       0.6293058    1.622226 5.149014 1       \n",
       "6 sa_10996  2.767507       0.6386639    1.986984 5.335409 1       "
      ]
     },
     "metadata": {},
     "output_type": "display_data"
    }
   ],
   "source": [
    "div <- diversities(genus, index = \"all\") %>% rownames_to_column(\"sample\")\n",
    "div %>% head()\n"
   ]
  },
  {
   "cell_type": "code",
   "execution_count": 3,
   "metadata": {
    "autoscroll": false
   },
   "outputs": [
    {
     "name": "stderr",
     "output_type": "stream",
     "text": [
      "Warning message:\n",
      "“Missing column names filled in: 'X1' [1]”Parsed with column specification:\n",
      "cols(\n",
      "  .default = col_double(),\n",
      "  sample = col_character(),\n",
      "  Group = col_character(),\n",
      "  groupcode = col_character()\n",
      ")\n",
      "See spec(...) for full column specifications.\n"
     ]
    },
    {
     "data": {
      "text/html": [
       "<table>\n",
       "<thead><tr><th scope=col>childcarecenter</th><th scope=col>groupcode</th><th scope=col>n</th></tr></thead>\n",
       "<tbody>\n",
       "\t<tr><td>1   </td><td>KDV1</td><td>49  </td></tr>\n",
       "\t<tr><td>1   </td><td>KDV5</td><td>49  </td></tr>\n",
       "\t<tr><td>2   </td><td>KDV1</td><td>49  </td></tr>\n",
       "\t<tr><td>2   </td><td>KDV5</td><td>49  </td></tr>\n",
       "</tbody>\n",
       "</table>\n"
      ],
      "text/latex": [
       "\\begin{tabular}{r|lll}\n",
       " childcarecenter & groupcode & n\\\\\n",
       "\\hline\n",
       "\t 1    & KDV1 & 49  \\\\\n",
       "\t 1    & KDV5 & 49  \\\\\n",
       "\t 2    & KDV1 & 49  \\\\\n",
       "\t 2    & KDV5 & 49  \\\\\n",
       "\\end{tabular}\n"
      ],
      "text/markdown": [
       "\n",
       "| childcarecenter | groupcode | n |\n",
       "|---|---|---|\n",
       "| 1    | KDV1 | 49   |\n",
       "| 1    | KDV5 | 49   |\n",
       "| 2    | KDV1 | 49   |\n",
       "| 2    | KDV5 | 49   |\n",
       "\n"
      ],
      "text/plain": [
       "  childcarecenter groupcode n \n",
       "1 1               KDV1      49\n",
       "2 1               KDV5      49\n",
       "3 2               KDV1      49\n",
       "4 2               KDV5      49"
      ]
     },
     "metadata": {},
     "output_type": "display_data"
    }
   ],
   "source": [
    "# load sample_data. disregard duplicate samples: %>% distinct(My.SQL.ID, .keep_all = TRUE)\n",
    "# seems like this metadata is not complete. Therefore I use the excel from Gerben metadata <- sample_data(genus)\n",
    "# colnames(metadata)\n",
    "metadata <- readxl::read_excel(here(\"data/meta_data/my.metadata.xlsx\"))\n",
    "# to select the correct infants I use the resulting dataframe that arised from Gerbens selection process\n",
    "select_samples <- read_csv(here(\"data/csv_gerben/complete.csv\"))\n",
    "# to confirm we have 49 pre/post for both groups\n",
    "select_samples %>% group_by(childcarecenter, groupcode) %>% summarise(n = n())\n",
    "# rename and disregard samples unrelated to the cc project\n",
    "metadata <- metadata %>%\n",
    "    rename(subject_id = subject, sample = \"Var.2\") %>%\n",
    "    filter(sample %in% select_samples$sample)"
   ]
  },
  {
   "cell_type": "code",
   "execution_count": 4,
   "metadata": {
    "autoscroll": false
   },
   "outputs": [],
   "source": [
    "# we have additional information stored in another excel sheet:\n",
    "# I need to control for the age at CC entrace and the total length of CC (unless CC will extend)\n",
    "# beyond post, which is just the indicator of the stool sample closest to post\n",
    "# same for breastfeeding: I need the number or %BF until entrance and then during entrance,\n",
    "# where % means breasfeedings/(breasfeedings + formula feedings), because those two variables will\n",
    "# be highly correlated I assume, but I can check that...\n",
    "# so the questions I need to aks are: have their been children who remained in CC after they gave their second sample?\n",
    "# I assume that age at sample is in fact not the same among infants? (then 75, 105 etc. should be renamed really)\n",
    "metadata2 <- readxl::read_excel(here(\"data/meta_data/my.metadata2.xlsx\"), sheet = \"Data\")\n",
    "metadata2 <-\n",
    "    metadata2 %>%\n",
    "            filter(ID %in% metadata$subject_id) %>%\n",
    "            rename(\n",
    "                subject_id = ID,\n",
    "                cc = Childcare_yesno,\n",
    "                per_bf_during_cc = `%BEFbetweenKDV1andKDV2`,\n",
    "                bf_until_end_cc = WeeksBEF,\n",
    "                age_startcc_w = Begin_age_weeks, \n",
    "                age_pre_d = ExactageCCmin2d, \n",
    "                age_post_d = ExactageCCplus28) %>%\n",
    "            mutate(\n",
    "                age_pre_d = ifelse(is.na(age_pre_d), age_startcc_w * 7 -2, age_pre_d),\n",
    "                age_post_d = ifelse(is.na(age_post_d), Age_plus4weeks * 7, age_post_d), \n",
    "                age_pre_w = age_pre_d/7, \n",
    "                age_post_w = age_post_d/7, \n",
    "                weeks_cc = (age_post_d - age_pre_d +2)/7)"
   ]
  },
  {
   "cell_type": "code",
   "execution_count": 5,
   "metadata": {
    "autoscroll": false
   },
   "outputs": [
    {
     "data": {
      "text/html": [
       "<table>\n",
       "<thead><tr><th scope=col>mean_weeks_cc</th><th scope=col>sd_weeks_cc</th></tr></thead>\n",
       "<tbody>\n",
       "\t<tr><td>4.599155</td><td>0.229898</td></tr>\n",
       "</tbody>\n",
       "</table>\n"
      ],
      "text/latex": [
       "\\begin{tabular}{r|ll}\n",
       " mean\\_weeks\\_cc & sd\\_weeks\\_cc\\\\\n",
       "\\hline\n",
       "\t 4.599155 & 0.229898\\\\\n",
       "\\end{tabular}\n"
      ],
      "text/markdown": [
       "\n",
       "| mean_weeks_cc | sd_weeks_cc |\n",
       "|---|---|\n",
       "| 4.599155 | 0.229898 |\n",
       "\n"
      ],
      "text/plain": [
       "  mean_weeks_cc sd_weeks_cc\n",
       "1 4.599155      0.229898   "
      ]
     },
     "metadata": {},
     "output_type": "display_data"
    }
   ],
   "source": [
    "# how much variation is there in the # of week subjects were in CC between pre and post?\n",
    "metadata2 %>% summarise(mean_weeks_cc = mean(weeks_cc), sd_weeks_cc = sd(weeks_cc))"
   ]
  },
  {
   "cell_type": "code",
   "execution_count": 6,
   "metadata": {
    "autoscroll": false
   },
   "outputs": [],
   "source": [
    "# merge metadata, rename time (because it does not correspond to real age)\n",
    "meta <- metadata %>%\n",
    "    left_join(metadata2, by = \"subject_id\") %>%\n",
    "    mutate(time = ifelse(time == \"75\", \"pre\", \"post\")) %>%\n",
    "    select(subject_id, time, cc, age_pre_d, age_post_d, age_startcc_w, weeks_cc, bf_until_end_cc, per_bf_during_cc, sample)"
   ]
  },
  {
   "cell_type": "code",
   "execution_count": 7,
   "metadata": {
    "autoscroll": false
   },
   "outputs": [
    {
     "data": {
      "text/html": [
       "<table>\n",
       "<thead><tr><th scope=col>subject_id</th><th scope=col>time</th><th scope=col>cc</th><th scope=col>age_pre_d</th><th scope=col>age_post_d</th><th scope=col>age_startcc_w</th><th scope=col>weeks_cc</th><th scope=col>bf_until_end_cc</th><th scope=col>per_bf_during_cc</th><th scope=col>sample</th></tr></thead>\n",
       "<tbody>\n",
       "\t<tr><td>202     </td><td>pre     </td><td>1       </td><td>75      </td><td>105     </td><td>11.00   </td><td>4.571429</td><td>15      </td><td>100     </td><td>sa_11183</td></tr>\n",
       "\t<tr><td>202     </td><td>post    </td><td>1       </td><td>75      </td><td>105     </td><td>11.00   </td><td>4.571429</td><td>15      </td><td>100     </td><td>sa_5986 </td></tr>\n",
       "\t<tr><td>204     </td><td>pre     </td><td>0       </td><td>72      </td><td> 99     </td><td>10.57   </td><td>4.142857</td><td> 3      </td><td>  0     </td><td>sa_11180</td></tr>\n",
       "\t<tr><td>204     </td><td>post    </td><td>0       </td><td>72      </td><td> 99     </td><td>10.57   </td><td>4.142857</td><td> 3      </td><td>  0     </td><td>sa_7451 </td></tr>\n",
       "\t<tr><td>207     </td><td>pre     </td><td>0       </td><td>68      </td><td> 98     </td><td>10.00   </td><td>4.571429</td><td>14      </td><td>100     </td><td>sa_832  </td></tr>\n",
       "\t<tr><td>207     </td><td>post    </td><td>0       </td><td>68      </td><td> 98     </td><td>10.00   </td><td>4.571429</td><td>14      </td><td>100     </td><td>sa_10000</td></tr>\n",
       "</tbody>\n",
       "</table>\n"
      ],
      "text/latex": [
       "\\begin{tabular}{r|llllllllll}\n",
       " subject\\_id & time & cc & age\\_pre\\_d & age\\_post\\_d & age\\_startcc\\_w & weeks\\_cc & bf\\_until\\_end\\_cc & per\\_bf\\_during\\_cc & sample\\\\\n",
       "\\hline\n",
       "\t 202        & pre        & 1          & 75         & 105        & 11.00      & 4.571429   & 15         & 100        & sa\\_11183\\\\\n",
       "\t 202        & post       & 1          & 75         & 105        & 11.00      & 4.571429   & 15         & 100        & sa\\_5986 \\\\\n",
       "\t 204        & pre        & 0          & 72         &  99        & 10.57      & 4.142857   &  3         &   0        & sa\\_11180\\\\\n",
       "\t 204        & post       & 0          & 72         &  99        & 10.57      & 4.142857   &  3         &   0        & sa\\_7451 \\\\\n",
       "\t 207        & pre        & 0          & 68         &  98        & 10.00      & 4.571429   & 14         & 100        & sa\\_832  \\\\\n",
       "\t 207        & post       & 0          & 68         &  98        & 10.00      & 4.571429   & 14         & 100        & sa\\_10000\\\\\n",
       "\\end{tabular}\n"
      ],
      "text/markdown": [
       "\n",
       "| subject_id | time | cc | age_pre_d | age_post_d | age_startcc_w | weeks_cc | bf_until_end_cc | per_bf_during_cc | sample |\n",
       "|---|---|---|---|---|---|---|---|---|---|\n",
       "| 202      | pre      | 1        | 75       | 105      | 11.00    | 4.571429 | 15       | 100      | sa_11183 |\n",
       "| 202      | post     | 1        | 75       | 105      | 11.00    | 4.571429 | 15       | 100      | sa_5986  |\n",
       "| 204      | pre      | 0        | 72       |  99      | 10.57    | 4.142857 |  3       |   0      | sa_11180 |\n",
       "| 204      | post     | 0        | 72       |  99      | 10.57    | 4.142857 |  3       |   0      | sa_7451  |\n",
       "| 207      | pre      | 0        | 68       |  98      | 10.00    | 4.571429 | 14       | 100      | sa_832   |\n",
       "| 207      | post     | 0        | 68       |  98      | 10.00    | 4.571429 | 14       | 100      | sa_10000 |\n",
       "\n"
      ],
      "text/plain": [
       "  subject_id time cc age_pre_d age_post_d age_startcc_w weeks_cc\n",
       "1 202        pre  1  75        105        11.00         4.571429\n",
       "2 202        post 1  75        105        11.00         4.571429\n",
       "3 204        pre  0  72         99        10.57         4.142857\n",
       "4 204        post 0  72         99        10.57         4.142857\n",
       "5 207        pre  0  68         98        10.00         4.571429\n",
       "6 207        post 0  68         98        10.00         4.571429\n",
       "  bf_until_end_cc per_bf_during_cc sample  \n",
       "1 15              100              sa_11183\n",
       "2 15              100              sa_5986 \n",
       "3  3                0              sa_11180\n",
       "4  3                0              sa_7451 \n",
       "5 14              100              sa_832  \n",
       "6 14              100              sa_10000"
      ]
     },
     "metadata": {},
     "output_type": "display_data"
    }
   ],
   "source": [
    "meta %>% head()"
   ]
  },
  {
   "cell_type": "code",
   "execution_count": 8,
   "metadata": {
    "autoscroll": false
   },
   "outputs": [],
   "source": [
    "# Next we need to load additional metadata about the number of week breastfeeding and formula feeding\n",
    "# as can be looked up in R/read_metadata_long.R, we get a df called meta_long\n",
    "# ok I see a problem: above we have bf_before_cc, which is just +1 for each week an infant had bf, thereby\n",
    "# disregarding the amount of bf. See example for changing average feedings in printed df\n",
    "source(here(\"R/read_metadata_long.R\"))"
   ]
  },
  {
   "cell_type": "code",
   "execution_count": 9,
   "metadata": {
    "autoscroll": false
   },
   "outputs": [],
   "source": [
    "# After I had a look at the data above, I now try to replicate the bf_weeks and then change it to a count bf_before_cc\n",
    "# and a count bf_weeks_cc\n",
    "meta_long <-\n",
    "    meta_long %>%\n",
    "        rename(subject_id = subject) %>%\n",
    "        filter(subject_id %in% meta$subject_id) %>%\n",
    "        left_join(meta, by = \"subject_id\")"
   ]
  },
  {
   "cell_type": "code",
   "execution_count": 10,
   "metadata": {
    "autoscroll": false
   },
   "outputs": [],
   "source": [
    "# intialize columns\n",
    "meta$bf_count_pre <- NA\n",
    "meta$bf_count_post <- NA\n",
    "meta$bf_count_cc <- NA\n",
    "meta$formula_count_pre <- NA\n",
    "meta$formula_count_post <- NA\n",
    "meta$formula_count_cc <- NA\n",
    "\n",
    "# select only variables needed. I checked all the infants with NA for bf, formula and exp.bf\n",
    "# most of the time there is NA for bf if e.g subject was formula fed with high count or vice versa\n",
    "# if not then these are only a few rows and given the consistency, most reasonably is to insert the value\n",
    "# that was given before. The infant cannot starve + it received the same number of feedings before.\n",
    "# only subjects 252, 448 have critically many NA. We would need to impute or drop those 2. They are both cc\n",
    "\n",
    "# if there is NA but there is info in the other feedings columns, then NA = 0,\n",
    "# else most likely NA = mean(averge_before) unless subjects are 252 and 448 (why? because mothers throughout the\n",
    "# whole data are very consistent in feedings behavior and the did not starve the infant for 1-2 days. So, here \n",
    "# I make an assumption for these rows. \n",
    "bf_imputed <-\n",
    "    meta_long %>%\n",
    "        select(subject_id, bf, expressed_bf, formula, week, age_pre_d, age_post_d, age_startcc_w, weeks_cc) %>%\n",
    "        filter(!subject_id %in% c(252, 448)) %>%\n",
    "        mutate(\n",
    "            bf = ifelse(is.na(bf)&(!is.na(expressed_bf)|!is.na(formula)), 0,\n",
    "                ifelse(is.na(bf)&is.na(expressed_bf)&is.na(formula), mean(bf, na.rm = T), bf))) %>%\n",
    "        select(subject_id, week, age_pre_d, age_post_d, age_startcc_w, weeks_cc, bf)\n",
    "#\n",
    "expressed_bf_imputed <-\n",
    "    meta_long %>%\n",
    "        select(subject_id, bf, expressed_bf, formula) %>%\n",
    "        filter(!subject_id %in% c(252, 448)) %>%\n",
    "        mutate(\n",
    "            expressed_bf = ifelse(is.na(expressed_bf)&(!is.na(bf)|!is.na(formula)), 0,\n",
    "                ifelse(is.na(bf)&is.na(expressed_bf)&is.na(formula), mean(expressed_bf, na.rm = T), expressed_bf))) %>%\n",
    "        select(expressed_bf)\n",
    "\n",
    "#\n",
    "formula_imputed <-\n",
    "    meta_long %>%\n",
    "        select(subject_id, bf, expressed_bf, formula) %>%\n",
    "        filter(!subject_id %in% c(252, 448)) %>%\n",
    "        mutate(\n",
    "            formula = ifelse(is.na(formula)&(!is.na(bf)|!is.na(expressed_bf)), 0,\n",
    "                ifelse(is.na(bf)&is.na(expressed_bf)&is.na(formula), mean(formula, na.rm = T), formula))) %>%\n",
    "        select(formula)\n",
    "feeding_imputed <- bind_cols(bf_imputed, expressed_bf_imputed, formula_imputed)\n",
    "# add expressed bf and bf together because for our research question it does not matter\n",
    "feeding_imputed <- feeding_imputed %>% mutate(bf = bf + expressed_bf)"
   ]
  },
  {
   "cell_type": "code",
   "execution_count": 11,
   "metadata": {
    "autoscroll": false
   },
   "outputs": [
    {
     "data": {
      "text/html": [
       "<table>\n",
       "<thead><tr><th scope=col>subject_id</th><th scope=col>prea</th><th scope=col>preb</th><th scope=col>posta</th><th scope=col>postb</th><th scope=col>diff</th><th scope=col>diff_r</th><th scope=col>diff_r2</th><th scope=col>weeks_cc</th></tr></thead>\n",
       "<tbody>\n",
       "\t<tr><td>202      </td><td>10.714286</td><td>11       </td><td>15.00000 </td><td>15       </td><td>4.285714 </td><td>4        </td><td>4        </td><td>4.571429 </td></tr>\n",
       "\t<tr><td>204      </td><td>10.285714</td><td>10       </td><td>14.14286 </td><td>14       </td><td>3.857143 </td><td>4        </td><td>4        </td><td>4.142857 </td></tr>\n",
       "\t<tr><td>207      </td><td> 9.714286</td><td>10       </td><td>14.00000 </td><td>14       </td><td>4.285714 </td><td>4        </td><td>4        </td><td>4.571429 </td></tr>\n",
       "\t<tr><td>210      </td><td>15.857143</td><td>16       </td><td>20.14286 </td><td>20       </td><td>4.285714 </td><td>4        </td><td>4        </td><td>4.571429 </td></tr>\n",
       "\t<tr><td>211      </td><td>10.142857</td><td>10       </td><td>14.42857 </td><td>14       </td><td>4.285714 </td><td>4        </td><td>4        </td><td>4.571429 </td></tr>\n",
       "\t<tr><td>213      </td><td>12.571429</td><td>13       </td><td>16.85714 </td><td>17       </td><td>4.285714 </td><td>4        </td><td>4        </td><td>4.571429 </td></tr>\n",
       "\t<tr><td>216      </td><td> 9.714286</td><td>10       </td><td>14.28571 </td><td>14       </td><td>4.571429 </td><td>5        </td><td>4        </td><td>4.857143 </td></tr>\n",
       "\t<tr><td>228      </td><td>10.714286</td><td>11       </td><td>15.14286 </td><td>15       </td><td>4.428571 </td><td>4        </td><td>4        </td><td>4.714286 </td></tr>\n",
       "\t<tr><td>233      </td><td>10.428571</td><td>10       </td><td>14.57143 </td><td>15       </td><td>4.142857 </td><td>4        </td><td>5        </td><td>4.428571 </td></tr>\n",
       "\t<tr><td>234      </td><td>10.000000</td><td>10       </td><td>14.28571 </td><td>14       </td><td>4.285714 </td><td>4        </td><td>4        </td><td>4.571429 </td></tr>\n",
       "\t<tr><td>237      </td><td> 9.714286</td><td>10       </td><td>13.85714 </td><td>14       </td><td>4.142857 </td><td>4        </td><td>4        </td><td>4.428571 </td></tr>\n",
       "\t<tr><td>240      </td><td>11.857143</td><td>12       </td><td>16.42857 </td><td>16       </td><td>4.571429 </td><td>5        </td><td>4        </td><td>4.857143 </td></tr>\n",
       "\t<tr><td>241      </td><td>13.857143</td><td>14       </td><td>18.28571 </td><td>18       </td><td>4.428571 </td><td>4        </td><td>4        </td><td>4.714286 </td></tr>\n",
       "\t<tr><td>245      </td><td> 9.714286</td><td>10       </td><td>14.14286 </td><td>14       </td><td>4.428571 </td><td>4        </td><td>4        </td><td>4.714286 </td></tr>\n",
       "\t<tr><td>249      </td><td>13.714286</td><td>14       </td><td>17.86000 </td><td>18       </td><td>4.145714 </td><td>4        </td><td>4        </td><td>4.431429 </td></tr>\n",
       "\t<tr><td>253      </td><td>10.714286</td><td>11       </td><td>15.00000 </td><td>15       </td><td>4.285714 </td><td>4        </td><td>4        </td><td>4.571429 </td></tr>\n",
       "\t<tr><td>254      </td><td>11.857143</td><td>12       </td><td>16.85714 </td><td>17       </td><td>5.000000 </td><td>5        </td><td>5        </td><td>5.285714 </td></tr>\n",
       "\t<tr><td>258      </td><td>11.571429</td><td>12       </td><td>15.57143 </td><td>16       </td><td>4.000000 </td><td>4        </td><td>4        </td><td>4.285714 </td></tr>\n",
       "\t<tr><td>259      </td><td>10.857143</td><td>11       </td><td>15.14286 </td><td>15       </td><td>4.285714 </td><td>4        </td><td>4        </td><td>4.571429 </td></tr>\n",
       "\t<tr><td>260      </td><td> 9.714286</td><td>10       </td><td>14.00000 </td><td>14       </td><td>4.285714 </td><td>4        </td><td>4        </td><td>4.571429 </td></tr>\n",
       "\t<tr><td>264      </td><td>13.142857</td><td>13       </td><td>17.57143 </td><td>18       </td><td>4.428571 </td><td>4        </td><td>5        </td><td>4.714286 </td></tr>\n",
       "\t<tr><td>269      </td><td>12.000000</td><td>12       </td><td>16.28571 </td><td>16       </td><td>4.285714 </td><td>4        </td><td>4        </td><td>4.571429 </td></tr>\n",
       "\t<tr><td>272      </td><td>10.714286</td><td>11       </td><td>15.14286 </td><td>15       </td><td>4.428571 </td><td>4        </td><td>4        </td><td>4.714286 </td></tr>\n",
       "\t<tr><td>273      </td><td>14.714286</td><td>15       </td><td>19.00000 </td><td>19       </td><td>4.285714 </td><td>4        </td><td>4        </td><td>4.571429 </td></tr>\n",
       "\t<tr><td>274      </td><td> 9.714286</td><td>10       </td><td>14.00000 </td><td>14       </td><td>4.285714 </td><td>4        </td><td>4        </td><td>4.571429 </td></tr>\n",
       "\t<tr><td>276      </td><td> 9.142857</td><td> 9       </td><td>14.00000 </td><td>14       </td><td>4.857143 </td><td>5        </td><td>5        </td><td>5.142857 </td></tr>\n",
       "\t<tr><td>277      </td><td>11.285714</td><td>11       </td><td>15.57143 </td><td>16       </td><td>4.285714 </td><td>4        </td><td>5        </td><td>4.571429 </td></tr>\n",
       "\t<tr><td>283      </td><td>11.142857</td><td>11       </td><td>15.29000 </td><td>15       </td><td>4.147143 </td><td>4        </td><td>4        </td><td>4.432857 </td></tr>\n",
       "\t<tr><td>284      </td><td>14.428571</td><td>14       </td><td>19.00000 </td><td>19       </td><td>4.571429 </td><td>5        </td><td>5        </td><td>4.857143 </td></tr>\n",
       "\t<tr><td>292      </td><td>17.000000</td><td>17       </td><td>21.85714 </td><td>22       </td><td>4.857143 </td><td>5        </td><td>5        </td><td>5.142857 </td></tr>\n",
       "\t<tr><td>⋮</td><td>⋮</td><td>⋮</td><td>⋮</td><td>⋮</td><td>⋮</td><td>⋮</td><td>⋮</td><td>⋮</td></tr>\n",
       "\t<tr><td>373      </td><td>11.857143</td><td>12       </td><td>16.14286 </td><td>16       </td><td>4.285714 </td><td>4        </td><td>4        </td><td>4.571429 </td></tr>\n",
       "\t<tr><td>378      </td><td>14.571429</td><td>15       </td><td>19.00000 </td><td>19       </td><td>4.428571 </td><td>4        </td><td>4        </td><td>4.714286 </td></tr>\n",
       "\t<tr><td>381      </td><td>11.142857</td><td>11       </td><td>15.42857 </td><td>15       </td><td>4.285714 </td><td>4        </td><td>4        </td><td>4.571429 </td></tr>\n",
       "\t<tr><td>382      </td><td>15.428571</td><td>15       </td><td>20.00000 </td><td>20       </td><td>4.571429 </td><td>5        </td><td>5        </td><td>4.857143 </td></tr>\n",
       "\t<tr><td>383      </td><td>12.142857</td><td>12       </td><td>16.28571 </td><td>16       </td><td>4.142857 </td><td>4        </td><td>4        </td><td>4.428571 </td></tr>\n",
       "\t<tr><td>384      </td><td> 9.714286</td><td>10       </td><td>14.00000 </td><td>14       </td><td>4.285714 </td><td>4        </td><td>4        </td><td>4.571429 </td></tr>\n",
       "\t<tr><td>385      </td><td>12.142857</td><td>12       </td><td>16.28571 </td><td>16       </td><td>4.142857 </td><td>4        </td><td>4        </td><td>4.428571 </td></tr>\n",
       "\t<tr><td>388      </td><td> 9.714286</td><td>10       </td><td>14.00000 </td><td>14       </td><td>4.285714 </td><td>4        </td><td>4        </td><td>4.571429 </td></tr>\n",
       "\t<tr><td>391      </td><td>12.142857</td><td>12       </td><td>15.85714 </td><td>16       </td><td>3.714286 </td><td>4        </td><td>4        </td><td>4.000000 </td></tr>\n",
       "\t<tr><td>392      </td><td>15.000000</td><td>15       </td><td>19.28571 </td><td>19       </td><td>4.285714 </td><td>4        </td><td>4        </td><td>4.571429 </td></tr>\n",
       "\t<tr><td>396      </td><td> 9.428571</td><td> 9       </td><td>14.00000 </td><td>14       </td><td>4.571429 </td><td>5        </td><td>5        </td><td>4.857143 </td></tr>\n",
       "\t<tr><td>397      </td><td>12.000000</td><td>12       </td><td>16.28571 </td><td>16       </td><td>4.285714 </td><td>4        </td><td>4        </td><td>4.571429 </td></tr>\n",
       "\t<tr><td>400      </td><td>11.424286</td><td>11       </td><td>15.71000 </td><td>16       </td><td>4.285714 </td><td>4        </td><td>5        </td><td>4.571429 </td></tr>\n",
       "\t<tr><td>403      </td><td>11.714286</td><td>12       </td><td>16.00000 </td><td>16       </td><td>4.285714 </td><td>4        </td><td>4        </td><td>4.571429 </td></tr>\n",
       "\t<tr><td>408      </td><td>11.714286</td><td>12       </td><td>16.14286 </td><td>16       </td><td>4.428571 </td><td>4        </td><td>4        </td><td>4.714286 </td></tr>\n",
       "\t<tr><td>409      </td><td>11.714286</td><td>12       </td><td>15.85714 </td><td>16       </td><td>4.142857 </td><td>4        </td><td>4        </td><td>4.428571 </td></tr>\n",
       "\t<tr><td>413      </td><td> 9.714286</td><td>10       </td><td>14.00000 </td><td>14       </td><td>4.285714 </td><td>4        </td><td>4        </td><td>4.571429 </td></tr>\n",
       "\t<tr><td>417      </td><td>12.000000</td><td>12       </td><td>16.57143 </td><td>17       </td><td>4.571429 </td><td>5        </td><td>5        </td><td>4.857143 </td></tr>\n",
       "\t<tr><td>420      </td><td>10.142857</td><td>10       </td><td>14.42857 </td><td>14       </td><td>4.285714 </td><td>4        </td><td>4        </td><td>4.571429 </td></tr>\n",
       "\t<tr><td>421      </td><td>10.714286</td><td>11       </td><td>15.28571 </td><td>15       </td><td>4.571429 </td><td>5        </td><td>4        </td><td>4.857143 </td></tr>\n",
       "\t<tr><td>422      </td><td>14.142857</td><td>14       </td><td>18.42857 </td><td>18       </td><td>4.285714 </td><td>4        </td><td>4        </td><td>4.571429 </td></tr>\n",
       "\t<tr><td>428      </td><td>11.857143</td><td>12       </td><td>16.00000 </td><td>16       </td><td>4.142857 </td><td>4        </td><td>4        </td><td>4.428571 </td></tr>\n",
       "\t<tr><td>431      </td><td>17.571429</td><td>18       </td><td>22.00000 </td><td>22       </td><td>4.428571 </td><td>4        </td><td>4        </td><td>4.714286 </td></tr>\n",
       "\t<tr><td>435      </td><td>12.142857</td><td>12       </td><td>16.57143 </td><td>17       </td><td>4.428571 </td><td>4        </td><td>5        </td><td>4.714286 </td></tr>\n",
       "\t<tr><td>437      </td><td>14.142857</td><td>14       </td><td>18.28571 </td><td>18       </td><td>4.142857 </td><td>4        </td><td>4        </td><td>4.428571 </td></tr>\n",
       "\t<tr><td>439      </td><td>12.857143</td><td>13       </td><td>16.00000 </td><td>16       </td><td>3.142857 </td><td>3        </td><td>3        </td><td>3.428571 </td></tr>\n",
       "\t<tr><td>442      </td><td>11.857143</td><td>12       </td><td>16.00000 </td><td>16       </td><td>4.142857 </td><td>4        </td><td>4        </td><td>4.428571 </td></tr>\n",
       "\t<tr><td>446      </td><td>11.571429</td><td>12       </td><td>15.85714 </td><td>16       </td><td>4.285714 </td><td>4        </td><td>4        </td><td>4.571429 </td></tr>\n",
       "\t<tr><td>449      </td><td>11.857143</td><td>12       </td><td>16.00000 </td><td>16       </td><td>4.142857 </td><td>4        </td><td>4        </td><td>4.428571 </td></tr>\n",
       "\t<tr><td>452      </td><td>11.714286</td><td>12       </td><td>16.00000 </td><td>16       </td><td>4.285714 </td><td>4        </td><td>4        </td><td>4.571429 </td></tr>\n",
       "</tbody>\n",
       "</table>\n"
      ],
      "text/latex": [
       "\\begin{tabular}{r|lllllllll}\n",
       " subject\\_id & prea & preb & posta & postb & diff & diff\\_r & diff\\_r2 & weeks\\_cc\\\\\n",
       "\\hline\n",
       "\t 202       & 10.714286 & 11        & 15.00000  & 15        & 4.285714  & 4         & 4         & 4.571429 \\\\\n",
       "\t 204       & 10.285714 & 10        & 14.14286  & 14        & 3.857143  & 4         & 4         & 4.142857 \\\\\n",
       "\t 207       &  9.714286 & 10        & 14.00000  & 14        & 4.285714  & 4         & 4         & 4.571429 \\\\\n",
       "\t 210       & 15.857143 & 16        & 20.14286  & 20        & 4.285714  & 4         & 4         & 4.571429 \\\\\n",
       "\t 211       & 10.142857 & 10        & 14.42857  & 14        & 4.285714  & 4         & 4         & 4.571429 \\\\\n",
       "\t 213       & 12.571429 & 13        & 16.85714  & 17        & 4.285714  & 4         & 4         & 4.571429 \\\\\n",
       "\t 216       &  9.714286 & 10        & 14.28571  & 14        & 4.571429  & 5         & 4         & 4.857143 \\\\\n",
       "\t 228       & 10.714286 & 11        & 15.14286  & 15        & 4.428571  & 4         & 4         & 4.714286 \\\\\n",
       "\t 233       & 10.428571 & 10        & 14.57143  & 15        & 4.142857  & 4         & 5         & 4.428571 \\\\\n",
       "\t 234       & 10.000000 & 10        & 14.28571  & 14        & 4.285714  & 4         & 4         & 4.571429 \\\\\n",
       "\t 237       &  9.714286 & 10        & 13.85714  & 14        & 4.142857  & 4         & 4         & 4.428571 \\\\\n",
       "\t 240       & 11.857143 & 12        & 16.42857  & 16        & 4.571429  & 5         & 4         & 4.857143 \\\\\n",
       "\t 241       & 13.857143 & 14        & 18.28571  & 18        & 4.428571  & 4         & 4         & 4.714286 \\\\\n",
       "\t 245       &  9.714286 & 10        & 14.14286  & 14        & 4.428571  & 4         & 4         & 4.714286 \\\\\n",
       "\t 249       & 13.714286 & 14        & 17.86000  & 18        & 4.145714  & 4         & 4         & 4.431429 \\\\\n",
       "\t 253       & 10.714286 & 11        & 15.00000  & 15        & 4.285714  & 4         & 4         & 4.571429 \\\\\n",
       "\t 254       & 11.857143 & 12        & 16.85714  & 17        & 5.000000  & 5         & 5         & 5.285714 \\\\\n",
       "\t 258       & 11.571429 & 12        & 15.57143  & 16        & 4.000000  & 4         & 4         & 4.285714 \\\\\n",
       "\t 259       & 10.857143 & 11        & 15.14286  & 15        & 4.285714  & 4         & 4         & 4.571429 \\\\\n",
       "\t 260       &  9.714286 & 10        & 14.00000  & 14        & 4.285714  & 4         & 4         & 4.571429 \\\\\n",
       "\t 264       & 13.142857 & 13        & 17.57143  & 18        & 4.428571  & 4         & 5         & 4.714286 \\\\\n",
       "\t 269       & 12.000000 & 12        & 16.28571  & 16        & 4.285714  & 4         & 4         & 4.571429 \\\\\n",
       "\t 272       & 10.714286 & 11        & 15.14286  & 15        & 4.428571  & 4         & 4         & 4.714286 \\\\\n",
       "\t 273       & 14.714286 & 15        & 19.00000  & 19        & 4.285714  & 4         & 4         & 4.571429 \\\\\n",
       "\t 274       &  9.714286 & 10        & 14.00000  & 14        & 4.285714  & 4         & 4         & 4.571429 \\\\\n",
       "\t 276       &  9.142857 &  9        & 14.00000  & 14        & 4.857143  & 5         & 5         & 5.142857 \\\\\n",
       "\t 277       & 11.285714 & 11        & 15.57143  & 16        & 4.285714  & 4         & 5         & 4.571429 \\\\\n",
       "\t 283       & 11.142857 & 11        & 15.29000  & 15        & 4.147143  & 4         & 4         & 4.432857 \\\\\n",
       "\t 284       & 14.428571 & 14        & 19.00000  & 19        & 4.571429  & 5         & 5         & 4.857143 \\\\\n",
       "\t 292       & 17.000000 & 17        & 21.85714  & 22        & 4.857143  & 5         & 5         & 5.142857 \\\\\n",
       "\t ⋮ & ⋮ & ⋮ & ⋮ & ⋮ & ⋮ & ⋮ & ⋮ & ⋮\\\\\n",
       "\t 373       & 11.857143 & 12        & 16.14286  & 16        & 4.285714  & 4         & 4         & 4.571429 \\\\\n",
       "\t 378       & 14.571429 & 15        & 19.00000  & 19        & 4.428571  & 4         & 4         & 4.714286 \\\\\n",
       "\t 381       & 11.142857 & 11        & 15.42857  & 15        & 4.285714  & 4         & 4         & 4.571429 \\\\\n",
       "\t 382       & 15.428571 & 15        & 20.00000  & 20        & 4.571429  & 5         & 5         & 4.857143 \\\\\n",
       "\t 383       & 12.142857 & 12        & 16.28571  & 16        & 4.142857  & 4         & 4         & 4.428571 \\\\\n",
       "\t 384       &  9.714286 & 10        & 14.00000  & 14        & 4.285714  & 4         & 4         & 4.571429 \\\\\n",
       "\t 385       & 12.142857 & 12        & 16.28571  & 16        & 4.142857  & 4         & 4         & 4.428571 \\\\\n",
       "\t 388       &  9.714286 & 10        & 14.00000  & 14        & 4.285714  & 4         & 4         & 4.571429 \\\\\n",
       "\t 391       & 12.142857 & 12        & 15.85714  & 16        & 3.714286  & 4         & 4         & 4.000000 \\\\\n",
       "\t 392       & 15.000000 & 15        & 19.28571  & 19        & 4.285714  & 4         & 4         & 4.571429 \\\\\n",
       "\t 396       &  9.428571 &  9        & 14.00000  & 14        & 4.571429  & 5         & 5         & 4.857143 \\\\\n",
       "\t 397       & 12.000000 & 12        & 16.28571  & 16        & 4.285714  & 4         & 4         & 4.571429 \\\\\n",
       "\t 400       & 11.424286 & 11        & 15.71000  & 16        & 4.285714  & 4         & 5         & 4.571429 \\\\\n",
       "\t 403       & 11.714286 & 12        & 16.00000  & 16        & 4.285714  & 4         & 4         & 4.571429 \\\\\n",
       "\t 408       & 11.714286 & 12        & 16.14286  & 16        & 4.428571  & 4         & 4         & 4.714286 \\\\\n",
       "\t 409       & 11.714286 & 12        & 15.85714  & 16        & 4.142857  & 4         & 4         & 4.428571 \\\\\n",
       "\t 413       &  9.714286 & 10        & 14.00000  & 14        & 4.285714  & 4         & 4         & 4.571429 \\\\\n",
       "\t 417       & 12.000000 & 12        & 16.57143  & 17        & 4.571429  & 5         & 5         & 4.857143 \\\\\n",
       "\t 420       & 10.142857 & 10        & 14.42857  & 14        & 4.285714  & 4         & 4         & 4.571429 \\\\\n",
       "\t 421       & 10.714286 & 11        & 15.28571  & 15        & 4.571429  & 5         & 4         & 4.857143 \\\\\n",
       "\t 422       & 14.142857 & 14        & 18.42857  & 18        & 4.285714  & 4         & 4         & 4.571429 \\\\\n",
       "\t 428       & 11.857143 & 12        & 16.00000  & 16        & 4.142857  & 4         & 4         & 4.428571 \\\\\n",
       "\t 431       & 17.571429 & 18        & 22.00000  & 22        & 4.428571  & 4         & 4         & 4.714286 \\\\\n",
       "\t 435       & 12.142857 & 12        & 16.57143  & 17        & 4.428571  & 4         & 5         & 4.714286 \\\\\n",
       "\t 437       & 14.142857 & 14        & 18.28571  & 18        & 4.142857  & 4         & 4         & 4.428571 \\\\\n",
       "\t 439       & 12.857143 & 13        & 16.00000  & 16        & 3.142857  & 3         & 3         & 3.428571 \\\\\n",
       "\t 442       & 11.857143 & 12        & 16.00000  & 16        & 4.142857  & 4         & 4         & 4.428571 \\\\\n",
       "\t 446       & 11.571429 & 12        & 15.85714  & 16        & 4.285714  & 4         & 4         & 4.571429 \\\\\n",
       "\t 449       & 11.857143 & 12        & 16.00000  & 16        & 4.142857  & 4         & 4         & 4.428571 \\\\\n",
       "\t 452       & 11.714286 & 12        & 16.00000  & 16        & 4.285714  & 4         & 4         & 4.571429 \\\\\n",
       "\\end{tabular}\n"
      ],
      "text/markdown": [
       "\n",
       "| subject_id | prea | preb | posta | postb | diff | diff_r | diff_r2 | weeks_cc |\n",
       "|---|---|---|---|---|---|---|---|---|\n",
       "| 202       | 10.714286 | 11        | 15.00000  | 15        | 4.285714  | 4         | 4         | 4.571429  |\n",
       "| 204       | 10.285714 | 10        | 14.14286  | 14        | 3.857143  | 4         | 4         | 4.142857  |\n",
       "| 207       |  9.714286 | 10        | 14.00000  | 14        | 4.285714  | 4         | 4         | 4.571429  |\n",
       "| 210       | 15.857143 | 16        | 20.14286  | 20        | 4.285714  | 4         | 4         | 4.571429  |\n",
       "| 211       | 10.142857 | 10        | 14.42857  | 14        | 4.285714  | 4         | 4         | 4.571429  |\n",
       "| 213       | 12.571429 | 13        | 16.85714  | 17        | 4.285714  | 4         | 4         | 4.571429  |\n",
       "| 216       |  9.714286 | 10        | 14.28571  | 14        | 4.571429  | 5         | 4         | 4.857143  |\n",
       "| 228       | 10.714286 | 11        | 15.14286  | 15        | 4.428571  | 4         | 4         | 4.714286  |\n",
       "| 233       | 10.428571 | 10        | 14.57143  | 15        | 4.142857  | 4         | 5         | 4.428571  |\n",
       "| 234       | 10.000000 | 10        | 14.28571  | 14        | 4.285714  | 4         | 4         | 4.571429  |\n",
       "| 237       |  9.714286 | 10        | 13.85714  | 14        | 4.142857  | 4         | 4         | 4.428571  |\n",
       "| 240       | 11.857143 | 12        | 16.42857  | 16        | 4.571429  | 5         | 4         | 4.857143  |\n",
       "| 241       | 13.857143 | 14        | 18.28571  | 18        | 4.428571  | 4         | 4         | 4.714286  |\n",
       "| 245       |  9.714286 | 10        | 14.14286  | 14        | 4.428571  | 4         | 4         | 4.714286  |\n",
       "| 249       | 13.714286 | 14        | 17.86000  | 18        | 4.145714  | 4         | 4         | 4.431429  |\n",
       "| 253       | 10.714286 | 11        | 15.00000  | 15        | 4.285714  | 4         | 4         | 4.571429  |\n",
       "| 254       | 11.857143 | 12        | 16.85714  | 17        | 5.000000  | 5         | 5         | 5.285714  |\n",
       "| 258       | 11.571429 | 12        | 15.57143  | 16        | 4.000000  | 4         | 4         | 4.285714  |\n",
       "| 259       | 10.857143 | 11        | 15.14286  | 15        | 4.285714  | 4         | 4         | 4.571429  |\n",
       "| 260       |  9.714286 | 10        | 14.00000  | 14        | 4.285714  | 4         | 4         | 4.571429  |\n",
       "| 264       | 13.142857 | 13        | 17.57143  | 18        | 4.428571  | 4         | 5         | 4.714286  |\n",
       "| 269       | 12.000000 | 12        | 16.28571  | 16        | 4.285714  | 4         | 4         | 4.571429  |\n",
       "| 272       | 10.714286 | 11        | 15.14286  | 15        | 4.428571  | 4         | 4         | 4.714286  |\n",
       "| 273       | 14.714286 | 15        | 19.00000  | 19        | 4.285714  | 4         | 4         | 4.571429  |\n",
       "| 274       |  9.714286 | 10        | 14.00000  | 14        | 4.285714  | 4         | 4         | 4.571429  |\n",
       "| 276       |  9.142857 |  9        | 14.00000  | 14        | 4.857143  | 5         | 5         | 5.142857  |\n",
       "| 277       | 11.285714 | 11        | 15.57143  | 16        | 4.285714  | 4         | 5         | 4.571429  |\n",
       "| 283       | 11.142857 | 11        | 15.29000  | 15        | 4.147143  | 4         | 4         | 4.432857  |\n",
       "| 284       | 14.428571 | 14        | 19.00000  | 19        | 4.571429  | 5         | 5         | 4.857143  |\n",
       "| 292       | 17.000000 | 17        | 21.85714  | 22        | 4.857143  | 5         | 5         | 5.142857  |\n",
       "| ⋮ | ⋮ | ⋮ | ⋮ | ⋮ | ⋮ | ⋮ | ⋮ | ⋮ |\n",
       "| 373       | 11.857143 | 12        | 16.14286  | 16        | 4.285714  | 4         | 4         | 4.571429  |\n",
       "| 378       | 14.571429 | 15        | 19.00000  | 19        | 4.428571  | 4         | 4         | 4.714286  |\n",
       "| 381       | 11.142857 | 11        | 15.42857  | 15        | 4.285714  | 4         | 4         | 4.571429  |\n",
       "| 382       | 15.428571 | 15        | 20.00000  | 20        | 4.571429  | 5         | 5         | 4.857143  |\n",
       "| 383       | 12.142857 | 12        | 16.28571  | 16        | 4.142857  | 4         | 4         | 4.428571  |\n",
       "| 384       |  9.714286 | 10        | 14.00000  | 14        | 4.285714  | 4         | 4         | 4.571429  |\n",
       "| 385       | 12.142857 | 12        | 16.28571  | 16        | 4.142857  | 4         | 4         | 4.428571  |\n",
       "| 388       |  9.714286 | 10        | 14.00000  | 14        | 4.285714  | 4         | 4         | 4.571429  |\n",
       "| 391       | 12.142857 | 12        | 15.85714  | 16        | 3.714286  | 4         | 4         | 4.000000  |\n",
       "| 392       | 15.000000 | 15        | 19.28571  | 19        | 4.285714  | 4         | 4         | 4.571429  |\n",
       "| 396       |  9.428571 |  9        | 14.00000  | 14        | 4.571429  | 5         | 5         | 4.857143  |\n",
       "| 397       | 12.000000 | 12        | 16.28571  | 16        | 4.285714  | 4         | 4         | 4.571429  |\n",
       "| 400       | 11.424286 | 11        | 15.71000  | 16        | 4.285714  | 4         | 5         | 4.571429  |\n",
       "| 403       | 11.714286 | 12        | 16.00000  | 16        | 4.285714  | 4         | 4         | 4.571429  |\n",
       "| 408       | 11.714286 | 12        | 16.14286  | 16        | 4.428571  | 4         | 4         | 4.714286  |\n",
       "| 409       | 11.714286 | 12        | 15.85714  | 16        | 4.142857  | 4         | 4         | 4.428571  |\n",
       "| 413       |  9.714286 | 10        | 14.00000  | 14        | 4.285714  | 4         | 4         | 4.571429  |\n",
       "| 417       | 12.000000 | 12        | 16.57143  | 17        | 4.571429  | 5         | 5         | 4.857143  |\n",
       "| 420       | 10.142857 | 10        | 14.42857  | 14        | 4.285714  | 4         | 4         | 4.571429  |\n",
       "| 421       | 10.714286 | 11        | 15.28571  | 15        | 4.571429  | 5         | 4         | 4.857143  |\n",
       "| 422       | 14.142857 | 14        | 18.42857  | 18        | 4.285714  | 4         | 4         | 4.571429  |\n",
       "| 428       | 11.857143 | 12        | 16.00000  | 16        | 4.142857  | 4         | 4         | 4.428571  |\n",
       "| 431       | 17.571429 | 18        | 22.00000  | 22        | 4.428571  | 4         | 4         | 4.714286  |\n",
       "| 435       | 12.142857 | 12        | 16.57143  | 17        | 4.428571  | 4         | 5         | 4.714286  |\n",
       "| 437       | 14.142857 | 14        | 18.28571  | 18        | 4.142857  | 4         | 4         | 4.428571  |\n",
       "| 439       | 12.857143 | 13        | 16.00000  | 16        | 3.142857  | 3         | 3         | 3.428571  |\n",
       "| 442       | 11.857143 | 12        | 16.00000  | 16        | 4.142857  | 4         | 4         | 4.428571  |\n",
       "| 446       | 11.571429 | 12        | 15.85714  | 16        | 4.285714  | 4         | 4         | 4.571429  |\n",
       "| 449       | 11.857143 | 12        | 16.00000  | 16        | 4.142857  | 4         | 4         | 4.428571  |\n",
       "| 452       | 11.714286 | 12        | 16.00000  | 16        | 4.285714  | 4         | 4         | 4.571429  |\n",
       "\n"
      ],
      "text/plain": [
       "   subject_id prea      preb posta    postb diff     diff_r diff_r2 weeks_cc\n",
       "1  202        10.714286 11   15.00000 15    4.285714 4      4       4.571429\n",
       "2  204        10.285714 10   14.14286 14    3.857143 4      4       4.142857\n",
       "3  207         9.714286 10   14.00000 14    4.285714 4      4       4.571429\n",
       "4  210        15.857143 16   20.14286 20    4.285714 4      4       4.571429\n",
       "5  211        10.142857 10   14.42857 14    4.285714 4      4       4.571429\n",
       "6  213        12.571429 13   16.85714 17    4.285714 4      4       4.571429\n",
       "7  216         9.714286 10   14.28571 14    4.571429 5      4       4.857143\n",
       "8  228        10.714286 11   15.14286 15    4.428571 4      4       4.714286\n",
       "9  233        10.428571 10   14.57143 15    4.142857 4      5       4.428571\n",
       "10 234        10.000000 10   14.28571 14    4.285714 4      4       4.571429\n",
       "11 237         9.714286 10   13.85714 14    4.142857 4      4       4.428571\n",
       "12 240        11.857143 12   16.42857 16    4.571429 5      4       4.857143\n",
       "13 241        13.857143 14   18.28571 18    4.428571 4      4       4.714286\n",
       "14 245         9.714286 10   14.14286 14    4.428571 4      4       4.714286\n",
       "15 249        13.714286 14   17.86000 18    4.145714 4      4       4.431429\n",
       "16 253        10.714286 11   15.00000 15    4.285714 4      4       4.571429\n",
       "17 254        11.857143 12   16.85714 17    5.000000 5      5       5.285714\n",
       "18 258        11.571429 12   15.57143 16    4.000000 4      4       4.285714\n",
       "19 259        10.857143 11   15.14286 15    4.285714 4      4       4.571429\n",
       "20 260         9.714286 10   14.00000 14    4.285714 4      4       4.571429\n",
       "21 264        13.142857 13   17.57143 18    4.428571 4      5       4.714286\n",
       "22 269        12.000000 12   16.28571 16    4.285714 4      4       4.571429\n",
       "23 272        10.714286 11   15.14286 15    4.428571 4      4       4.714286\n",
       "24 273        14.714286 15   19.00000 19    4.285714 4      4       4.571429\n",
       "25 274         9.714286 10   14.00000 14    4.285714 4      4       4.571429\n",
       "26 276         9.142857  9   14.00000 14    4.857143 5      5       5.142857\n",
       "27 277        11.285714 11   15.57143 16    4.285714 4      5       4.571429\n",
       "28 283        11.142857 11   15.29000 15    4.147143 4      4       4.432857\n",
       "29 284        14.428571 14   19.00000 19    4.571429 5      5       4.857143\n",
       "30 292        17.000000 17   21.85714 22    4.857143 5      5       5.142857\n",
       "⋮  ⋮          ⋮         ⋮    ⋮        ⋮     ⋮        ⋮      ⋮       ⋮       \n",
       "64 373        11.857143 12   16.14286 16    4.285714 4      4       4.571429\n",
       "65 378        14.571429 15   19.00000 19    4.428571 4      4       4.714286\n",
       "66 381        11.142857 11   15.42857 15    4.285714 4      4       4.571429\n",
       "67 382        15.428571 15   20.00000 20    4.571429 5      5       4.857143\n",
       "68 383        12.142857 12   16.28571 16    4.142857 4      4       4.428571\n",
       "69 384         9.714286 10   14.00000 14    4.285714 4      4       4.571429\n",
       "70 385        12.142857 12   16.28571 16    4.142857 4      4       4.428571\n",
       "71 388         9.714286 10   14.00000 14    4.285714 4      4       4.571429\n",
       "72 391        12.142857 12   15.85714 16    3.714286 4      4       4.000000\n",
       "73 392        15.000000 15   19.28571 19    4.285714 4      4       4.571429\n",
       "74 396         9.428571  9   14.00000 14    4.571429 5      5       4.857143\n",
       "75 397        12.000000 12   16.28571 16    4.285714 4      4       4.571429\n",
       "76 400        11.424286 11   15.71000 16    4.285714 4      5       4.571429\n",
       "77 403        11.714286 12   16.00000 16    4.285714 4      4       4.571429\n",
       "78 408        11.714286 12   16.14286 16    4.428571 4      4       4.714286\n",
       "79 409        11.714286 12   15.85714 16    4.142857 4      4       4.428571\n",
       "80 413         9.714286 10   14.00000 14    4.285714 4      4       4.571429\n",
       "81 417        12.000000 12   16.57143 17    4.571429 5      5       4.857143\n",
       "82 420        10.142857 10   14.42857 14    4.285714 4      4       4.571429\n",
       "83 421        10.714286 11   15.28571 15    4.571429 5      4       4.857143\n",
       "84 422        14.142857 14   18.42857 18    4.285714 4      4       4.571429\n",
       "85 428        11.857143 12   16.00000 16    4.142857 4      4       4.428571\n",
       "86 431        17.571429 18   22.00000 22    4.428571 4      4       4.714286\n",
       "87 435        12.142857 12   16.57143 17    4.428571 4      5       4.714286\n",
       "88 437        14.142857 14   18.28571 18    4.142857 4      4       4.428571\n",
       "89 439        12.857143 13   16.00000 16    3.142857 3      3       3.428571\n",
       "90 442        11.857143 12   16.00000 16    4.142857 4      4       4.428571\n",
       "91 446        11.571429 12   15.85714 16    4.285714 4      4       4.571429\n",
       "92 449        11.857143 12   16.00000 16    4.142857 4      4       4.428571\n",
       "93 452        11.714286 12   16.00000 16    4.285714 4      4       4.571429"
      ]
     },
     "metadata": {},
     "output_type": "display_data"
    }
   ],
   "source": [
    "feeding_imputed %>% \n",
    "    mutate(\n",
    "        prea = age_pre_d/7, \n",
    "        preb = round(age_pre_d/7), \n",
    "        posta = age_post_d/7, \n",
    "        postb = round(age_post_d/7), \n",
    "        diff = posta - prea, \n",
    "        diff_r = round(diff), \n",
    "        diff_r2 = round(postb - preb)) %>%\n",
    "    select(subject_id, prea, preb, posta, postb, diff, diff_r, diff_r2, weeks_cc) %>% \n",
    "    distinct(subject_id, .keep_all = T)"
   ]
  },
  {
   "cell_type": "code",
   "execution_count": 12,
   "metadata": {
    "autoscroll": false
   },
   "outputs": [],
   "source": [
    "# now for each subject and feedintype I need to aggregate the feedings\n",
    "# I divide the sum by two because each week is in the two times \n",
    "for (id in unique(feeding_imputed$subject_id)) {\n",
    "    # pre CC bf\n",
    "    bf_count_pre <-\n",
    "        feeding_imputed %>% filter(subject_id == id, week < round(age_pre_d/7)) %>%\n",
    "        select(bf) %>%\n",
    "            sum()/2\n",
    "    meta[meta$subject_id == id, \"bf_count_pre\"] = bf_count_pre\n",
    "    # post CC bf\n",
    "    bf_count_post <-\n",
    "        feeding_imputed %>% filter(subject_id == id, week < round(age_post_d/7)) %>%\n",
    "        select(bf) %>%\n",
    "            sum()/2\n",
    "    meta[meta$subject_id == id, \"bf_count_post\"] = bf_count_post\n",
    "    # during CC bf\n",
    "    meta[meta$subject_id == id, \"bf_count_cc\"] = bf_count_post - bf_count_pre\n",
    "\n",
    "    # pre CC formula\n",
    "    formula_count_pre <-\n",
    "        feeding_imputed %>% filter(subject_id == id, week <= round(age_pre_d/7)) %>%\n",
    "        select(formula) %>%\n",
    "            sum()/2\n",
    "    meta[meta$subject_id == id, \"formula_count_pre\"] = formula_count_pre\n",
    "    # post CC formula\n",
    "    formula_count_post <-\n",
    "        feeding_imputed %>% filter(subject_id == id, week <= round(age_post_d/7)) %>%\n",
    "        select(formula) %>%\n",
    "            sum()/2\n",
    "    meta[meta$subject_id == id, \"formula_count_post\"] = formula_count_post\n",
    "    # during CC formula\n",
    "    meta[meta$subject_id == id, \"formula_count_cc\"] = formula_count_post - formula_count_pre\n",
    "}"
   ]
  },
  {
   "cell_type": "code",
   "execution_count": 13,
   "metadata": {},
   "outputs": [
    {
     "data": {
      "text/html": [
       "<table>\n",
       "<thead><tr><th scope=col>subject_id</th><th scope=col>time</th><th scope=col>cc</th><th scope=col>age_pre_d</th><th scope=col>age_post_d</th><th scope=col>age_startcc_w</th><th scope=col>weeks_cc</th><th scope=col>bf_until_end_cc</th><th scope=col>per_bf_during_cc</th><th scope=col>sample</th><th scope=col>bf_count_pre</th><th scope=col>bf_count_post</th><th scope=col>bf_count_cc</th><th scope=col>formula_count_pre</th><th scope=col>formula_count_post</th><th scope=col>formula_count_cc</th></tr></thead>\n",
       "<tbody>\n",
       "\t<tr><td>202     </td><td>pre     </td><td>1       </td><td>75      </td><td>105     </td><td>11.00   </td><td>4.571429</td><td>15      </td><td>100     </td><td>sa_11183</td><td>74.5    </td><td>105.5   </td><td>31      </td><td> 0      </td><td> 1      </td><td> 1      </td></tr>\n",
       "\t<tr><td>202     </td><td>post    </td><td>1       </td><td>75      </td><td>105     </td><td>11.00   </td><td>4.571429</td><td>15      </td><td>100     </td><td>sa_5986 </td><td>74.5    </td><td>105.5   </td><td>31      </td><td> 0      </td><td> 1      </td><td> 1      </td></tr>\n",
       "\t<tr><td>204     </td><td>pre     </td><td>0       </td><td>72      </td><td> 99     </td><td>10.57   </td><td>4.142857</td><td> 3      </td><td>  0     </td><td>sa_11180</td><td>22.5    </td><td> 22.5   </td><td> 0      </td><td>44      </td><td>64      </td><td>20      </td></tr>\n",
       "\t<tr><td>204     </td><td>post    </td><td>0       </td><td>72      </td><td> 99     </td><td>10.57   </td><td>4.142857</td><td> 3      </td><td>  0     </td><td>sa_7451 </td><td>22.5    </td><td> 22.5   </td><td> 0      </td><td>44      </td><td>64      </td><td>20      </td></tr>\n",
       "\t<tr><td>207     </td><td>pre     </td><td>0       </td><td>68      </td><td> 98     </td><td>10.00   </td><td>4.571429</td><td>14      </td><td>100     </td><td>sa_832  </td><td>78.0    </td><td>102.0   </td><td>24      </td><td> 0      </td><td> 0      </td><td> 0      </td></tr>\n",
       "\t<tr><td>207     </td><td>post    </td><td>0       </td><td>68      </td><td> 98     </td><td>10.00   </td><td>4.571429</td><td>14      </td><td>100     </td><td>sa_10000</td><td>78.0    </td><td>102.0   </td><td>24      </td><td> 0      </td><td> 0      </td><td> 0      </td></tr>\n",
       "</tbody>\n",
       "</table>\n"
      ],
      "text/latex": [
       "\\begin{tabular}{r|llllllllllllllll}\n",
       " subject\\_id & time & cc & age\\_pre\\_d & age\\_post\\_d & age\\_startcc\\_w & weeks\\_cc & bf\\_until\\_end\\_cc & per\\_bf\\_during\\_cc & sample & bf\\_count\\_pre & bf\\_count\\_post & bf\\_count\\_cc & formula\\_count\\_pre & formula\\_count\\_post & formula\\_count\\_cc\\\\\n",
       "\\hline\n",
       "\t 202        & pre        & 1          & 75         & 105        & 11.00      & 4.571429   & 15         & 100        & sa\\_11183 & 74.5       & 105.5      & 31         &  0         &  1         &  1        \\\\\n",
       "\t 202        & post       & 1          & 75         & 105        & 11.00      & 4.571429   & 15         & 100        & sa\\_5986  & 74.5       & 105.5      & 31         &  0         &  1         &  1        \\\\\n",
       "\t 204        & pre        & 0          & 72         &  99        & 10.57      & 4.142857   &  3         &   0        & sa\\_11180 & 22.5       &  22.5      &  0         & 44         & 64         & 20        \\\\\n",
       "\t 204        & post       & 0          & 72         &  99        & 10.57      & 4.142857   &  3         &   0        & sa\\_7451  & 22.5       &  22.5      &  0         & 44         & 64         & 20        \\\\\n",
       "\t 207        & pre        & 0          & 68         &  98        & 10.00      & 4.571429   & 14         & 100        & sa\\_832   & 78.0       & 102.0      & 24         &  0         &  0         &  0        \\\\\n",
       "\t 207        & post       & 0          & 68         &  98        & 10.00      & 4.571429   & 14         & 100        & sa\\_10000 & 78.0       & 102.0      & 24         &  0         &  0         &  0        \\\\\n",
       "\\end{tabular}\n"
      ],
      "text/markdown": [
       "\n",
       "| subject_id | time | cc | age_pre_d | age_post_d | age_startcc_w | weeks_cc | bf_until_end_cc | per_bf_during_cc | sample | bf_count_pre | bf_count_post | bf_count_cc | formula_count_pre | formula_count_post | formula_count_cc |\n",
       "|---|---|---|---|---|---|---|---|---|---|---|---|---|---|---|---|\n",
       "| 202      | pre      | 1        | 75       | 105      | 11.00    | 4.571429 | 15       | 100      | sa_11183 | 74.5     | 105.5    | 31       |  0       |  1       |  1       |\n",
       "| 202      | post     | 1        | 75       | 105      | 11.00    | 4.571429 | 15       | 100      | sa_5986  | 74.5     | 105.5    | 31       |  0       |  1       |  1       |\n",
       "| 204      | pre      | 0        | 72       |  99      | 10.57    | 4.142857 |  3       |   0      | sa_11180 | 22.5     |  22.5    |  0       | 44       | 64       | 20       |\n",
       "| 204      | post     | 0        | 72       |  99      | 10.57    | 4.142857 |  3       |   0      | sa_7451  | 22.5     |  22.5    |  0       | 44       | 64       | 20       |\n",
       "| 207      | pre      | 0        | 68       |  98      | 10.00    | 4.571429 | 14       | 100      | sa_832   | 78.0     | 102.0    | 24       |  0       |  0       |  0       |\n",
       "| 207      | post     | 0        | 68       |  98      | 10.00    | 4.571429 | 14       | 100      | sa_10000 | 78.0     | 102.0    | 24       |  0       |  0       |  0       |\n",
       "\n"
      ],
      "text/plain": [
       "  subject_id time cc age_pre_d age_post_d age_startcc_w weeks_cc\n",
       "1 202        pre  1  75        105        11.00         4.571429\n",
       "2 202        post 1  75        105        11.00         4.571429\n",
       "3 204        pre  0  72         99        10.57         4.142857\n",
       "4 204        post 0  72         99        10.57         4.142857\n",
       "5 207        pre  0  68         98        10.00         4.571429\n",
       "6 207        post 0  68         98        10.00         4.571429\n",
       "  bf_until_end_cc per_bf_during_cc sample   bf_count_pre bf_count_post\n",
       "1 15              100              sa_11183 74.5         105.5        \n",
       "2 15              100              sa_5986  74.5         105.5        \n",
       "3  3                0              sa_11180 22.5          22.5        \n",
       "4  3                0              sa_7451  22.5          22.5        \n",
       "5 14              100              sa_832   78.0         102.0        \n",
       "6 14              100              sa_10000 78.0         102.0        \n",
       "  bf_count_cc formula_count_pre formula_count_post formula_count_cc\n",
       "1 31           0                 1                  1              \n",
       "2 31           0                 1                  1              \n",
       "3  0          44                64                 20              \n",
       "4  0          44                64                 20              \n",
       "5 24           0                 0                  0              \n",
       "6 24           0                 0                  0              "
      ]
     },
     "metadata": {},
     "output_type": "display_data"
    }
   ],
   "source": [
    "meta %>% head()"
   ]
  },
  {
   "cell_type": "code",
   "execution_count": 14,
   "metadata": {
    "autoscroll": false
   },
   "outputs": [
    {
     "data": {
      "text/html": [
       "<table>\n",
       "<thead><tr><th scope=col>subject_id</th></tr></thead>\n",
       "<tbody>\n",
       "\t<tr><td>252</td></tr>\n",
       "\t<tr><td>275</td></tr>\n",
       "\t<tr><td>443</td></tr>\n",
       "\t<tr><td>448</td></tr>\n",
       "\t<tr><td>453</td></tr>\n",
       "</tbody>\n",
       "</table>\n"
      ],
      "text/latex": [
       "\\begin{tabular}{r|l}\n",
       " subject\\_id\\\\\n",
       "\\hline\n",
       "\t 252\\\\\n",
       "\t 275\\\\\n",
       "\t 443\\\\\n",
       "\t 448\\\\\n",
       "\t 453\\\\\n",
       "\\end{tabular}\n"
      ],
      "text/markdown": [
       "\n",
       "| subject_id |\n",
       "|---|\n",
       "| 252 |\n",
       "| 275 |\n",
       "| 443 |\n",
       "| 448 |\n",
       "| 453 |\n",
       "\n"
      ],
      "text/plain": [
       "  subject_id\n",
       "1 252       \n",
       "2 275       \n",
       "3 443       \n",
       "4 448       \n",
       "5 453       "
      ]
     },
     "metadata": {},
     "output_type": "display_data"
    }
   ],
   "source": [
    "# those remaining NA are as mentioned completely NA for feedings variables OR there was not even\n",
    "# an excel sheet for feeding.\n",
    "meta %>% filter(is.na(bf_count_pre)|is.na(bf_count_post)) %>% distinct(subject_id)"
   ]
  },
  {
   "cell_type": "code",
   "execution_count": 15,
   "metadata": {
    "autoscroll": false
   },
   "outputs": [
    {
     "data": {
      "text/plain": [
       "\n",
       "\tPearson's product-moment correlation\n",
       "\n",
       "data:  test$bf_until_end_cc and test$check_post\n",
       "t = 22.879, df = 184, p-value < 2.2e-16\n",
       "alternative hypothesis: true correlation is not equal to 0\n",
       "95 percent confidence interval:\n",
       " 0.8174765 0.8934826\n",
       "sample estimates:\n",
       "      cor \n",
       "0.8601829 \n"
      ]
     },
     "metadata": {},
     "output_type": "display_data"
    },
    {
     "data": {
      "text/plain": [
       "\n",
       "\tPearson's product-moment correlation\n",
       "\n",
       "data:  test$bf_count_pre and test$formula_count_pre\n",
       "t = -25.172, df = 184, p-value < 2.2e-16\n",
       "alternative hypothesis: true correlation is not equal to 0\n",
       "95 percent confidence interval:\n",
       " -0.9090570 -0.8432441\n",
       "sample estimates:\n",
       "       cor \n",
       "-0.8803185 \n"
      ]
     },
     "metadata": {},
     "output_type": "display_data"
    },
    {
     "data": {
      "text/plain": [
       "\n",
       "\tPearson's product-moment correlation\n",
       "\n",
       "data:  test$bf_count_post and test$formula_count_post\n",
       "t = -33.137, df = 184, p-value < 2.2e-16\n",
       "alternative hypothesis: true correlation is not equal to 0\n",
       "95 percent confidence interval:\n",
       " -0.9436870 -0.9016437\n",
       "sample estimates:\n",
       "       cor \n",
       "-0.9254645 \n"
      ]
     },
     "metadata": {},
     "output_type": "display_data"
    },
    {
     "data": {
      "text/plain": [
       "\n",
       "\tPearson's product-moment correlation\n",
       "\n",
       "data:  test$bf_count_cc and test$formula_count_cc\n",
       "t = -36.464, df = 184, p-value < 2.2e-16\n",
       "alternative hypothesis: true correlation is not equal to 0\n",
       "95 percent confidence interval:\n",
       " -0.9526631 -0.9170354\n",
       "sample estimates:\n",
       "       cor \n",
       "-0.9372515 \n"
      ]
     },
     "metadata": {},
     "output_type": "display_data"
    },
    {
     "data": {
      "text/plain": [
       "\n",
       "\tPearson's product-moment correlation\n",
       "\n",
       "data:  meta$formula_count and meta$bf_count\n",
       "t = -30.878, df = 184, p-value < 2.2e-16\n",
       "alternative hypothesis: true correlation is not equal to 0\n",
       "95 percent confidence interval:\n",
       " -0.9361156 -0.8887431\n",
       "sample estimates:\n",
       "       cor \n",
       "-0.9155495 \n"
      ]
     },
     "metadata": {},
     "output_type": "display_data"
    }
   ],
   "source": [
    "test <- meta %>% mutate(check_post = bf_count_post/(round(age_post_d/7)-1))\n",
    "# they cannot correlate perfectly but should correlate very high\n",
    "cor.test(test$bf_until_end_cc, test$check_post)\n",
    "# lets see if formula and bf correlate as I suspected\n",
    "cor.test(test$bf_count_pre, test$formula_count_pre)\n",
    "cor.test(test$bf_count_post, test$formula_count_post)\n",
    "cor.test(test$bf_count_cc, test$formula_count_cc)\n",
    "# yes...And therefore it might be reasonable to create a ratio out of them or to include only one predictor. \n",
    "# one I loose the count, for the other I loose the small variance left unexplained between those predictors\n",
    "meta <- meta %>%\n",
    "    mutate(\n",
    "        bf_ratio_pre = bf_count_pre/(bf_count_pre + formula_count_pre),\n",
    "        bf_ratio_cc = bf_count_cc/(bf_count_cc + formula_count_cc),\n",
    "        bf_ratio = ifelse(time == \"pre\", bf_ratio_pre, bf_ratio_cc),\n",
    "        bf_count = ifelse(time == \"pre\", bf_count_pre/(round(age_pre_d/7)-1), bf_count_cc/(round(age_post_d/7) - round(age_pre_d/7))),\n",
    "        formula_count = ifelse(time == \"pre\", formula_count_pre/(round(age_pre_d/7) -1), formula_count_cc/(round(age_post_d/7) - round(age_pre_d/7))),\n",
    "        age_d = ifelse(time == \"pre\", age_pre_d, age_post_d)\n",
    "    )\n",
    "\n",
    "cor.test(meta$formula_count, meta$bf_count)"
   ]
  },
  {
   "cell_type": "code",
   "execution_count": 16,
   "metadata": {
    "autoscroll": false
   },
   "outputs": [],
   "source": [
    "# I will now merge the data. I later will only need to slect genus for which abundance was not high enough in any sample\n",
    "# But I don't know how to do this myself yet. Then the data is ready for model fitting.\n",
    "# Another question is to impute or to use lw deletion.\n",
    "# I first use lw deletion to see if everything works as expected but if possible I want to impute\n",
    "# because the information about cc/nocc and time is complete and that is most important!\n",
    "data <-\n",
    "    otu_table(genus) %>%\n",
    "        as.data.frame() %>%\n",
    "        rownames_to_column(\"genus\") %>%\n",
    "        mutate_if(is.numeric, log10) %>%\n",
    "        gather(sample, value, -genus) %>%\n",
    "        spread(genus, value) %>%\n",
    "        filter(sample %in% meta$sample) %>%\n",
    "        left_join(meta, by = \"sample\") %>%\n",
    "        select(colnames(meta), everything()) %>%\n",
    "        select(- bf_until_end_cc, -per_bf_during_cc) # deselecting the old vars\n",
    "\n",
    "data <- data %>% mutate(cc = ifelse(cc == 0, \"no\", \"yes\")) %>%\n",
    "                  mutate(\n",
    "                      cc = factor(cc, levels = c(\"no\", \"yes\")),\n",
    "                      time = factor(time, levels = c(\"pre\", \"post\")),\n",
    "                      bf_count_s = scale(bf_count)[, 1],\n",
    "                      formula_count_s = scale(formula_count)[, 1],\n",
    "                      age_d_s = scale(age_d)[, 1],\n",
    ")\n"
   ]
  },
  {
   "cell_type": "code",
   "execution_count": 17,
   "metadata": {
    "autoscroll": false
   },
   "outputs": [
    {
     "name": "stderr",
     "output_type": "stream",
     "text": [
      "Warning message:\n",
      "“Missing column names filled in: 'X1' [1]”Warning message:\n",
      "“Duplicated column names deduplicated: 'X1' => 'X1_1' [2]”Parsed with column specification:\n",
      "cols(\n",
      "  .default = col_double(),\n",
      "  X1_1 = col_character(),\n",
      "  feeding_type = col_character(),\n",
      "  childcarecenter = col_character()\n",
      ")\n",
      "See spec(...) for full column specifications.\n",
      "Saving 7 x 7 in image\n"
     ]
    },
    {
     "data": {
      "image/png": "[encoded data removed]",
      "text/plain": [
       "plot without title"
      ]
     },
     "metadata": {},
     "output_type": "display_data"
    }
   ],
   "source": [
    "# finally I want to check how the bfratio is reflected in the\n",
    "# food categories Gerben created. They should be similar despite\n",
    "# some bf ratios that are not 1 or 0. But we see that some subjects should\n",
    "# be in bf category but they ended in IF. Some of mixed\n",
    "# should be either bf of if...\n",
    "test <- read_csv(here(\"data/csv_gerben/data1.csv\"))\n",
    "test %>% select(subject, feeding_type) %>%\n",
    "    rename(subject_id = subject) %>%\n",
    "    left_join(data, by = \"subject_id\") %>%\n",
    "    ggplot(aes(feeding_type, bf_ratio, color = feeding_type)) +\n",
    "    geom_jitter(width = 0.1, alpha = 0.3)\n",
    "ggsave(\"feeding_type_vs_bf_ratio.png\")"
   ]
  },
  {
   "cell_type": "markdown",
   "metadata": {},
   "source": [
    "\n",
    "# Model fitting\n",
    "\n"
   ]
  },
  {
   "cell_type": "code",
   "execution_count": 24,
   "metadata": {},
   "outputs": [
    {
     "data": {
      "text/plain": [
       "\n",
       "\tPearson's product-moment correlation\n",
       "\n",
       "data:  data$bf_count and data$formula_count\n",
       "t = -30.878, df = 184, p-value < 2.2e-16\n",
       "alternative hypothesis: true correlation is not equal to 0\n",
       "95 percent confidence interval:\n",
       " -0.9361156 -0.8887431\n",
       "sample estimates:\n",
       "       cor \n",
       "-0.9155495 \n"
      ]
     },
     "metadata": {},
     "output_type": "display_data"
    },
    {
     "name": "stderr",
     "output_type": "stream",
     "text": [
      "Warning message:\n",
      "“Removed 10 rows containing missing values (geom_point).”"
     ]
    },
    {
     "data": {
      "image/png": "[encoded data removed]",
      "text/plain": [
       "plot without title"
      ]
     },
     "metadata": {},
     "output_type": "display_data"
    }
   ],
   "source": [
    "cor.test(data$bf_count, data$formula_count)\n",
    "ggplot(data, aes(bf_count, formula_count, color = time)) +\n",
    "    geom_point(alpha = 0.7) +\n",
    "    theme_bw()"
   ]
  },
  {
   "cell_type": "code",
   "execution_count": 18,
   "metadata": {
    "autoscroll": false,
    "scrolled": true
   },
   "outputs": [
    {
     "name": "stderr",
     "output_type": "stream",
     "text": [
      "Loading required package: Rcpp\n",
      "Loading 'brms' package (version 2.6.0). Useful instructions\n",
      "can be found by typing help('brms'). A more detailed introduction\n",
      "to the package is available through vignette('brms_overview').\n",
      "Run theme_set(theme_default()) to use the default bayesplot theme.\n",
      "\n",
      "Attaching package: ‘brms’\n",
      "\n",
      "The following object is masked from ‘package:affy’:\n",
      "\n",
      "    mm\n",
      "\n",
      "The following object is masked from ‘package:phyloseq’:\n",
      "\n",
      "    nsamples\n",
      "\n",
      "\n",
      "Attaching package: ‘glue’\n",
      "\n",
      "The following object is masked from ‘package:dplyr’:\n",
      "\n",
      "    collapse\n",
      "\n"
     ]
    },
    {
     "data": {
      "text/html": [
       "<ol class=list-inline>\n",
       "\t<li>'subject_id'</li>\n",
       "\t<li>'time'</li>\n",
       "\t<li>'cc'</li>\n",
       "\t<li>'age_pre_d'</li>\n",
       "\t<li>'age_post_d'</li>\n",
       "\t<li>'age_startcc_w'</li>\n",
       "\t<li>'weeks_cc'</li>\n",
       "\t<li>'sample'</li>\n",
       "\t<li>'bf_count_pre'</li>\n",
       "\t<li>'bf_count_post'</li>\n",
       "\t<li>'bf_count_cc'</li>\n",
       "\t<li>'formula_count_pre'</li>\n",
       "\t<li>'formula_count_post'</li>\n",
       "\t<li>'formula_count_cc'</li>\n",
       "\t<li>'bf_ratio_pre'</li>\n",
       "\t<li>'bf_ratio_cc'</li>\n",
       "\t<li>'bf_ratio'</li>\n",
       "\t<li>'bf_count'</li>\n",
       "\t<li>'formula_count'</li>\n",
       "\t<li>'age_d'</li>\n",
       "\t<li>'Actinomycetaceae'</li>\n",
       "\t<li>'Aerococcus'</li>\n",
       "\t<li>'Aeromonas'</li>\n",
       "\t<li>'Akkermansia'</li>\n",
       "\t<li>'Alcaligenes_faecalis_et_rel'</li>\n",
       "\t<li>'Allistipes_et_rel'</li>\n",
       "\t<li>'Anaerobiospirillum'</li>\n",
       "\t<li>'Anaerofustis'</li>\n",
       "\t<li>'Anaerostipes_caccae_et_rel'</li>\n",
       "\t<li>'Anaerotruncus_colihominis_et_rel'</li>\n",
       "\t<li>'Anaerovorax_odorimutans_et_rel'</li>\n",
       "\t<li>'Aneurinibacillus'</li>\n",
       "\t<li>'Aquabacterium'</li>\n",
       "\t<li>'Asteroleplasma_et_rel'</li>\n",
       "\t<li>'Atopobium'</li>\n",
       "\t<li>'Bacillus'</li>\n",
       "\t<li>'Bacteroides_fragilis_et_rel'</li>\n",
       "\t<li>'Bacteroides_intestinalis_et_rel'</li>\n",
       "\t<li>'Bacteroides_ovatus_et_rel'</li>\n",
       "\t<li>'Bacteroides_plebeius_et_rel'</li>\n",
       "\t<li>'Bacteroides_splachnicus_et_rel'</li>\n",
       "\t<li>'Bacteroides_stercoris_et_rel'</li>\n",
       "\t<li>'Bacteroides_uniformis_et_rel'</li>\n",
       "\t<li>'Bacteroides_vulgatus_et_rel'</li>\n",
       "\t<li>'Bifidobacterium'</li>\n",
       "\t<li>'Bilophila_et_rel'</li>\n",
       "\t<li>'Brachyspira'</li>\n",
       "\t<li>'Bryantella_formatexigens_et_rel'</li>\n",
       "\t<li>'Bulleidia_moorei_et_rel'</li>\n",
       "\t<li>'Burkholderia'</li>\n",
       "\t<li>'Butyrivibrio_crossotus_et_rel'</li>\n",
       "\t<li>'Campylobacter'</li>\n",
       "\t<li>'Catenibacterium_mitsuokai_et_rel'</li>\n",
       "\t<li>'Clostridium_sensu_stricto'</li>\n",
       "\t<li>'Clostridium_cellulosi_et_rel'</li>\n",
       "\t<li>'Clostridium_colinum_et_rel'</li>\n",
       "\t<li>'Clostridium_difficile_et_rel'</li>\n",
       "\t<li>'Clostridium_felsineum_et_rel'</li>\n",
       "\t<li>'Clostridium_leptum_et_rel'</li>\n",
       "\t<li>'Clostridium_nexile_et_rel'</li>\n",
       "\t<li>'Clostridium_orbiscindens_et_rel'</li>\n",
       "\t<li>'Clostridium_ramosum_et_rel'</li>\n",
       "\t<li>'Clostridium_sphenoides_et_rel'</li>\n",
       "\t<li>'Clostridium_stercorarium_et_rel'</li>\n",
       "\t<li>'Clostridium_symbiosum_et_rel'</li>\n",
       "\t<li>'Clostridium_thermocellum_et_rel'</li>\n",
       "\t<li>'Collinsella'</li>\n",
       "\t<li>'Coprobacillus_catenaformis_et_rel'</li>\n",
       "\t<li>'Coprococcus_eutactus_et_rel'</li>\n",
       "\t<li>'Corynebacterium'</li>\n",
       "\t<li>'Desulfovibrio_et_rel'</li>\n",
       "\t<li>'Dialister'</li>\n",
       "\t<li>'Dorea_formicigenerans_et_rel'</li>\n",
       "\t<li>'Eggerthella_lenta_et_rel'</li>\n",
       "\t<li>'Enterobacter_aerogenes_et_rel'</li>\n",
       "\t<li>'Enterococcus'</li>\n",
       "\t<li>'Escherichia_coli_et_rel'</li>\n",
       "\t<li>'Eubacterium_biforme_et_rel'</li>\n",
       "\t<li>'Eubacterium_cylindroides_et_rel'</li>\n",
       "\t<li>'Eubacterium_hallii_et_rel'</li>\n",
       "\t<li>'Eubacterium_limosum_et_rel'</li>\n",
       "\t<li>'Eubacterium_rectale_et_rel'</li>\n",
       "\t<li>'Eubacterium_siraeum_et_rel'</li>\n",
       "\t<li>'Eubacterium_ventriosum_et_rel'</li>\n",
       "\t<li>'Faecalibacterium_prausnitzii_et_rel'</li>\n",
       "\t<li>'Fusobacteria'</li>\n",
       "\t<li>'Gemella'</li>\n",
       "\t<li>'Granulicatella'</li>\n",
       "\t<li>'Haemophilus'</li>\n",
       "\t<li>'Helicobacter'</li>\n",
       "\t<li>'Klebisiella_pneumoniae_et_rel'</li>\n",
       "\t<li>'Lachnobacillus_bovis_et_rel'</li>\n",
       "\t<li>'Lachnospira_pectinoschiza_et_rel'</li>\n",
       "\t<li>'Lactobacillus_catenaformis_et_rel'</li>\n",
       "\t<li>'Lactobacillus_gasseri_et_rel'</li>\n",
       "\t<li>'Lactobacillus_plantarum_et_rel'</li>\n",
       "\t<li>'Lactobacillus_salivarius_et_rel'</li>\n",
       "\t<li>'Lactococcus'</li>\n",
       "\t<li>'Leminorella'</li>\n",
       "\t<li>'Megamonas_hypermegale_et_rel'</li>\n",
       "\t<li>'Megasphaera_elsdenii_et_rel'</li>\n",
       "\t<li>'Methylobacterium'</li>\n",
       "\t<li>'Micrococcaceae'</li>\n",
       "\t<li>'Mitsuokella_multiacida_et_rel'</li>\n",
       "\t<li>'Moraxellaceae'</li>\n",
       "\t<li>'Novosphingobium'</li>\n",
       "\t<li>'Oceanospirillum'</li>\n",
       "\t<li>'Oscillospira_guillermondii_et_rel'</li>\n",
       "\t<li>'Outgrouping_clostridium_cluster_XIVa'</li>\n",
       "\t<li>'Oxalobacter_formigenes_et_rel'</li>\n",
       "\t<li>'Papillibacter_cinnamivorans_et_rel'</li>\n",
       "\t<li>'Parabacteroides_distasonis_et_rel'</li>\n",
       "\t<li>'Peptococcus_niger_et_rel'</li>\n",
       "\t<li>'Peptostreptococcus_anaerobius_et_rel'</li>\n",
       "\t<li>'Peptostreptococcus_micros_et_rel'</li>\n",
       "\t<li>'Phascolarctobacterium_faecium_et_rel'</li>\n",
       "\t<li>'Prevotella_melaninogenica_et_rel'</li>\n",
       "\t<li>'Prevotella_oralis_et_rel'</li>\n",
       "\t<li>'Prevotella_ruminicola_et_rel'</li>\n",
       "\t<li>'Prevotella_tannerae_et_rel'</li>\n",
       "\t<li>'Propionibacterium'</li>\n",
       "\t<li>'Proteus_et_rel'</li>\n",
       "\t<li>'Pseudomonas'</li>\n",
       "\t<li>'Roseburia_intestinalis_et_rel'</li>\n",
       "\t<li>'Ruminococcus_bromii_et_rel'</li>\n",
       "\t<li>'Ruminococcus_callidus_et_rel'</li>\n",
       "\t<li>'Ruminococcus_gnavus_et_rel'</li>\n",
       "\t<li>'Ruminococcus_lactaris_et_rel'</li>\n",
       "\t<li>'Ruminococcus_obeum_et_rel'</li>\n",
       "\t<li>'Serratia'</li>\n",
       "\t<li>'Sporobacter_termitidis_et_rel'</li>\n",
       "\t<li>'Staphylococcus'</li>\n",
       "\t<li>'Streptococcus_bovis_et_rel'</li>\n",
       "\t<li>'Streptococcus_intermedius_et_rel'</li>\n",
       "\t<li>'Streptococcus_mitis_et_rel'</li>\n",
       "\t<li>'Subdoligranulum_variable_at_rel'</li>\n",
       "\t<li>'Sutterella_wadsworthia_et_rel'</li>\n",
       "\t<li>'Tannerella_et_rel'</li>\n",
       "\t<li>'Uncultured_Bacteroidetes'</li>\n",
       "\t<li>'Uncultured_Chroococcales'</li>\n",
       "\t<li>'Uncultured_Clostridiales_I'</li>\n",
       "\t<li>'Uncultured_Clostridiales_II'</li>\n",
       "\t<li>'Uncultured_Mollicutes'</li>\n",
       "\t<li>'Uncultured_Selenomonadaceae'</li>\n",
       "\t<li>'Veillonella'</li>\n",
       "\t<li>'Vibrio'</li>\n",
       "\t<li>'Weissella_et_rel'</li>\n",
       "\t<li>'Wissella_et_rel'</li>\n",
       "\t<li>'Xanthomonadaceae'</li>\n",
       "\t<li>'Yersinia_et_rel'</li>\n",
       "\t<li>'bf_count_s'</li>\n",
       "\t<li>'formula_count_s'</li>\n",
       "\t<li>'age_d_s'</li>\n",
       "</ol>\n"
      ],
      "text/latex": [
       "\\begin{enumerate*}\n",
       "\\item 'subject\\_id'\n",
       "\\item 'time'\n",
       "\\item 'cc'\n",
       "\\item 'age\\_pre\\_d'\n",
       "\\item 'age\\_post\\_d'\n",
       "\\item 'age\\_startcc\\_w'\n",
       "\\item 'weeks\\_cc'\n",
       "\\item 'sample'\n",
       "\\item 'bf\\_count\\_pre'\n",
       "\\item 'bf\\_count\\_post'\n",
       "\\item 'bf\\_count\\_cc'\n",
       "\\item 'formula\\_count\\_pre'\n",
       "\\item 'formula\\_count\\_post'\n",
       "\\item 'formula\\_count\\_cc'\n",
       "\\item 'bf\\_ratio\\_pre'\n",
       "\\item 'bf\\_ratio\\_cc'\n",
       "\\item 'bf\\_ratio'\n",
       "\\item 'bf\\_count'\n",
       "\\item 'formula\\_count'\n",
       "\\item 'age\\_d'\n",
       "\\item 'Actinomycetaceae'\n",
       "\\item 'Aerococcus'\n",
       "\\item 'Aeromonas'\n",
       "\\item 'Akkermansia'\n",
       "\\item 'Alcaligenes\\_faecalis\\_et\\_rel'\n",
       "\\item 'Allistipes\\_et\\_rel'\n",
       "\\item 'Anaerobiospirillum'\n",
       "\\item 'Anaerofustis'\n",
       "\\item 'Anaerostipes\\_caccae\\_et\\_rel'\n",
       "\\item 'Anaerotruncus\\_colihominis\\_et\\_rel'\n",
       "\\item 'Anaerovorax\\_odorimutans\\_et\\_rel'\n",
       "\\item 'Aneurinibacillus'\n",
       "\\item 'Aquabacterium'\n",
       "\\item 'Asteroleplasma\\_et\\_rel'\n",
       "\\item 'Atopobium'\n",
       "\\item 'Bacillus'\n",
       "\\item 'Bacteroides\\_fragilis\\_et\\_rel'\n",
       "\\item 'Bacteroides\\_intestinalis\\_et\\_rel'\n",
       "\\item 'Bacteroides\\_ovatus\\_et\\_rel'\n",
       "\\item 'Bacteroides\\_plebeius\\_et\\_rel'\n",
       "\\item 'Bacteroides\\_splachnicus\\_et\\_rel'\n",
       "\\item 'Bacteroides\\_stercoris\\_et\\_rel'\n",
       "\\item 'Bacteroides\\_uniformis\\_et\\_rel'\n",
       "\\item 'Bacteroides\\_vulgatus\\_et\\_rel'\n",
       "\\item 'Bifidobacterium'\n",
       "\\item 'Bilophila\\_et\\_rel'\n",
       "\\item 'Brachyspira'\n",
       "\\item 'Bryantella\\_formatexigens\\_et\\_rel'\n",
       "\\item 'Bulleidia\\_moorei\\_et\\_rel'\n",
       "\\item 'Burkholderia'\n",
       "\\item 'Butyrivibrio\\_crossotus\\_et\\_rel'\n",
       "\\item 'Campylobacter'\n",
       "\\item 'Catenibacterium\\_mitsuokai\\_et\\_rel'\n",
       "\\item 'Clostridium\\_sensu\\_stricto'\n",
       "\\item 'Clostridium\\_cellulosi\\_et\\_rel'\n",
       "\\item 'Clostridium\\_colinum\\_et\\_rel'\n",
       "\\item 'Clostridium\\_difficile\\_et\\_rel'\n",
       "\\item 'Clostridium\\_felsineum\\_et\\_rel'\n",
       "\\item 'Clostridium\\_leptum\\_et\\_rel'\n",
       "\\item 'Clostridium\\_nexile\\_et\\_rel'\n",
       "\\item 'Clostridium\\_orbiscindens\\_et\\_rel'\n",
       "\\item 'Clostridium\\_ramosum\\_et\\_rel'\n",
       "\\item 'Clostridium\\_sphenoides\\_et\\_rel'\n",
       "\\item 'Clostridium\\_stercorarium\\_et\\_rel'\n",
       "\\item 'Clostridium\\_symbiosum\\_et\\_rel'\n",
       "\\item 'Clostridium\\_thermocellum\\_et\\_rel'\n",
       "\\item 'Collinsella'\n",
       "\\item 'Coprobacillus\\_catenaformis\\_et\\_rel'\n",
       "\\item 'Coprococcus\\_eutactus\\_et\\_rel'\n",
       "\\item 'Corynebacterium'\n",
       "\\item 'Desulfovibrio\\_et\\_rel'\n",
       "\\item 'Dialister'\n",
       "\\item 'Dorea\\_formicigenerans\\_et\\_rel'\n",
       "\\item 'Eggerthella\\_lenta\\_et\\_rel'\n",
       "\\item 'Enterobacter\\_aerogenes\\_et\\_rel'\n",
       "\\item 'Enterococcus'\n",
       "\\item 'Escherichia\\_coli\\_et\\_rel'\n",
       "\\item 'Eubacterium\\_biforme\\_et\\_rel'\n",
       "\\item 'Eubacterium\\_cylindroides\\_et\\_rel'\n",
       "\\item 'Eubacterium\\_hallii\\_et\\_rel'\n",
       "\\item 'Eubacterium\\_limosum\\_et\\_rel'\n",
       "\\item 'Eubacterium\\_rectale\\_et\\_rel'\n",
       "\\item 'Eubacterium\\_siraeum\\_et\\_rel'\n",
       "\\item 'Eubacterium\\_ventriosum\\_et\\_rel'\n",
       "\\item 'Faecalibacterium\\_prausnitzii\\_et\\_rel'\n",
       "\\item 'Fusobacteria'\n",
       "\\item 'Gemella'\n",
       "\\item 'Granulicatella'\n",
       "\\item 'Haemophilus'\n",
       "\\item 'Helicobacter'\n",
       "\\item 'Klebisiella\\_pneumoniae\\_et\\_rel'\n",
       "\\item 'Lachnobacillus\\_bovis\\_et\\_rel'\n",
       "\\item 'Lachnospira\\_pectinoschiza\\_et\\_rel'\n",
       "\\item 'Lactobacillus\\_catenaformis\\_et\\_rel'\n",
       "\\item 'Lactobacillus\\_gasseri\\_et\\_rel'\n",
       "\\item 'Lactobacillus\\_plantarum\\_et\\_rel'\n",
       "\\item 'Lactobacillus\\_salivarius\\_et\\_rel'\n",
       "\\item 'Lactococcus'\n",
       "\\item 'Leminorella'\n",
       "\\item 'Megamonas\\_hypermegale\\_et\\_rel'\n",
       "\\item 'Megasphaera\\_elsdenii\\_et\\_rel'\n",
       "\\item 'Methylobacterium'\n",
       "\\item 'Micrococcaceae'\n",
       "\\item 'Mitsuokella\\_multiacida\\_et\\_rel'\n",
       "\\item 'Moraxellaceae'\n",
       "\\item 'Novosphingobium'\n",
       "\\item 'Oceanospirillum'\n",
       "\\item 'Oscillospira\\_guillermondii\\_et\\_rel'\n",
       "\\item 'Outgrouping\\_clostridium\\_cluster\\_XIVa'\n",
       "\\item 'Oxalobacter\\_formigenes\\_et\\_rel'\n",
       "\\item 'Papillibacter\\_cinnamivorans\\_et\\_rel'\n",
       "\\item 'Parabacteroides\\_distasonis\\_et\\_rel'\n",
       "\\item 'Peptococcus\\_niger\\_et\\_rel'\n",
       "\\item 'Peptostreptococcus\\_anaerobius\\_et\\_rel'\n",
       "\\item 'Peptostreptococcus\\_micros\\_et\\_rel'\n",
       "\\item 'Phascolarctobacterium\\_faecium\\_et\\_rel'\n",
       "\\item 'Prevotella\\_melaninogenica\\_et\\_rel'\n",
       "\\item 'Prevotella\\_oralis\\_et\\_rel'\n",
       "\\item 'Prevotella\\_ruminicola\\_et\\_rel'\n",
       "\\item 'Prevotella\\_tannerae\\_et\\_rel'\n",
       "\\item 'Propionibacterium'\n",
       "\\item 'Proteus\\_et\\_rel'\n",
       "\\item 'Pseudomonas'\n",
       "\\item 'Roseburia\\_intestinalis\\_et\\_rel'\n",
       "\\item 'Ruminococcus\\_bromii\\_et\\_rel'\n",
       "\\item 'Ruminococcus\\_callidus\\_et\\_rel'\n",
       "\\item 'Ruminococcus\\_gnavus\\_et\\_rel'\n",
       "\\item 'Ruminococcus\\_lactaris\\_et\\_rel'\n",
       "\\item 'Ruminococcus\\_obeum\\_et\\_rel'\n",
       "\\item 'Serratia'\n",
       "\\item 'Sporobacter\\_termitidis\\_et\\_rel'\n",
       "\\item 'Staphylococcus'\n",
       "\\item 'Streptococcus\\_bovis\\_et\\_rel'\n",
       "\\item 'Streptococcus\\_intermedius\\_et\\_rel'\n",
       "\\item 'Streptococcus\\_mitis\\_et\\_rel'\n",
       "\\item 'Subdoligranulum\\_variable\\_at\\_rel'\n",
       "\\item 'Sutterella\\_wadsworthia\\_et\\_rel'\n",
       "\\item 'Tannerella\\_et\\_rel'\n",
       "\\item 'Uncultured\\_Bacteroidetes'\n",
       "\\item 'Uncultured\\_Chroococcales'\n",
       "\\item 'Uncultured\\_Clostridiales\\_I'\n",
       "\\item 'Uncultured\\_Clostridiales\\_II'\n",
       "\\item 'Uncultured\\_Mollicutes'\n",
       "\\item 'Uncultured\\_Selenomonadaceae'\n",
       "\\item 'Veillonella'\n",
       "\\item 'Vibrio'\n",
       "\\item 'Weissella\\_et\\_rel'\n",
       "\\item 'Wissella\\_et\\_rel'\n",
       "\\item 'Xanthomonadaceae'\n",
       "\\item 'Yersinia\\_et\\_rel'\n",
       "\\item 'bf\\_count\\_s'\n",
       "\\item 'formula\\_count\\_s'\n",
       "\\item 'age\\_d\\_s'\n",
       "\\end{enumerate*}\n"
      ],
      "text/markdown": [
       "1. 'subject_id'\n",
       "2. 'time'\n",
       "3. 'cc'\n",
       "4. 'age_pre_d'\n",
       "5. 'age_post_d'\n",
       "6. 'age_startcc_w'\n",
       "7. 'weeks_cc'\n",
       "8. 'sample'\n",
       "9. 'bf_count_pre'\n",
       "10. 'bf_count_post'\n",
       "11. 'bf_count_cc'\n",
       "12. 'formula_count_pre'\n",
       "13. 'formula_count_post'\n",
       "14. 'formula_count_cc'\n",
       "15. 'bf_ratio_pre'\n",
       "16. 'bf_ratio_cc'\n",
       "17. 'bf_ratio'\n",
       "18. 'bf_count'\n",
       "19. 'formula_count'\n",
       "20. 'age_d'\n",
       "21. 'Actinomycetaceae'\n",
       "22. 'Aerococcus'\n",
       "23. 'Aeromonas'\n",
       "24. 'Akkermansia'\n",
       "25. 'Alcaligenes_faecalis_et_rel'\n",
       "26. 'Allistipes_et_rel'\n",
       "27. 'Anaerobiospirillum'\n",
       "28. 'Anaerofustis'\n",
       "29. 'Anaerostipes_caccae_et_rel'\n",
       "30. 'Anaerotruncus_colihominis_et_rel'\n",
       "31. 'Anaerovorax_odorimutans_et_rel'\n",
       "32. 'Aneurinibacillus'\n",
       "33. 'Aquabacterium'\n",
       "34. 'Asteroleplasma_et_rel'\n",
       "35. 'Atopobium'\n",
       "36. 'Bacillus'\n",
       "37. 'Bacteroides_fragilis_et_rel'\n",
       "38. 'Bacteroides_intestinalis_et_rel'\n",
       "39. 'Bacteroides_ovatus_et_rel'\n",
       "40. 'Bacteroides_plebeius_et_rel'\n",
       "41. 'Bacteroides_splachnicus_et_rel'\n",
       "42. 'Bacteroides_stercoris_et_rel'\n",
       "43. 'Bacteroides_uniformis_et_rel'\n",
       "44. 'Bacteroides_vulgatus_et_rel'\n",
       "45. 'Bifidobacterium'\n",
       "46. 'Bilophila_et_rel'\n",
       "47. 'Brachyspira'\n",
       "48. 'Bryantella_formatexigens_et_rel'\n",
       "49. 'Bulleidia_moorei_et_rel'\n",
       "50. 'Burkholderia'\n",
       "51. 'Butyrivibrio_crossotus_et_rel'\n",
       "52. 'Campylobacter'\n",
       "53. 'Catenibacterium_mitsuokai_et_rel'\n",
       "54. 'Clostridium_sensu_stricto'\n",
       "55. 'Clostridium_cellulosi_et_rel'\n",
       "56. 'Clostridium_colinum_et_rel'\n",
       "57. 'Clostridium_difficile_et_rel'\n",
       "58. 'Clostridium_felsineum_et_rel'\n",
       "59. 'Clostridium_leptum_et_rel'\n",
       "60. 'Clostridium_nexile_et_rel'\n",
       "61. 'Clostridium_orbiscindens_et_rel'\n",
       "62. 'Clostridium_ramosum_et_rel'\n",
       "63. 'Clostridium_sphenoides_et_rel'\n",
       "64. 'Clostridium_stercorarium_et_rel'\n",
       "65. 'Clostridium_symbiosum_et_rel'\n",
       "66. 'Clostridium_thermocellum_et_rel'\n",
       "67. 'Collinsella'\n",
       "68. 'Coprobacillus_catenaformis_et_rel'\n",
       "69. 'Coprococcus_eutactus_et_rel'\n",
       "70. 'Corynebacterium'\n",
       "71. 'Desulfovibrio_et_rel'\n",
       "72. 'Dialister'\n",
       "73. 'Dorea_formicigenerans_et_rel'\n",
       "74. 'Eggerthella_lenta_et_rel'\n",
       "75. 'Enterobacter_aerogenes_et_rel'\n",
       "76. 'Enterococcus'\n",
       "77. 'Escherichia_coli_et_rel'\n",
       "78. 'Eubacterium_biforme_et_rel'\n",
       "79. 'Eubacterium_cylindroides_et_rel'\n",
       "80. 'Eubacterium_hallii_et_rel'\n",
       "81. 'Eubacterium_limosum_et_rel'\n",
       "82. 'Eubacterium_rectale_et_rel'\n",
       "83. 'Eubacterium_siraeum_et_rel'\n",
       "84. 'Eubacterium_ventriosum_et_rel'\n",
       "85. 'Faecalibacterium_prausnitzii_et_rel'\n",
       "86. 'Fusobacteria'\n",
       "87. 'Gemella'\n",
       "88. 'Granulicatella'\n",
       "89. 'Haemophilus'\n",
       "90. 'Helicobacter'\n",
       "91. 'Klebisiella_pneumoniae_et_rel'\n",
       "92. 'Lachnobacillus_bovis_et_rel'\n",
       "93. 'Lachnospira_pectinoschiza_et_rel'\n",
       "94. 'Lactobacillus_catenaformis_et_rel'\n",
       "95. 'Lactobacillus_gasseri_et_rel'\n",
       "96. 'Lactobacillus_plantarum_et_rel'\n",
       "97. 'Lactobacillus_salivarius_et_rel'\n",
       "98. 'Lactococcus'\n",
       "99. 'Leminorella'\n",
       "100. 'Megamonas_hypermegale_et_rel'\n",
       "101. 'Megasphaera_elsdenii_et_rel'\n",
       "102. 'Methylobacterium'\n",
       "103. 'Micrococcaceae'\n",
       "104. 'Mitsuokella_multiacida_et_rel'\n",
       "105. 'Moraxellaceae'\n",
       "106. 'Novosphingobium'\n",
       "107. 'Oceanospirillum'\n",
       "108. 'Oscillospira_guillermondii_et_rel'\n",
       "109. 'Outgrouping_clostridium_cluster_XIVa'\n",
       "110. 'Oxalobacter_formigenes_et_rel'\n",
       "111. 'Papillibacter_cinnamivorans_et_rel'\n",
       "112. 'Parabacteroides_distasonis_et_rel'\n",
       "113. 'Peptococcus_niger_et_rel'\n",
       "114. 'Peptostreptococcus_anaerobius_et_rel'\n",
       "115. 'Peptostreptococcus_micros_et_rel'\n",
       "116. 'Phascolarctobacterium_faecium_et_rel'\n",
       "117. 'Prevotella_melaninogenica_et_rel'\n",
       "118. 'Prevotella_oralis_et_rel'\n",
       "119. 'Prevotella_ruminicola_et_rel'\n",
       "120. 'Prevotella_tannerae_et_rel'\n",
       "121. 'Propionibacterium'\n",
       "122. 'Proteus_et_rel'\n",
       "123. 'Pseudomonas'\n",
       "124. 'Roseburia_intestinalis_et_rel'\n",
       "125. 'Ruminococcus_bromii_et_rel'\n",
       "126. 'Ruminococcus_callidus_et_rel'\n",
       "127. 'Ruminococcus_gnavus_et_rel'\n",
       "128. 'Ruminococcus_lactaris_et_rel'\n",
       "129. 'Ruminococcus_obeum_et_rel'\n",
       "130. 'Serratia'\n",
       "131. 'Sporobacter_termitidis_et_rel'\n",
       "132. 'Staphylococcus'\n",
       "133. 'Streptococcus_bovis_et_rel'\n",
       "134. 'Streptococcus_intermedius_et_rel'\n",
       "135. 'Streptococcus_mitis_et_rel'\n",
       "136. 'Subdoligranulum_variable_at_rel'\n",
       "137. 'Sutterella_wadsworthia_et_rel'\n",
       "138. 'Tannerella_et_rel'\n",
       "139. 'Uncultured_Bacteroidetes'\n",
       "140. 'Uncultured_Chroococcales'\n",
       "141. 'Uncultured_Clostridiales_I'\n",
       "142. 'Uncultured_Clostridiales_II'\n",
       "143. 'Uncultured_Mollicutes'\n",
       "144. 'Uncultured_Selenomonadaceae'\n",
       "145. 'Veillonella'\n",
       "146. 'Vibrio'\n",
       "147. 'Weissella_et_rel'\n",
       "148. 'Wissella_et_rel'\n",
       "149. 'Xanthomonadaceae'\n",
       "150. 'Yersinia_et_rel'\n",
       "151. 'bf_count_s'\n",
       "152. 'formula_count_s'\n",
       "153. 'age_d_s'\n",
       "\n",
       "\n"
      ],
      "text/plain": [
       "  [1] \"subject_id\"                          \n",
       "  [2] \"time\"                                \n",
       "  [3] \"cc\"                                  \n",
       "  [4] \"age_pre_d\"                           \n",
       "  [5] \"age_post_d\"                          \n",
       "  [6] \"age_startcc_w\"                       \n",
       "  [7] \"weeks_cc\"                            \n",
       "  [8] \"sample\"                              \n",
       "  [9] \"bf_count_pre\"                        \n",
       " [10] \"bf_count_post\"                       \n",
       " [11] \"bf_count_cc\"                         \n",
       " [12] \"formula_count_pre\"                   \n",
       " [13] \"formula_count_post\"                  \n",
       " [14] \"formula_count_cc\"                    \n",
       " [15] \"bf_ratio_pre\"                        \n",
       " [16] \"bf_ratio_cc\"                         \n",
       " [17] \"bf_ratio\"                            \n",
       " [18] \"bf_count\"                            \n",
       " [19] \"formula_count\"                       \n",
       " [20] \"age_d\"                               \n",
       " [21] \"Actinomycetaceae\"                    \n",
       " [22] \"Aerococcus\"                          \n",
       " [23] \"Aeromonas\"                           \n",
       " [24] \"Akkermansia\"                         \n",
       " [25] \"Alcaligenes_faecalis_et_rel\"         \n",
       " [26] \"Allistipes_et_rel\"                   \n",
       " [27] \"Anaerobiospirillum\"                  \n",
       " [28] \"Anaerofustis\"                        \n",
       " [29] \"Anaerostipes_caccae_et_rel\"          \n",
       " [30] \"Anaerotruncus_colihominis_et_rel\"    \n",
       " [31] \"Anaerovorax_odorimutans_et_rel\"      \n",
       " [32] \"Aneurinibacillus\"                    \n",
       " [33] \"Aquabacterium\"                       \n",
       " [34] \"Asteroleplasma_et_rel\"               \n",
       " [35] \"Atopobium\"                           \n",
       " [36] \"Bacillus\"                            \n",
       " [37] \"Bacteroides_fragilis_et_rel\"         \n",
       " [38] \"Bacteroides_intestinalis_et_rel\"     \n",
       " [39] \"Bacteroides_ovatus_et_rel\"           \n",
       " [40] \"Bacteroides_plebeius_et_rel\"         \n",
       " [41] \"Bacteroides_splachnicus_et_rel\"      \n",
       " [42] \"Bacteroides_stercoris_et_rel\"        \n",
       " [43] \"Bacteroides_uniformis_et_rel\"        \n",
       " [44] \"Bacteroides_vulgatus_et_rel\"         \n",
       " [45] \"Bifidobacterium\"                     \n",
       " [46] \"Bilophila_et_rel\"                    \n",
       " [47] \"Brachyspira\"                         \n",
       " [48] \"Bryantella_formatexigens_et_rel\"     \n",
       " [49] \"Bulleidia_moorei_et_rel\"             \n",
       " [50] \"Burkholderia\"                        \n",
       " [51] \"Butyrivibrio_crossotus_et_rel\"       \n",
       " [52] \"Campylobacter\"                       \n",
       " [53] \"Catenibacterium_mitsuokai_et_rel\"    \n",
       " [54] \"Clostridium_sensu_stricto\"           \n",
       " [55] \"Clostridium_cellulosi_et_rel\"        \n",
       " [56] \"Clostridium_colinum_et_rel\"          \n",
       " [57] \"Clostridium_difficile_et_rel\"        \n",
       " [58] \"Clostridium_felsineum_et_rel\"        \n",
       " [59] \"Clostridium_leptum_et_rel\"           \n",
       " [60] \"Clostridium_nexile_et_rel\"           \n",
       " [61] \"Clostridium_orbiscindens_et_rel\"     \n",
       " [62] \"Clostridium_ramosum_et_rel\"          \n",
       " [63] \"Clostridium_sphenoides_et_rel\"       \n",
       " [64] \"Clostridium_stercorarium_et_rel\"     \n",
       " [65] \"Clostridium_symbiosum_et_rel\"        \n",
       " [66] \"Clostridium_thermocellum_et_rel\"     \n",
       " [67] \"Collinsella\"                         \n",
       " [68] \"Coprobacillus_catenaformis_et_rel\"   \n",
       " [69] \"Coprococcus_eutactus_et_rel\"         \n",
       " [70] \"Corynebacterium\"                     \n",
       " [71] \"Desulfovibrio_et_rel\"                \n",
       " [72] \"Dialister\"                           \n",
       " [73] \"Dorea_formicigenerans_et_rel\"        \n",
       " [74] \"Eggerthella_lenta_et_rel\"            \n",
       " [75] \"Enterobacter_aerogenes_et_rel\"       \n",
       " [76] \"Enterococcus\"                        \n",
       " [77] \"Escherichia_coli_et_rel\"             \n",
       " [78] \"Eubacterium_biforme_et_rel\"          \n",
       " [79] \"Eubacterium_cylindroides_et_rel\"     \n",
       " [80] \"Eubacterium_hallii_et_rel\"           \n",
       " [81] \"Eubacterium_limosum_et_rel\"          \n",
       " [82] \"Eubacterium_rectale_et_rel\"          \n",
       " [83] \"Eubacterium_siraeum_et_rel\"          \n",
       " [84] \"Eubacterium_ventriosum_et_rel\"       \n",
       " [85] \"Faecalibacterium_prausnitzii_et_rel\" \n",
       " [86] \"Fusobacteria\"                        \n",
       " [87] \"Gemella\"                             \n",
       " [88] \"Granulicatella\"                      \n",
       " [89] \"Haemophilus\"                         \n",
       " [90] \"Helicobacter\"                        \n",
       " [91] \"Klebisiella_pneumoniae_et_rel\"       \n",
       " [92] \"Lachnobacillus_bovis_et_rel\"         \n",
       " [93] \"Lachnospira_pectinoschiza_et_rel\"    \n",
       " [94] \"Lactobacillus_catenaformis_et_rel\"   \n",
       " [95] \"Lactobacillus_gasseri_et_rel\"        \n",
       " [96] \"Lactobacillus_plantarum_et_rel\"      \n",
       " [97] \"Lactobacillus_salivarius_et_rel\"     \n",
       " [98] \"Lactococcus\"                         \n",
       " [99] \"Leminorella\"                         \n",
       "[100] \"Megamonas_hypermegale_et_rel\"        \n",
       "[101] \"Megasphaera_elsdenii_et_rel\"         \n",
       "[102] \"Methylobacterium\"                    \n",
       "[103] \"Micrococcaceae\"                      \n",
       "[104] \"Mitsuokella_multiacida_et_rel\"       \n",
       "[105] \"Moraxellaceae\"                       \n",
       "[106] \"Novosphingobium\"                     \n",
       "[107] \"Oceanospirillum\"                     \n",
       "[108] \"Oscillospira_guillermondii_et_rel\"   \n",
       "[109] \"Outgrouping_clostridium_cluster_XIVa\"\n",
       "[110] \"Oxalobacter_formigenes_et_rel\"       \n",
       "[111] \"Papillibacter_cinnamivorans_et_rel\"  \n",
       "[112] \"Parabacteroides_distasonis_et_rel\"   \n",
       "[113] \"Peptococcus_niger_et_rel\"            \n",
       "[114] \"Peptostreptococcus_anaerobius_et_rel\"\n",
       "[115] \"Peptostreptococcus_micros_et_rel\"    \n",
       "[116] \"Phascolarctobacterium_faecium_et_rel\"\n",
       "[117] \"Prevotella_melaninogenica_et_rel\"    \n",
       "[118] \"Prevotella_oralis_et_rel\"            \n",
       "[119] \"Prevotella_ruminicola_et_rel\"        \n",
       "[120] \"Prevotella_tannerae_et_rel\"          \n",
       "[121] \"Propionibacterium\"                   \n",
       "[122] \"Proteus_et_rel\"                      \n",
       "[123] \"Pseudomonas\"                         \n",
       "[124] \"Roseburia_intestinalis_et_rel\"       \n",
       "[125] \"Ruminococcus_bromii_et_rel\"          \n",
       "[126] \"Ruminococcus_callidus_et_rel\"        \n",
       "[127] \"Ruminococcus_gnavus_et_rel\"          \n",
       "[128] \"Ruminococcus_lactaris_et_rel\"        \n",
       "[129] \"Ruminococcus_obeum_et_rel\"           \n",
       "[130] \"Serratia\"                            \n",
       "[131] \"Sporobacter_termitidis_et_rel\"       \n",
       "[132] \"Staphylococcus\"                      \n",
       "[133] \"Streptococcus_bovis_et_rel\"          \n",
       "[134] \"Streptococcus_intermedius_et_rel\"    \n",
       "[135] \"Streptococcus_mitis_et_rel\"          \n",
       "[136] \"Subdoligranulum_variable_at_rel\"     \n",
       "[137] \"Sutterella_wadsworthia_et_rel\"       \n",
       "[138] \"Tannerella_et_rel\"                   \n",
       "[139] \"Uncultured_Bacteroidetes\"            \n",
       "[140] \"Uncultured_Chroococcales\"            \n",
       "[141] \"Uncultured_Clostridiales_I\"          \n",
       "[142] \"Uncultured_Clostridiales_II\"         \n",
       "[143] \"Uncultured_Mollicutes\"               \n",
       "[144] \"Uncultured_Selenomonadaceae\"         \n",
       "[145] \"Veillonella\"                         \n",
       "[146] \"Vibrio\"                              \n",
       "[147] \"Weissella_et_rel\"                    \n",
       "[148] \"Wissella_et_rel\"                     \n",
       "[149] \"Xanthomonadaceae\"                    \n",
       "[150] \"Yersinia_et_rel\"                     \n",
       "[151] \"bf_count_s\"                          \n",
       "[152] \"formula_count_s\"                     \n",
       "[153] \"age_d_s\"                             "
      ]
     },
     "metadata": {},
     "output_type": "display_data"
    },
    {
     "data": {
      "text/html": [
       "<table>\n",
       "<thead><tr><th></th><th scope=col>post</th></tr></thead>\n",
       "<tbody>\n",
       "\t<tr><th scope=row>pre</th><td>0</td></tr>\n",
       "\t<tr><th scope=row>post</th><td>1</td></tr>\n",
       "</tbody>\n",
       "</table>\n"
      ],
      "text/latex": [
       "\\begin{tabular}{r|l}\n",
       "  & post\\\\\n",
       "\\hline\n",
       "\tpre & 0\\\\\n",
       "\tpost & 1\\\\\n",
       "\\end{tabular}\n"
      ],
      "text/markdown": [
       "\n",
       "| <!--/--> | post | \n",
       "|---|---|\n",
       "| pre | 0 | \n",
       "| post | 1 | \n",
       "\n",
       "\n"
      ],
      "text/plain": [
       "     post\n",
       "pre  0   \n",
       "post 1   "
      ]
     },
     "metadata": {},
     "output_type": "display_data"
    }
   ],
   "source": [
    "library(brms)\n",
    "library(broom)\n",
    "library(glue)\n",
    "options(mc.cores = 4)\n",
    "colnames(data) <- gsub(\" \", \"_\", colnames(data))\n",
    "colnames(data) <- gsub(\"\\\\.\", \"\", colnames(data))\n",
    "colnames(data)[which(colnames(data) == \"Clostridium_\\\\(sensu_stricto\\\\)\")] <- \"Clostridium_sensu_stricto\"\n",
    "colnames(data)\n",
    "# check default contrasts\n",
    "contrasts(data$time)"
   ]
  },
  {
   "cell_type": "code",
   "execution_count": 19,
   "metadata": {},
   "outputs": [],
   "source": [
    "# filter the correct samples and then add alpha diversities to final df\n",
    "div <- div %>% filter(sample %in% data$sample)\n",
    "data <- data %>%\n",
    "    left_join(div, by = \"sample\")"
   ]
  },
  {
   "cell_type": "code",
   "execution_count": 20,
   "metadata": {},
   "outputs": [
    {
     "data": {
      "text/html": [
       "<table>\n",
       "<thead><tr><th scope=col>subject_id</th><th scope=col>time</th><th scope=col>cc</th><th scope=col>age_pre_d</th><th scope=col>age_post_d</th><th scope=col>age_startcc_w</th><th scope=col>weeks_cc</th><th scope=col>sample</th><th scope=col>bf_count_pre</th><th scope=col>bf_count_post</th><th scope=col>⋯</th><th scope=col>Xanthomonadaceae</th><th scope=col>Yersinia_et_rel</th><th scope=col>bf_count_s</th><th scope=col>formula_count_s</th><th scope=col>age_d_s</th><th scope=col>inverse_simpson</th><th scope=col>gini_simpson</th><th scope=col>shannon</th><th scope=col>fisher</th><th scope=col>coverage</th></tr></thead>\n",
       "<tbody>\n",
       "\t<tr><td>207        </td><td>post       </td><td>no         </td><td>68         </td><td> 98.00     </td><td>10.00      </td><td>4.571429   </td><td>sa_10000   </td><td>78.00      </td><td>102.00     </td><td>⋯          </td><td>7.893030   </td><td>8.144905   </td><td> 0.43948544</td><td>-0.7284908 </td><td> 0.0320946 </td><td>5.355989   </td><td>0.8132931  </td><td>2.7056184  </td><td>5.383346   </td><td>2          </td></tr>\n",
       "\t<tr><td>388        </td><td>post       </td><td>yes        </td><td>68         </td><td> 98.00     </td><td>10.00      </td><td>4.571429   </td><td>sa_10038   </td><td>51.00      </td><td> 51.00     </td><td>⋯          </td><td>7.866475   </td><td>8.142760   </td><td>-1.65710371</td><td> 1.5479419 </td><td> 0.0320946 </td><td>4.320260   </td><td>0.7685325  </td><td>2.2511439  </td><td>5.316333   </td><td>2          </td></tr>\n",
       "\t<tr><td>381        </td><td>post       </td><td>yes        </td><td>78         </td><td>108.00     </td><td>11.43      </td><td>4.571429   </td><td>sa_10118   </td><td>82.28      </td><td>108.64     </td><td>⋯          </td><td>7.907949   </td><td>8.152553   </td><td> 0.64565004</td><td>-0.7284908 </td><td> 0.5275689 </td><td>1.928580   </td><td>0.4814839  </td><td>1.3443534  </td><td>5.102534   </td><td>1          </td></tr>\n",
       "\t<tr><td>283        </td><td>post       </td><td>yes        </td><td>78         </td><td>107.03     </td><td>11.43      </td><td>4.432857   </td><td>sa_10211   </td><td>75.00      </td><td> 95.00     </td><td>⋯          </td><td>7.893011   </td><td>8.145466   </td><td> 0.09005391</td><td>-0.7284908 </td><td> 0.4795079 </td><td>3.168516   </td><td>0.6843948  </td><td>2.1517162  </td><td>5.370872   </td><td>1          </td></tr>\n",
       "\t<tr><td>216        </td><td>post       </td><td>no         </td><td>68         </td><td>100.00     </td><td>10.00      </td><td>4.857143   </td><td>sa_10230   </td><td>71.29      </td><td> 99.29     </td><td>⋯          </td><td>7.913586   </td><td>8.153854   </td><td> 0.78891696</td><td>-0.7284908 </td><td> 0.1311895 </td><td>1.487507   </td><td>0.3277344  </td><td>1.1472825  </td><td>5.231247   </td><td>1          </td></tr>\n",
       "\t<tr><td>277        </td><td>pre        </td><td>yes        </td><td>79         </td><td>109.00     </td><td>11.57      </td><td>4.571429   </td><td>sa_10247   </td><td>61.00      </td><td> 91.00     </td><td>⋯          </td><td>8.143367   </td><td>8.311815   </td><td> 0.47442859</td><td>-0.7284908 </td><td>-0.9093066 </td><td>1.330251   </td><td>0.2482624  </td><td>0.9327145  </td><td>5.140466   </td><td>1          </td></tr>\n",
       "</tbody>\n",
       "</table>\n"
      ],
      "text/latex": [
       "\\begin{tabular}{r|llllllllllllllllllllllllllllllllllllllllllllllllllllllllllllllllllllllllllllllllllllllllllllllllllllllllllllllllllllllllllllllllllllllllllllllllllllllllllllll}\n",
       " subject\\_id & time & cc & age\\_pre\\_d & age\\_post\\_d & age\\_startcc\\_w & weeks\\_cc & sample & bf\\_count\\_pre & bf\\_count\\_post & ⋯ & Xanthomonadaceae & Yersinia\\_et\\_rel & bf\\_count\\_s & formula\\_count\\_s & age\\_d\\_s & inverse\\_simpson & gini\\_simpson & shannon & fisher & coverage\\\\\n",
       "\\hline\n",
       "\t 207         & post        & no          & 68          &  98.00      & 10.00       & 4.571429    & sa\\_10000  & 78.00       & 102.00      & ⋯           & 7.893030    & 8.144905    &  0.43948544 & -0.7284908  &  0.0320946  & 5.355989    & 0.8132931   & 2.7056184   & 5.383346    & 2          \\\\\n",
       "\t 388         & post        & yes         & 68          &  98.00      & 10.00       & 4.571429    & sa\\_10038  & 51.00       &  51.00      & ⋯           & 7.866475    & 8.142760    & -1.65710371 &  1.5479419  &  0.0320946  & 4.320260    & 0.7685325   & 2.2511439   & 5.316333    & 2          \\\\\n",
       "\t 381         & post        & yes         & 78          & 108.00      & 11.43       & 4.571429    & sa\\_10118  & 82.28       & 108.64      & ⋯           & 7.907949    & 8.152553    &  0.64565004 & -0.7284908  &  0.5275689  & 1.928580    & 0.4814839   & 1.3443534   & 5.102534    & 1          \\\\\n",
       "\t 283         & post        & yes         & 78          & 107.03      & 11.43       & 4.432857    & sa\\_10211  & 75.00       &  95.00      & ⋯           & 7.893011    & 8.145466    &  0.09005391 & -0.7284908  &  0.4795079  & 3.168516    & 0.6843948   & 2.1517162   & 5.370872    & 1          \\\\\n",
       "\t 216         & post        & no          & 68          & 100.00      & 10.00       & 4.857143    & sa\\_10230  & 71.29       &  99.29      & ⋯           & 7.913586    & 8.153854    &  0.78891696 & -0.7284908  &  0.1311895  & 1.487507    & 0.3277344   & 1.1472825   & 5.231247    & 1          \\\\\n",
       "\t 277         & pre         & yes         & 79          & 109.00      & 11.57       & 4.571429    & sa\\_10247  & 61.00       &  91.00      & ⋯           & 8.143367    & 8.311815    &  0.47442859 & -0.7284908  & -0.9093066  & 1.330251    & 0.2482624   & 0.9327145   & 5.140466    & 1          \\\\\n",
       "\\end{tabular}\n"
      ],
      "text/markdown": [
       "\n",
       "subject_id | time | cc | age_pre_d | age_post_d | age_startcc_w | weeks_cc | sample | bf_count_pre | bf_count_post | ⋯ | Xanthomonadaceae | Yersinia_et_rel | bf_count_s | formula_count_s | age_d_s | inverse_simpson | gini_simpson | shannon | fisher | coverage | \n",
       "|---|---|---|---|---|---|\n",
       "| 207         | post        | no          | 68          |  98.00      | 10.00       | 4.571429    | sa_10000    | 78.00       | 102.00      | ⋯           | 7.893030    | 8.144905    |  0.43948544 | -0.7284908  |  0.0320946  | 5.355989    | 0.8132931   | 2.7056184   | 5.383346    | 2           | \n",
       "| 388         | post        | yes         | 68          |  98.00      | 10.00       | 4.571429    | sa_10038    | 51.00       |  51.00      | ⋯           | 7.866475    | 8.142760    | -1.65710371 |  1.5479419  |  0.0320946  | 4.320260    | 0.7685325   | 2.2511439   | 5.316333    | 2           | \n",
       "| 381         | post        | yes         | 78          | 108.00      | 11.43       | 4.571429    | sa_10118    | 82.28       | 108.64      | ⋯           | 7.907949    | 8.152553    |  0.64565004 | -0.7284908  |  0.5275689  | 1.928580    | 0.4814839   | 1.3443534   | 5.102534    | 1           | \n",
       "| 283         | post        | yes         | 78          | 107.03      | 11.43       | 4.432857    | sa_10211    | 75.00       |  95.00      | ⋯           | 7.893011    | 8.145466    |  0.09005391 | -0.7284908  |  0.4795079  | 3.168516    | 0.6843948   | 2.1517162   | 5.370872    | 1           | \n",
       "| 216         | post        | no          | 68          | 100.00      | 10.00       | 4.857143    | sa_10230    | 71.29       |  99.29      | ⋯           | 7.913586    | 8.153854    |  0.78891696 | -0.7284908  |  0.1311895  | 1.487507    | 0.3277344   | 1.1472825   | 5.231247    | 1           | \n",
       "| 277         | pre         | yes         | 79          | 109.00      | 11.57       | 4.571429    | sa_10247    | 61.00       |  91.00      | ⋯           | 8.143367    | 8.311815    |  0.47442859 | -0.7284908  | -0.9093066  | 1.330251    | 0.2482624   | 0.9327145   | 5.140466    | 1           | \n",
       "\n",
       "\n"
      ],
      "text/plain": [
       "  subject_id time cc  age_pre_d age_post_d age_startcc_w weeks_cc sample  \n",
       "1 207        post no  68         98.00     10.00         4.571429 sa_10000\n",
       "2 388        post yes 68         98.00     10.00         4.571429 sa_10038\n",
       "3 381        post yes 78        108.00     11.43         4.571429 sa_10118\n",
       "4 283        post yes 78        107.03     11.43         4.432857 sa_10211\n",
       "5 216        post no  68        100.00     10.00         4.857143 sa_10230\n",
       "6 277        pre  yes 79        109.00     11.57         4.571429 sa_10247\n",
       "  bf_count_pre bf_count_post ⋯ Xanthomonadaceae Yersinia_et_rel bf_count_s \n",
       "1 78.00        102.00        ⋯ 7.893030         8.144905         0.43948544\n",
       "2 51.00         51.00        ⋯ 7.866475         8.142760        -1.65710371\n",
       "3 82.28        108.64        ⋯ 7.907949         8.152553         0.64565004\n",
       "4 75.00         95.00        ⋯ 7.893011         8.145466         0.09005391\n",
       "5 71.29         99.29        ⋯ 7.913586         8.153854         0.78891696\n",
       "6 61.00         91.00        ⋯ 8.143367         8.311815         0.47442859\n",
       "  formula_count_s age_d_s    inverse_simpson gini_simpson shannon   fisher  \n",
       "1 -0.7284908       0.0320946 5.355989        0.8132931    2.7056184 5.383346\n",
       "2  1.5479419       0.0320946 4.320260        0.7685325    2.2511439 5.316333\n",
       "3 -0.7284908       0.5275689 1.928580        0.4814839    1.3443534 5.102534\n",
       "4 -0.7284908       0.4795079 3.168516        0.6843948    2.1517162 5.370872\n",
       "5 -0.7284908       0.1311895 1.487507        0.3277344    1.1472825 5.231247\n",
       "6 -0.7284908      -0.9093066 1.330251        0.2482624    0.9327145 5.140466\n",
       "  coverage\n",
       "1 2       \n",
       "2 2       \n",
       "3 1       \n",
       "4 1       \n",
       "5 1       \n",
       "6 1       "
      ]
     },
     "metadata": {},
     "output_type": "display_data"
    }
   ],
   "source": [
    "data %>% head()"
   ]
  },
  {
   "cell_type": "code",
   "execution_count": 21,
   "metadata": {
    "autoscroll": false
   },
   "outputs": [
    {
     "data": {},
     "metadata": {},
     "output_type": "display_data"
    },
    {
     "data": {
      "image/png": "[encoded data removed]",
      "text/plain": [
       "plot without title"
      ]
     },
     "metadata": {},
     "output_type": "display_data"
    }
   ],
   "source": [
    "# How much variation in how long they went to cc is there?\n",
    "qplot(weeks_cc, data = data, geom = \"density\")"
   ]
  },
  {
   "cell_type": "markdown",
   "metadata": {},
   "source": [
    "\n",
    "## G vs T vs SN and relax sigma or not?\n",
    "\n",
    "At first, I want to get some insight in which models are appropriate. Only if I find an appropriate model will I look at the actual coeffients of the models. I want to compare hierarchical generalized linear models of different families but also whether relaxing the assumption of constant variance improves the predictions of the model (I assume that if it does not, then should better stay away until I better understand why not). For the latter type of models, the linear equation predicts both, a location parameter $\\mu$ and a scale parameter $\\sigma$.\n",
    "\n",
    "I hope I can later automate more but first I need to get a feeling for how these models behave. So for some genus, I will fit 3 families, and also both distributional ($\\sigma$ is not constant) and the \"regular\" GLMs.\n",
    "\n",
    "## Bilophila et rel\n",
    "This genus has a small range in our dataset and is skewed.\n",
    "\n"
   ]
  },
  {
   "cell_type": "code",
   "execution_count": 22,
   "metadata": {
    "autoscroll": false
   },
   "outputs": [
    {
     "data": {},
     "metadata": {},
     "output_type": "display_data"
    },
    {
     "data": {
      "image/png": "[encoded data removed]",
      "text/plain": [
       "plot without title"
      ]
     },
     "metadata": {},
     "output_type": "display_data"
    }
   ],
   "source": [
    "qplot(data = data, Bilophila_et_rel, geom = \"density\")"
   ]
  },
  {
   "cell_type": "code",
   "execution_count": 23,
   "metadata": {
    "autoscroll": false
   },
   "outputs": [],
   "source": [
    "# set model options for distributional models\n",
    "genus <-\"Bilophila_et_rel\"\n",
    "f_d <- as.formula(glue(\"{genus} ~ 1 + time*cc + (1|subject_id)\"))\n",
    "formula_d <- bf(f_d, sigma ~ 1 + time*cc + (1|subject_id))\n",
    "\n",
    "folder_d <- here(\"models/cc_and_feeding/distributional/\")\n",
    "control <-  list(adapt_delta = 0.9999, max_treedepth = 15)\n",
    "chains <- 4\n",
    "iter <- 3000\n",
    "warmup <- 1000\n",
    "prior_d <- c(\n",
    "            set_prior(\"normal(0, 2)\", class = \"b\"),\n",
    "            set_prior(\"exponential(25)\", class = \"sd\"),\n",
    "            set_prior(\"normal(0, 10)\", class = \"Intercept\"),\n",
    "            set_prior(\"normal(0, 2)\", class = \"b\", dpar = \"sigma\"),\n",
    "            set_prior(\"exponential(25)\", class = \"sd\", dpar = \"sigma\"),\n",
    "            set_prior(\"normal(0, 10)\", class = \"Intercept\", dpar = \"sigma\")\n",
    ")\n",
    "\n",
    "# define fitting functions for distributional models\n",
    "brmd_g <- function() {\n",
    "    # give individual model name for storage\n",
    "    model_file <- glue(\"{folder_d}/gaussian/{genus}_time_cc\")\n",
    "    #fit model\n",
    "    brm(\n",
    "        family = gaussian(), data = data, formula = formula_d,\n",
    "        chains = chains, iter = iter, warmup = warmup,\n",
    "        control = control, prior = prior_d, file = model_file\n",
    "    )\n",
    "}\n",
    "\n",
    "brmd_t <- function() {\n",
    "    # give individual model name for storage\n",
    "    model_file <- glue(\"{folder_d}/t/{genus}_time_cc\")\n",
    "    #fit model\n",
    "    brm(\n",
    "        family = student(), data = data, formula = formula_d,\n",
    "        chains = chains, iter = iter, warmup = warmup,\n",
    "        control = control, prior = prior_d, file = model_file\n",
    "    )\n",
    "}\n",
    "\n",
    "brmd_sn <- function() {\n",
    "    # give individual model name for storage\n",
    "    model_file <- glue(\"{folder_d}/skew_normal/{genus}_time_cc\")\n",
    "    #fit model\n",
    "    brm(\n",
    "        family = skew_normal(), data = data, formula = formula_d,\n",
    "        chains = chains, iter = iter, warmup = warmup,\n",
    "        control = control, prior = prior_d, file = model_file\n",
    "    )\n",
    "}\n",
    "\n",
    "# set model options for constant sigma models\n",
    "genus <-\"Bilophila_et_rel\"\n",
    "f <- as.formula(glue(\"{genus} ~ 1 + time*cc + (1|subject_id)\"))\n",
    "formula <- bf(f)\n",
    "\n",
    "folder <- here(\"models/cc_and_feeding/constant/\")\n",
    "control <-  list(adapt_delta = 0.9999, max_treedepth = 15)\n",
    "prior <- c(\n",
    "            set_prior(\"normal(0, 2)\", class = \"b\"),\n",
    "            set_prior(\"exponential(10)\", class = \"sd\"),\n",
    "            set_prior(\"normal(0, 10)\", class = \"Intercept\")\n",
    ")\n",
    "\n",
    "\n",
    "\n",
    "# define fitting functions for constant models\n",
    "brm_g <- function() {\n",
    "    # give individual model name for storage\n",
    "    model_file <- glue(\"{folder}/gaussian/{genus}_time_cc\")\n",
    "    #fit model\n",
    "    brm(\n",
    "        family = gaussian(), data = data, formula = formula,\n",
    "        chains = chains, iter = iter, warmup = warmup,\n",
    "        control = control, prior = prior, file = model_file\n",
    "    )\n",
    "}\n",
    "\n",
    "brm_t <- function() {\n",
    "    # give individual model name for storage\n",
    "    model_file <- glue(\"{folder}/t/{genus}_time_cc\")\n",
    "    #fit model\n",
    "    brm(\n",
    "        family = student(), data = data, formula = formula,\n",
    "        chains = chains, iter = iter, warmup = warmup,\n",
    "        control = control, prior = prior, file = model_file\n",
    "    )\n",
    "}\n",
    "\n",
    "brm_sn <- function() {\n",
    "    # give individual model name for storage\n",
    "    model_file <- glue(\"{folder}/skew_normal/{genus}_time_cc\")\n",
    "    #fit model\n",
    "    brm(\n",
    "        family = skew_normal(), data = data, formula = formula,\n",
    "        chains = chains, iter = iter, warmup = warmup,\n",
    "        control = control, prior = prior, file = model_file\n",
    "    )\n",
    "}"
   ]
  },
  {
   "cell_type": "code",
   "execution_count": 24,
   "metadata": {
    "autoscroll": false
   },
   "outputs": [
    {
     "name": "stderr",
     "output_type": "stream",
     "text": [
      "Compiling the C++ model\n"
     ]
    },
    {
     "name": "stdout",
     "output_type": "stream",
     "text": [
      "In file included from file35f6708bb838.cpp:8:\n",
      "In file included from /Library/Frameworks/R.framework/Versions/3.5/Resources/library/StanHeaders/include/src/stan/model/model_header.hpp:4:\n",
      "In file included from /Library/Frameworks/R.framework/Versions/3.5/Resources/library/StanHeaders/include/stan/math.hpp:4:\n",
      "In file included from /Library/Frameworks/R.framework/Versions/3.5/Resources/library/StanHeaders/include/stan/math/rev/mat.hpp:4:\n",
      "In file included from /Library/Frameworks/R.framework/Versions/3.5/Resources/library/StanHeaders/include/stan/math/rev/core.hpp:14:\n",
      "In file included from /Library/Frameworks/R.framework/Versions/3.5/Resources/library/StanHeaders/include/stan/math/rev/core/matrix_vari.hpp:4:\n",
      "In file included from /Library/Frameworks/R.framework/Versions/3.5/Resources/library/StanHeaders/include/stan/math/rev/mat/fun/Eigen_NumTraits.hpp:4:\n",
      "In file included from /Library/Frameworks/R.framework/Versions/3.5/Resources/library/StanHeaders/include/stan/math/prim/mat/fun/Eigen.hpp:4:\n",
      "In file included from /Library/Frameworks/R.framework/Versions/3.5/Resources/library/RcppEigen/include/Eigen/Dense:1:\n",
      "In file included from /Library/Frameworks/R.framework/Versions/3.5/Resources/library/RcppEigen/include/Eigen/Core:531:\n",
      "/Library/Frameworks/R.framework/Versions/3.5/Resources/library/RcppEigen/include/Eigen/src/Core/util/ReenableStupidWarnings.h:10:30: warning: pragma diagnostic pop could not pop, no matching push [-Wunknown-pragmas]\n",
      "    #pragma clang diagnostic pop\n",
      "                             ^\n",
      "In file included from file35f6708bb838.cpp:8:\n",
      "In file included from /Library/Frameworks/R.framework/Versions/3.5/Resources/library/StanHeaders/include/src/stan/model/model_header.hpp:4:\n",
      "In file included from /Library/Frameworks/R.framework/Versions/3.5/Resources/library/StanHeaders/include/stan/math.hpp:4:\n",
      "In file included from /Library/Frameworks/R.framework/Versions/3.5/Resources/library/StanHeaders/include/stan/math/rev/mat.hpp:4:\n",
      "In file included from /Library/Frameworks/R.framework/Versions/3.5/Resources/library/StanHeaders/include/stan/math/rev/core.hpp:14:\n",
      "In file included from /Library/Frameworks/R.framework/Versions/3.5/Resources/library/StanHeaders/include/stan/math/rev/core/matrix_vari.hpp:4:\n",
      "In file included from /Library/Frameworks/R.framework/Versions/3.5/Resources/library/StanHeaders/include/stan/math/rev/mat/fun/Eigen_NumTraits.hpp:4:\n",
      "In file included from /Library/Frameworks/R.framework/Versions/3.5/Resources/library/StanHeaders/include/stan/math/prim/mat/fun/Eigen.hpp:4:\n",
      "In file included from /Library/Frameworks/R.framework/Versions/3.5/Resources/library/RcppEigen/include/Eigen/Dense:2:\n",
      "In file included from /Library/Frameworks/R.framework/Versions/3.5/Resources/library/RcppEigen/include/Eigen/LU:47:\n",
      "/Library/Frameworks/R.framework/Versions/3.5/Resources/library/RcppEigen/include/Eigen/src/Core/util/ReenableStupidWarnings.h:10:30: warning: pragma diagnostic pop could not pop, no matching push [-Wunknown-pragmas]\n",
      "    #pragma clang diagnostic pop\n",
      "                             ^\n",
      "In file included from file35f6708bb838.cpp:8:\n",
      "In file included from /Library/Frameworks/R.framework/Versions/3.5/Resources/library/StanHeaders/include/src/stan/model/model_header.hpp:4:\n",
      "In file included from /Library/Frameworks/R.framework/Versions/3.5/Resources/library/StanHeaders/include/stan/math.hpp:4:\n",
      "In file included from /Library/Frameworks/R.framework/Versions/3.5/Resources/library/StanHeaders/include/stan/math/rev/mat.hpp:4:\n",
      "In file included from /Library/Frameworks/R.framework/Versions/3.5/Resources/library/StanHeaders/include/stan/math/rev/core.hpp:14:\n",
      "In file included from /Library/Frameworks/R.framework/Versions/3.5/Resources/library/StanHeaders/include/stan/math/rev/core/matrix_vari.hpp:4:\n",
      "In file included from /Library/Frameworks/R.framework/Versions/3.5/Resources/library/StanHeaders/include/stan/math/rev/mat/fun/Eigen_NumTraits.hpp:4:\n",
      "In file included from /Library/Frameworks/R.framework/Versions/3.5/Resources/library/StanHeaders/include/stan/math/prim/mat/fun/Eigen.hpp:4:\n",
      "In file included from /Library/Frameworks/R.framework/Versions/3.5/Resources/library/RcppEigen/include/Eigen/Dense:3:\n",
      "In file included from /Library/Frameworks/R.framework/Versions/3.5/Resources/library/RcppEigen/include/Eigen/Cholesky:12:\n",
      "In file included from /Library/Frameworks/R.framework/Versions/3.5/Resources/library/RcppEigen/include/Eigen/Jacobi:29:\n",
      "/Library/Frameworks/R.framework/Versions/3.5/Resources/library/RcppEigen/include/Eigen/src/Core/util/ReenableStupidWarnings.h:10:30: warning: pragma diagnostic pop could not pop, no matching push [-Wunknown-pragmas]\n",
      "    #pragma clang diagnostic pop\n",
      "                             ^\n",
      "In file included from file35f6708bb838.cpp:8:\n",
      "In file included from /Library/Frameworks/R.framework/Versions/3.5/Resources/library/StanHeaders/include/src/stan/model/model_header.hpp:4:\n",
      "In file included from /Library/Frameworks/R.framework/Versions/3.5/Resources/library/StanHeaders/include/stan/math.hpp:4:\n",
      "In file included from /Library/Frameworks/R.framework/Versions/3.5/Resources/library/StanHeaders/include/stan/math/rev/mat.hpp:4:\n",
      "In file included from /Library/Frameworks/R.framework/Versions/3.5/Resources/library/StanHeaders/include/stan/math/rev/core.hpp:14:\n",
      "In file included from /Library/Frameworks/R.framework/Versions/3.5/Resources/library/StanHeaders/include/stan/math/rev/core/matrix_vari.hpp:4:\n",
      "In file included from /Library/Frameworks/R.framework/Versions/3.5/Resources/library/StanHeaders/include/stan/math/rev/mat/fun/Eigen_NumTraits.hpp:4:\n",
      "In file included from /Library/Frameworks/R.framework/Versions/3.5/Resources/library/StanHeaders/include/stan/math/prim/mat/fun/Eigen.hpp:4:\n",
      "In file included from /Library/Frameworks/R.framework/Versions/3.5/Resources/library/RcppEigen/include/Eigen/Dense:3:\n",
      "In file included from /Library/Frameworks/R.framework/Versions/3.5/Resources/library/RcppEigen/include/Eigen/Cholesky:43:\n",
      "/Library/Frameworks/R.framework/Versions/3.5/Resources/library/RcppEigen/include/Eigen/src/Core/util/ReenableStupidWarnings.h:10:30: warning: pragma diagnostic pop could not pop, no matching push [-Wunknown-pragmas]\n",
      "    #pragma clang diagnostic pop\n",
      "                             ^\n",
      "In file included from file35f6708bb838.cpp:8:\n",
      "In file included from /Library/Frameworks/R.framework/Versions/3.5/Resources/library/StanHeaders/include/src/stan/model/model_header.hpp:4:\n",
      "In file included from /Library/Frameworks/R.framework/Versions/3.5/Resources/library/StanHeaders/include/stan/math.hpp:4:\n",
      "In file included from /Library/Frameworks/R.framework/Versions/3.5/Resources/library/StanHeaders/include/stan/math/rev/mat.hpp:4:\n",
      "In file included from /Library/Frameworks/R.framework/Versions/3.5/Resources/library/StanHeaders/include/stan/math/rev/core.hpp:14:\n",
      "In file included from /Library/Frameworks/R.framework/Versions/3.5/Resources/library/StanHeaders/include/stan/math/rev/core/matrix_vari.hpp:4:\n",
      "In file included from /Library/Frameworks/R.framework/Versions/3.5/Resources/library/StanHeaders/include/stan/math/rev/mat/fun/Eigen_NumTraits.hpp:4:\n",
      "In file included from /Library/Frameworks/R.framework/Versions/3.5/Resources/library/StanHeaders/include/stan/math/prim/mat/fun/Eigen.hpp:4:\n",
      "In file included from /Library/Frameworks/R.framework/Versions/3.5/Resources/library/RcppEigen/include/Eigen/Dense:4:\n",
      "In file included from /Library/Frameworks/R.framework/Versions/3.5/Resources/library/RcppEigen/include/Eigen/QR:17:\n",
      "In file included from /Library/Frameworks/R.framework/Versions/3.5/Resources/library/RcppEigen/include/Eigen/Householder:27:\n",
      "/Library/Frameworks/R.framework/Versions/3.5/Resources/library/RcppEigen/include/Eigen/src/Core/util/ReenableStupidWarnings.h:10:30: warning: pragma diagnostic pop could not pop, no matching push [-Wunknown-pragmas]\n",
      "    #pragma clang diagnostic pop\n",
      "                             ^\n",
      "In file included from file35f6708bb838.cpp:8:\n",
      "In file included from /Library/Frameworks/R.framework/Versions/3.5/Resources/library/StanHeaders/include/src/stan/model/model_header.hpp:4:\n",
      "In file included from /Library/Frameworks/R.framework/Versions/3.5/Resources/library/StanHeaders/include/stan/math.hpp:4:\n",
      "In file included from /Library/Frameworks/R.framework/Versions/3.5/Resources/library/StanHeaders/include/stan/math/rev/mat.hpp:4:\n",
      "In file included from /Library/Frameworks/R.framework/Versions/3.5/Resources/library/StanHeaders/include/stan/math/rev/core.hpp:14:\n",
      "In file included from /Library/Frameworks/R.framework/Versions/3.5/Resources/library/StanHeaders/include/stan/math/rev/core/matrix_vari.hpp:4:\n",
      "In file included from /Library/Frameworks/R.framework/Versions/3.5/Resources/library/StanHeaders/include/stan/math/rev/mat/fun/Eigen_NumTraits.hpp:4:\n",
      "In file included from /Library/Frameworks/R.framework/Versions/3.5/Resources/library/StanHeaders/include/stan/math/prim/mat/fun/Eigen.hpp:4:\n",
      "In file included from /Library/Frameworks/R.framework/Versions/3.5/Resources/library/RcppEigen/include/Eigen/Dense:5:\n",
      "In file included from /Library/Frameworks/R.framework/Versions/3.5/Resources/library/RcppEigen/include/Eigen/SVD:48:\n",
      "/Library/Frameworks/R.framework/Versions/3.5/Resources/library/RcppEigen/include/Eigen/src/Core/util/ReenableStupidWarnings.h:10:30: warning: pragma diagnostic pop could not pop, no matching push [-Wunknown-pragmas]\n",
      "    #pragma clang diagnostic pop\n",
      "                             ^\n",
      "In file included from file35f6708bb838.cpp:8:\n",
      "In file included from /Library/Frameworks/R.framework/Versions/3.5/Resources/library/StanHeaders/include/src/stan/model/model_header.hpp:4:\n",
      "In file included from /Library/Frameworks/R.framework/Versions/3.5/Resources/library/StanHeaders/include/stan/math.hpp:4:\n",
      "In file included from /Library/Frameworks/R.framework/Versions/3.5/Resources/library/StanHeaders/include/stan/math/rev/mat.hpp:4:\n",
      "In file included from /Library/Frameworks/R.framework/Versions/3.5/Resources/library/StanHeaders/include/stan/math/rev/core.hpp:14:\n",
      "In file included from /Library/Frameworks/R.framework/Versions/3.5/Resources/library/StanHeaders/include/stan/math/rev/core/matrix_vari.hpp:4:\n",
      "In file included from /Library/Frameworks/R.framework/Versions/3.5/Resources/library/StanHeaders/include/stan/math/rev/mat/fun/Eigen_NumTraits.hpp:4:\n",
      "In file included from /Library/Frameworks/R.framework/Versions/3.5/Resources/library/StanHeaders/include/stan/math/prim/mat/fun/Eigen.hpp:4:\n",
      "In file included from /Library/Frameworks/R.framework/Versions/3.5/Resources/library/RcppEigen/include/Eigen/Dense:6:\n",
      "In file included from /Library/Frameworks/R.framework/Versions/3.5/Resources/library/RcppEigen/include/Eigen/Geometry:58:\n",
      "/Library/Frameworks/R.framework/Versions/3.5/Resources/library/RcppEigen/include/Eigen/src/Core/util/ReenableStupidWarnings.h:10:30: warning: pragma diagnostic pop could not pop, no matching push [-Wunknown-pragmas]\n",
      "    #pragma clang diagnostic pop\n",
      "                             ^\n",
      "In file included from file35f6708bb838.cpp:8:\n",
      "In file included from /Library/Frameworks/R.framework/Versions/3.5/Resources/library/StanHeaders/include/src/stan/model/model_header.hpp:4:\n",
      "In file included from /Library/Frameworks/R.framework/Versions/3.5/Resources/library/StanHeaders/include/stan/math.hpp:4:\n",
      "In file included from /Library/Frameworks/R.framework/Versions/3.5/Resources/library/StanHeaders/include/stan/math/rev/mat.hpp:4:\n",
      "In file included from /Library/Frameworks/R.framework/Versions/3.5/Resources/library/StanHeaders/include/stan/math/rev/core.hpp:14:\n",
      "In file included from /Library/Frameworks/R.framework/Versions/3.5/Resources/library/StanHeaders/include/stan/math/rev/core/matrix_vari.hpp:4:\n",
      "In file included from /Library/Frameworks/R.framework/Versions/3.5/Resources/library/StanHeaders/include/stan/math/rev/mat/fun/Eigen_NumTraits.hpp:4:\n",
      "In file included from /Library/Frameworks/R.framework/Versions/3.5/Resources/library/StanHeaders/include/stan/math/prim/mat/fun/Eigen.hpp:4:\n",
      "In file included from /Library/Frameworks/R.framework/Versions/3.5/Resources/library/RcppEigen/include/Eigen/Dense:7:\n",
      "In file included from /Library/Frameworks/R.framework/Versions/3.5/Resources/library/RcppEigen/include/Eigen/Eigenvalues:58:\n",
      "/Library/Frameworks/R.framework/Versions/3.5/Resources/library/RcppEigen/include/Eigen/src/Core/util/ReenableStupidWarnings.h:10:30: warning: pragma diagnostic pop could not pop, no matching push [-Wunknown-pragmas]\n",
      "    #pragma clang diagnostic pop\n",
      "                             ^\n",
      "In file included from file35f6708bb838.cpp:8:\n",
      "In file included from /Library/Frameworks/R.framework/Versions/3.5/Resources/library/StanHeaders/include/src/stan/model/model_header.hpp:4:\n",
      "In file included from /Library/Frameworks/R.framework/Versions/3.5/Resources/library/StanHeaders/include/stan/math.hpp:4:\n",
      "In file included from /Library/Frameworks/R.framework/Versions/3.5/Resources/library/StanHeaders/include/stan/math/rev/mat.hpp:12:\n",
      "In file included from /Library/Frameworks/R.framework/Versions/3.5/Resources/library/StanHeaders/include/stan/math/prim/mat.hpp:96:\n",
      "In file included from /Library/Frameworks/R.framework/Versions/3.5/Resources/library/StanHeaders/include/stan/math/prim/mat/fun/csr_extract_u.hpp:6:\n",
      "In file included from /Library/Frameworks/R.framework/Versions/3.5/Resources/library/RcppEigen/include/Eigen/Sparse:26:\n",
      "In file included from /Library/Frameworks/R.framework/Versions/3.5/Resources/library/RcppEigen/include/Eigen/SparseCore:66:\n",
      "/Library/Frameworks/R.framework/Versions/3.5/Resources/library/RcppEigen/include/Eigen/src/Core/util/ReenableStupidWarnings.h:10:30: warning: pragma diagnostic pop could not pop, no matching push [-Wunknown-pragmas]\n",
      "    #pragma clang diagnostic pop\n",
      "                             ^\n",
      "In file included from file35f6708bb838.cpp:8:\n",
      "In file included from /Library/Frameworks/R.framework/Versions/3.5/Resources/library/StanHeaders/include/src/stan/model/model_header.hpp:4:\n",
      "In file included from /Library/Frameworks/R.framework/Versions/3.5/Resources/library/StanHeaders/include/stan/math.hpp:4:\n",
      "In file included from /Library/Frameworks/R.framework/Versions/3.5/Resources/library/StanHeaders/include/stan/math/rev/mat.hpp:12:\n",
      "In file included from /Library/Frameworks/R.framework/Versions/3.5/Resources/library/StanHeaders/include/stan/math/prim/mat.hpp:96:\n",
      "In file included from /Library/Frameworks/R.framework/Versions/3.5/Resources/library/StanHeaders/include/stan/math/prim/mat/fun/csr_extract_u.hpp:6:\n",
      "In file included from /Library/Frameworks/R.framework/Versions/3.5/Resources/library/RcppEigen/include/Eigen/Sparse:27:\n",
      "In file included from /Library/Frameworks/R.framework/Versions/3.5/Resources/library/RcppEigen/include/Eigen/OrderingMethods:71:\n",
      "/Library/Frameworks/R.framework/Versions/3.5/Resources/library/RcppEigen/include/Eigen/src/Core/util/ReenableStupidWarnings.h:10:30: warning: pragma diagnostic pop could not pop, no matching push [-Wunknown-pragmas]\n",
      "    #pragma clang diagnostic pop\n",
      "                             ^\n",
      "In file included from file35f6708bb838.cpp:8:\n",
      "In file included from /Library/Frameworks/R.framework/Versions/3.5/Resources/library/StanHeaders/include/src/stan/model/model_header.hpp:4:\n",
      "In file included from /Library/Frameworks/R.framework/Versions/3.5/Resources/library/StanHeaders/include/stan/math.hpp:4:\n",
      "In file included from /Library/Frameworks/R.framework/Versions/3.5/Resources/library/StanHeaders/include/stan/math/rev/mat.hpp:12:\n",
      "In file included from /Library/Frameworks/R.framework/Versions/3.5/Resources/library/StanHeaders/include/stan/math/prim/mat.hpp:96:\n",
      "In file included from /Library/Frameworks/R.framework/Versions/3.5/Resources/library/StanHeaders/include/stan/math/prim/mat/fun/csr_extract_u.hpp:6:\n",
      "In file included from /Library/Frameworks/R.framework/Versions/3.5/Resources/library/RcppEigen/include/Eigen/Sparse:29:\n",
      "In file included from /Library/Frameworks/R.framework/Versions/3.5/Resources/library/RcppEigen/include/Eigen/SparseCholesky:43:\n",
      "/Library/Frameworks/R.framework/Versions/3.5/Resources/library/RcppEigen/include/Eigen/src/Core/util/ReenableStupidWarnings.h:10:30: warning: pragma diagnostic pop could not pop, no matching push [-Wunknown-pragmas]\n",
      "    #pragma clang diagnostic pop\n",
      "                             ^\n",
      "In file included from file35f6708bb838.cpp:8:\n",
      "In file included from /Library/Frameworks/R.framework/Versions/3.5/Resources/library/StanHeaders/include/src/stan/model/model_header.hpp:4:\n",
      "In file included from /Library/Frameworks/R.framework/Versions/3.5/Resources/library/StanHeaders/include/stan/math.hpp:4:\n",
      "In file included from /Library/Frameworks/R.framework/Versions/3.5/Resources/library/StanHeaders/include/stan/math/rev/mat.hpp:12:\n",
      "In file included from /Library/Frameworks/R.framework/Versions/3.5/Resources/library/StanHeaders/include/stan/math/prim/mat.hpp:96:\n",
      "In file included from /Library/Frameworks/R.framework/Versions/3.5/Resources/library/StanHeaders/include/stan/math/prim/mat/fun/csr_extract_u.hpp:6:\n",
      "In file included from /Library/Frameworks/R.framework/Versions/3.5/Resources/library/RcppEigen/include/Eigen/Sparse:32:\n",
      "In file included from /Library/Frameworks/R.framework/Versions/3.5/Resources/library/RcppEigen/include/Eigen/SparseQR:35:\n",
      "/Library/Frameworks/R.framework/Versions/3.5/Resources/library/RcppEigen/include/Eigen/src/Core/util/ReenableStupidWarnings.h:10:30: warning: pragma diagnostic pop could not pop, no matching push [-Wunknown-pragmas]\n",
      "    #pragma clang diagnostic pop\n",
      "                             ^\n",
      "In file included from file35f6708bb838.cpp:8:\n",
      "In file included from /Library/Frameworks/R.framework/Versions/3.5/Resources/library/StanHeaders/include/src/stan/model/model_header.hpp:4:\n",
      "In file included from /Library/Frameworks/R.framework/Versions/3.5/Resources/library/StanHeaders/include/stan/math.hpp:4:\n",
      "In file included from /Library/Frameworks/R.framework/Versions/3.5/Resources/library/StanHeaders/include/stan/math/rev/mat.hpp:12:\n",
      "In file included from /Library/Frameworks/R.framework/Versions/3.5/Resources/library/StanHeaders/include/stan/math/prim/mat.hpp:96:\n",
      "In file included from /Library/Frameworks/R.framework/Versions/3.5/Resources/library/StanHeaders/include/stan/math/prim/mat/fun/csr_extract_u.hpp:6:\n",
      "In file included from /Library/Frameworks/R.framework/Versions/3.5/Resources/library/RcppEigen/include/Eigen/Sparse:33:\n",
      "In file included from /Library/Frameworks/R.framework/Versions/3.5/Resources/library/RcppEigen/include/Eigen/IterativeLinearSolvers:46:\n",
      "/Library/Frameworks/R.framework/Versions/3.5/Resources/library/RcppEigen/include/Eigen/src/Core/util/ReenableStupidWarnings.h:10:30: warning: pragma diagnostic pop could not pop, no matching push [-Wunknown-pragmas]\n",
      "    #pragma clang diagnostic pop\n",
      "                             ^\n",
      "In file included from file35f6708bb838.cpp:8:\n",
      "In file included from /Library/Frameworks/R.framework/Versions/3.5/Resources/library/StanHeaders/include/src/stan/model/model_header.hpp:4:\n",
      "In file included from /Library/Frameworks/R.framework/Versions/3.5/Resources/library/StanHeaders/include/stan/math.hpp:4:\n",
      "In file included from /Library/Frameworks/R.framework/Versions/3.5/Resources/library/StanHeaders/include/stan/math/rev/mat.hpp:4:\n",
      "In file included from /Library/Frameworks/R.framework/Versions/3.5/Resources/library/StanHeaders/include/stan/math/rev/core.hpp:44:\n",
      "/Library/Frameworks/R.framework/Versions/3.5/Resources/library/StanHeaders/include/stan/math/rev/core/set_zero_all_adjoints.hpp:14:13: warning: unused function 'set_zero_all_adjoints' [-Wunused-function]\n",
      "static void set_zero_all_adjoints() {\n",
      "            ^\n",
      "In file included from file35f6708bb838.cpp:8:\n",
      "In file included from /Library/Frameworks/R.framework/Versions/3.5/Resources/library/StanHeaders/include/src/stan/model/model_header.hpp:4:\n",
      "In file included from /Library/Frameworks/R.framework/Versions/3.5/Resources/library/StanHeaders/include/stan/math.hpp:4:\n",
      "In file included from /Library/Frameworks/R.framework/Versions/3.5/Resources/library/StanHeaders/include/stan/math/rev/mat.hpp:12:\n",
      "In file included from /Library/Frameworks/R.framework/Versions/3.5/Resources/library/StanHeaders/include/stan/math/prim/mat.hpp:70:\n",
      "/Library/Frameworks/R.framework/Versions/3.5/Resources/library/StanHeaders/include/stan/math/prim/mat/fun/autocorrelation.hpp:18:8: warning: function 'fft_next_good_size' is not needed and will not be emitted [-Wunneeded-internal-declaration]\n",
      "size_t fft_next_good_size(size_t N) {\n",
      "       ^\n",
      "15 warnings generated.\n",
      "ld: warning: text-based stub file /System/Library/Frameworks//CoreFoundation.framework/CoreFoundation.tbd and library file /System/Library/Frameworks//CoreFoundation.framework/CoreFoundation are out of sync. Falling back to library file for linking.\n"
     ]
    },
    {
     "name": "stderr",
     "output_type": "stream",
     "text": [
      "Start sampling\n",
      "Warning message in gzfile(file, mode):\n",
      "“cannot open compressed file '/Users/henrikeckermann/workspace/research_master/minor_research_project/article/analyses/bibo/models/cc_and_feeding/distributional//gaussian/Bilophila_et_rel_time_cc.rds', probable reason 'No such file or directory'”"
     ]
    },
    {
     "ename": "ERROR",
     "evalue": "Error in gzfile(file, mode): cannot open the connection\n",
     "output_type": "error",
     "traceback": [
      "Error in gzfile(file, mode): cannot open the connection\nTraceback:\n",
      "1. brmd_g()",
      "2. brm(family = gaussian(), data = data, formula = formula_d, chains = chains, \n .     iter = iter, warmup = warmup, control = control, prior = prior_d, \n .     file = model_file)   # at line 25-29 of file <text>",
      "3. saveRDS(x, file = file)",
      "4. gzfile(file, mode)"
     ]
    }
   ],
   "source": [
    "cc_time_dg <- brmd_g()"
   ]
  },
  {
   "cell_type": "code",
   "execution_count": null,
   "metadata": {
    "autoscroll": false
   },
   "outputs": [],
   "source": [
    "cc_time_dt <- brmd_t()"
   ]
  },
  {
   "cell_type": "code",
   "execution_count": null,
   "metadata": {
    "autoscroll": false
   },
   "outputs": [],
   "source": [
    "cc_time_dsn <- brmd_sn()"
   ]
  },
  {
   "cell_type": "markdown",
   "metadata": {},
   "source": [
    "\n",
    "**Thoughts:**\n",
    "- I need to put a quite strong prior on the sd parameter, especially for the  t an gaussian models. Thus, the model is very sceptical of high variation there.\n",
    "- I would only know how to automate if I put strong priors also on the others models that would also fit without warning with less regularizing priors. I could try to see if the estimates differ for skew normal if I put stronger priors there as well (edit: the estimates were not impacted)\n",
    "\n"
   ]
  },
  {
   "cell_type": "code",
   "execution_count": null,
   "metadata": {
    "autoscroll": false,
    "scrolled": false
   },
   "outputs": [],
   "source": [
    "source(here(\"R/bayesian_helper.R\"))\n",
    "# We can check visually how well the model predicts outcomes\n",
    "# using the same predictors as in our training data.\n",
    "model_list <- list(cc_time_dg, cc_time_dt, cc_time_dsn)\n",
    "inspect_d <- \n",
    "    lapply(model_list, function(x) {\n",
    "        pp_plot_v2(x, 10, genus, lower = 0.01, upper = 0)\n",
    "    })\n",
    "inspect_d2 <- \n",
    "    lapply(model_list, function(x) {\n",
    "        pp_plot(x, 10, genus, lower = 0.01, upper = 0)\n",
    "    })"
   ]
  },
  {
   "cell_type": "markdown",
   "metadata": {},
   "source": [
    "\n",
    "According to the pp_checks, the skew_normal family can reproduce the data very nicely. I understand it like this: All models have to increase sigma to capture the outliers to the right compared to outcome distribution that was closer to a gaussian distribution. But for the symmetric models, this leads to outliers to the left as well, which we do not see in our real data. If there was a linear combitation of predictors that could be able to explain mean and variance of those outliers that problem would disappear. The student t model did not converge without a warning with the prior I tested. Therefore; I will ignore the coefficients for that model. Before I will interpret this model, I want model another genus that has a higher range in the distribution.\n",
    "\n"
   ]
  },
  {
   "cell_type": "code",
   "execution_count": null,
   "metadata": {
    "autoscroll": false
   },
   "outputs": [],
   "source": [
    "lapply(model_list, function(model){\n",
    "    broom::tidy(model)[1:10,]\n",
    "    })"
   ]
  },
  {
   "cell_type": "code",
   "execution_count": null,
   "metadata": {},
   "outputs": [],
   "source": [
    "cc_time_g <- brm_g()\n",
    "cc_time_t <- brm_t()\n",
    "cc_time_sn <- brm_sn()"
   ]
  },
  {
   "cell_type": "code",
   "execution_count": null,
   "metadata": {
    "scrolled": false
   },
   "outputs": [],
   "source": [
    "model_list <- list(cc_time_g, cc_time_t, cc_time_sn)\n",
    "inspect_c <- \n",
    "    lapply(model_list, function(x) {\n",
    "        pp_plot_v2(x, 10, genus, lower = 0.01, upper = 0)\n",
    "    })\n",
    "inspect_c2 <- \n",
    "    lapply(model_list, function(x) {\n",
    "        pp_plot(x, 10, genus, lower = 0.01, upper = 0)\n",
    "    })"
   ]
  },
  {
   "cell_type": "code",
   "execution_count": null,
   "metadata": {},
   "outputs": [],
   "source": [
    "# take a closer look at the ppchecks of the best models constant sigma\n",
    "# vs modelled sigma. I found that it can be helpful to inspect both violin\n",
    "# and the density plots...\n",
    "inspect_c2[[3]]\n",
    "inspect_d2[[3]]"
   ]
  },
  {
   "cell_type": "code",
   "execution_count": null,
   "metadata": {},
   "outputs": [],
   "source": [
    "lapply(model_list, function(model){\n",
    "    broom::tidy(model)[1:10,]\n",
    "    })"
   ]
  },
  {
   "cell_type": "markdown",
   "metadata": {},
   "source": [
    "The constant sigma model does not appear to be any worse if I only look at the predictive check. I miss other criteria to decide, which one then should be preferred for inference."
   ]
  },
  {
   "cell_type": "markdown",
   "metadata": {},
   "source": [
    "\n",
    "## Enterococcus\n",
    "Again the distribution is skewed. If our predictors do not explain distribution, we get similar issues as with Bilophila.\n",
    "\n"
   ]
  },
  {
   "cell_type": "code",
   "execution_count": null,
   "metadata": {
    "autoscroll": false
   },
   "outputs": [],
   "source": [
    "qplot(data = data, Enterococcus, geom = \"density\")"
   ]
  },
  {
   "cell_type": "code",
   "execution_count": null,
   "metadata": {
    "autoscroll": false
   },
   "outputs": [],
   "source": [
    "# set model options distributional\n",
    "genus <- \"Enterococcus\"\n",
    "f_d <- as.formula(glue(\"{genus} ~ 1 + time*cc + (1|subject_id)\"))\n",
    "formula_d <- bf(f_d, sigma ~ 1 + time*cc + (1|subject_id))\n",
    "prior_d <- c(\n",
    "            set_prior(\"normal(0, 1)\", class = \"b\"),\n",
    "            set_prior(\"exponential(15)\", class = \"sd\"),\n",
    "            set_prior(\"normal(0, 5)\", class = \"Intercept\"),\n",
    "            set_prior(\"normal(0, 1)\", class = \"b\", dpar = \"sigma\"),\n",
    "            set_prior(\"exponential(15)\", class = \"sd\", dpar = \"sigma\"),\n",
    "            set_prior(\"normal(0, 5)\", class = \"Intercept\", dpar = \"sigma\")\n",
    ")\n",
    "\n",
    "# set model options constant\n",
    "f <- as.formula(glue(\"{genus} ~ 1 + time*cc + (1|subject_id)\"))\n",
    "formula <- bf(f)\n",
    "prior <- c(\n",
    "            set_prior(\"normal(0, 2)\", class = \"b\"),\n",
    "            set_prior(\"exponential(25)\", class = \"sd\"),\n",
    "            set_prior(\"normal(0, 10)\", class = \"Intercept\")\n",
    ")"
   ]
  },
  {
   "cell_type": "code",
   "execution_count": null,
   "metadata": {
    "autoscroll": false
   },
   "outputs": [],
   "source": [
    "cc_time_dg <- brmd_g()"
   ]
  },
  {
   "cell_type": "code",
   "execution_count": null,
   "metadata": {
    "autoscroll": false
   },
   "outputs": [],
   "source": [
    "cc_time_dt <- brmd_t()"
   ]
  },
  {
   "cell_type": "code",
   "execution_count": null,
   "metadata": {
    "autoscroll": false
   },
   "outputs": [],
   "source": [
    "cc_time_dsn <- brmd_sn()"
   ]
  },
  {
   "cell_type": "markdown",
   "metadata": {},
   "source": [
    "\n",
    "As wen can see: Even starting with weaker priors, we can fit all models.\n",
    "\n"
   ]
  },
  {
   "cell_type": "code",
   "execution_count": null,
   "metadata": {
    "autoscroll": false,
    "scrolled": false
   },
   "outputs": [],
   "source": [
    "# We can check visually how well the model predicts outcomes\n",
    "# using the same predictors as in our training data.\n",
    "model_list <- list(cc_time_dg, cc_time_dt, cc_time_dsn)\n",
    "inspect_d <- \n",
    "    lapply(model_list, function(x) {\n",
    "        pp_plot_v2(x, 10, genus, lower = 0.01, upper = 0)\n",
    "    })\n",
    "inspect_d2 <- \n",
    "    lapply(model_list, function(x) {\n",
    "        pp_plot(x, 10, genus, lower = 0.01, upper = 0)\n",
    "    })"
   ]
  },
  {
   "cell_type": "markdown",
   "metadata": {},
   "source": [
    "\n",
    "Again, the skew normal seems most appropriate because it avoids predicting as many outliers to the left whereas all models predict outliers to the right. The coefficients indicate that the predictors can explain some of the distribution of Enterococcus although the effects appear to be smallest in the model that best could reproduce the data. I am not really happy with any of the models because of the outliers to the right. After showing the coefficients below I will fit one more genus before I start adding bf_ratio as a predictor...\n",
    "\n"
   ]
  },
  {
   "cell_type": "code",
   "execution_count": null,
   "metadata": {
    "autoscroll": false
   },
   "outputs": [],
   "source": [
    "lapply(model_list, function(model){\n",
    "    broom::tidy(model)[1:10,]\n",
    "    })"
   ]
  },
  {
   "cell_type": "code",
   "execution_count": null,
   "metadata": {},
   "outputs": [],
   "source": [
    "cc_time_g <- brm_g()\n",
    "cc_time_t <- brm_t()\n",
    "cc_time_sn <- brm_sn()"
   ]
  },
  {
   "cell_type": "code",
   "execution_count": null,
   "metadata": {
    "scrolled": false
   },
   "outputs": [],
   "source": [
    "model_list <- list(cc_time_g, cc_time_t, cc_time_sn)\n",
    "inspect_c <- \n",
    "    lapply(model_list, function(x) {\n",
    "        pp_plot_v2(x, 10, genus, lower = 0.01, upper = 0)\n",
    "    })\n",
    "inspect_c2 <- \n",
    "    lapply(model_list, function(x) {\n",
    "        pp_plot(x, 10, genus, lower = 0.01, upper = 0)\n",
    "    })"
   ]
  },
  {
   "cell_type": "code",
   "execution_count": null,
   "metadata": {
    "scrolled": false
   },
   "outputs": [],
   "source": [
    "inspect_c[[3]]\n",
    "inspect_d[[3]] + facet_wrap(~)"
   ]
  },
  {
   "cell_type": "code",
   "execution_count": null,
   "metadata": {},
   "outputs": [],
   "source": [
    "lapply(model_list, function(model){\n",
    "    broom::tidy(model)[1:10,]\n",
    "    })"
   ]
  },
  {
   "cell_type": "markdown",
   "metadata": {},
   "source": [
    "## Example contrasts\n",
    "\n",
    "Since the contrast setting here is *contr.treatment* and the reference groups are pre (time) and noCC (cc), we can answer the question about whether the groups differ from each other as in the next cell. In the plots I compare the $\\mu$ against the mean of *Enterococcus* abundance in all samples. This might be misleading however given the skew of the raw data. However, the differences should be informative instead. There, the dashed line represents 0."
   ]
  },
  {
   "cell_type": "code",
   "execution_count": null,
   "metadata": {
    "scrolled": false
   },
   "outputs": [],
   "source": [
    "mus_and_sigmas <- \n",
    "    cc_time_dsn %>% \n",
    "        as.tibble() %>% \n",
    "        mutate(\n",
    "            mu_nocc_pre = b_Intercept,\n",
    "            mu_nocc_post = b_Intercept + b_timepost,\n",
    "            mu_cc_pre = b_Intercept + b_ccyes,\n",
    "            mu_cc_post = b_Intercept + b_ccyes + b_timepost.ccyes,\n",
    "            sigma_nocc_pre = exp(b_sigma_Intercept),\n",
    "            sigma_nocc_post = exp(b_sigma_Intercept + b_sigma_timepost),\n",
    "            sigma_cc_pre = exp(b_sigma_Intercept + b_sigma_ccyes),\n",
    "            sigma_cc_post = exp(b_sigma_Intercept + b_sigma_ccyes + b_sigma_timepost.ccyes),\n",
    "        ) %>% select(c(209:216))\n",
    "\n",
    "\n",
    "mus_and_sigmas %>% select(contains(\"mu\")) %>% gather(estimate, value) %>%\n",
    "    ggplot(aes(value)) +\n",
    "    geom_density() +\n",
    "    geom_vline(xintercept = mean(data$Enterococcus), linetype = \"dashed\") +\n",
    "    facet_wrap(~estimate)\n",
    "                          \n",
    "mus_and_sigmas %>% select(contains(\"sigma\")) %>% gather(estimate, value) %>%\n",
    "    ggplot(aes(value)) +\n",
    "    geom_density() +\n",
    "    geom_vline(xintercept = sd(data$Enterococcus), linetype = \"dashed\") +\n",
    "    facet_wrap(~estimate)\n",
    "\n",
    "\n",
    "diffs <- \n",
    "    mus_and_sigmas %>% \n",
    "        mutate(mu_cc_vs_nocc_pre = mu_nocc_pre - mu_cc_pre,\n",
    "               mu_cc_post_vs_nocc_post = mu_nocc_post - mu_cc_post,\n",
    "               mu_cc_pre_vs_cc_post = mu_cc_pre - mu_cc_post,\n",
    "               mu_nocc_pre_vs_nocc_post = mu_nocc_pre - mu_nocc_post,\n",
    "               sigma_cc_vs_nocc_pre = (sigma_nocc_pre - sigma_cc_pre),\n",
    "               sigma_cc_post_vs_nocc_post = (sigma_nocc_post - sigma_cc_post),\n",
    "               sigma_cc_pre_vs_cc_post = (sigma_cc_pre - sigma_cc_post),\n",
    "               sigma_nocc_pre_vs_nocc_post = (sigma_nocc_pre - sigma_nocc_post)\n",
    "              ) %>% select(c(9:16))  \n",
    "\n",
    "diffs %>%\n",
    "    gather(comparison, value) %>%\n",
    "    ggplot(aes(value)) +\n",
    "    geom_density() +\n",
    "    geom_vline(xintercept = 0, linetype = \"dashed\") +\n",
    "    facet_wrap(~comparison)"
   ]
  },
  {
   "cell_type": "code",
   "execution_count": null,
   "metadata": {},
   "outputs": [],
   "source": [
    "diffs %>% \n",
    "    gather(comparison, value) %>%\n",
    "    group_by(comparison) %>%\n",
    "    do(data.frame(\n",
    "        mean = mean(.$value),\n",
    "        lower = hpdi(.$value, prob = 0.95)[1],\n",
    "        upper = hpdi(.$value, prob = 0.95)[2]\n",
    "    ))\n",
    "    "
   ]
  },
  {
   "cell_type": "markdown",
   "metadata": {},
   "source": [
    "\n",
    "## Bifidobacterium\n",
    "This is the most abundant genus in the dataset as expected. Previous models I saw showed that predictors did not explain anything. I don't expect something else now but still want to try to fit a more appropriate model than before. With predictors that can explain this, it will be difficult to models with the tools I have.\n",
    "\n"
   ]
  },
  {
   "cell_type": "code",
   "execution_count": null,
   "metadata": {},
   "outputs": [],
   "source": [
    "log10(7)"
   ]
  },
  {
   "cell_type": "code",
   "execution_count": null,
   "metadata": {
    "autoscroll": false
   },
   "outputs": [],
   "source": [
    "qplot(data = data, Bifidobacterium, geom = \"density\")"
   ]
  },
  {
   "cell_type": "code",
   "execution_count": null,
   "metadata": {
    "autoscroll": false
   },
   "outputs": [],
   "source": [
    "# set model options distributional\n",
    "genus <- \"Bifidobacterium\"\n",
    "f_d <- as.formula(glue(\"{genus} ~ 1 + time*cc + (1|subject_id)\"))\n",
    "formula_d <- bf(f_d, sigma ~ 1 + time*cc + (1|subject_id))\n",
    "prior_d <- c(\n",
    "            set_prior(\"normal(0, 3)\", class = \"b\"),\n",
    "            set_prior(\"exponential(35)\", class = \"sd\"),\n",
    "            set_prior(\"normal(0, 10)\", class = \"Intercept\"),\n",
    "            set_prior(\"normal(0, 3)\", class = \"b\", dpar = \"sigma\"),\n",
    "            set_prior(\"exponential(40)\", class = \"sd\", dpar = \"sigma\"),\n",
    "            set_prior(\"normal(0, 10)\", class = \"Intercept\", dpar = \"sigma\")\n",
    ")\n",
    "\n",
    "# set model options constant\n",
    "f <- as.formula(glue(\"{genus} ~ 1 + time*cc + (1|subject_id)\"))\n",
    "formula <- bf(f)\n",
    "prior <- c(\n",
    "            set_prior(\"normal(0, 3)\", class = \"b\"),\n",
    "            set_prior(\"exponential(35)\", class = \"sd\"),\n",
    "            set_prior(\"normal(0, 10)\", class = \"Intercept\")\n",
    ")"
   ]
  },
  {
   "cell_type": "code",
   "execution_count": null,
   "metadata": {
    "autoscroll": false
   },
   "outputs": [],
   "source": [
    "cc_time_dg <- brmd_g()"
   ]
  },
  {
   "cell_type": "code",
   "execution_count": null,
   "metadata": {
    "autoscroll": false
   },
   "outputs": [],
   "source": [
    "cc_time_dt <- brmd_t()"
   ]
  },
  {
   "cell_type": "code",
   "execution_count": null,
   "metadata": {
    "autoscroll": false
   },
   "outputs": [],
   "source": [
    "cc_time_dsn <- brmd_sn()"
   ]
  },
  {
   "cell_type": "code",
   "execution_count": null,
   "metadata": {
    "autoscroll": false,
    "scrolled": false
   },
   "outputs": [],
   "source": [
    "source(here(\"R/bayesian_helper.R\"))\n",
    "# We can check visually how well the model predicts outcomes\n",
    "# using the same predictors as in our training data.\n",
    "model_list <- list(cc_time_dg, cc_time_dt, cc_time_dsn)\n",
    "inspect_d <- \n",
    "    lapply(model_list, function(x) {\n",
    "        pp_plot_v2(x, 10, genus, lower = 0.01, upper = 0)\n",
    "    })\n",
    "inspect_d2 <- \n",
    "    lapply(model_list, function(x) {\n",
    "        pp_plot(x, 10, genus, lower = 0.01, upper = 0)\n",
    "    })"
   ]
  },
  {
   "cell_type": "markdown",
   "metadata": {},
   "source": [
    "\n",
    "As expected, the models are all crap as far as I can tell. They predict to high and too low abundance  and the reason will be that the predictors cannot explain the bimodal distribution. The student t model converged easiest but look at the extreme outlier it can produce (you need to set upper and lower at 6 to see it. Maybe the non-distrubtional model (with fixed sigma) will even do a better job here?! I want to test this once...If there is a setting how to make the skew normal model work I would consider it ok but the predictors are just no explaining enought of the bimodal distribution...\n",
    "\n"
   ]
  },
  {
   "cell_type": "code",
   "execution_count": null,
   "metadata": {
    "autoscroll": false
   },
   "outputs": [],
   "source": [
    "lapply(model_list, function(model){\n",
    "    broom::tidy(model)[1:10,]\n",
    "    })"
   ]
  },
  {
   "cell_type": "code",
   "execution_count": null,
   "metadata": {
    "autoscroll": false
   },
   "outputs": [],
   "source": [
    "cc_time_g <- brm_g()\n",
    "cc_time_t <- brm_t()\n",
    "cc_time_sn <- brm_sn()"
   ]
  },
  {
   "cell_type": "code",
   "execution_count": null,
   "metadata": {
    "autoscroll": false,
    "scrolled": false
   },
   "outputs": [],
   "source": [
    "model_list <- list(cc_time_g, cc_time_t, cc_time_sn)\n",
    "inspect_c <- \n",
    "    lapply(model_list, function(x) {\n",
    "        pp_plot_v2(x, 10, genus, lower = 0.01, upper = 0)\n",
    "    })\n",
    "inspect_c2 <- \n",
    "    lapply(model_list, function(x) {\n",
    "        pp_plot(x, 10, genus, lower = 0.01, upper = 0)\n",
    "    })"
   ]
  },
  {
   "cell_type": "code",
   "execution_count": null,
   "metadata": {},
   "outputs": [],
   "source": [
    "inspect_c2[[3]]\n",
    "inspect_d2[[3]]"
   ]
  },
  {
   "cell_type": "code",
   "execution_count": null,
   "metadata": {
    "autoscroll": false
   },
   "outputs": [],
   "source": [
    "lapply(model_list, function(model){\n",
    "    broom::tidy(model)[1:10,]\n",
    "    })"
   ]
  },
  {
   "cell_type": "markdown",
   "metadata": {},
   "source": [
    "\n",
    "Indeed the skew normal with fixed sigma here would produce better model fit statistics I guess. Although it completely misses the second peak, it produces not as extreme outliers what about magnitude leading to smaler model accuracy statistics I guess. The other models further above would produce to many outliers to be better. The outliers must (?!) arise from overestimated error variance in the distributional models. Right now I would pick the simpler model. But lets add bf_ratio and hope that it explains maybe a litte of that bimodal distribution...\n",
    "\n"
   ]
  },
  {
   "cell_type": "code",
   "execution_count": null,
   "metadata": {
    "autoscroll": false
   },
   "outputs": [],
   "source": [
    "# set model options distributional\n",
    "genus <- \"Bifidobacterium\"\n",
    "f_d <- as.formula(glue(\"{genus} ~ 1 + time*cc*bf_ratio + (1|subject_id)\"))\n",
    "formula_d <- bf(f_d, sigma ~ 1 + time*cc*bf_ratio + (1|subject_id))\n",
    "control <-  list(adapt_delta = 0.9999, max_treedepth = 15)\n",
    "\n",
    "# set model options constant\n",
    "f <- as.formula(glue(\"{genus} ~ 1 + time*cc*bf_ratio + (1|subject_id)\"))\n",
    "formula <- bf(f)\n",
    "\n",
    "\n",
    "# redefine fitting functions for imputed datasets distributional\n",
    "brmd_g_imp <- function() {\n",
    "    # give individual model name for storage\n",
    "    model_file <- glue(\"{folder_d}/gaussian/{genus}_time_cc_bf\")\n",
    "    #fit model\n",
    "    brm_multiple(\n",
    "        family = gaussian(), data = data_imp, formula = formula_d,\n",
    "        chains = chains, iter = iter, warmup = warmup,\n",
    "        control = control, prior = prior_d, file = model_file\n",
    "    )\n",
    "}\n",
    "\n",
    "brmd_t_imp <- function() {\n",
    "    # give individual model name for storage\n",
    "    model_file <- glue(\"{folder_d}/t/{genus}_time_cc_bf\")\n",
    "    #fit model\n",
    "    brm_multiple(\n",
    "        family = student(), data = data_imp, formula = formula_d,\n",
    "        chains = chains, iter = iter, warmup = warmup,\n",
    "        control = control, prior = prior_d, file = model_file\n",
    "    )\n",
    "}\n",
    "\n",
    "brmd_sn_imp <- function() {\n",
    "    # give individual model name for storage\n",
    "    model_file <- glue(\"{folder_d}/skew_normal/{genus}_time_cc_bf\")\n",
    "    #fit model\n",
    "    brm_multiple(\n",
    "        family = skew_normal(), data = data_imp, formula = formula_d,\n",
    "        chains = chains, iter = iter, warmup = warmup,\n",
    "        control = control, prior = prior_d, file = model_file\n",
    "    )\n",
    "}\n",
    "\n",
    "\n",
    "# redefine fitting functions for imputed datasets constant\n",
    "brm_g_imp <- function() {\n",
    "    # give individual model name for storage\n",
    "    model_file <- glue(\"{folder}/gaussian/{genus}_time_cc_bf\")\n",
    "    #fit model\n",
    "    brm_multiple(\n",
    "        family = gaussian(), data = data_imp, formula = formula,\n",
    "        chains = chains, iter = iter, warmup = warmup,\n",
    "        control = control, prior = prior, file = model_file\n",
    "    )\n",
    "}\n",
    "\n",
    "brm_t_imp <- function() {\n",
    "    # give individual model name for storage\n",
    "    model_file <- glue(\"{folder}/t/{genus}_time_cc_bf\")\n",
    "    #fit model\n",
    "    brm_multiple(\n",
    "        family = student(), data = data_imp, formula = formula,\n",
    "        chains = chains, iter = iter, warmup = warmup,\n",
    "        control = control, prior = prior, file = model_file\n",
    "    )\n",
    "}\n",
    "\n",
    "brm_sn_imp <- function() {\n",
    "    # give individual model name for storage\n",
    "    model_file <- glue(\"{folder}/skew_normal/{genus}_time_cc_bf\")\n",
    "    #fit model\n",
    "    brm_multiple(\n",
    "        family = skew_normal(), data = data_imp, formula = formula,\n",
    "        chains = chains, iter = iter, warmup = warmup,\n",
    "        control = control, prior = prior, file = model_file\n",
    "    )\n",
    "}"
   ]
  },
  {
   "cell_type": "code",
   "execution_count": null,
   "metadata": {
    "autoscroll": false
   },
   "outputs": [],
   "source": [
    "# impute data (I will need to check the right way later)\n",
    "library(mice)\n",
    "data_imp <-  data %>%\n",
    "    select(-everything(), subject_id, time, cc, bf_count, Enterococcus, Staphylococcus) %>%\n",
    "    mice(m = 10, print = F)\n",
    "complete(data_imp)"
   ]
  },
  {
   "cell_type": "code",
   "execution_count": null,
   "metadata": {
    "autoscroll": false
   },
   "outputs": [],
   "source": [
    "cc_time_bf_dg <- brmd_g_imp()"
   ]
  },
  {
   "cell_type": "code",
   "execution_count": null,
   "metadata": {
    "autoscroll": false
   },
   "outputs": [],
   "source": [
    "cc_time_bf_dt <- brmd_t_imp()"
   ]
  },
  {
   "cell_type": "code",
   "execution_count": null,
   "metadata": {
    "autoscroll": false
   },
   "outputs": [],
   "source": [
    "cc_time_bf_dsn <- brmd_sn_imp()"
   ]
  },
  {
   "cell_type": "code",
   "execution_count": null,
   "metadata": {
    "autoscroll": false,
    "scrolled": false
   },
   "outputs": [],
   "source": [
    "source(here(\"R/bayesian_helper.R\"))\n",
    "model_list <- list(cc_time_bf_dg, cc_time_bf_dt, cc_time_bf_dsn)\n",
    "inspect_d <- \n",
    "    lapply(model_list, function(x) {\n",
    "        pp_plot_v2(x, 10, genus, lower = 0.01, upper = 0)\n",
    "    })\n",
    "inspect_d2 <- \n",
    "    lapply(model_list, function(x) {\n",
    "        pp_plot(x, 10, genus, lower = 0.01, upper = 0)\n",
    "    })"
   ]
  },
  {
   "cell_type": "code",
   "execution_count": null,
   "metadata": {
    "autoscroll": false
   },
   "outputs": [],
   "source": [
    "lapply(model_list, function(model){\n",
    "    broom::tidy(model)[1:10,]\n",
    "    })"
   ]
  },
  {
   "cell_type": "markdown",
   "metadata": {},
   "source": [
    "\n",
    "Having seen the example for Bifidobacterium, obviously the question arises if the simpler models maybe do a better job for the other genus as well where see similar issues with regard to outliers. On the one hand, I might now try to overfit the training data if I say I want to avoid those completely but on the other hand the distributions really look as if an outlier to one side is extremely unlikely and therefore I would want the model not reflect this as well.\n",
    "\n"
   ]
  },
  {
   "cell_type": "code",
   "execution_count": null,
   "metadata": {
    "autoscroll": false
   },
   "outputs": [],
   "source": [
    "cc_time_bf_g <- brm_g_imp()"
   ]
  },
  {
   "cell_type": "code",
   "execution_count": null,
   "metadata": {},
   "outputs": [],
   "source": [
    "cc_time_bf_t <- brm_t_imp()"
   ]
  },
  {
   "cell_type": "code",
   "execution_count": null,
   "metadata": {},
   "outputs": [],
   "source": [
    "cc_time_bf_sn <- brm_sn_imp()"
   ]
  },
  {
   "cell_type": "code",
   "execution_count": null,
   "metadata": {
    "scrolled": false
   },
   "outputs": [],
   "source": [
    "model_list <- list(cc_time_bf_g, cc_time_bf_t, cc_time_bf_sn)\n",
    "inspect_c <- \n",
    "    lapply(model_list, function(x) {\n",
    "        pp_plot_v2(x, 10, genus, lower = 0.01, upper = 0)\n",
    "    })\n",
    "inspect_c2 <- \n",
    "    lapply(model_list, function(x) {\n",
    "        pp_plot(x, 10, genus, lower = 0.01, upper = 0)\n",
    "    })"
   ]
  },
  {
   "cell_type": "code",
   "execution_count": null,
   "metadata": {},
   "outputs": [],
   "source": [
    "inspect_c2[[3]]\n",
    "inspect_d2[[3]]"
   ]
  },
  {
   "cell_type": "code",
   "execution_count": null,
   "metadata": {},
   "outputs": [],
   "source": [
    "lapply(model_list, function(model){\n",
    "    broom::tidy(model)[1:10,]\n",
    "    })"
   ]
  },
  {
   "cell_type": "code",
   "execution_count": null,
   "metadata": {
    "scrolled": false
   },
   "outputs": [],
   "source": [
    "qplot(data = data, Staphylococcus, geom = \"density\")"
   ]
  },
  {
   "cell_type": "code",
   "execution_count": null,
   "metadata": {},
   "outputs": [],
   "source": [
    "# set model options distributional\n",
    "genus <- \"Staphylococcus\"\n",
    "f_d <- as.formula(glue(\"{genus} ~ 1 + time*cc + (1|subject_id)\"))\n",
    "formula_d <- bf(f_d, sigma ~ 1 + time*cc + (1|subject_id))\n",
    "prior_d <- c(\n",
    "            set_prior(\"normal(0, 3)\", class = \"b\"),\n",
    "            set_prior(\"exponential(70)\", class = \"sd\"),\n",
    "            set_prior(\"normal(0, 10)\", class = \"Intercept\"),\n",
    "            set_prior(\"normal(0, 3)\", class = \"b\", dpar = \"sigma\"),\n",
    "            set_prior(\"exponential(60)\", class = \"sd\", dpar = \"sigma\"),\n",
    "            set_prior(\"normal(0, 10)\", class = \"Intercept\", dpar = \"sigma\")\n",
    ")\n",
    "\n",
    "# set model options constant\n",
    "f <- as.formula(glue(\"{genus} ~ 1 + time*cc + (1|subject_id)\"))\n",
    "formula <- bf(f)\n",
    "prior <- c(\n",
    "            set_prior(\"normal(0, 2)\", class = \"b\"),\n",
    "            set_prior(\"exponential(70)\", class = \"sd\"),\n",
    "            set_prior(\"normal(0, 10)\", class = \"Intercept\")\n",
    ")"
   ]
  },
  {
   "cell_type": "code",
   "execution_count": null,
   "metadata": {},
   "outputs": [],
   "source": [
    "cc_time_dg <- brmd_g()"
   ]
  },
  {
   "cell_type": "code",
   "execution_count": null,
   "metadata": {},
   "outputs": [],
   "source": [
    "cc_time_dt <- brmd_t()"
   ]
  },
  {
   "cell_type": "code",
   "execution_count": null,
   "metadata": {},
   "outputs": [],
   "source": [
    "cc_time_dsn <- brmd_sn()"
   ]
  },
  {
   "cell_type": "code",
   "execution_count": null,
   "metadata": {
    "scrolled": false
   },
   "outputs": [],
   "source": [
    "model_list <- list(cc_time_dg, cc_time_dt, cc_time_dsn)\n",
    "inspect_d <- \n",
    "    lapply(model_list, function(x) {\n",
    "        pp_plot_v2(x, 10, genus, lower = 0.01, upper = 0)\n",
    "    })\n",
    "inspect_d2 <- \n",
    "    lapply(model_list, function(x) {\n",
    "        pp_plot(x, 10, genus, lower = 0.01, upper = 0)\n",
    "    })"
   ]
  },
  {
   "cell_type": "code",
   "execution_count": null,
   "metadata": {},
   "outputs": [],
   "source": [
    "lapply(model_list, function(model){\n",
    "    broom::tidy(model)[1:10,]\n",
    "    })"
   ]
  },
  {
   "cell_type": "code",
   "execution_count": null,
   "metadata": {},
   "outputs": [],
   "source": [
    "cc_time_g <- brm_g()\n",
    "cc_time_t <- brm_t()\n",
    "cc_time_sn <- brm_sn()"
   ]
  },
  {
   "cell_type": "code",
   "execution_count": null,
   "metadata": {
    "scrolled": false
   },
   "outputs": [],
   "source": [
    "model_list <- list(cc_time_g, cc_time_t, cc_time_sn)\n",
    "inspect_c <- \n",
    "    lapply(model_list, function(x) {\n",
    "        pp_plot_v2(x, 10, genus, lower = 0.01, upper = 0)\n",
    "    })\n",
    "inspect_c2 <- \n",
    "    lapply(model_list, function(x) {\n",
    "        pp_plot(x, 10, genus, lower = 0.01, upper = 0)\n",
    "    })"
   ]
  },
  {
   "cell_type": "code",
   "execution_count": null,
   "metadata": {},
   "outputs": [],
   "source": [
    "inspect_c2[[3]]\n",
    "inspect_d2[[3]]"
   ]
  },
  {
   "cell_type": "code",
   "execution_count": null,
   "metadata": {},
   "outputs": [],
   "source": [
    "lapply(model_list, function(model){\n",
    "    broom::tidy(model)[1:10,]\n",
    "    })"
   ]
  },
  {
   "cell_type": "code",
   "execution_count": null,
   "metadata": {},
   "outputs": [],
   "source": [
    "# set model options distributional\n",
    "genus <- \"Staphylococcus\"\n",
    "f_d <- as.formula(glue(\"{genus} ~ 1 + time*cc*bf_ratio + (1|subject_id)\"))\n",
    "formula_d <- bf(f_d, sigma ~ 1 + time*cc + (1|subject_id))\n",
    "prior_d <- c(\n",
    "            set_prior(\"normal(0, 2)\", class = \"b\"),\n",
    "            set_prior(\"exponential(70)\", class = \"sd\"),\n",
    "            set_prior(\"normal(0, 10)\", class = \"Intercept\"),\n",
    "            set_prior(\"normal(0, 2)\", class = \"b\", dpar = \"sigma\"),\n",
    "            set_prior(\"exponential(50)\", class = \"sd\", dpar = \"sigma\"),\n",
    "            set_prior(\"normal(0, 10)\", class = \"Intercept\", dpar = \"sigma\")\n",
    ")\n",
    "\n",
    "# set model options constant\n",
    "f <- as.formula(glue(\"{genus} ~ 1 + time*cc*bf_ratio + (1|subject_id)\"))\n",
    "formula <- bf(f)\n",
    "prior <- c(\n",
    "            set_prior(\"normal(0, 2)\", class = \"b\"),\n",
    "            set_prior(\"exponential(70)\", class = \"sd\"),\n",
    "            set_prior(\"normal(0, 10)\", class = \"Intercept\")\n",
    ")"
   ]
  },
  {
   "cell_type": "code",
   "execution_count": null,
   "metadata": {},
   "outputs": [],
   "source": [
    "# impute data (I will need to check the right way later)\n",
    "library(mice)\n",
    "data_imp <-  data %>%\n",
    "    select(-everything(), subject_id, time, cc, bf_ratio, genus) %>%\n",
    "    mice(m = 5, print = F)"
   ]
  },
  {
   "cell_type": "code",
   "execution_count": null,
   "metadata": {},
   "outputs": [],
   "source": [
    "cc_time_bf_dg <- brmd_g_imp()\n",
    "cc_time_bf_dt <- brmd_t_imp()\n",
    "cc_time_bf_dsn <- brmd_sn_imp()"
   ]
  },
  {
   "cell_type": "code",
   "execution_count": null,
   "metadata": {
    "scrolled": false
   },
   "outputs": [],
   "source": [
    "source(here(\"R/bayesian_helper.R\"))\n",
    "model_list <- list(cc_time_bf_dg, cc_time_bf_dt, cc_time_bf_dsn)\n",
    "inspect_d <- \n",
    "    lapply(model_list, function(x) {\n",
    "        pp_plot_v2(x, 10, genus, lower = 0.01, upper = 0)\n",
    "    })\n",
    "inspect_d2 <- \n",
    "    lapply(model_list, function(x) {\n",
    "        pp_plot(x, 10, genus, lower = 0.01, upper = 0)\n",
    "    })"
   ]
  },
  {
   "cell_type": "code",
   "execution_count": null,
   "metadata": {},
   "outputs": [],
   "source": [
    "lapply(model_list, function(model){\n",
    "    broom::tidy(model)[1:14,]\n",
    "    })"
   ]
  },
  {
   "cell_type": "code",
   "execution_count": null,
   "metadata": {},
   "outputs": [],
   "source": [
    "cc_time_bf_g <- brm_g_imp()\n",
    "cc_time_bf_t <- brm_t_imp()\n",
    "cc_time_bf_sn <- brm_sn_imp()"
   ]
  },
  {
   "cell_type": "code",
   "execution_count": null,
   "metadata": {
    "scrolled": false
   },
   "outputs": [],
   "source": [
    "model_list <- list(cc_time_bf_g, cc_time_bf_t, cc_time_bf_sn)\n",
    "inspect_c <- \n",
    "    lapply(model_list, function(x) {\n",
    "        pp_plot_v2(x, 10, genus, lower = 0.01, upper = 0)\n",
    "    })\n",
    "inspect_c2 <- \n",
    "    lapply(model_list, function(x) {\n",
    "        pp_plot(x, 10, genus, lower = 0.01, upper = 0)\n",
    "    })"
   ]
  },
  {
   "cell_type": "code",
   "execution_count": null,
   "metadata": {},
   "outputs": [],
   "source": [
    "inspect_c2[[3]]\n",
    "inspect_d2[[3]]"
   ]
  },
  {
   "cell_type": "code",
   "execution_count": null,
   "metadata": {},
   "outputs": [],
   "source": [
    "lapply(model_list, function(model){\n",
    "    broom::tidy(model)[1:14,]\n",
    "    })"
   ]
  },
  {
   "cell_type": "code",
   "execution_count": null,
   "metadata": {
    "scrolled": false
   },
   "outputs": [],
   "source": [
    "# set model options for distributional models\n",
    "genus <-\"Bilophila_et_rel\"\n",
    "f_d <- as.formula(glue(\"{genus} ~ 1 + time*cc + (1|subject_id)\"))\n",
    "formula_d <- bf(f_d, sigma ~ 1 + time*cc + (1|subject_id))\n",
    "\n",
    "folder_d <- here(\"models/cc_and_feeding/distributional/\")\n",
    "control <-  list(adapt_delta = 0.9999, max_treedepth = 15)\n",
    "chains <- 4\n",
    "iter <- 3000\n",
    "warmup <- 1000\n",
    "prior_d <- c(\n",
    "            set_prior(\"normal(0, 2)\", class = \"b\"),\n",
    "            set_prior(\"exponential(25)\", class = \"sd\"),\n",
    "            set_prior(\"normal(0, 10)\", class = \"Intercept\"),\n",
    "            set_prior(\"normal(0, 2)\", class = \"b\", dpar = \"sigma\"),\n",
    "            set_prior(\"exponential(25)\", class = \"sd\", dpar = \"sigma\"),\n",
    "            set_prior(\"normal(0, 10)\", class = \"Intercept\", dpar = \"sigma\")\n",
    ")\n",
    "\n",
    "# define fitting functions for distributional models\n",
    "brmd_g <- function() {\n",
    "    # give individual model name for storage\n",
    "    model_file <- glue(\"{folder_d}/gaussian/{genus}_time_cc\")\n",
    "    #fit model\n",
    "    brm(\n",
    "        family = gaussian(), data = data, formula = formula_d,\n",
    "        chains = chains, iter = iter, warmup = warmup,\n",
    "        control = control, prior = prior_d, file = model_file\n",
    "    )\n",
    "}\n",
    "\n",
    "brmd_t <- function() {\n",
    "    # give individual model name for storage\n",
    "    model_file <- glue(\"{folder_d}/t/{genus}_time_cc\")\n",
    "    #fit model\n",
    "    brm(\n",
    "        family = student(), data = data, formula = formula_d,\n",
    "        chains = chains, iter = iter, warmup = warmup,\n",
    "        control = control, prior = prior_d, file = model_file\n",
    "    )\n",
    "}\n",
    "\n",
    "brmd_sn <- function() {\n",
    "    # give individual model name for storage\n",
    "    model_file <- glue(\"{folder_d}/skew_normal/{genus}_time_cc\")\n",
    "    #fit model\n",
    "    brm(\n",
    "        family = skew_normal(), data = data, formula = formula_d,\n",
    "        chains = chains, iter = iter, warmup = warmup,\n",
    "        control = control, prior = prior_d, file = model_file\n",
    "    )\n",
    "}\n",
    "\n",
    "# set model options for constant sigma models\n",
    "genus <-\"Bilophila_et_rel\"\n",
    "f <- as.formula(glue(\"{genus} ~ 1 + time*cc + (1|subject_id)\"))\n",
    "formula <- bf(f)\n",
    "\n",
    "folder <- here(\"models/cc_and_feeding/constant/\")\n",
    "control <-  list(adapt_delta = 0.9999, max_treedepth = 15)\n",
    "prior <- c(\n",
    "            set_prior(\"normal(0, 2)\", class = \"b\"),\n",
    "            set_prior(\"exponential(10)\", class = \"sd\"),\n",
    "            set_prior(\"normal(0, 10)\", class = \"Intercept\")\n",
    ")\n",
    "\n",
    "\n",
    "\n",
    "# define fitting functions for constant models\n",
    "brm_g <- function() {\n",
    "    # give individual model name for storage\n",
    "    model_file <- glue(\"{folder}/gaussian/{genus}_time_cc\")\n",
    "    #fit model\n",
    "    brm(\n",
    "        family = gaussian(), data = data, formula = formula,\n",
    "        chains = chains, iter = iter, warmup = warmup,\n",
    "        control = control, prior = prior, file = model_file\n",
    "    )\n",
    "}\n",
    "\n",
    "brm_t <- function() {\n",
    "    # give individual model name for storage\n",
    "    model_file <- glue(\"{folder}/t/{genus}_time_cc\")\n",
    "    #fit model\n",
    "    brm(\n",
    "        family = student(), data = data, formula = formula,\n",
    "        chains = chains, iter = iter, warmup = warmup,\n",
    "        control = control, prior = prior, file = model_file\n",
    "    )\n",
    "}\n",
    "\n",
    "brm_sn <- function() {\n",
    "    # give individual model name for storage\n",
    "    model_file <- glue(\"{folder}/skew_normal/{genus}_time_cc\")\n",
    "    #fit model\n",
    "    brm(\n",
    "        family = skew_normal(), data = data, formula = formula,\n",
    "        chains = chains, iter = iter, warmup = warmup,\n",
    "        control = control, prior = prior, file = model_file\n",
    "    )\n",
    "}"
   ]
  },
  {
   "cell_type": "markdown",
   "metadata": {},
   "source": [
    "## Check distribution of bf_count to think about MI method"
   ]
  },
  {
   "cell_type": "code",
   "execution_count": null,
   "metadata": {
    "scrolled": false
   },
   "outputs": [],
   "source": [
    "ggplot(data, aes(Staphylococcus, bf_count)) +\n",
    "    geom_point() +\n",
    "    geom_smooth()\n",
    "\n",
    "ggplot(data, aes(Enterococcus, bf_count)) +\n",
    "    geom_point() +\n",
    "    geom_smooth()\n",
    "\n",
    "ggplot(data, aes(bf_ratio)) +\n",
    "    geom_density()\n",
    "\n",
    "ggplot(data, aes(bf_count)) +\n",
    "    geom_density()\n"
   ]
  },
  {
   "cell_type": "code",
   "execution_count": null,
   "metadata": {},
   "outputs": [],
   "source": [
    "ggplot(data, aes(bf_ratio, bf_count, label = subject_id, color = time)) +\n",
    "    geom_text()\n",
    "\n",
    "ggplot(data, aes(bf_ratio, formula_count, label = subject_id, color = time)) +\n",
    "    geom_text()\n"
   ]
  },
  {
   "cell_type": "markdown",
   "metadata": {},
   "source": [
    "## Compare time versus age variables\n",
    "\n",
    "The information in time (pre/post) is implied in the age variable since for the second samples infants are always older and have had CC (the cc group). Age is a variable we should control for but time (pre/post) and age might mask each other in regression and therefore I think about just using age and then evaluate the interaction with CC. But look at the plot. In the no CC group age is nicely separated. Thus if we compare cc vs no cc, we compare at the same different age at baseline and post treatment. Therefore, I think I need to model the interaction $time \\times cc$ and control for age to find out if time and CC explain any additional variance once we know age. But first I will compare age between and within groups to quantify this."
   ]
  },
  {
   "cell_type": "code",
   "execution_count": null,
   "metadata": {},
   "outputs": [],
   "source": [
    "ggplot(data, aes(time, age_d, color = time, label = subject_id)) +\n",
    "    geom_violin() +\n",
    "    geom_jitter(width = 0.2) +\n",
    "    facet_wrap(~cc) +\n",
    "    coord_flip()"
   ]
  },
  {
   "cell_type": "code",
   "execution_count": null,
   "metadata": {},
   "outputs": [],
   "source": [
    "age_all <- brm(bf(age_d ~ time*cc, sigma ~ time*cc), data = data, file = here(\"models/age_bt_wn\"))\n",
    "age_cc <- brm(bf(age_d ~ cc, sigma ~ cc), data = data, file = here(\"models/age_bt\"))"
   ]
  },
  {
   "cell_type": "code",
   "execution_count": null,
   "metadata": {
    "scrolled": false
   },
   "outputs": [],
   "source": [
    "ages_all <-\n",
    "    age_all %>% \n",
    "        as.tibble() %>%\n",
    "        mutate(\n",
    "            pre_nocc_mu = b_Intercept,\n",
    "            pre_cc_mu = b_Intercept + b_ccyes,\n",
    "            post_nocc_mu = b_Intercept + b_timepost,\n",
    "            post_cc_mu = b_Intercept + b_timepost + b_ccyes + b_timepost.ccyes, \n",
    "            pre_nocc_sigma = b_sigma_Intercept,\n",
    "            pre_cc_sigma = b_sigma_Intercept + b_sigma_ccyes,\n",
    "            post_nocc_sigma = b_sigma_Intercept + b_sigma_timepost,\n",
    "            post_cc_sigma = b_sigma_Intercept + b_sigma_timepost + b_sigma_ccyes + b_sigma_timepost.ccyes) %>%\n",
    "        select(pre_nocc_mu, pre_cc_mu, post_nocc_mu, post_cc_mu, pre_nocc_sigma, pre_cc_sigma, post_nocc_sigma, post_cc_sigma)\n",
    "# prob that cc and no cc come from population with different mean age\n",
    "# sounds kind of stupid since we know their age but the point is to \n",
    "# quantify if the difference is so large that it is picked up by the model \n",
    "# as such \n",
    "data %>% group_by(cc) %>% summarise(mean = mean(age_d), sd = sd(age_d))\n",
    "data %>% group_by(cc, time) %>% summarise(mean = mean(age_d), sd = sd(age_d))\n",
    "mean((ages_all$pre_cc_mu - ages_all$pre_nocc_mu) > 0)\n",
    "# post should be the same but since samples were not given at same time points\n",
    "# it could in theory differ\n",
    "mean((ages_all$post_cc_mu - ages_all$post_nocc_mu) > 0)\n",
    "# average time between groups per time point\n",
    "mean(ages_all$post_cc_mu - ages_all$post_nocc_mu)\n",
    "mean(ages_all$pre_cc_mu - ages_all$pre_nocc_mu)\n",
    "# average time between samples per group\n",
    "mean(ages_all$post_cc_mu - ages_all$pre_cc_mu)\n",
    "mean(ages_all$post_nocc_mu - ages_all$pre_nocc_mu)\n",
    "\n",
    "# plot difference mu\n",
    "ages_all %>% select(pre_nocc_mu, pre_cc_mu) %>% \n",
    "    gather(group, age) %>%\n",
    "    ggplot(aes(group, age)) +\n",
    "        geom_violin() +\n",
    "        geom_jitter(alpha = 0.05) +\n",
    "        ggtitle(\"mu pre between CC\") +\n",
    "        coord_flip()\n",
    "\n",
    "# plot difference sigma\n",
    "ages_all %>% select(pre_nocc_sigma, pre_cc_sigma) %>% \n",
    "    gather(group, age) %>%\n",
    "    ggplot(aes(group, age)) +\n",
    "        geom_violin() +\n",
    "        geom_jitter(alpha = 0.05) +\n",
    "        ggtitle(\"sigma pre between CC\") +\n",
    "        coord_flip()"
   ]
  },
  {
   "cell_type": "markdown",
   "metadata": {},
   "source": [
    "Thus, the ages are \"significantly\"  different between cc and no cc. Also, there clearly less variation in age in the no cc group. The mean difference is 11 days pre cc and 12 days post cc. The difference between samples is equivalent and is 30 days. However, more than 1 week difference in age might be confounding. I certainly will control for age."
   ]
  },
  {
   "cell_type": "code",
   "execution_count": null,
   "metadata": {},
   "outputs": [],
   "source": [
    "library(mice)\n",
    "data_imp <-  data %>%\n",
    "    select(-everything(), subject_id, age_d_s, time, cc, bf_count_s, Enterococcus, Staphylococcus) %>%\n",
    "    mice(m = 5, print = F)"
   ]
  },
  {
   "cell_type": "code",
   "execution_count": null,
   "metadata": {},
   "outputs": [],
   "source": [
    "library(brms)"
   ]
  },
  {
   "cell_type": "code",
   "execution_count": null,
   "metadata": {
    "scrolled": false
   },
   "outputs": [],
   "source": [
    "prior_d <- c(\n",
    "            set_prior(\"normal(0, 2)\", class = \"b\"),\n",
    "            set_prior(\"exponential(25)\", class = \"sd\"),\n",
    "            set_prior(\"normal(0, 10)\", class = \"Intercept\"), \n",
    "            set_prior(\"normal(0, 2)\", class = \"b\", dpar = \"sigma\"),\n",
    "            set_prior(\"exponential(60)\", class = \"sd\", dpar = \"sigma\"),\n",
    "            set_prior(\"normal(0, 5)\", class = \"Intercept\", dpar = \"sigma\"),\n",
    "            set_prior(\"lkj(2)\", class = \"cor\"))\n",
    "\n",
    "control <- list(adapt_delta = 0.9999, max_treedepth = 15)\n",
    "\n",
    "ent_time <- \n",
    "    brm(\n",
    "        family = skew_normal(), \n",
    "        bf(Enterococcus ~ 1 + time*cc + (1+time|subject_id), sigma ~ 1 + time*cc + (1+time|subject_id)), \n",
    "        prior = prior_d, file = here(\"models/ent_time\"),\n",
    "        data = data)\n",
    "\n",
    "ent_age <- \n",
    "    brm(\n",
    "        family = skew_normal(), \n",
    "        bf(Enterococcus ~ 1 + age_d_s*cc + (1+age_d_s|subject_id), sigma ~ 1 + age_d_s*cc + (1+age_d_s|subject_id)), \n",
    "        prior = prior_d, file = here(\"models/ent_age\"),\n",
    "        data = data)   \n",
    "\n",
    "ent_time_age <-\n",
    "    brm(\n",
    "        family = skew_normal(), \n",
    "        bf(Enterococcus ~ 1 + time*cc + age_d_s + (1+time + age_d_s|subject_id), sigma ~ 1 + time*cc + age_d_s + (1+time + age_d_s|subject_id)), \n",
    "        prior = prior_d, file = here(\"models/ent_time_age\"),\n",
    "        data = data) \n",
    "\n",
    "ent_complete <- \n",
    "    brm_multiple(\n",
    "        family = skew_normal(), \n",
    "        bf(Enterococcus ~ 1 + time*cc + age_d_s + bf_count_s + (1 + time + age_d_s + bf_count_s|subject_id), sigma ~ 1 + time*cc + age_d_s + bf_count_s + (1 + time + age_d_s + bf_count_s|subject_id)), \n",
    "        prior = prior_d, file = here(\"models/ent_complete\"), control = control,\n",
    "        data = data_imp)"
   ]
  },
  {
   "cell_type": "code",
   "execution_count": null,
   "metadata": {},
   "outputs": [],
   "source": [
    "broom::tidy(ent_time)[1:12,]\n",
    "broom::tidy(ent_age)[1:12,]\n",
    "broom::tidy(ent_time_age)[1:14,]\n",
    "broom::tidy(ent_complete)[1:14,]"
   ]
  },
  {
   "cell_type": "code",
   "execution_count": null,
   "metadata": {},
   "outputs": [],
   "source": [
    "prior_d <- c(\n",
    "            set_prior(\"normal(0, 2)\", class = \"b\"),\n",
    "            set_prior(\"exponential(25)\", class = \"sd\"),\n",
    "            set_prior(\"normal(0, 10)\", class = \"Intercept\"),\n",
    "            set_prior(\"normal(0, 2)\", class = \"b\", dpar = \"sigma\"),\n",
    "            set_prior(\"exponential(25)\", class = \"sd\", dpar = \"sigma\"),\n",
    "            set_prior(\"normal(0, 10)\", class = \"Intercept\", dpar = \"sigma\"))\n",
    "\n",
    "ent_time2 <- \n",
    "    brm(\n",
    "        family = skew_normal(), \n",
    "        bf(Enterococcus ~ 1 + time + (1|subject_id), sigma ~ 1 + time + (1|subject_id)), \n",
    "        prior = prior_d,\n",
    "        data = data)\n",
    "\n",
    "ent_age2 <- \n",
    "    brm(\n",
    "        family = skew_normal(), \n",
    "        bf(Enterococcus ~ 1 + age_d_s + (1|subject_id), sigma ~ 1 + age_d_s + (1|subject_id)), \n",
    "        prior = prior_d,\n",
    "        data = data)"
   ]
  },
  {
   "cell_type": "code",
   "execution_count": null,
   "metadata": {},
   "outputs": [],
   "source": [
    "broom::tidy(ent_time2)[1:10,]\n",
    "broom::tidy(ent_age2)[1:10,]"
   ]
  },
  {
   "cell_type": "code",
   "execution_count": null,
   "metadata": {},
   "outputs": [],
   "source": [
    "prior_d <- c(\n",
    "            set_prior(\"normal(0, 2)\", class = \"b\"),\n",
    "            set_prior(\"exponential(30)\", class = \"sd\"),\n",
    "            set_prior(\"normal(0, 10)\", class = \"Intercept\"), \n",
    "            set_prior(\"normal(0, 2)\", class = \"b\", dpar = \"sigma\"),\n",
    "            set_prior(\"exponential(30)\", class = \"sd\", dpar = \"sigma\"),\n",
    "            set_prior(\"normal(0, 10)\", class = \"Intercept\", dpar = \"sigma\"),\n",
    "            set_prior(\"lkj(2)\", class = \"cor\"))\n",
    "\n",
    "#ent_time3 <- \n",
    " #   brm(\n",
    "  #      family = skew_normal(), \n",
    "   #     bf(Enterococcus ~ 1 + time*cc + (1+time|subject_id), sigma ~ 1 + time*cc + (1+time|subject_id)), \n",
    "    #    prior = prior_d,\n",
    "     #   data = data)\n",
    "\n",
    "ent_age3 <- \n",
    "    brm(\n",
    "        family = skew_normal(), \n",
    "        bf(Enterococcus ~ 1 + time*cc + age_d_s + (1 + time + age_d_s|subject_id), sigma ~ 1 + time*cc + age_d_s + (1 + time + age_d_s|subject_id)), \n",
    "        prior = prior_d,\n",
    "        data = data) "
   ]
  },
  {
   "cell_type": "code",
   "execution_count": null,
   "metadata": {},
   "outputs": [],
   "source": [
    "broom::tidy(ent_time3)[1:10,]\n",
    "broom::tidy(ent_age3)[1:10,]"
   ]
  },
  {
   "cell_type": "code",
   "execution_count": null,
   "metadata": {},
   "outputs": [],
   "source": [
    "prior_d <- c(\n",
    "            set_prior(\"normal(0, 2)\", class = \"b\"),\n",
    "            set_prior(\"exponential(30)\", class = \"sd\"),\n",
    "            set_prior(\"normal(0, 10)\", class = \"Intercept\"), \n",
    "            set_prior(\"normal(0, 2)\", class = \"b\", dpar = \"sigma\"),\n",
    "            set_prior(\"exponential(30)\", class = \"sd\", dpar = \"sigma\"),\n",
    "            set_prior(\"normal(0, 10)\", class = \"Intercept\", dpar = \"sigma\"),\n",
    "            set_prior(\"lkj(2)\", class = \"cor\"))\n",
    "\n",
    "\n",
    "\n",
    "ent_complete <- \n",
    "    brm(\n",
    "        family = skew_normal(), \n",
    "        bf(Enterococcus ~ 1 + time*cc + age_d_s + bf_count_s + (1 + time + age_d_s + bf_count_s|subject_id), sigma ~ 1 + time*cc + age_d_s + bf_count_s + (1 + time + age_d_s + bf_count_s|subject_id)), \n",
    "        prior = prior_d,\n",
    "        data = data) \n",
    "broom::tidy(ent_age3)[1:10,]\n",
    "broom::tidy(ent_complete)[1:10,]"
   ]
  },
  {
   "cell_type": "code",
   "execution_count": null,
   "metadata": {},
   "outputs": [],
   "source": [
    "prior_d <- c(\n",
    "            set_prior(\"normal(0, 2)\", class = \"b\"),\n",
    "            set_prior(\"exponential(30)\", class = \"sd\"),\n",
    "            set_prior(\"normal(0, 10)\", class = \"Intercept\"), \n",
    "            set_prior(\"normal(0, 2)\", class = \"b\", dpar = \"sigma\"),\n",
    "            set_prior(\"exponential(50)\", class = \"sd\", dpar = \"sigma\"),\n",
    "            set_prior(\"normal(0, 3)\", class = \"Intercept\", dpar = \"sigma\"),\n",
    "            set_prior(\"lkj(2)\", class = \"cor\"))\n",
    "\n",
    "\n",
    "\n",
    "bif_complete <- \n",
    "    brm(\n",
    "        family = skew_normal(), \n",
    "        bf(Bifidobacterium ~ 1 + time*cc + age_d_s + bf_count_s + (1 + time + age_d_s + bf_count_s|subject_id), sigma ~ 1 + time*cc + age_d_s + bf_count_s + (1 + time + age_d_s + bf_count_s|subject_id)), \n",
    "        prior = prior_d,\n",
    "        control = list(adapt_delta = 0.9999, max_treedepth = 15),\n",
    "        data = data)"
   ]
  },
  {
   "cell_type": "code",
   "execution_count": null,
   "metadata": {
    "scrolled": false
   },
   "outputs": [],
   "source": [
    "source(here(\"R/bayesian_helper.R\"))\n",
    "broom::tidy(bif_complete)[1:14,]\n",
    "bif_complete %>% \n",
    "    as.tibble() %>%\n",
    "    gather(term, estimate) %>%\n",
    "    group_by(term) %>%\n",
    "    do(data.frame(\n",
    "        mean = round(mean(.$estimate), 2),\n",
    "        lower = round(hpdi(.$estimate)[1], 2),\n",
    "        upper = round(hpdi(.$estimate)[2], 2)\n",
    "    ))"
   ]
  },
  {
   "cell_type": "code",
   "execution_count": null,
   "metadata": {},
   "outputs": [],
   "source": [
    "exp(-1.0396) # sigma cc no pre\n",
    "exp(-1.0396 + 0.25301870) # sigma cc yes pre\n",
    "exp(-1.0396 - 0.32468744) # sigma cc no post\n",
    "exp(-1.0396 - 0.32468744 + 0.25301870 -0.68752035) # sigma cc yes post"
   ]
  },
  {
   "cell_type": "code",
   "execution_count": null,
   "metadata": {},
   "outputs": [],
   "source": [
    "ggplot(data, aes(bf_count_s, age_d_s)) +\n",
    "    geom_point() +\n",
    "    geom_smooth()\n",
    "\n",
    "cor.test(data$bf_count, data$age_d)"
   ]
  },
  {
   "cell_type": "code",
   "execution_count": null,
   "metadata": {},
   "outputs": [],
   "source": [
    "dim(data)"
   ]
  },
  {
   "cell_type": "code",
   "execution_count": null,
   "metadata": {},
   "outputs": [],
   "source": [
    "# select only genus that Gerben preselected, then save data\n",
    "test <- read_csv(here(\"data/csv_gerben/data1.csv\"))\n",
    "selector <- colnames(test)"
   ]
  },
  {
   "cell_type": "code",
   "execution_count": null,
   "metadata": {},
   "outputs": [],
   "source": [
    "selector <- selector[-c(1:2, 114:119)]"
   ]
  },
  {
   "cell_type": "code",
   "execution_count": null,
   "metadata": {
    "scrolled": false
   },
   "outputs": [],
   "source": [
    "colnames(data)\n",
    "data_transfer <- \n",
    "    data %>% select(\n",
    "        subject_id,\n",
    "        sample,\n",
    "        time, \n",
    "        cc, \n",
    "        age_d, \n",
    "        age_d_s, \n",
    "        bf_count, \n",
    "        bf_count_s,\n",
    "        bf_ratio,\n",
    "        selector) %>%\n",
    "    rename(sample_id = sample)\n",
    "save(data_transfer, file = here(\"data/data_transfer.RData\"))"
   ]
  },
  {
   "cell_type": "markdown",
   "metadata": {},
   "source": [
    "## Alpha diversity measures and CC\n",
    "I first check one predictor after another for shannon index and then write the function for all indeces for the full model."
   ]
  },
  {
   "cell_type": "code",
   "execution_count": null,
   "metadata": {
    "scrolled": false
   },
   "outputs": [],
   "source": [
    "# descrptives\n",
    "data %>% group_by(cc, time) %>%\n",
    "    summarise(mean_shannon = mean(shannon), sd_shannon = sd(shannon))\n",
    "data %>% group_by(cc, time) %>%\n",
    "    summarise(mean_inverse_simpson = mean(inverse_simpson), sd_inverse_simpson = sd(inverse_simpson))\n",
    "\n",
    "# plot distributions\n",
    "data %>% select(shannon, gini_simpson, inverse_simpson) %>%\n",
    "    gather(index, value) %>%\n",
    "ggplot(aes(value)) +\n",
    "    geom_density() +\n",
    "    facet_wrap(~index, scales = \"free\")"
   ]
  },
  {
   "cell_type": "code",
   "execution_count": null,
   "metadata": {},
   "outputs": [],
   "source": [
    "# ad_1 <- \n",
    "#     brm(\n",
    "#         shannon ~ cc*time + (1 + time|subject_id), \n",
    "#         data = data, warmup = 1000, control = list(adapt_delta = 0.9999), prior = prior)\n",
    "# tidy(ad_1)[1:12,]\n",
    "# \n",
    "# ad_12 <- \n",
    "#     brm(\n",
    "#         shannon ~ cc*time + age_d_s + (1 + time + age_d_s|subject_id), \n",
    "#         data = data, warmup = 1000, control = list(adapt_delta = 0.9999), prior = prior)\n",
    "# tidy(ad_12)[1:12,]\n",
    "# \n",
    "# ad_2 <- brm(shannon ~ age_d_s + (1 + age_d_s|subject_id), \n",
    "#         data = data, warmup = 1000, control = list(adapt_delta = 0.9999), prior = prior)\n",
    "# tidy(ad_2)[1:12,]\n",
    "# \n",
    "# ad_3 <- brm(shannon ~ bf_count_s + (1 + bf_count_s|subject_id), \n",
    "#         data = data, warmup = 1000, control = list(adapt_delta = 0.9999), prior = prior)\n",
    "# tidy(ad_3)[1:12,]\n",
    "# \n",
    "# # specify prior \n",
    "# prior_n <- c(\n",
    "#             set_prior(\"normal(0, 2)\", class = \"b\", resp = \"shannon\"),\n",
    "#             set_prior(\"exponential(25)\", class = \"sd\", resp = \"shannon\"),\n",
    "#             set_prior(\"normal(0, 10)\", class = \"Intercept\", resp = \"shannon\"), \n",
    "#             set_prior(\"lkj(2)\", class = \"cor\"),             \n",
    "#             set_prior(\"normal(0, 2)\", class = \"b\", resp = \"bfcounts\"),\n",
    "#             set_prior(\"exponential(25)\", class = \"sd\", resp = \"bfcounts\"),\n",
    "#             set_prior(\"normal(0, 10)\", class = \"Intercept\", resp = \"bfcounts\"))\n",
    "# bform <- bf(shannon | mi() ~ cc*time + age_d_s + mi(bf_count_s) + (1 + time + age_d_s + mi(bf_count_s)|subject_id)) +\n",
    "#             bf(bf_count_s | mi() ~ age_d_s + cc*time + shannon + (1 +time +age_d_s + shannon|subject_id)) + set_rescor(FALSE)\n",
    "# ad_4 <- \n",
    "#     brm(bform, \n",
    "#         data = data, warmup = 1000, control = list(adapt_delta = 0.9999, max_treedepth = 15), prior = prior_n)\n",
    "# tidy(ad_4)[1:12,]\n",
    "# \n",
    "# ad_5 <- \n",
    "#     brm(\n",
    "#         shannon ~ cc*time*bf_count_s + age_d_s + (1 + time*bf_count_s + age_d_s|subject_id), \n",
    "#         data = data, warmup = 1000, control = list(adapt_delta = 0.9999), prior = prior_d)\n",
    "# tidy(ad_5)[1:12,]"
   ]
  },
  {
   "cell_type": "code",
   "execution_count": null,
   "metadata": {},
   "outputs": [],
   "source": [
    "# specify prior \n",
    "prior <- c(\n",
    "            set_prior(\"normal(0, 2)\", class = \"b\"),\n",
    "            set_prior(\"exponential(25)\", class = \"sd\"),\n",
    "            set_prior(\"normal(0, 10)\", class = \"Intercept\"), \n",
    "            set_prior(\"lkj(2)\", class = \"cor\"))\n",
    "\n",
    "# where to store models\n",
    "folder <- here(\"models/\")\n",
    "diversity_index <- c(\"shannon\", \"inverse_simpson\", \"gini_simpson\")"
   ]
  },
  {
   "cell_type": "code",
   "execution_count": null,
   "metadata": {},
   "outputs": [],
   "source": [
    "brm_div <- \n",
    "    function(diversity_index) {\n",
    "        # formula\n",
    "        f <- as.formula(glue(\"{diversity_index} ~ cc*time + age_d_s + bf_count_s + (1 + time + age_d_s + bf_count_s|subject_id)\"))\n",
    "        formula <- bf(f) \n",
    "        model_file <- glue(\"{folder}/gaussian/{diversity_index}_full\")\n",
    "        #fit model\n",
    "        brm(\n",
    "            family = gaussian(), data = data, formula = formula,\n",
    "            warmup = 1000, control = list(adapt_delta = 0.9999), \n",
    "            prior = prior, file = model_file\n",
    "        )\n",
    "}\n",
    "\n",
    "brm_div_mi <- function(diversity_index) {\n",
    "        # delete _ for prior\n",
    "        div_prior <- gsub(\"_\", \"\", diversity_index)\n",
    "        # specify prior \n",
    "        prior_n <- c(\n",
    "            set_prior(\"normal(0, 2)\", class = \"b\", resp = div_prior),\n",
    "            set_prior(\"exponential(25)\", class = \"sd\", resp = div_prior),\n",
    "            set_prior(\"normal(0, 10)\", class = \"Intercept\", resp = div_prior), \n",
    "            set_prior(\"lkj(2)\", class = \"cor\"),             \n",
    "            set_prior(\"normal(0, 2)\", class = \"b\", resp = \"bfcounts\"),\n",
    "            set_prior(\"exponential(25)\", class = \"sd\", resp = \"bfcounts\"),\n",
    "            set_prior(\"normal(0, 10)\", class = \"Intercept\", resp = \"bfcounts\"))\n",
    "        # formula\n",
    "        f1 <- as.formula(glue(\"{diversity_index} |mi() ~ cc*time + age_d_s + mi(bf_count_s) + (1 + time + age_d_s + mi(bf_count_s)|subject_id)\"))\n",
    "        f2 <- as.formula(glue(\"bf_count_s |mi() ~ cc*time + {diversity_index} + age_d_s + (1 + time + age_d_s + {diversity_index}|subject_id)\"))\n",
    "        formula <- bf(f1) + bf(f2) + set_rescor(FALSE)\n",
    "        model_file <- glue(\"{folder}/gaussian/{diversity_index}_full_mi\")\n",
    "        #fit model\n",
    "        brm(\n",
    "            family = gaussian(), data = data, formula = formula,\n",
    "            warmup = 1000, control = list(adapt_delta = 0.9999, max_treedepth = 15), \n",
    "            prior = prior_n, file = model_file\n",
    "        )\n",
    "}\n",
    "\n",
    "brm_div_skew <- \n",
    "    function(diversity_index) {\n",
    "        # formula\n",
    "        f <- as.formula(glue(\"{diversity_index} ~ cc*time + age_d_s + bf_count_s + (1 + time + age_d_s + bf_count_s|subject_id)\"))\n",
    "        formula <- bf(f) \n",
    "        model_file <- glue(\"{folder}/skew_normal/{diversity_index}_full\")\n",
    "        #fit model\n",
    "        brm(\n",
    "            family = skew_normal(), data = data, formula = formula,\n",
    "            warmup = 1000, control = list(adapt_delta = 0.9999), \n",
    "            prior = prior, file = model_file\n",
    "        )\n",
    "}\n",
    "\n",
    "\n",
    "brm_div_skew_mi <- function(diversity_index) {\n",
    "        # delete _ for prior\n",
    "        div_prior <- gsub(\"_\", \"\", diversity_index)\n",
    "        # specify prior \n",
    "        prior_n <- c(\n",
    "            set_prior(\"normal(0, 2)\", class = \"b\", resp = div_prior),\n",
    "            set_prior(\"exponential(25)\", class = \"sd\", resp = div_prior),\n",
    "            set_prior(\"normal(0, 10)\", class = \"Intercept\", resp = div_prior), \n",
    "            set_prior(\"lkj(2)\", class = \"cor\"),             \n",
    "            set_prior(\"normal(0, 2)\", class = \"b\", resp = \"bfcounts\"),\n",
    "            set_prior(\"exponential(25)\", class = \"sd\", resp = \"bfcounts\"),\n",
    "            set_prior(\"normal(0, 10)\", class = \"Intercept\", resp = \"bfcounts\"))\n",
    "        # formula\n",
    "        f1 <- as.formula(glue(\"{diversity_index} |mi() ~ cc*time + age_d_s + mi(bf_count_s) + (1 + time + age_d_s + mi(bf_count_s)|subject_id)\"))\n",
    "        f2 <- as.formula(glue(\"bf_count_s |mi() ~ cc*time + {diversity_index} + age_d_s + (1 + time + age_d_s + {diversity_index}|subject_id)\"))\n",
    "        formula <- bf(f1) + bf(f2) + set_rescor(FALSE)\n",
    "        model_file <- glue(\"{folder}/skew_normal/{diversity_index}_full_mi\")\n",
    "        #fit model\n",
    "        brm(\n",
    "            family = skew_normal(), data = data, formula = formula,\n",
    "            warmup = 1000, control = list(adapt_delta = 0.9999, max_treedepth = 15), \n",
    "            prior = prior_n, file = model_file\n",
    "        )\n",
    "}\n"
   ]
  },
  {
   "cell_type": "code",
   "execution_count": null,
   "metadata": {
    "scrolled": false
   },
   "outputs": [],
   "source": [
    "# gaussianfamily and listwise deletion\n",
    "div_models <- \n",
    "    lapply(diversity_index, brm_div)\n",
    "# gaussian and mi for bf_count_s missingness\n",
    "div_models_mi <- \n",
    "    lapply(diversity_index, brm_div_mi)\n",
    "# skew family and listwise deletion\n",
    "div_models_skew <- \n",
    "    lapply(diversity_index, brm_div_skew)\n",
    "# skew family and mi for bf_count_s missingness\n",
    "div_models_skew_mi <- \n",
    "    lapply(diversity_index, brm_div_skew_mi)"
   ]
  },
  {
   "cell_type": "code",
   "execution_count": null,
   "metadata": {
    "scrolled": false
   },
   "outputs": [],
   "source": [
    "source(here(\"R/bayesian_helper.R\"))\n",
    "pp_div <- \n",
    "    lapply(1:length(div_models), function(x) {\n",
    "       pp_plot(div_models[[x]], 10,  diversity_index[x])\n",
    "    } )\n",
    "pp_div_v2 <-\n",
    "    lapply(1:length(div_models), function(x) {\n",
    "       pp_plot_v2(div_models[[x]], 10,  diversity_index[x])\n",
    "    } )\n",
    "pp_div_skew <-\n",
    "    lapply(1:length(div_models_skew), function(x) {\n",
    "       pp_plot(div_models_skew[[x]], 10,  diversity_index[x])\n",
    "\n",
    "    } )\n",
    "pp_div_skew_v2 <-\n",
    "    lapply(1:length(div_models), function(x) {\n",
    "       pp_plot_v2(div_models_skew[[x]], 10,  diversity_index[x])\n",
    "    } )\n",
    "pp_div_mi <- \n",
    "    lapply(1:length(div_models_mi), function(x) {\n",
    "       pp_plot(div_models_mi[[x]], 10,  diversity_index[x])\n",
    "    } )\n",
    "pp_div_mi_v2 <-\n",
    "    lapply(1:length(div_models), function(x) {\n",
    "       pp_plot_v2(div_models_mi[[x]], 10,  diversity_index[x])\n",
    "    } )\n",
    "pp_div_skew_mi <-\n",
    "    lapply(1:length(div_models_skew_mi), function(x) {\n",
    "       pp_plot(div_models_skew_mi[[x]], 10,  diversity_index[x])\n",
    "    } )\n",
    "pp_div_skew_mi_v2 <-\n",
    "    lapply(1:length(div_models), function(x) {\n",
    "       pp_plot_v2(div_models_skew_mi[[x]], 10,  diversity_index[x])\n",
    "    } )"
   ]
  },
  {
   "cell_type": "code",
   "execution_count": null,
   "metadata": {
    "scrolled": false
   },
   "outputs": [],
   "source": [
    "pp_div_skew_mi_v2"
   ]
  },
  {
   "cell_type": "code",
   "execution_count": null,
   "metadata": {},
   "outputs": [],
   "source": [
    "pp_div_mi_v2"
   ]
  },
  {
   "cell_type": "code",
   "execution_count": null,
   "metadata": {
    "scrolled": false
   },
   "outputs": [],
   "source": [
    "lapply(div_models_skew_mi, function(x) {\n",
    "    tidy(x)[1:13,]\n",
    "})"
   ]
  },
  {
   "cell_type": "code",
   "execution_count": null,
   "metadata": {},
   "outputs": [],
   "source": []
  },
  {
   "cell_type": "code",
   "execution_count": null,
   "metadata": {},
   "outputs": [],
   "source": [
    "lapply(div_models, function(x) {\n",
    "    tidy(x)[1:12,]\n",
    "})"
   ]
  },
  {
   "cell_type": "code",
   "execution_count": null,
   "metadata": {},
   "outputs": [],
   "source": [
    "lapply(1:length(div_models), function(x) {\n",
    "   print(pp_plot(div_models[[x]], 10,  diversity_index[x], lower = 0.8, upper = 0.8))\n",
    "   pp_plot_v2(div_models[[x]], 10,  diversity_index[x], lower = 0.8, upper = 0.8)\n",
    "} )"
   ]
  },
  {
   "cell_type": "code",
   "execution_count": null,
   "metadata": {
    "scrolled": false
   },
   "outputs": [],
   "source": [
    "lapply(1:length(div_models_skew), function(x) {\n",
    "   print(pp_plot(div_models_skew[[x]], 10,  diversity_index[x], lower = 0.8, upper = 0.8))\n",
    "   pp_plot_v2(div_models_skew[[x]], 10,  diversity_index[x], lower = 0.8, upper = 0.8)\n",
    "} )"
   ]
  },
  {
   "cell_type": "code",
   "execution_count": null,
   "metadata": {},
   "outputs": [],
   "source": [
    "lapply(div_models_skew, function(x) {\n",
    "    tidy(x)[1:12,]\n",
    "})"
   ]
  },
  {
   "cell_type": "code",
   "execution_count": null,
   "metadata": {},
   "outputs": [],
   "source": [
    "source(here(\"R/bayesian_helper.R\"))\n",
    "p_samples <- posterior_samples(div_models_skew_mi[[2]])\n",
    "\n",
    "# if we imputed data with brms, then output will be array and we first need\n",
    "# to select the correct dim\n",
    "if (length(dim(p_samples)) > 2) {\n",
    "    p_samples <- p_samples[, , 1]\n",
    "}\n",
    "colnames(p_samples) <- gsub(\"shannon_\", \"\", colnames(p_samples))\n",
    "colnames(p_samples) <- gsub(\"ginisimpson_\", \"\", colnames(p_samples))\n",
    "colnames(p_samples) <- gsub(\"inversesimpson_\", \"\", colnames(p_samples))\n",
    "p_samples %>% head()"
   ]
  },
  {
   "cell_type": "code",
   "execution_count": null,
   "metadata": {
    "scrolled": false
   },
   "outputs": [],
   "source": [
    "source(here(\"R/bayesian_helper.R\"))\n",
    "\n",
    "contrast_plot <- function(model) {\n",
    "    # compare post_cc to all other groups\n",
    "    mean_diff <- \n",
    "        cc_time_contrast(model) %>%\n",
    "            mutate(\n",
    "                post_cc_min_post_nocc = post_cc_mu - post_nocc_mu,\n",
    "                post_cc_min_pre_cc = post_cc_mu - pre_cc_mu,\n",
    "                post_cc_min_pre_nocc = post_cc_mu - pre_nocc_mu\n",
    "            ) %>%\n",
    "            select(post_cc_min_post_nocc, post_cc_min_pre_cc, post_cc_min_pre_nocc)\n",
    "    # what is the prob that post_cc is not different from group xyz\n",
    "    mean_diff %>% summarise_all(function(x) mean(x>0)) %>% print()\n",
    "    # plot posterior mean post_cc - other mean\n",
    "    mean_diff %>%\n",
    "        gather(term, value) %>%\n",
    "        group_by(term) %>%\n",
    "        do(data.frame(\n",
    "            mean = mean(.$value),\n",
    "            lower = hpdi(.$value)[1],\n",
    "            upper = hpdi(.$value)[2]\n",
    "        )) %>%\n",
    "        ggplot(aes(term, mean)) +\n",
    "            geom_pointrange(aes(ymin = lower, ymax = upper)) +\n",
    "            geom_hline(aes(yintercept = 0), linetype = \"dashed\") +\n",
    "            ylim(-1, 0.5) +\n",
    "            coord_flip()}\n",
    "                                \n",
    "lapply(div_models_skew_mi, contrast_plot)\n",
    "                                \n",
    "\n",
    "\n"
   ]
  },
  {
   "cell_type": "markdown",
   "metadata": {},
   "source": [
    "# TODO\n",
    "Before interpreting this, clear up the confusion about why these values that were stored in the sample data are so different from what I did..."
   ]
  },
  {
   "cell_type": "code",
   "execution_count": null,
   "metadata": {
    "scrolled": false
   },
   "outputs": [],
   "source": [
    "ivs1 <- sample_data(genus) %>% \n",
    "    select(sample, diversity.invsimpson) \n",
    "    \n",
    "ivs2 <- data %>% \n",
    "    select(sample, inverse_simpson)\n",
    "ivs3 <- diversities(genus, index = \"all\") %>% \n",
    "    rownames_to_column(\"sample\") %>%\n",
    "    select(sample, inverse_simpson)\n",
    "\n",
    "left_join(ivs1, ivs2, by = \"sample\") %>% \n",
    "    left_join(ivs3, by = \"sample\") %>%\n",
    "    na.omit() %>%\n",
    "    mutate(\n",
    "        invsimpson_s = scale(diversity.invsimpson)[, 1], \n",
    "        invsimpson_s1 = scale(inverse_simpson.x)[, 1],\n",
    "        invsimpson_s2 = scale(inverse_simpson.y)[, 1]) %>%\n",
    "        select(sample, invsimpson_s, invsimpson_s1, invsimpson_s2)\n"
   ]
  },
  {
   "cell_type": "code",
   "execution_count": null,
   "metadata": {},
   "outputs": [],
   "source": [
    "dd2 <- \n",
    "    data %>% left_join(ivs1, by = \"sample\") %>%\n",
    "        mutate(diversity_invsimpson = scale(diversity.invsimpson)[, 1])\n",
    "    \n",
    "brm_div_skew_mi <- function(diversity_index) {\n",
    "        # delete _ for prior\n",
    "        div_prior <- gsub(\"_\", \"\", diversity_index)\n",
    "        # specify prior \n",
    "        prior_n <- c(\n",
    "            set_prior(\"normal(0, 2)\", class = \"b\", resp = div_prior),\n",
    "            set_prior(\"exponential(25)\", class = \"sd\", resp = div_prior),\n",
    "            set_prior(\"normal(0, 10)\", class = \"Intercept\", resp = div_prior), \n",
    "            set_prior(\"lkj(2)\", class = \"cor\"),             \n",
    "            set_prior(\"normal(0, 2)\", class = \"b\", resp = \"bfcounts\"),\n",
    "            set_prior(\"exponential(25)\", class = \"sd\", resp = \"bfcounts\"),\n",
    "            set_prior(\"normal(0, 10)\", class = \"Intercept\", resp = \"bfcounts\"))\n",
    "        # formula\n",
    "        f1 <- as.formula(glue(\"{diversity_index} |mi() ~ cc*time + age_d_s + mi(bf_count_s) + (1 + time + age_d_s + mi(bf_count_s)|subject_id)\"))\n",
    "        f2 <- as.formula(glue(\"bf_count_s |mi() ~ cc*time + {diversity_index} + age_d_s + (1 + time + age_d_s + {diversity_index}|subject_id)\"))\n",
    "        formula <- bf(f1) + bf(f2) + set_rescor(FALSE)\n",
    "        model_file <- glue(\"{folder}/skew_normal/{diversity_index}_full_mi\")\n",
    "        #fit model\n",
    "        brm(\n",
    "            family = skew_normal(), data = dd2, formula = formula,\n",
    "            warmup = 1000, control = list(adapt_delta = 0.9999, max_treedepth = 15), \n",
    "            prior = prior_n, file = model_file\n",
    "        )\n",
    "}\n",
    "\n",
    "test <- brm_div_skew_mi(\"diversity_invsimpson\")"
   ]
  },
  {
   "cell_type": "code",
   "execution_count": null,
   "metadata": {
    "scrolled": false
   },
   "outputs": [],
   "source": [
    "source(here(\"R/bayesian_helper.R\"))\n",
    "contrast_plot(test)"
   ]
  },
  {
   "cell_type": "code",
   "execution_count": null,
   "metadata": {},
   "outputs": [],
   "source": [
    "10^(0.25)"
   ]
  },
  {
   "cell_type": "code",
   "execution_count": null,
   "metadata": {},
   "outputs": [],
   "source": []
  }
 ],
 "metadata": {
  "kernelspec": {
   "display_name": "R",
   "language": "R",
   "name": "ir"
  },
  "language_info": {
   "codemirror_mode": "r",
   "file_extension": ".r",
   "mimetype": "text/x-r-source",
   "name": "R",
   "pygments_lexer": "r",
   "version": "3.5.2"
  }
 },
 "nbformat": 4,
 "nbformat_minor": 2
}
