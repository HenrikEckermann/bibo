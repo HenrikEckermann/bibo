{
 "cells": [
  {
   "cell_type": "code",
   "execution_count": 81,
   "metadata": {},
   "outputs": [],
   "source": [
    "library(microbiome)\n",
    "library(brms)\n",
    "library(tidyverse)\n",
    "library(broom)"
   ]
  },
  {
   "cell_type": "code",
   "execution_count": 47,
   "metadata": {},
   "outputs": [],
   "source": [
    "data(dietswap)"
   ]
  },
  {
   "cell_type": "code",
   "execution_count": 48,
   "metadata": {},
   "outputs": [],
   "source": [
    "otu <- otu_table(dietswap)\n",
    "meta <- sample_data(dietswap)"
   ]
  },
  {
   "cell_type": "code",
   "execution_count": 52,
   "metadata": {},
   "outputs": [
    {
     "data": {
      "text/html": [
       "<table>\n",
       "<thead><tr><th></th><th scope=col>subject</th><th scope=col>sex</th><th scope=col>nationality</th><th scope=col>group</th><th scope=col>sample</th><th scope=col>timepoint</th><th scope=col>timepoint.within.group</th><th scope=col>bmi_group</th></tr></thead>\n",
       "<tbody>\n",
       "\t<tr><th scope=row>Sample-1</th><td>byn       </td><td>Male      </td><td>AAM       </td><td>DI        </td><td>Sample-1  </td><td>4         </td><td>1         </td><td>obese     </td></tr>\n",
       "\t<tr><th scope=row>Sample-2</th><td>nms       </td><td>Male      </td><td>AFR       </td><td>HE        </td><td>Sample-2  </td><td>2         </td><td>1         </td><td>lean      </td></tr>\n",
       "\t<tr><th scope=row>Sample-3</th><td>olt       </td><td>Male      </td><td>AFR       </td><td>HE        </td><td>Sample-3  </td><td>2         </td><td>1         </td><td>overweight</td></tr>\n",
       "\t<tr><th scope=row>Sample-4</th><td>pku       </td><td>Female    </td><td>AFR       </td><td>HE        </td><td>Sample-4  </td><td>2         </td><td>1         </td><td>obese     </td></tr>\n",
       "\t<tr><th scope=row>Sample-5</th><td>qjy       </td><td>Female    </td><td>AFR       </td><td>HE        </td><td>Sample-5  </td><td>2         </td><td>1         </td><td>overweight</td></tr>\n",
       "\t<tr><th scope=row>Sample-6</th><td>riv       </td><td>Female    </td><td>AFR       </td><td>HE        </td><td>Sample-6  </td><td>2         </td><td>1         </td><td>obese     </td></tr>\n",
       "</tbody>\n",
       "</table>\n"
      ],
      "text/latex": [
       "\\begin{tabular}{r|llllllll}\n",
       "  & subject & sex & nationality & group & sample & timepoint & timepoint.within.group & bmi\\_group\\\\\n",
       "\\hline\n",
       "\tSample-1 & byn        & Male       & AAM        & DI         & Sample-1   & 4          & 1          & obese     \\\\\n",
       "\tSample-2 & nms        & Male       & AFR        & HE         & Sample-2   & 2          & 1          & lean      \\\\\n",
       "\tSample-3 & olt        & Male       & AFR        & HE         & Sample-3   & 2          & 1          & overweight\\\\\n",
       "\tSample-4 & pku        & Female     & AFR        & HE         & Sample-4   & 2          & 1          & obese     \\\\\n",
       "\tSample-5 & qjy        & Female     & AFR        & HE         & Sample-5   & 2          & 1          & overweight\\\\\n",
       "\tSample-6 & riv        & Female     & AFR        & HE         & Sample-6   & 2          & 1          & obese     \\\\\n",
       "\\end{tabular}\n"
      ],
      "text/markdown": [
       "\n",
       "| <!--/--> | subject | sex | nationality | group | sample | timepoint | timepoint.within.group | bmi_group | \n",
       "|---|---|---|---|---|---|\n",
       "| Sample-1 | byn        | Male       | AAM        | DI         | Sample-1   | 4          | 1          | obese      | \n",
       "| Sample-2 | nms        | Male       | AFR        | HE         | Sample-2   | 2          | 1          | lean       | \n",
       "| Sample-3 | olt        | Male       | AFR        | HE         | Sample-3   | 2          | 1          | overweight | \n",
       "| Sample-4 | pku        | Female     | AFR        | HE         | Sample-4   | 2          | 1          | obese      | \n",
       "| Sample-5 | qjy        | Female     | AFR        | HE         | Sample-5   | 2          | 1          | overweight | \n",
       "| Sample-6 | riv        | Female     | AFR        | HE         | Sample-6   | 2          | 1          | obese      | \n",
       "\n",
       "\n"
      ],
      "text/plain": [
       "         subject sex    nationality group sample   timepoint\n",
       "Sample-1 byn     Male   AAM         DI    Sample-1 4        \n",
       "Sample-2 nms     Male   AFR         HE    Sample-2 2        \n",
       "Sample-3 olt     Male   AFR         HE    Sample-3 2        \n",
       "Sample-4 pku     Female AFR         HE    Sample-4 2        \n",
       "Sample-5 qjy     Female AFR         HE    Sample-5 2        \n",
       "Sample-6 riv     Female AFR         HE    Sample-6 2        \n",
       "         timepoint.within.group bmi_group \n",
       "Sample-1 1                      obese     \n",
       "Sample-2 1                      lean      \n",
       "Sample-3 1                      overweight\n",
       "Sample-4 1                      obese     \n",
       "Sample-5 1                      overweight\n",
       "Sample-6 1                      obese     "
      ]
     },
     "metadata": {},
     "output_type": "display_data"
    },
    {
     "data": {
      "text/html": [
       "<table>\n",
       "<thead><tr><th></th><th scope=col>Sample-1</th><th scope=col>Sample-2</th><th scope=col>Sample-3</th><th scope=col>Sample-4</th><th scope=col>Sample-5</th><th scope=col>Sample-6</th><th scope=col>Sample-7</th><th scope=col>Sample-8</th><th scope=col>Sample-9</th><th scope=col>Sample-10</th><th scope=col>⋯</th><th scope=col>Sample-213</th><th scope=col>Sample-214</th><th scope=col>Sample-215</th><th scope=col>Sample-216</th><th scope=col>Sample-217</th><th scope=col>Sample-218</th><th scope=col>Sample-219</th><th scope=col>Sample-220</th><th scope=col>Sample-221</th><th scope=col>Sample-222</th></tr></thead>\n",
       "<tbody>\n",
       "\t<tr><th scope=row>Actinomycetaceae</th><td>2.060778e-05</td><td>5.035640e-05</td><td>1.152133e-05</td><td>5.023935e-05</td><td>1.461157e-05</td><td>1.604835e-05</td><td>2.598353e-05</td><td>1.582669e-05</td><td>4.134911e-05</td><td>2.204031e-05</td><td>⋯           </td><td>1.245257e-05</td><td>1.248259e-05</td><td>5.499382e-05</td><td>1.590784e-05</td><td>3.175146e-05</td><td>3.735251e-05</td><td>1.095725e-05</td><td>1.543964e-05</td><td>2.451799e-05</td><td>2.211021e-05</td></tr>\n",
       "\t<tr><th scope=row>Aerococcus</th><td>1.873435e-06</td><td>7.515881e-07</td><td>5.486348e-07</td><td>1.196175e-06</td><td>9.132228e-07</td><td>8.024175e-07</td><td>1.082647e-06</td><td>7.193950e-07</td><td>1.315653e-05</td><td>9.183462e-07</td><td>⋯           </td><td>7.325041e-07</td><td>8.321725e-07</td><td>1.896339e-06</td><td>1.060523e-06</td><td>7.559870e-07</td><td>1.436635e-06</td><td>9.131044e-07</td><td>8.577580e-07</td><td>1.167523e-06</td><td>7.370071e-07</td></tr>\n",
       "\t<tr><th scope=row>Aeromonas</th><td>1.873435e-06</td><td>7.515881e-07</td><td>5.486348e-07</td><td>1.196175e-06</td><td>9.132228e-07</td><td>8.024175e-07</td><td>1.082647e-06</td><td>7.193950e-07</td><td>1.879505e-06</td><td>9.183462e-07</td><td>⋯           </td><td>7.325041e-07</td><td>8.321725e-07</td><td>1.896339e-06</td><td>1.060523e-06</td><td>7.559870e-07</td><td>1.436635e-06</td><td>9.131044e-07</td><td>8.577580e-07</td><td>1.167523e-06</td><td>7.370071e-07</td></tr>\n",
       "\t<tr><th scope=row>Akkermansia</th><td>2.186298e-03</td><td>4.604980e-03</td><td>2.323469e-03</td><td>1.935890e-02</td><td>1.215500e-03</td><td>8.264900e-04</td><td>1.774459e-03</td><td>1.350304e-03</td><td>2.230972e-03</td><td>7.266873e-03</td><td>⋯           </td><td>1.812948e-03</td><td>8.879280e-04</td><td>2.267452e-02</td><td>4.256939e-03</td><td>1.468127e-03</td><td>1.116265e-03</td><td>8.829720e-04</td><td>1.208581e-03</td><td>5.522385e-03</td><td>2.096785e-03</td></tr>\n",
       "\t<tr><th scope=row>Alcaligenes_faecalis_et_rel</th><td>1.686091e-04</td><td>9.470010e-05</td><td>1.031433e-04</td><td>1.495219e-04</td><td>9.771484e-05</td><td>1.107336e-04</td><td>1.342482e-04</td><td>8.273042e-05</td><td>1.898300e-04</td><td>4.022356e-04</td><td>⋯           </td><td>1.040156e-04</td><td>1.040216e-04</td><td>1.636540e-03</td><td>5.854087e-04</td><td>5.314589e-04</td><td>5.085688e-04</td><td>3.104555e-04</td><td>9.263786e-05</td><td>1.587832e-04</td><td>1.466644e-04</td></tr>\n",
       "\t<tr><th scope=row>Allistipes_et_rel</th><td>3.975803e-02</td><td>2.965767e-03</td><td>1.237720e-03</td><td>7.230879e-03</td><td>2.819119e-03</td><td>8.826593e-04</td><td>3.202470e-03</td><td>2.245232e-03</td><td>1.650205e-03</td><td>1.786183e-03</td><td>⋯           </td><td>3.318976e-03</td><td>1.923151e-03</td><td>1.186729e-02</td><td>6.802194e-03</td><td>2.693582e-03</td><td>9.480355e-03</td><td>4.084225e-02</td><td>3.802441e-03</td><td>1.176863e-02</td><td>3.169868e-03</td></tr>\n",
       "</tbody>\n",
       "</table>\n"
      ],
      "text/latex": [
       "\\begin{tabular}{r|llllllllllllllllllllllllllllllllllllllllllllllllllllllllllllllllllllllllllllllllllllllllllllllllllllllllllllllllllllllllllllllllllllllllllllllllllllllllllllllllllllllllllllllllllllllllllllllllllllllllllllllllllllllllllllll}\n",
       "  & Sample-1 & Sample-2 & Sample-3 & Sample-4 & Sample-5 & Sample-6 & Sample-7 & Sample-8 & Sample-9 & Sample-10 & ⋯ & Sample-213 & Sample-214 & Sample-215 & Sample-216 & Sample-217 & Sample-218 & Sample-219 & Sample-220 & Sample-221 & Sample-222\\\\\n",
       "\\hline\n",
       "\tActinomycetaceae & 2.060778e-05 & 5.035640e-05 & 1.152133e-05 & 5.023935e-05 & 1.461157e-05 & 1.604835e-05 & 2.598353e-05 & 1.582669e-05 & 4.134911e-05 & 2.204031e-05 & ⋯            & 1.245257e-05 & 1.248259e-05 & 5.499382e-05 & 1.590784e-05 & 3.175146e-05 & 3.735251e-05 & 1.095725e-05 & 1.543964e-05 & 2.451799e-05 & 2.211021e-05\\\\\n",
       "\tAerococcus & 1.873435e-06 & 7.515881e-07 & 5.486348e-07 & 1.196175e-06 & 9.132228e-07 & 8.024175e-07 & 1.082647e-06 & 7.193950e-07 & 1.315653e-05 & 9.183462e-07 & ⋯            & 7.325041e-07 & 8.321725e-07 & 1.896339e-06 & 1.060523e-06 & 7.559870e-07 & 1.436635e-06 & 9.131044e-07 & 8.577580e-07 & 1.167523e-06 & 7.370071e-07\\\\\n",
       "\tAeromonas & 1.873435e-06 & 7.515881e-07 & 5.486348e-07 & 1.196175e-06 & 9.132228e-07 & 8.024175e-07 & 1.082647e-06 & 7.193950e-07 & 1.879505e-06 & 9.183462e-07 & ⋯            & 7.325041e-07 & 8.321725e-07 & 1.896339e-06 & 1.060523e-06 & 7.559870e-07 & 1.436635e-06 & 9.131044e-07 & 8.577580e-07 & 1.167523e-06 & 7.370071e-07\\\\\n",
       "\tAkkermansia & 2.186298e-03 & 4.604980e-03 & 2.323469e-03 & 1.935890e-02 & 1.215500e-03 & 8.264900e-04 & 1.774459e-03 & 1.350304e-03 & 2.230972e-03 & 7.266873e-03 & ⋯            & 1.812948e-03 & 8.879280e-04 & 2.267452e-02 & 4.256939e-03 & 1.468127e-03 & 1.116265e-03 & 8.829720e-04 & 1.208581e-03 & 5.522385e-03 & 2.096785e-03\\\\\n",
       "\tAlcaligenes\\_faecalis\\_et\\_rel & 1.686091e-04 & 9.470010e-05 & 1.031433e-04 & 1.495219e-04 & 9.771484e-05 & 1.107336e-04 & 1.342482e-04 & 8.273042e-05 & 1.898300e-04 & 4.022356e-04 & ⋯            & 1.040156e-04 & 1.040216e-04 & 1.636540e-03 & 5.854087e-04 & 5.314589e-04 & 5.085688e-04 & 3.104555e-04 & 9.263786e-05 & 1.587832e-04 & 1.466644e-04\\\\\n",
       "\tAllistipes\\_et\\_rel & 3.975803e-02 & 2.965767e-03 & 1.237720e-03 & 7.230879e-03 & 2.819119e-03 & 8.826593e-04 & 3.202470e-03 & 2.245232e-03 & 1.650205e-03 & 1.786183e-03 & ⋯            & 3.318976e-03 & 1.923151e-03 & 1.186729e-02 & 6.802194e-03 & 2.693582e-03 & 9.480355e-03 & 4.084225e-02 & 3.802441e-03 & 1.176863e-02 & 3.169868e-03\\\\\n",
       "\\end{tabular}\n"
      ],
      "text/markdown": [
       "\n",
       "| <!--/--> | Sample-1 | Sample-2 | Sample-3 | Sample-4 | Sample-5 | Sample-6 | Sample-7 | Sample-8 | Sample-9 | Sample-10 | ⋯ | Sample-213 | Sample-214 | Sample-215 | Sample-216 | Sample-217 | Sample-218 | Sample-219 | Sample-220 | Sample-221 | Sample-222 | \n",
       "|---|---|---|---|---|---|\n",
       "| Actinomycetaceae | 2.060778e-05 | 5.035640e-05 | 1.152133e-05 | 5.023935e-05 | 1.461157e-05 | 1.604835e-05 | 2.598353e-05 | 1.582669e-05 | 4.134911e-05 | 2.204031e-05 | ⋯            | 1.245257e-05 | 1.248259e-05 | 5.499382e-05 | 1.590784e-05 | 3.175146e-05 | 3.735251e-05 | 1.095725e-05 | 1.543964e-05 | 2.451799e-05 | 2.211021e-05 | \n",
       "| Aerococcus | 1.873435e-06 | 7.515881e-07 | 5.486348e-07 | 1.196175e-06 | 9.132228e-07 | 8.024175e-07 | 1.082647e-06 | 7.193950e-07 | 1.315653e-05 | 9.183462e-07 | ⋯            | 7.325041e-07 | 8.321725e-07 | 1.896339e-06 | 1.060523e-06 | 7.559870e-07 | 1.436635e-06 | 9.131044e-07 | 8.577580e-07 | 1.167523e-06 | 7.370071e-07 | \n",
       "| Aeromonas | 1.873435e-06 | 7.515881e-07 | 5.486348e-07 | 1.196175e-06 | 9.132228e-07 | 8.024175e-07 | 1.082647e-06 | 7.193950e-07 | 1.879505e-06 | 9.183462e-07 | ⋯            | 7.325041e-07 | 8.321725e-07 | 1.896339e-06 | 1.060523e-06 | 7.559870e-07 | 1.436635e-06 | 9.131044e-07 | 8.577580e-07 | 1.167523e-06 | 7.370071e-07 | \n",
       "| Akkermansia | 2.186298e-03 | 4.604980e-03 | 2.323469e-03 | 1.935890e-02 | 1.215500e-03 | 8.264900e-04 | 1.774459e-03 | 1.350304e-03 | 2.230972e-03 | 7.266873e-03 | ⋯            | 1.812948e-03 | 8.879280e-04 | 2.267452e-02 | 4.256939e-03 | 1.468127e-03 | 1.116265e-03 | 8.829720e-04 | 1.208581e-03 | 5.522385e-03 | 2.096785e-03 | \n",
       "| Alcaligenes_faecalis_et_rel | 1.686091e-04 | 9.470010e-05 | 1.031433e-04 | 1.495219e-04 | 9.771484e-05 | 1.107336e-04 | 1.342482e-04 | 8.273042e-05 | 1.898300e-04 | 4.022356e-04 | ⋯            | 1.040156e-04 | 1.040216e-04 | 1.636540e-03 | 5.854087e-04 | 5.314589e-04 | 5.085688e-04 | 3.104555e-04 | 9.263786e-05 | 1.587832e-04 | 1.466644e-04 | \n",
       "| Allistipes_et_rel | 3.975803e-02 | 2.965767e-03 | 1.237720e-03 | 7.230879e-03 | 2.819119e-03 | 8.826593e-04 | 3.202470e-03 | 2.245232e-03 | 1.650205e-03 | 1.786183e-03 | ⋯            | 3.318976e-03 | 1.923151e-03 | 1.186729e-02 | 6.802194e-03 | 2.693582e-03 | 9.480355e-03 | 4.084225e-02 | 3.802441e-03 | 1.176863e-02 | 3.169868e-03 | \n",
       "\n",
       "\n"
      ],
      "text/plain": [
       "                            Sample-1     Sample-2     Sample-3     Sample-4    \n",
       "Actinomycetaceae            2.060778e-05 5.035640e-05 1.152133e-05 5.023935e-05\n",
       "Aerococcus                  1.873435e-06 7.515881e-07 5.486348e-07 1.196175e-06\n",
       "Aeromonas                   1.873435e-06 7.515881e-07 5.486348e-07 1.196175e-06\n",
       "Akkermansia                 2.186298e-03 4.604980e-03 2.323469e-03 1.935890e-02\n",
       "Alcaligenes_faecalis_et_rel 1.686091e-04 9.470010e-05 1.031433e-04 1.495219e-04\n",
       "Allistipes_et_rel           3.975803e-02 2.965767e-03 1.237720e-03 7.230879e-03\n",
       "                            Sample-5     Sample-6     Sample-7     Sample-8    \n",
       "Actinomycetaceae            1.461157e-05 1.604835e-05 2.598353e-05 1.582669e-05\n",
       "Aerococcus                  9.132228e-07 8.024175e-07 1.082647e-06 7.193950e-07\n",
       "Aeromonas                   9.132228e-07 8.024175e-07 1.082647e-06 7.193950e-07\n",
       "Akkermansia                 1.215500e-03 8.264900e-04 1.774459e-03 1.350304e-03\n",
       "Alcaligenes_faecalis_et_rel 9.771484e-05 1.107336e-04 1.342482e-04 8.273042e-05\n",
       "Allistipes_et_rel           2.819119e-03 8.826593e-04 3.202470e-03 2.245232e-03\n",
       "                            Sample-9     Sample-10    ⋯ Sample-213  \n",
       "Actinomycetaceae            4.134911e-05 2.204031e-05 ⋯ 1.245257e-05\n",
       "Aerococcus                  1.315653e-05 9.183462e-07 ⋯ 7.325041e-07\n",
       "Aeromonas                   1.879505e-06 9.183462e-07 ⋯ 7.325041e-07\n",
       "Akkermansia                 2.230972e-03 7.266873e-03 ⋯ 1.812948e-03\n",
       "Alcaligenes_faecalis_et_rel 1.898300e-04 4.022356e-04 ⋯ 1.040156e-04\n",
       "Allistipes_et_rel           1.650205e-03 1.786183e-03 ⋯ 3.318976e-03\n",
       "                            Sample-214   Sample-215   Sample-216   Sample-217  \n",
       "Actinomycetaceae            1.248259e-05 5.499382e-05 1.590784e-05 3.175146e-05\n",
       "Aerococcus                  8.321725e-07 1.896339e-06 1.060523e-06 7.559870e-07\n",
       "Aeromonas                   8.321725e-07 1.896339e-06 1.060523e-06 7.559870e-07\n",
       "Akkermansia                 8.879280e-04 2.267452e-02 4.256939e-03 1.468127e-03\n",
       "Alcaligenes_faecalis_et_rel 1.040216e-04 1.636540e-03 5.854087e-04 5.314589e-04\n",
       "Allistipes_et_rel           1.923151e-03 1.186729e-02 6.802194e-03 2.693582e-03\n",
       "                            Sample-218   Sample-219   Sample-220   Sample-221  \n",
       "Actinomycetaceae            3.735251e-05 1.095725e-05 1.543964e-05 2.451799e-05\n",
       "Aerococcus                  1.436635e-06 9.131044e-07 8.577580e-07 1.167523e-06\n",
       "Aeromonas                   1.436635e-06 9.131044e-07 8.577580e-07 1.167523e-06\n",
       "Akkermansia                 1.116265e-03 8.829720e-04 1.208581e-03 5.522385e-03\n",
       "Alcaligenes_faecalis_et_rel 5.085688e-04 3.104555e-04 9.263786e-05 1.587832e-04\n",
       "Allistipes_et_rel           9.480355e-03 4.084225e-02 3.802441e-03 1.176863e-02\n",
       "                            Sample-222  \n",
       "Actinomycetaceae            2.211021e-05\n",
       "Aerococcus                  7.370071e-07\n",
       "Aeromonas                   7.370071e-07\n",
       "Akkermansia                 2.096785e-03\n",
       "Alcaligenes_faecalis_et_rel 1.466644e-04\n",
       "Allistipes_et_rel           3.169868e-03"
      ]
     },
     "metadata": {},
     "output_type": "display_data"
    }
   ],
   "source": [
    "head(meta)\n",
    "rownames(otu) <- gsub(\" \", \"_\", rownames(otu))\n",
    "rownames(otu) <- gsub(\"\\\\.\", \"\", rownames(otu))\n",
    "rownames(otu) <- gsub(\"Clostridium_\\\\(sensu_stricto\\\\)\", \"Clostridium_sensu_stricto\", rownames(otu))\n",
    "otu.rel <- microbiome::transform(otu, \"compositional\")\n",
    "head(otu.rel)"
   ]
  },
  {
   "cell_type": "markdown",
   "metadata": {},
   "source": [
    "species <- rownames(otu)\n",
    "lapply(species, function(name) {\n",
    "    otu %>% t() %>% \n",
    "    as.data.frame() %>%\n",
    "    ggplot(aes_string(name)) +\n",
    "        geom_density()\n",
    "})"
   ]
  },
  {
   "cell_type": "code",
   "execution_count": 55,
   "metadata": {},
   "outputs": [
    {
     "ename": "ERROR",
     "evalue": "Error in princomp.default(otu.rel): 'princomp' can only be used with more units than variables\n",
     "output_type": "error",
     "traceback": [
      "Error in princomp.default(otu.rel): 'princomp' can only be used with more units than variables\nTraceback:\n",
      "1. princomp(otu.rel)",
      "2. princomp.default(otu.rel)",
      "3. stop(\"'princomp' can only be used with more units than variables\")"
     ]
    }
   ],
   "source": []
  },
  {
   "cell_type": "code",
   "execution_count": 71,
   "metadata": {},
   "outputs": [
    {
     "name": "stderr",
     "output_type": "stream",
     "text": [
      "Compiling the C++ model\n",
      "Start sampling\n"
     ]
    },
    {
     "name": "stdout",
     "output_type": "stream",
     "text": [
      "\n",
      "SAMPLING FOR MODEL 'bdff27d76867b888fd9852c6a8999a59' NOW (CHAIN 1).\n",
      "\n",
      "Gradient evaluation took 8.9e-05 seconds\n",
      "1000 transitions using 10 leapfrog steps per transition would take 0.89 seconds.\n",
      "Adjust your expectations accordingly!\n",
      "\n",
      "\n",
      "Iteration:    1 / 2000 [  0%]  (Warmup)\n",
      "Iteration:  200 / 2000 [ 10%]  (Warmup)\n",
      "Iteration:  400 / 2000 [ 20%]  (Warmup)\n",
      "Iteration:  600 / 2000 [ 30%]  (Warmup)\n",
      "Iteration:  800 / 2000 [ 40%]  (Warmup)\n",
      "Iteration: 1000 / 2000 [ 50%]  (Warmup)\n",
      "Iteration: 1001 / 2000 [ 50%]  (Sampling)\n",
      "Iteration: 1200 / 2000 [ 60%]  (Sampling)\n",
      "Iteration: 1400 / 2000 [ 70%]  (Sampling)\n",
      "Iteration: 1600 / 2000 [ 80%]  (Sampling)\n",
      "Iteration: 1800 / 2000 [ 90%]  (Sampling)\n",
      "Iteration: 2000 / 2000 [100%]  (Sampling)\n",
      "\n",
      " Elapsed Time: 7.4957 seconds (Warm-up)\n",
      "               4.64011 seconds (Sampling)\n",
      "               12.1358 seconds (Total)\n",
      "\n",
      "\n",
      "SAMPLING FOR MODEL 'bdff27d76867b888fd9852c6a8999a59' NOW (CHAIN 2).\n",
      "\n",
      "Gradient evaluation took 3.2e-05 seconds\n",
      "1000 transitions using 10 leapfrog steps per transition would take 0.32 seconds.\n",
      "Adjust your expectations accordingly!\n",
      "\n",
      "\n",
      "Iteration:    1 / 2000 [  0%]  (Warmup)\n",
      "Iteration:  200 / 2000 [ 10%]  (Warmup)\n",
      "Iteration:  400 / 2000 [ 20%]  (Warmup)\n",
      "Iteration:  600 / 2000 [ 30%]  (Warmup)\n",
      "Iteration:  800 / 2000 [ 40%]  (Warmup)\n",
      "Iteration: 1000 / 2000 [ 50%]  (Warmup)\n",
      "Iteration: 1001 / 2000 [ 50%]  (Sampling)\n",
      "Iteration: 1200 / 2000 [ 60%]  (Sampling)\n",
      "Iteration: 1400 / 2000 [ 70%]  (Sampling)\n",
      "Iteration: 1600 / 2000 [ 80%]  (Sampling)\n",
      "Iteration: 1800 / 2000 [ 90%]  (Sampling)\n",
      "Iteration: 2000 / 2000 [100%]  (Sampling)\n",
      "\n",
      " Elapsed Time: 8.32807 seconds (Warm-up)\n",
      "               4.04492 seconds (Sampling)\n",
      "               12.373 seconds (Total)\n",
      "\n",
      "\n",
      "SAMPLING FOR MODEL 'bdff27d76867b888fd9852c6a8999a59' NOW (CHAIN 3).\n",
      "\n",
      "Gradient evaluation took 2.5e-05 seconds\n",
      "1000 transitions using 10 leapfrog steps per transition would take 0.25 seconds.\n",
      "Adjust your expectations accordingly!\n",
      "\n",
      "\n",
      "Iteration:    1 / 2000 [  0%]  (Warmup)\n",
      "Iteration:  200 / 2000 [ 10%]  (Warmup)\n",
      "Iteration:  400 / 2000 [ 20%]  (Warmup)\n",
      "Iteration:  600 / 2000 [ 30%]  (Warmup)\n",
      "Iteration:  800 / 2000 [ 40%]  (Warmup)\n",
      "Iteration: 1000 / 2000 [ 50%]  (Warmup)\n",
      "Iteration: 1001 / 2000 [ 50%]  (Sampling)\n",
      "Iteration: 1200 / 2000 [ 60%]  (Sampling)\n",
      "Iteration: 1400 / 2000 [ 70%]  (Sampling)\n",
      "Iteration: 1600 / 2000 [ 80%]  (Sampling)\n",
      "Iteration: 1800 / 2000 [ 90%]  (Sampling)\n",
      "Iteration: 2000 / 2000 [100%]  (Sampling)\n",
      "\n",
      " Elapsed Time: 7.60138 seconds (Warm-up)\n",
      "               5.55883 seconds (Sampling)\n",
      "               13.1602 seconds (Total)\n",
      "\n",
      "\n",
      "SAMPLING FOR MODEL 'bdff27d76867b888fd9852c6a8999a59' NOW (CHAIN 4).\n",
      "\n",
      "Gradient evaluation took 2.5e-05 seconds\n",
      "1000 transitions using 10 leapfrog steps per transition would take 0.25 seconds.\n",
      "Adjust your expectations accordingly!\n",
      "\n",
      "\n",
      "Iteration:    1 / 2000 [  0%]  (Warmup)\n",
      "Iteration:  200 / 2000 [ 10%]  (Warmup)\n",
      "Iteration:  400 / 2000 [ 20%]  (Warmup)\n",
      "Iteration:  600 / 2000 [ 30%]  (Warmup)\n",
      "Iteration:  800 / 2000 [ 40%]  (Warmup)\n",
      "Iteration: 1000 / 2000 [ 50%]  (Warmup)\n",
      "Iteration: 1001 / 2000 [ 50%]  (Sampling)\n",
      "Iteration: 1200 / 2000 [ 60%]  (Sampling)\n",
      "Iteration: 1400 / 2000 [ 70%]  (Sampling)\n",
      "Iteration: 1600 / 2000 [ 80%]  (Sampling)\n",
      "Iteration: 1800 / 2000 [ 90%]  (Sampling)\n",
      "Iteration: 2000 / 2000 [100%]  (Sampling)\n",
      "\n",
      " Elapsed Time: 6.98264 seconds (Warm-up)\n",
      "               2.82785 seconds (Sampling)\n",
      "               9.81048 seconds (Total)\n",
      "\n"
     ]
    },
    {
     "name": "stderr",
     "output_type": "stream",
     "text": [
      "Warning message:\n",
      "“There were 1 transitions after warmup that exceeded the maximum treedepth. Increase max_treedepth above 10. See\n",
      "http://mc-stan.org/misc/warnings.html#maximum-treedepth-exceeded”Warning message:\n",
      "“Examine the pairs() plot to diagnose sampling problems\n",
      "”"
     ]
    }
   ],
   "source": [
    "meta <- meta %>% as.data.frame() \n",
    "test <- \n",
    "    otu.rel %>% t() %>% as.data.frame() %>% rownames_to_column(\"sample\") %>%left_join(meta, by = \"sample\") %>%\n",
    "    mutate(bmi_group = ifelse(bmi_group == \"obese\", 1, 0)) %>%\n",
    "        brm(family = bernoulli(link = \"logit\"), data = ., bmi_group ~ Bifidobacterium*Enterococcus*Bilophila_et_rel)"
   ]
  },
  {
   "cell_type": "code",
   "execution_count": 82,
   "metadata": {},
   "outputs": [
    {
     "data": {
      "text/html": [
       "<table>\n",
       "<thead><tr><th scope=col>term</th><th scope=col>estimate</th><th scope=col>std.error</th><th scope=col>lower</th><th scope=col>upper</th></tr></thead>\n",
       "<tbody>\n",
       "\t<tr><td>b_Intercept                                    </td><td> 1.039134e+00                                  </td><td>6.088009e-01                                   </td><td> 3.951827e-02                                  </td><td> 2.048039e+00                                  </td></tr>\n",
       "\t<tr><td>b_Bifidobacterium                              </td><td> 1.667691e+01                                  </td><td>6.560074e+01                                   </td><td>-8.698383e+01                                  </td><td> 1.277616e+02                                  </td></tr>\n",
       "\t<tr><td>b_Enterococcus                                 </td><td>-2.522936e+03                                  </td><td>1.394449e+03                                   </td><td>-5.035843e+03                                  </td><td>-4.854910e+02                                  </td></tr>\n",
       "\t<tr><td>b_Bilophila_et_rel                             </td><td>-9.788658e+03                                  </td><td>4.396207e+03                                   </td><td>-1.714358e+04                                  </td><td>-2.482221e+03                                  </td></tr>\n",
       "\t<tr><td>b_Bifidobacterium:Enterococcus                 </td><td> 1.511735e+05                                  </td><td>9.616729e+04                                   </td><td> 6.620410e+03                                  </td><td> 3.274407e+05                                  </td></tr>\n",
       "\t<tr><td>b_Bifidobacterium:Bilophila_et_rel             </td><td>-2.395367e+04                                  </td><td>4.826349e+05                                   </td><td>-8.483991e+05                                  </td><td> 7.565450e+05                                  </td></tr>\n",
       "\t<tr><td>b_Enterococcus:Bilophila_et_rel                </td><td> 1.412381e+07                                  </td><td>9.010731e+06                                   </td><td>-1.066422e+05                                  </td><td> 2.922386e+07                                  </td></tr>\n",
       "\t<tr><td>b_Bifidobacterium:Enterococcus:Bilophila_et_rel</td><td>-1.147614e+09                                  </td><td>7.290539e+08                                   </td><td>-2.472195e+09                                  </td><td>-6.241767e+07                                  </td></tr>\n",
       "\t<tr><td>lp__                                           </td><td>-1.492916e+02                                  </td><td>2.116272e+00                                   </td><td>-1.532722e+02                                  </td><td>-1.464778e+02                                  </td></tr>\n",
       "</tbody>\n",
       "</table>\n"
      ],
      "text/latex": [
       "\\begin{tabular}{r|lllll}\n",
       " term & estimate & std.error & lower & upper\\\\\n",
       "\\hline\n",
       "\t b\\_Intercept                                     &  1.039134e+00                                     & 6.088009e-01                                      &  3.951827e-02                                     &  2.048039e+00                                    \\\\\n",
       "\t b\\_Bifidobacterium                               &  1.667691e+01                                     & 6.560074e+01                                      & -8.698383e+01                                     &  1.277616e+02                                    \\\\\n",
       "\t b\\_Enterococcus                                  & -2.522936e+03                                     & 1.394449e+03                                      & -5.035843e+03                                     & -4.854910e+02                                    \\\\\n",
       "\t b\\_Bilophila\\_et\\_rel                              & -9.788658e+03                                         & 4.396207e+03                                          & -1.714358e+04                                         & -2.482221e+03                                        \\\\\n",
       "\t b\\_Bifidobacterium:Enterococcus                  &  1.511735e+05                                     & 9.616729e+04                                      &  6.620410e+03                                     &  3.274407e+05                                    \\\\\n",
       "\t b\\_Bifidobacterium:Bilophila\\_et\\_rel              & -2.395367e+04                                         & 4.826349e+05                                          & -8.483991e+05                                         &  7.565450e+05                                        \\\\\n",
       "\t b\\_Enterococcus:Bilophila\\_et\\_rel                 &  1.412381e+07                                         & 9.010731e+06                                          & -1.066422e+05                                         &  2.922386e+07                                        \\\\\n",
       "\t b\\_Bifidobacterium:Enterococcus:Bilophila\\_et\\_rel & -1.147614e+09                                         & 7.290539e+08                                          & -2.472195e+09                                         & -6.241767e+07                                        \\\\\n",
       "\t lp\\_\\_                                            & -1.492916e+02                                       & 2.116272e+00                                        & -1.532722e+02                                       & -1.464778e+02                                      \\\\\n",
       "\\end{tabular}\n"
      ],
      "text/markdown": [
       "\n",
       "term | estimate | std.error | lower | upper | \n",
       "|---|---|---|---|---|---|---|---|---|\n",
       "| b_Intercept                                     |  1.039134e+00                                   | 6.088009e-01                                    |  3.951827e-02                                   |  2.048039e+00                                   | \n",
       "| b_Bifidobacterium                               |  1.667691e+01                                   | 6.560074e+01                                    | -8.698383e+01                                   |  1.277616e+02                                   | \n",
       "| b_Enterococcus                                  | -2.522936e+03                                   | 1.394449e+03                                    | -5.035843e+03                                   | -4.854910e+02                                   | \n",
       "| b_Bilophila_et_rel                              | -9.788658e+03                                   | 4.396207e+03                                    | -1.714358e+04                                   | -2.482221e+03                                   | \n",
       "| b_Bifidobacterium:Enterococcus                  |  1.511735e+05                                   | 9.616729e+04                                    |  6.620410e+03                                   |  3.274407e+05                                   | \n",
       "| b_Bifidobacterium:Bilophila_et_rel              | -2.395367e+04                                   | 4.826349e+05                                    | -8.483991e+05                                   |  7.565450e+05                                   | \n",
       "| b_Enterococcus:Bilophila_et_rel                 |  1.412381e+07                                   | 9.010731e+06                                    | -1.066422e+05                                   |  2.922386e+07                                   | \n",
       "| b_Bifidobacterium:Enterococcus:Bilophila_et_rel | -1.147614e+09                                   | 7.290539e+08                                    | -2.472195e+09                                   | -6.241767e+07                                   | \n",
       "| lp__                                            | -1.492916e+02                                   | 2.116272e+00                                    | -1.532722e+02                                   | -1.464778e+02                                   | \n",
       "\n",
       "\n"
      ],
      "text/plain": [
       "  term                                            estimate      std.error   \n",
       "1 b_Intercept                                      1.039134e+00 6.088009e-01\n",
       "2 b_Bifidobacterium                                1.667691e+01 6.560074e+01\n",
       "3 b_Enterococcus                                  -2.522936e+03 1.394449e+03\n",
       "4 b_Bilophila_et_rel                              -9.788658e+03 4.396207e+03\n",
       "5 b_Bifidobacterium:Enterococcus                   1.511735e+05 9.616729e+04\n",
       "6 b_Bifidobacterium:Bilophila_et_rel              -2.395367e+04 4.826349e+05\n",
       "7 b_Enterococcus:Bilophila_et_rel                  1.412381e+07 9.010731e+06\n",
       "8 b_Bifidobacterium:Enterococcus:Bilophila_et_rel -1.147614e+09 7.290539e+08\n",
       "9 lp__                                            -1.492916e+02 2.116272e+00\n",
       "  lower         upper        \n",
       "1  3.951827e-02  2.048039e+00\n",
       "2 -8.698383e+01  1.277616e+02\n",
       "3 -5.035843e+03 -4.854910e+02\n",
       "4 -1.714358e+04 -2.482221e+03\n",
       "5  6.620410e+03  3.274407e+05\n",
       "6 -8.483991e+05  7.565450e+05\n",
       "7 -1.066422e+05  2.922386e+07\n",
       "8 -2.472195e+09 -6.241767e+07\n",
       "9 -1.532722e+02 -1.464778e+02"
      ]
     },
     "metadata": {},
     "output_type": "display_data"
    }
   ],
   "source": [
    "test %>% tidy()"
   ]
  },
  {
   "cell_type": "code",
   "execution_count": null,
   "metadata": {},
   "outputs": [],
   "source": []
  }
 ],
 "metadata": {
  "kernelspec": {
   "display_name": "R",
   "language": "R",
   "name": "ir"
  },
  "language_info": {
   "codemirror_mode": "r",
   "file_extension": ".r",
   "mimetype": "text/x-r-source",
   "name": "R",
   "pygments_lexer": "r",
   "version": "3.5.1"
  }
 },
 "nbformat": 4,
 "nbformat_minor": 2
}
