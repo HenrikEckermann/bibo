{
 "cells": [
  {
   "cell_type": "code",
   "execution_count": 1,
   "metadata": {},
   "outputs": [
    {
     "name": "stderr",
     "output_type": "stream",
     "text": [
      "── Attaching packages ─────────────────────────────────────── tidyverse 1.2.1 ──\n",
      "✔ ggplot2 3.0.0     ✔ purrr   0.2.5\n",
      "✔ tibble  1.4.2     ✔ dplyr   0.7.7\n",
      "✔ tidyr   0.8.1     ✔ stringr 1.3.1\n",
      "✔ readr   1.1.1     ✔ forcats 0.3.0\n",
      "── Conflicts ────────────────────────────────────────── tidyverse_conflicts() ──\n",
      "✖ dplyr::filter() masks stats::filter()\n",
      "✖ dplyr::lag()    masks stats::lag()\n",
      "Loading required package: Rcpp\n",
      "Loading 'brms' package (version 2.5.0). Useful instructions\n",
      "can be found by typing help('brms'). A more detailed introduction\n",
      "to the package is available through vignette('brms_overview').\n",
      "Run theme_set(theme_default()) to use the default bayesplot theme.\n",
      "here() starts at /Users/henrikeckermann/workspace/research_master/minor_research_project/article/analyses/bibo\n",
      "This is loo version 2.0.0.\n",
      "**NOTE: As of version 2.0.0 loo defaults to 1 core but we recommend using as many as possible. Use the 'cores' argument or set options(mc.cores = NUM_CORES) for an entire session. Visit mc-stan.org/loo/news for details on other changes.\n",
      "\n",
      "Attaching package: ‘glue’\n",
      "\n",
      "The following object is masked from ‘package:dplyr’:\n",
      "\n",
      "    collapse\n",
      "\n"
     ]
    },
    {
     "ename": "ERROR",
     "evalue": "Error in options(mc.cores = ): argument is missing, with no default\n",
     "output_type": "error",
     "traceback": [
      "Error in options(mc.cores = ): argument is missing, with no default\nTraceback:\n",
      "1. options(mc.cores = )"
     ]
    }
   ],
   "source": [
    "library(tidyverse)\n",
    "library(brms)\n",
    "library(here)\n",
    "library(parallel)\n",
    "source(here(\"R/bayesian_helper.R\"))\n",
    "options(mc.cores = 2)\n",
    "options(warn = 2)"
   ]
  },
  {
   "cell_type": "code",
   "execution_count": 2,
   "metadata": {},
   "outputs": [],
   "source": [
    "load(here(\"data/data_transfer.RData\"))"
   ]
  },
  {
   "cell_type": "code",
   "execution_count": 3,
   "metadata": {
    "scrolled": false
   },
   "outputs": [],
   "source": [
    "df <- data_transfer"
   ]
  },
  {
   "cell_type": "code",
   "execution_count": 4,
   "metadata": {},
   "outputs": [],
   "source": [
    "# how many models already fitted\n",
    "m_count <- length(list.files(\"../models/cc_vs_nocc/skew_normal/\")) "
   ]
  },
  {
   "cell_type": "code",
   "execution_count": 13,
   "metadata": {},
   "outputs": [],
   "source": [
    "# specify list of genus like \n",
    "genus_v <- colnames(df)\n",
    "genus <- genus_v[-c(1:7)]\n",
    "# fit already\n",
    "model_files <- list.files(\"../models/cc_vs_nocc/skew_normal\")\n",
    "genus_done <- \n",
    "    lapply(model_files, function(x) {\n",
    "        gsub(\"_time_cc.rds\", \"\", x)\n",
    "    }) %>% as.character()\n",
    "# not fit yet\n",
    "genus_left <- genus[!(genus %in% genus_done)]"
   ]
  },
  {
   "cell_type": "code",
   "execution_count": 14,
   "metadata": {},
   "outputs": [
    {
     "data": {
      "text/html": [
       "<ol class=list-inline>\n",
       "\t<li>'Parabacteroides_distasonis_et_rel'</li>\n",
       "\t<li>'Propionibacterium'</li>\n",
       "\t<li>'Proteus_et_rel'</li>\n",
       "\t<li>'Ruminococcus_obeum_et_rel'</li>\n",
       "\t<li>'Staphylococcus'</li>\n",
       "\t<li>'Sutterella_wadsworthia_et_rel'</li>\n",
       "\t<li>'Tannerella_et_rel'</li>\n",
       "\t<li>'Xanthomonadaceae'</li>\n",
       "\t<li>'Yersinia_et_rel'</li>\n",
       "</ol>\n"
      ],
      "text/latex": [
       "\\begin{enumerate*}\n",
       "\\item 'Parabacteroides\\_distasonis\\_et\\_rel'\n",
       "\\item 'Propionibacterium'\n",
       "\\item 'Proteus\\_et\\_rel'\n",
       "\\item 'Ruminococcus\\_obeum\\_et\\_rel'\n",
       "\\item 'Staphylococcus'\n",
       "\\item 'Sutterella\\_wadsworthia\\_et\\_rel'\n",
       "\\item 'Tannerella\\_et\\_rel'\n",
       "\\item 'Xanthomonadaceae'\n",
       "\\item 'Yersinia\\_et\\_rel'\n",
       "\\end{enumerate*}\n"
      ],
      "text/markdown": [
       "1. 'Parabacteroides_distasonis_et_rel'\n",
       "2. 'Propionibacterium'\n",
       "3. 'Proteus_et_rel'\n",
       "4. 'Ruminococcus_obeum_et_rel'\n",
       "5. 'Staphylococcus'\n",
       "6. 'Sutterella_wadsworthia_et_rel'\n",
       "7. 'Tannerella_et_rel'\n",
       "8. 'Xanthomonadaceae'\n",
       "9. 'Yersinia_et_rel'\n",
       "\n",
       "\n"
      ],
      "text/plain": [
       "[1] \"Parabacteroides_distasonis_et_rel\" \"Propionibacterium\"                \n",
       "[3] \"Proteus_et_rel\"                    \"Ruminococcus_obeum_et_rel\"        \n",
       "[5] \"Staphylococcus\"                    \"Sutterella_wadsworthia_et_rel\"    \n",
       "[7] \"Tannerella_et_rel\"                 \"Xanthomonadaceae\"                 \n",
       "[9] \"Yersinia_et_rel\"                  "
      ]
     },
     "metadata": {},
     "output_type": "display_data"
    }
   ],
   "source": [
    "genus_left"
   ]
  },
  {
   "cell_type": "code",
   "execution_count": 15,
   "metadata": {},
   "outputs": [],
   "source": [
    "# specify prior \n",
    "prior_d <- c(\n",
    "            set_prior(\"normal(0, 2)\", class = \"b\"),\n",
    "            set_prior(\"exponential(50)\", class = \"sd\"),\n",
    "            set_prior(\"normal(0, 10)\", class = \"Intercept\"), \n",
    "            set_prior(\"normal(0, 2)\", class = \"b\", dpar = \"sigma\"),\n",
    "            set_prior(\"exponential(50)\", class = \"sd\", dpar = \"sigma\"),\n",
    "            set_prior(\"normal(0, 5)\", class = \"Intercept\", dpar = \"sigma\"),\n",
    "            set_prior(\"lkj(2)\", class = \"cor\"))\n",
    "\n",
    "\n",
    "control <-  list(adapt_delta = 0.9999, max_treedepth = 15)\n",
    "# folder \n",
    "folder_d <- here(\"models/cc_vs_nocc\")\n",
    "\n",
    "# define fitting function \n",
    "brmd_sn <- function(genus) {\n",
    "    # specify formula\n",
    "    f_d <- as.formula(glue(\"{genus} ~ 1 + time*cc + age_d_s + (1+ time + age_d_s|subject_id)\"))\n",
    "    formula_d <- bf(f_d, sigma ~ 1 + time*cc + age_d_s + (1+time+age_d_s|subject_id))\n",
    "    # give individual model name for storage\n",
    "    model_file <- glue(\"{folder_d}/skew_normal/{genus}_time_cc\")\n",
    "    #fit model\n",
    "    brm(\n",
    "        family = skew_normal(), data = df, formula = formula_d,\n",
    "        chains = 4, warmup = 1000,\n",
    "        control = control, prior = prior_d, file = model_file\n",
    "    )\n",
    "}"
   ]
  },
  {
   "cell_type": "code",
   "execution_count": null,
   "metadata": {
    "scrolled": false
   },
   "outputs": [],
   "source": [
    "models <- lapply(genus_left, brmd_sn)"
   ]
  },
  {
   "cell_type": "code",
   "execution_count": null,
   "metadata": {},
   "outputs": [],
   "source": [
    "# help(\"diagnostic-quantities\")\n",
    "print(\"hi\")"
   ]
  },
  {
   "cell_type": "code",
   "execution_count": 33,
   "metadata": {
    "scrolled": false
   },
   "outputs": [],
   "source": [
    "#lapply(genus, function(genus) {\n",
    "#    ggplot(df, aes_string(genus)) +\n",
    "#        geom_density()\n",
    "#})\n",
    "inspect_d <- \n",
    "    mclapply(1:length(genus), function(x) {\n",
    "        pp_plot_v2(model_p1[[x]], 10, genus_p1[[x]], lower = 0.01, upper = 0)\n",
    "    })\n",
    "inspect_d2 <- \n",
    "    mclapply(1:length(genus), function(x) {\n",
    "        pp_plot(model_p1[[x]], 10, genus_p1[[x]], lower = 0.01, upper = 0)\n",
    "    })"
   ]
  },
  {
   "cell_type": "code",
   "execution_count": null,
   "metadata": {
    "scrolled": false
   },
   "outputs": [],
   "source": [
    "mclapply(1:length(genus), function(i) {\n",
    "    print(inspect_d[[i]])\n",
    "    print(inspect_d2[[i]])\n",
    "})\n"
   ]
  },
  {
   "cell_type": "code",
   "execution_count": null,
   "metadata": {},
   "outputs": [],
   "source": []
  }
 ],
 "metadata": {
  "kernelspec": {
   "display_name": "R",
   "language": "R",
   "name": "ir"
  },
  "language_info": {
   "codemirror_mode": "r",
   "file_extension": ".r",
   "mimetype": "text/x-r-source",
   "name": "R",
   "pygments_lexer": "r",
   "version": "3.5.1"
  }
 },
 "nbformat": 4,
 "nbformat_minor": 2
}
