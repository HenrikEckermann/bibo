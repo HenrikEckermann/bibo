{
 "cells": [
  {
   "cell_type": "code",
   "execution_count": null,
   "metadata": {},
   "outputs": [],
   "source": [
    "#knitr::purl(here(\"Rmd/childcare_article_analyses.Rmd\"), here(\"R/childcare_article_analyses.R\"))"
   ]
  },
  {
   "cell_type": "code",
   "execution_count": 607,
   "metadata": {},
   "outputs": [],
   "source": [
    "library(vegan)\n",
    "library(microbiome)\n",
    "library(tidyverse)\n",
    "library(here)"
   ]
  },
  {
   "cell_type": "code",
   "execution_count": 608,
   "metadata": {},
   "outputs": [],
   "source": [
    "# load data and helper functions\n",
    "source(\"https://raw.githubusercontent.com/HenrikEckermann/in_use/master/bayesian_helper.R\")\n",
    "source(\"https://raw.githubusercontent.com/HenrikEckermann/in_use/master/mb_helper.R\")"
   ]
  },
  {
   "cell_type": "code",
   "execution_count": null,
   "metadata": {},
   "outputs": [],
   "source": [
    "load(here(\"data/data_transfer.RData\"))\n",
    "source(here(\"R/read.R\"))"
   ]
  },
  {
   "cell_type": "code",
   "execution_count": null,
   "metadata": {},
   "outputs": [],
   "source": [
    "# take over the meta variables I created in other docs\n",
    "meta_new <- data_transfer[, 1:9] "
   ]
  },
  {
   "cell_type": "code",
   "execution_count": null,
   "metadata": {},
   "outputs": [],
   "source": [
    "head(meta_new)"
   ]
  },
  {
   "cell_type": "code",
   "execution_count": null,
   "metadata": {},
   "outputs": [],
   "source": [
    "# create catories for bf and childcare and specifically for ccyes vs rest\n",
    "meta_new <- meta_new %>%\n",
    "  mutate(\n",
    "      groups = ifelse(time == \"pre\" & cc == \"no\", \"noCCpre\", ifelse(\n",
    "          time == \"pre\" & cc == \"yes\", \"CCpre\", ifelse(\n",
    "              time == \"post\" & cc == \"no\", \"noCCpost\", \"CCpost\"))),\n",
    "      bf = ifelse(bf_ratio <= 0.25, \"lowBF\", ifelse(\n",
    "          bf_ratio <0.75, \"mediumBF\", \"highBF\")),\n",
    "      ccpost = ifelse(groups == \"CCpost\", 1, 0)) %>% \n",
    "  mutate(\n",
    "      groups = as.factor(groups), \n",
    "      bf = as.factor(bf), \n",
    "      ccpost = as.factor(ccpost))"
   ]
  },
  {
   "cell_type": "code",
   "execution_count": null,
   "metadata": {},
   "outputs": [],
   "source": [
    "# create new pseq object (read.R results in the object \"genus\" Leo created)\n",
    "otu <- otu_to_df(genus, transpose = FALSE)\n",
    "otu <- otu %>% \n",
    "    select(species, meta_new$sample_id) %>% \n",
    "    df_to_otu()\n",
    "pseq <- phyloseq(otu, df_to_sd(meta_new), tax_table(genus))\n",
    "# add diversity indeces to sample data\n",
    "diversities <- \n",
    "    global(pseq, index = \"all\") %>% \n",
    "    select(contains(\"diversities\")) %>% \n",
    "    rownames_to_column(\"sample_id\")\n",
    "colnames(diversities) <- gsub(\"diversities_\", \"\", colnames(diversities))\n",
    "\n",
    "sample_data(pseq) <- \n",
    "    sd_to_df(pseq) %>% \n",
    "    left_join(diversities, by = \"sample_id\") %>%\n",
    "    df_to_sd()\n",
    "meta <- sd_to_df(pseq)\n",
    "# clr and relative abundance transformation to deal with compositionality of mb data\n",
    "pseq.clr <- microbiome::transform(pseq, transform = \"clr\")\n",
    "pseq.rel <- microbiome::transform(pseq, \"compositional\")"
   ]
  },
  {
   "cell_type": "markdown",
   "metadata": {},
   "source": [
    "# PERMANOVA\n",
    "I cannot use Bray Curtis distance for CLR transformed data. Thus I do it once with relative abundance and for clr transformed data I use Euclidean distance."
   ]
  },
  {
   "cell_type": "code",
   "execution_count": null,
   "metadata": {
    "scrolled": false
   },
   "outputs": [],
   "source": [
    "# how many NA? --> 4 CC and 1 no CC\n",
    "# sd_to_df(pseq.rel) %>% filter(is.na(bf_count_s))\n",
    "# complete cases for meta data and otus:\n",
    "meta.rel <- sd_to_df(pseq.rel) %>% na.omit()\n",
    "otus.rel <- otu_to_df(pseq.rel, transpose = F) %>% \n",
    "    column_to_rownames(\"species\") %>%\n",
    "    select(meta.rel$sample_id) %>%\n",
    "    t() \n",
    "\n",
    "# Homogeneity assumption \n",
    "dist <- vegdist(otus.rel)\n",
    "anova(betadisper(dist, meta.rel$cc))\n",
    "anova(betadisper(dist, meta.rel$time))\n",
    "anova(betadisper(dist, meta.rel$groups))\n",
    "pm <- adonis(otus.rel ~ time * cc + age_d_s + bf_count_s, method = \"bray\", data = meta)"
   ]
  },
  {
   "cell_type": "code",
   "execution_count": null,
   "metadata": {},
   "outputs": [],
   "source": [
    "pm$aov.tab"
   ]
  },
  {
   "cell_type": "code",
   "execution_count": null,
   "metadata": {
    "scrolled": false
   },
   "outputs": [],
   "source": [
    "coef_v <- c(\"time1\", \"age_d_s\", \"bf_count_s\", \"time1:cc1\")\n",
    "pmps <- lapply(coef_v, function(x) {\n",
    "    coef <- coefficients(pm)[x,] \n",
    "    # make plot that I can manipulate better for apa6th in case\n",
    "    coef_top <- \n",
    "        coef[rev(order(abs(coef)))[1:15]] %>%\n",
    "        as.data.frame() %>%\n",
    "        rownames_to_column(\"top_taxa\") \n",
    "    colnames(coef_top) <- c(\"top_taxa\", \"coef_top\")\n",
    "\n",
    "    coef_top <- coef_top %>% arrange(desc(coef_top)) %>%\n",
    "                mutate(top_taxa = factor(top_taxa, levels = top_taxa))\n",
    "     p <- ggplot(coef_top, aes(top_taxa, coef_top)) +\n",
    "            geom_bar(stat=\"identity\") +\n",
    "            ylim(-0.055, 0.03) +\n",
    "            xlab(\"Taxa\") + ylab(\"Coefficient PERMANOVA\") +\n",
    "            ggtitle(glue::glue(\"Coefficient: {x}\")) +\n",
    "            coord_flip() +\n",
    "            theme_bw()\n",
    "    ggsave(here(glue(\"fig/permanova_{x}_rel_ab.png\")))\n",
    "    p\n",
    "})\n",
    "pmps"
   ]
  },
  {
   "cell_type": "code",
   "execution_count": null,
   "metadata": {
    "scrolled": true
   },
   "outputs": [],
   "source": [
    "# clr/euclidean\n",
    "meta.clr <- sd_to_df(pseq.clr) %>% na.omit()\n",
    "otus.clr <- otu_to_df(pseq.clr, transpose = F) %>% \n",
    "    column_to_rownames(\"species\") %>%\n",
    "    select(meta.clr$sample_id) %>%\n",
    "    t() \n",
    "\n",
    "# Homogeneity assumption \n",
    "dist <- vegdist(otus.clr, method = \"euclidean\")\n",
    "anova(betadisper(dist, meta.clr$cc))\n",
    "anova(betadisper(dist, meta.clr$time))\n",
    "anova(betadisper(dist, meta.clr$groups))\n",
    "pm <- adonis(otus.clr ~ time * cc + age_d_s + bf_count_s, method = \"euclidean\", data = meta.clr)"
   ]
  },
  {
   "cell_type": "code",
   "execution_count": null,
   "metadata": {},
   "outputs": [],
   "source": [
    "pm$aov.tab"
   ]
  },
  {
   "cell_type": "code",
   "execution_count": null,
   "metadata": {
    "scrolled": false
   },
   "outputs": [],
   "source": [
    "coef_v <- c(\"time1\", \"age_d_s\", \"bf_count_s\", \"time1:cc1\")\n",
    "pmps <- lapply(coef_v, function(x) {\n",
    "    coef <- coefficients(pm)[x,] \n",
    "    # make plot that I can manipulate better for apa6th in case\n",
    "    coef_top <- \n",
    "        coef[rev(order(abs(coef)))[1:15]] %>%\n",
    "        as.data.frame() %>%\n",
    "        rownames_to_column(\"top_taxa\") \n",
    "    colnames(coef_top) <- c(\"top_taxa\", \"coef_top\")\n",
    "\n",
    "    coef_top <- coef_top %>% arrange(desc(coef_top)) %>%\n",
    "                mutate(top_taxa = factor(top_taxa, levels = top_taxa))\n",
    "     p <- ggplot(coef_top, aes(top_taxa, coef_top)) +\n",
    "            geom_bar(stat=\"identity\") +\n",
    "            ylim(-0.5, 0.5) +\n",
    "            xlab(\"Taxa\") + ylab(\"Coefficient PERMANOVA\") +\n",
    "            ggtitle(glue::glue(\"Coefficient: {x}\")) +\n",
    "            coord_flip() +\n",
    "            theme_bw()\n",
    "    ggsave(here(glue(\"fig/permanova_{x}_clr.png\")))\n",
    "    p\n",
    "})\n",
    "pmps"
   ]
  },
  {
   "cell_type": "code",
   "execution_count": null,
   "metadata": {},
   "outputs": [],
   "source": [
    "### make tables for permanovs apa\n",
    "pm_table <- rownames_to_column(pm$aov.tab, \"Model Parameters\")\n",
    "pm_table <- \n",
    "  mutate_if(pm_table, is.numeric, funs(round(., 3))) %>%\n",
    "    mutate(\n",
    "      MeanSqs = ifelse(is.na(MeanSqs), \"-\", MeanSqs),\n",
    "      F.Model = ifelse(is.na(F.Model), \"-\", F.Model),\n",
    "      `Pr(>F)` = ifelse(is.na(`Pr(>F)`), \"-\", `Pr(>F)`)) %>%\n",
    "    select(`Model Parameters`,SumsOfSqs, MeanSqs, F.Model, Df,`Pr(>F)`, R2)\n",
    "colnames(pm_table) <- c(\"Model Parameter\", \"Sum of Squares\", \"Mean Sum of Squares\", \"F\", \"Df\", \"p\", \"R Square\" )"
   ]
  },
  {
   "cell_type": "code",
   "execution_count": null,
   "metadata": {},
   "outputs": [],
   "source": [
    "pm_table"
   ]
  },
  {
   "cell_type": "markdown",
   "metadata": {},
   "source": [
    "# Principal Coordinate Analysis"
   ]
  },
  {
   "cell_type": "code",
   "execution_count": null,
   "metadata": {
    "scrolled": false
   },
   "outputs": [],
   "source": [
    "# PCoA bray, can we differentiate the post CC from all other infants?\n",
    "cc_pcoa <- ordinate(pseq.rel, method = \"PCoA\", distance = \"bray\")\n",
    "e_values <- cc_pcoa$values$Eigenvalues\n",
    "plot_ordination(pseq.rel, cc_pcoa, color = \"groups\") +\n",
    "    geom_point(size = 3) +\n",
    "    coord_fixed(sqrt(e_values[2] / e_values[1])) \n",
    "# axes 2:3\n",
    "plot_ordination(pseq.rel, cc_pcoa, color = \"groups\", axes = 2:3) +\n",
    "    geom_point(size = 3) +\n",
    "    coord_fixed(sqrt(e_values[2] / e_values[1])) \n",
    "\n",
    "\n",
    "# PCoA bray, can we differentiate the post CC from all other infants?\n",
    "cc_pcoa <- ordinate(pseq.clr, method = \"PCoA\", distance = \"euclidean\")\n",
    "e_values <- cc_pcoa$values$Eigenvalues\n",
    "plot_ordination(pseq.clr, cc_pcoa, color = \"groups\") +\n",
    "    geom_point(size = 3) +\n",
    "    coord_fixed(sqrt(e_values[2] / e_values[1])) \n",
    "# axes 2:3\n",
    "plot_ordination(pseq.clr, cc_pcoa, color = \"groups\", axes = 2:3) +\n",
    "    geom_point(size = 3) +\n",
    "    coord_fixed(sqrt(e_values[2] / e_values[1]))"
   ]
  },
  {
   "cell_type": "markdown",
   "metadata": {},
   "source": [
    "# Hierarchical Generalized Linear Models"
   ]
  },
  {
   "cell_type": "code",
   "execution_count": null,
   "metadata": {},
   "outputs": [],
   "source": [
    "future::availableCores()"
   ]
  },
  {
   "cell_type": "code",
   "execution_count": null,
   "metadata": {
    "scrolled": true
   },
   "outputs": [],
   "source": [
    "library(brms)\n",
    "library(broom)\n",
    "library(parallel)\n",
    "options(mc.cores = 6)"
   ]
  },
  {
   "cell_type": "code",
   "execution_count": null,
   "metadata": {},
   "outputs": [],
   "source": [
    "otus.clr <- otu_to_df(pseq.clr)\n",
    "colnames(otus.clr)[which(colnames(otus.clr) == \"Clostridium_\\\\(sensu_stricto\\\\)\")] <- \"Clostridium_sensu_stricto\"\n",
    "colnames(otus.clr) <- c(\"sample_id\", gsub(\"_\", \"\", colnames(otus.clr)[-1]))\n",
    "colnames(otus.clr) <- gsub(\"\\\\.\", \"\", colnames(otus.clr))\n",
    "colnames(otus.clr) <- gsub(\" \", \"\", colnames(otus.clr))\n",
    "genus <- colnames(otus.clr)[-1]\n",
    "data <- sd_to_df(pseq.clr) %>%\n",
    "    left_join(otus.clr, by = \"sample_id\")"
   ]
  },
  {
   "cell_type": "markdown",
   "metadata": {},
   "source": [
    "## Alpha diversity regressed on X\n",
    "\n",
    "I started with a prior of exp(10). From my limited experience, models will converge if I use a strong prior here. The prior assigns low probability to high variation of the distribution of the intercepts and slopes per individual."
   ]
  },
  {
   "cell_type": "code",
   "execution_count": null,
   "metadata": {
    "scrolled": false
   },
   "outputs": [],
   "source": [
    "data %>% \n",
    "    select(shannon, gini_simpson, inverse_simpson, fisher) %>%\n",
    "    pairs()\n",
    "\n",
    "data %>% \n",
    "    select(shannon, gini_simpson, inverse_simpson, fisher) %>%\n",
    "    gather(index, value) %>%\n",
    "    ggplot(aes(value)) +\n",
    "    geom_density() +\n",
    "    facet_wrap(~index, scales = \"free\")\n",
    "\n",
    "data %>% \n",
    "    select(shannon, gini_simpson, inverse_simpson, fisher) %>%\n",
    "    cor()"
   ]
  },
  {
   "cell_type": "code",
   "execution_count": null,
   "metadata": {},
   "outputs": [],
   "source": [
    "dir.create(here(\"models/final_analyses\"))\n",
    "folder <- here(\"models/final_analyses\")\n",
    "diversity_index <- c(\"shannon\", \"inverse_simpson\", \"gini_simpson\", \"fisher\")"
   ]
  },
  {
   "cell_type": "markdown",
   "metadata": {},
   "source": [
    "### Model specification\n",
    "I will define different models using either gaussian or skew_normal distribution and also using either the integrated missing value treatment from BRMS or not. The rationale behind using it is that I will have more power to evaluate the hypotheses whether CC has effect on MB. Breastfeeding is a covariate and the uncertainty introduced imputation will be reflected in the posterior. \n",
    "\n",
    "The skew_normal should better be able to deal with the inverse simpson but in the end both should be fine."
   ]
  },
  {
   "cell_type": "code",
   "execution_count": null,
   "metadata": {},
   "outputs": [],
   "source": [
    "# # create directories\n",
    "# lapply(diversity_index, function(x) {\n",
    "#     dir.create(glue(\"{folder}/{x}\"))\n",
    "#     dir.create(glue(\"{folder}/{x}/gaussian\"))\n",
    "#     dir.create(glue(\"{folder}/{x}/skew_normal\"))\n",
    "# })"
   ]
  },
  {
   "cell_type": "code",
   "execution_count": null,
   "metadata": {},
   "outputs": [],
   "source": [
    "prior <- \n",
    "    c(\n",
    "        set_prior(\"normal(0, 2)\", class = \"b\"),\n",
    "        set_prior(\"exponential(20)\", class = \"sd\"),\n",
    "        set_prior(\"normal(0, 10)\", class = \"Intercept\"),\n",
    "        set_prior(\"lkj(2)\", class = \"cor\")\n",
    "    )\n",
    "\n",
    "brm_div <- \n",
    "    function(diversity_index) {\n",
    "        # formula\n",
    "        f <- as.formula(glue(\"{diversity_index} ~ cc*time + age_d_s + bf_count_s + (1 + time + age_d_s + bf_count_s|subject_id)\"))\n",
    "        formula <- bf(f) \n",
    "        model_file <- glue(\"{folder}/{diversity_index}/gaussian/full\")\n",
    "        #fit model\n",
    "        brm(\n",
    "            family = gaussian(), data = data, formula = formula,\n",
    "            warmup = 1000, control = list(adapt_delta = 0.9999, max_treedepth = 15),\n",
    "            prior = prior, file = model_file\n",
    "        )\n",
    "}\n",
    "\n",
    "\n",
    "brm_div_mi <- function(diversity_index) {\n",
    "        # delete _ for prior\n",
    "        div_prior <- gsub(\"_\", \"\", diversity_index)\n",
    "        # specify prior for mi version\n",
    "        prior_n <- c(\n",
    "            set_prior(\"normal(0, 2)\", class = \"b\", resp = div_prior),\n",
    "            set_prior(\"exponential(15)\", class = \"sd\", resp = div_prior),\n",
    "            set_prior(\"normal(0, 10)\", class = \"Intercept\", resp = div_prior), \n",
    "            set_prior(\"lkj(2)\", class = \"cor\"),             \n",
    "            set_prior(\"normal(0, 2)\", class = \"b\", resp = \"bfcounts\"),\n",
    "            set_prior(\"exponential(15)\", class = \"sd\", resp = \"bfcounts\"),\n",
    "            set_prior(\"normal(0, 10)\", class = \"Intercept\", resp = \"bfcounts\")\n",
    "        )\n",
    "        # formula\n",
    "        f1 <- as.formula(glue(\"{diversity_index} |mi() ~ cc*time + age_d_s + mi(bf_count_s) + (1 + time + age_d_s + mi(bf_count_s)|subject_id)\"))\n",
    "        f2 <- as.formula(glue(\"bf_count_s |mi() ~ cc*time + {diversity_index} + age_d_s + (1 + time + age_d_s + {diversity_index}|subject_id)\"))\n",
    "        formula <- bf(f1) + bf(f2) + set_rescor(FALSE)\n",
    "        model_file <- glue(\"{folder}/{diversity_index}/gaussian/full_mi\")\n",
    "        #fit model\n",
    "        brm(\n",
    "            family = gaussian(), data = data, formula = formula,\n",
    "            warmup = 1000, control = list(adapt_delta = 0.9999, max_treedepth = 15), \n",
    "            prior = prior_n, file = model_file\n",
    "        )\n",
    "}\n",
    "\n",
    "brm_div_skew <- \n",
    "    function(diversity_index) {\n",
    "        # formula\n",
    "        f <- as.formula(glue(\"{diversity_index} ~ cc*time + age_d_s + bf_count_s + (1 + time + age_d_s + bf_count_s|subject_id)\"))\n",
    "        formula <- bf(f) \n",
    "        model_file <- glue(\"{folder}/{diversity_index}/skew_normal/full\")\n",
    "        #fit model\n",
    "        brm(\n",
    "            family = skew_normal(), data = data, formula = formula,\n",
    "            warmup = 1000, control = list(adapt_delta = 0.9999), \n",
    "            prior = prior, file = model_file\n",
    "        )\n",
    "}\n",
    "\n",
    "\n",
    "brm_div_skew_mi <- function(diversity_index) {\n",
    "        # delete _ for prior\n",
    "        div_prior <- gsub(\"_\", \"\", diversity_index)\n",
    "        # specify prior \n",
    "        prior_n <- c(\n",
    "            set_prior(\"normal(0, 2)\", class = \"b\", resp = div_prior),\n",
    "            set_prior(\"exponential(15)\", class = \"sd\", resp = div_prior),\n",
    "            set_prior(\"normal(0, 10)\", class = \"Intercept\", resp = div_prior), \n",
    "            set_prior(\"lkj(2)\", class = \"cor\"),             \n",
    "            set_prior(\"normal(0, 2)\", class = \"b\", resp = \"bfcounts\"),\n",
    "            set_prior(\"exponential(15)\", class = \"sd\", resp = \"bfcounts\"),\n",
    "            set_prior(\"normal(0, 10)\", class = \"Intercept\", resp = \"bfcounts\"))\n",
    "        # formula\n",
    "        f1 <- as.formula(glue(\"{diversity_index} |mi() ~ cc*time + age_d_s + mi(bf_count_s) + (1 + time + age_d_s + mi(bf_count_s)|subject_id)\"))\n",
    "        f2 <- as.formula(glue(\"bf_count_s |mi() ~ cc*time + {diversity_index} + age_d_s + (1 + time + age_d_s + {diversity_index}|subject_id)\"))\n",
    "        formula <- bf(f1) + bf(f2) + set_rescor(FALSE)\n",
    "        model_file <- glue(\"{folder}/{diversity_index}/skew_normal/full_mi\")\n",
    "        #fit model\n",
    "        brm(\n",
    "            family = skew_normal(), data = data, formula = formula,\n",
    "            warmup = 1000, control = list(adapt_delta = 0.9999, max_treedepth = 15), \n",
    "            prior = prior_n, file = model_file\n",
    "        )\n",
    "}"
   ]
  },
  {
   "cell_type": "code",
   "execution_count": null,
   "metadata": {
    "scrolled": true
   },
   "outputs": [],
   "source": [
    "# gaussian family and listwise deletion\n",
    "div_models <- lapply(diversity_index, brm_div)"
   ]
  },
  {
   "cell_type": "code",
   "execution_count": null,
   "metadata": {
    "scrolled": false
   },
   "outputs": [],
   "source": [
    "# gaussian and mi for bf_count_s missingness\n",
    "div_models_mi <- lapply(diversity_index, brm_div_mi)"
   ]
  },
  {
   "cell_type": "code",
   "execution_count": null,
   "metadata": {},
   "outputs": [],
   "source": [
    "div_models_mi"
   ]
  },
  {
   "cell_type": "code",
   "execution_count": null,
   "metadata": {
    "scrolled": false
   },
   "outputs": [],
   "source": [
    "# skew family and listwise deletion\n",
    "div_models_skew <- lapply(diversity_index, brm_div_skew)"
   ]
  },
  {
   "cell_type": "code",
   "execution_count": null,
   "metadata": {
    "scrolled": false
   },
   "outputs": [],
   "source": [
    "# skew family and mi for bf_count_s missingness\n",
    "div_models_skew_mi <- lapply(diversity_index, brm_div_skew_mi)"
   ]
  },
  {
   "cell_type": "code",
   "execution_count": null,
   "metadata": {},
   "outputs": [],
   "source": [
    "source(\"https://raw.githubusercontent.com/HenrikEckermann/in_use/master/bayesian_helper.R\")\n",
    "pp_div <- \n",
    "    lapply(1:length(div_models), function(x) {\n",
    "       pp_plot(div_models[[x]], 10,  diversity_index[x])\n",
    "    } )\n",
    "pp_div_v2 <-\n",
    "    lapply(1:length(div_models), function(x) {\n",
    "       pp_plot_v2(div_models[[x]], 10,  diversity_index[x])\n",
    "    } )\n",
    "pp_div_skew <-\n",
    "    lapply(1:length(div_models_skew), function(x) {\n",
    "       pp_plot(div_models_skew[[x]], 10,  diversity_index[x])\n",
    "\n",
    "    } )\n",
    "pp_div_skew_v2 <-\n",
    "    lapply(1:length(div_models), function(x) {\n",
    "       pp_plot_v2(div_models_skew[[x]], 10,  diversity_index[x])\n",
    "    } )\n",
    "pp_div_mi <- \n",
    "    lapply(1:length(div_models_mi), function(x) {\n",
    "       pp_plot(div_models_mi[[x]], 10,  diversity_index[x])\n",
    "    } )\n",
    "pp_div_mi_v2 <-\n",
    "    lapply(1:length(div_models), function(x) {\n",
    "       pp_plot_v2(div_models_mi[[x]], 10,  diversity_index[x])\n",
    "    } )\n",
    "pp_div_skew_mi <-\n",
    "    lapply(1:length(div_models_skew_mi), function(x) {\n",
    "       pp_plot(div_models_skew_mi[[x]], 10,  diversity_index[x])\n",
    "    } )\n",
    "pp_div_skew_mi_v2 <-\n",
    "    lapply(1:length(div_models), function(x) {\n",
    "       pp_plot_v2(div_models_skew_mi[[x]], 10,  diversity_index[x])\n",
    "    } )"
   ]
  },
  {
   "cell_type": "code",
   "execution_count": null,
   "metadata": {
    "scrolled": false
   },
   "outputs": [],
   "source": [
    "lapply(div_models_mi, function(x) {\n",
    "    tidy(x)[1:13,]\n",
    "})"
   ]
  },
  {
   "cell_type": "code",
   "execution_count": null,
   "metadata": {
    "scrolled": false
   },
   "outputs": [],
   "source": [
    "lapply(div_models_skew_mi, function(x) {\n",
    "    tidy(x)[1:13,]\n",
    "})\n",
    "#lapply(div_models_skew_mi, plot)"
   ]
  },
  {
   "cell_type": "code",
   "execution_count": null,
   "metadata": {},
   "outputs": [],
   "source": [
    "tidy(div_models_skew[[1]]) %>% filter (term == \"alpha\")"
   ]
  },
  {
   "cell_type": "code",
   "execution_count": null,
   "metadata": {},
   "outputs": [],
   "source": [
    "#posterior_samples(div_models_skew_mi) %>% colnames()"
   ]
  },
  {
   "cell_type": "code",
   "execution_count": null,
   "metadata": {},
   "outputs": [],
   "source": [
    "calc_treatment_effect <- function(model, var_name, summarise = TRUE, stat = \"mean\") {\n",
    "    var_name <- gsub(\"_\", \"\", var_name)\n",
    "    var_name <- gsub(\"\\\\.\", \"\", var_name)\n",
    "    df <- posterior_samples(model) %>%\n",
    "        select(\n",
    "            glue(\"b_{var_name}_Intercept\"), \n",
    "            glue(\"b_{var_name}_ccyes\"), \n",
    "            glue(\"b_{var_name}_timepost\"), \n",
    "            glue(\"b_{var_name}_ccyes:timepost\")) %>%\n",
    "        rename(\n",
    "            no_pre = glue(\"b_{var_name}_Intercept\"), \n",
    "            yes_pre = glue(\"b_{var_name}_ccyes\"),\n",
    "            no_post = glue(\"b_{var_name}_timepost\"),\n",
    "            yes_post = glue(\"b_{var_name}_ccyes:timepost\")) %>%\n",
    "        mutate(\n",
    "            yes_post = no_pre + yes_pre + no_post + yes_post,\n",
    "            no_post = no_pre + no_post,\n",
    "            yes_pre = no_pre + yes_pre\n",
    "    )    \n",
    "    if (summarise) {\n",
    "        df <- df %>% gather(group, value) %>%\n",
    "            group_by(group) %>%\n",
    "            do(data.frame(\n",
    "                central = ifelse(stat == \"median\", median(.$value), mean(.$value)),\n",
    "                lower = hpdi(.$value)[1],\n",
    "                upper = hpdi(.$value)[2]\n",
    "            ))\n",
    "    }\n",
    "    df\n",
    "}\n",
    "\n",
    "plot_effects <- function(model, var_name) {\n",
    "    var_name <- gsub(\"_\", \"\", var_name)\n",
    "    var_name <- gsub(\"\\\\.\", \"\", var_name)\n",
    "    df_sum <- calc_treatment_effect(model, var_name)\n",
    "    df <- calc_treatment_effect(model, var_name, summarise = F)\n",
    "    # plot\n",
    "    df %>% gather(group, value) %>%\n",
    "        ggplot(aes(x = group, value)) +\n",
    "            geom_jitter(alpha = 0.05, color = \"darkred\") +\n",
    "            geom_point(data = df_sum, aes(x = group, y = central), size = 2, color = \"red\") +\n",
    "            geom_errorbar(data = df_sum, aes(x = group, y = central,  ymin = lower, ymax = upper), color = \"darkred\") +\n",
    "            ggtitle(var_name) +\n",
    "            theme_bw()\n",
    "}\n"
   ]
  },
  {
   "cell_type": "code",
   "execution_count": null,
   "metadata": {},
   "outputs": [],
   "source": [
    "lapply(1:length(diversity_index), function(x) {\n",
    "    var_name <- diversity_index[x]\n",
    "    var_name <- gsub(\"_\", \"\", var_name)\n",
    "    var_name <- gsub(\"\\\\.\", \"\", var_name)\n",
    "    df <- calc_treatment_effect(div_models_mi[[x]], var_name, summarise = F)\n",
    "    df <- df %>% \n",
    "        mutate(            \n",
    "            yespost_yespre = yes_post - yes_pre,\n",
    "            yespost_nopre = yes_post - no_pre,\n",
    "            yespost_nopost = yes_post - no_post) %>%\n",
    "        select(yespost_yespre, yespost_nopre, yespost_nopost) %>%\n",
    "        gather(comparison, value) %>%\n",
    "        group_by(comparison) %>%\n",
    "        do(data.frame(\n",
    "            mean_diff = mean(.$value),\n",
    "            lower = hpdi(.$value)[1],\n",
    "            upper = hpdi(.$value)[2],\n",
    "            prob = mean(.$value < 0)\n",
    "        ))\n",
    "    df\n",
    "})\n"
   ]
  },
  {
   "cell_type": "code",
   "execution_count": null,
   "metadata": {
    "scrolled": false
   },
   "outputs": [],
   "source": [
    "meta <- meta %>% mutate(\n",
    "    group = ifelse(groups == \"noCCpost\", \"no_post\", ifelse(groups == \"CCpost\", \"yes_post\", ifelse(groups == \"CCpre\", \"yes_pre\", \"no_pre\")))\n",
    ")\n",
    "lapply(1:length(diversity_index), function(x) {\n",
    "    p <- plot_effects(div_models_mi[[x]], diversity_index[x]) +\n",
    "            geom_jitter(data = meta, aes_string(\"group\", diversity_index[x]), width = 0.1, shape = 2)\n",
    "    ggsave(here(glue(\"fig/parameter_plot_{x}.png\")))\n",
    "    p\n",
    "    })"
   ]
  },
  {
   "cell_type": "markdown",
   "metadata": {},
   "source": [
    "\n",
    "# Differential abundance testing"
   ]
  },
  {
   "cell_type": "code",
   "execution_count": null,
   "metadata": {},
   "outputs": [],
   "source": [
    "# specify prior \n",
    "prior <- c(\n",
    "            set_prior(\"normal(0, 2)\", class = \"b\"),\n",
    "            set_prior(\"exponential(25)\", class = \"sd\"),\n",
    "            set_prior(\"normal(0, 10)\", class = \"Intercept\"),\n",
    "            set_prior(\"lkj(2)\", class = \"cor\"))\n",
    "\n",
    "\n",
    "control <-  list(adapt_delta = 0.9999, max_treedepth = 15)\n",
    "folder <- here(\"models/final_analyses/differential_abundance/\")\n",
    "\n",
    "# define fitting function for fixed sigma\n",
    "brm_sn <- function(genus) {\n",
    "    # specify formula\n",
    "    f_d <- as.formula(glue(\"{genus} ~ 1 + time*cc + age_d_s + bf_count_s + (1+ time + age_d_s + bf_count_s|subject_id)\"))\n",
    "    formula <- bf(f_d)\n",
    "    # give individual model name for storage\n",
    "    model_file <- glue(\"{folder}/skew_normal/{genus}_full\")\n",
    "    #fit model\n",
    "    brm(\n",
    "        family = skew_normal(), data = data, formula = formula,\n",
    "        chains = 4, warmup = 1000,\n",
    "        control = control, prior = prior, file = model_file\n",
    "        )\n",
    "    \n",
    "}\n",
    "        \n",
    "        \n",
    "# define fitting function for fixed sigma\n",
    "brm_sn_mi <- function(genus) {\n",
    "        # delete _ for prior\n",
    "        sub_prior <- gsub(\"_\", \"\", genus)\n",
    "        sub_prior <- gsub(\"\\\\.\", \"\", sub_prior)\n",
    "        # specify prior for mi version\n",
    "        prior_n <- c(\n",
    "            set_prior(\"normal(0, 2)\", class = \"b\", resp = sub_prior),\n",
    "            set_prior(\"exponential(25)\", class = \"sd\", resp = sub_prior),\n",
    "            set_prior(\"normal(0, 10)\", class = \"Intercept\", resp = sub_prior), \n",
    "            set_prior(\"lkj(2)\", class = \"cor\"),             \n",
    "            set_prior(\"normal(0, 2)\", class = \"b\", resp = \"bfcounts\"),\n",
    "            set_prior(\"exponential(25)\", class = \"sd\", resp = \"bfcounts\"),\n",
    "            set_prior(\"normal(0, 10)\", class = \"Intercept\", resp = \"bfcounts\")\n",
    "        )\n",
    "    # specify formula\n",
    "    f1 <- as.formula(glue(\"{genus} |mi() ~ cc*time + age_d_s + mi(bf_count_s) + (1 + time + age_d_s + mi(bf_count_s)|subject_id)\"))\n",
    "    f2 <- as.formula(glue(\"bf_count_s |mi() ~ cc*time + {genus} + age_d_s + (1 + time + age_d_s + {genus}|subject_id)\"))\n",
    "    formula <- bf(f1) + bf(f2) + set_rescor(FALSE)\n",
    "    # give individual model name for storage\n",
    "    model_file <- glue(\"{folder}/skew_normal/{genus}_full_mi\")\n",
    "    #fit model\n",
    "    brm(\n",
    "        family = skew_normal(), data = data, formula = formula,\n",
    "        chains = 4, warmup = 1000,\n",
    "        control = control, prior = prior_n, file = model_file\n",
    "        )\n",
    "    \n",
    "}\n",
    "        \n",
    "        \n",
    "        \n",
    "# specify prior \n",
    "prior_d <- c(\n",
    "            set_prior(\"normal(0, 2)\", class = \"b\"),\n",
    "            set_prior(\"exponential(25)\", class = \"sd\"),\n",
    "            set_prior(\"normal(0, 10)\", class = \"Intercept\"), \n",
    "            set_prior(\"normal(0, 2)\", class = \"b\", dpar = \"sigma\"),\n",
    "            set_prior(\"exponential(25)\", class = \"sd\", dpar = \"sigma\"),\n",
    "            set_prior(\"normal(0, 5)\", class = \"Intercept\", dpar = \"sigma\"),\n",
    "            set_prior(\"lkj(2)\", class = \"cor\"))\n",
    "\n",
    "\n",
    "control <-  list(adapt_delta = 0.9999, max_treedepth = 15)\n",
    "# folder \n",
    "folder_d <- here(\"models/cc_vs_nocc\")\n",
    "\n",
    "# define fitting function distributional\n",
    "brmd_sn <- function(genus) {\n",
    "    # specify formula\n",
    "    f_d <- as.formula(glue(\"{genus} ~ 1 + time*cc + age_d_s + bf_count_s + (1+ time + age_d_s + bf_count_s|subject_id)\"))\n",
    "    formula_d <- bf(f_d, sigma ~ 1 + time*cc + age_d_s + bf_count_s + (1 + time + age_d_s + bf_count_s|subject_id))\n",
    "    # give individual model name for storage\n",
    "    model_file <- glue(\"{folder}/skew_normal/{genus}_d_full\")\n",
    "    #fit model\n",
    "    brm(\n",
    "        family = skew_normal(), data = data, formula = formula_d,\n",
    "        chains = 4, warmup = 1000,\n",
    "        control = control, prior = prior_d, file = model_file\n",
    "        )\n",
    "    \n",
    "}\n",
    "\n",
    "# define fitting function distributional + mi\n",
    "brmd_sn_mi <- function(genus) {\n",
    "    # delete _ for prior\n",
    "    sub_prior <- gsub(\"_\", \"\", genus)\n",
    "    sub_prior <- gsub(\"\\\\.\", \"\", sub_prior)\n",
    "    # specify prior for mi version\n",
    "    prior_n <- c(\n",
    "        set_prior(\"normal(0, 2)\", class = \"b\", resp = sub_prior),\n",
    "        set_prior(\"exponential(15)\", class = \"sd\", resp = sub_prior),\n",
    "        set_prior(\"normal(0, 10)\", class = \"Intercept\", resp = sub_prior), \n",
    "        set_prior(\"lkj(2)\", class = \"cor\"),     \n",
    "        set_prior(\"normal(0, 2)\", class = \"b\", dpar = \"sigma\", resp = sub_prior),\n",
    "        set_prior(\"exponential(25)\", class = \"sd\", dpar = \"sigma\", resp = sub_prior),\n",
    "        set_prior(\"normal(0, 5)\", class = \"Intercept\", dpar = \"sigma\", resp = sub_prior),\n",
    "        set_prior(\"normal(0, 2)\", class = \"b\", resp = \"bfcounts\"),\n",
    "        set_prior(\"exponential(15)\", class = \"sd\", resp = \"bfcounts\"),\n",
    "        set_prior(\"normal(0, 10)\", class = \"Intercept\", resp = \"bfcounts\")\n",
    "    )\n",
    "    # specify formula\n",
    "    f1 <- as.formula(\"Enterococcus |mi() ~ 1+ cc*time + age_d_s + mi(bf_count_s) + (1 + time + age_d_s + mi(bf_count_s)|subject_id)\")\n",
    "    f1 <- bf(f1, sigma ~ 1 + time*cc + age_d_s + mi(bf_count_s) + (1 + time + age_d_s + mi(bf_count_s)|subject_id))\n",
    "    f2 <- as.formula(\"bf_count_s |mi() ~ 1 + cc*time + Enterococcus + age_d_s + (1 + time + age_d_s + Enterococcus|subject_id)\")\n",
    "    formula_d <- bf(f1) + bf(f2) + set_rescor(FALSE) \n",
    "    # give individual model name for storage\n",
    "    model_file <- glue(\"{folder}/skew_normal/{genus}_d_full_mi\")\n",
    "    #fit model\n",
    "    brm(\n",
    "        family = skew_normal(), data = data, formula = formula_d,\n",
    "        chains = 4, warmup = 1000,\n",
    "        control = control, prior = prior_n, file = model_file\n",
    "        )\n",
    "    \n",
    "}"
   ]
  },
  {
   "cell_type": "code",
   "execution_count": null,
   "metadata": {},
   "outputs": [],
   "source": [
    "models_sn <- mclapply(genus, brm_sn_mi)"
   ]
  },
  {
   "cell_type": "code",
   "execution_count": null,
   "metadata": {},
   "outputs": [],
   "source": [
    "#test"
   ]
  },
  {
   "cell_type": "code",
   "execution_count": 605,
   "metadata": {},
   "outputs": [
    {
     "name": "stdout",
     "output_type": "stream",
     "text": [
      "[1] \"merege\"\n"
     ]
    }
   ],
   "source": []
  },
  {
   "cell_type": "code",
   "execution_count": null,
   "metadata": {},
   "outputs": [],
   "source": []
  }
 ],
 "metadata": {
  "kernelspec": {
   "display_name": "R",
   "language": "R",
   "name": "ir"
  },
  "language_info": {
   "codemirror_mode": "r",
   "file_extension": ".r",
   "mimetype": "text/x-r-source",
   "name": "R",
   "pygments_lexer": "r",
   "version": "3.5.1"
  }
 },
 "nbformat": 4,
 "nbformat_minor": 2
}
