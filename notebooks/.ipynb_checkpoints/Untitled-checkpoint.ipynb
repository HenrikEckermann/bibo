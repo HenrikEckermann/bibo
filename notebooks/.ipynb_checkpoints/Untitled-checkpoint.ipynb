{
 "cells": [
  {
   "cell_type": "code",
   "execution_count": 58,
   "metadata": {},
   "outputs": [],
   "source": [
    "library(tidyverse)\n",
    "library(brms)\n",
    "library(here)\n",
    "library(parallel)\n",
    "options(mc.cores = 4)\n",
    "source(here(\"R/bayesian_helper.R\"))\n",
    "load(here(\"data/data_transfer.RData\"))\n",
    "df <- data_transfer"
   ]
  },
  {
   "cell_type": "code",
   "execution_count": 59,
   "metadata": {},
   "outputs": [],
   "source": [
    "files <- list.files(\"../models/cc_vs_nocc/skew_normal\")"
   ]
  },
  {
   "cell_type": "code",
   "execution_count": 60,
   "metadata": {},
   "outputs": [],
   "source": [
    "genus <- \n",
    "    mclapply(files, function(x) {\n",
    "        gsub(\"_time_cc.rds\", \"\", x)\n",
    "    }) %>% as.character()"
   ]
  },
  {
   "cell_type": "code",
   "execution_count": 61,
   "metadata": {},
   "outputs": [],
   "source": [
    "# specify prior \n",
    "prior_d <- c(\n",
    "            set_prior(\"normal(0, 2)\", class = \"b\"),\n",
    "            set_prior(\"exponential(50)\", class = \"sd\"),\n",
    "            set_prior(\"normal(0, 10)\", class = \"Intercept\"), \n",
    "            set_prior(\"normal(0, 2)\", class = \"b\", dpar = \"sigma\"),\n",
    "            set_prior(\"exponential(50)\", class = \"sd\", dpar = \"sigma\"),\n",
    "            set_prior(\"normal(0, 5)\", class = \"Intercept\", dpar = \"sigma\"),\n",
    "            set_prior(\"lkj(2)\", class = \"cor\"))\n",
    "\n",
    "\n",
    "control <-  list(adapt_delta = 0.9999, max_treedepth = 15)\n",
    "# folder \n",
    "folder_d <- here(\"models/cc_vs_nocc\")\n",
    "\n",
    "# define fitting function \n",
    "brmd_sn <- function(genus) {\n",
    "    # specify formula\n",
    "    f_d <- as.formula(glue(\"{genus} ~ 1 + time*cc + age_d_s + (1+ time + age_d_s|subject_id)\"))\n",
    "    formula_d <- bf(f_d, sigma ~ 1 + time*cc + age_d_s + (1+time+age_d_s|subject_id))\n",
    "    # give individual model name for storage\n",
    "    model_file <- glue(\"{folder_d}/skew_normal/{genus}_time_cc\")\n",
    "    #fit model\n",
    "    brm(\n",
    "        family = skew_normal(), data = df, formula = formula_d,\n",
    "        chains = 4, warmup = 1000,\n",
    "        control = control, prior = prior_d, file = model_file\n",
    "    )\n",
    "}"
   ]
  },
  {
   "cell_type": "code",
   "execution_count": 62,
   "metadata": {},
   "outputs": [],
   "source": [
    "models <- mclapply(genus, brmd_sn)"
   ]
  },
  {
   "cell_type": "code",
   "execution_count": 57,
   "metadata": {},
   "outputs": [],
   "source": [
    "inspect_d <- \n",
    "    mclapply(1:length(genus), function(x) {\n",
    "        pp_plot_v2(models[[x]], 10, genus[[x]], lower = 0.01, upper = 0)\n",
    "    })\n",
    "inspect_d2 <- \n",
    "    mclapply(1:length(genus), function(x) {\n",
    "        pp_plot(models[[x]], 10, genus[[x]], lower = 0.01, upper = 0)\n",
    "    })"
   ]
  },
  {
   "cell_type": "code",
   "execution_count": null,
   "metadata": {},
   "outputs": [],
   "source": [
    "mclapply(1:length(genus), function(i) {\n",
    "    print(inspect_d[[i]])\n",
    "    print(inspect_d2[[i]])\n",
    "})\n"
   ]
  }
 ],
 "metadata": {
  "kernelspec": {
   "display_name": "R",
   "language": "R",
   "name": "ir"
  },
  "language_info": {
   "codemirror_mode": "r",
   "file_extension": ".r",
   "mimetype": "text/x-r-source",
   "name": "R",
   "pygments_lexer": "r",
   "version": "3.5.1"
  }
 },
 "nbformat": 4,
 "nbformat_minor": 2
}
