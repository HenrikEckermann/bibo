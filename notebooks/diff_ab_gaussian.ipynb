{
 "cells": [
  {
   "cell_type": "code",
   "execution_count": null,
   "metadata": {},
   "outputs": [],
   "source": [
    "library(vegan)\n",
    "library(microbiome)\n",
    "library(tidyverse)\n",
    "library(here)\n",
    "# load data and helper functions\n",
    "source(\"https://raw.githubusercontent.com/HenrikEckermann/in_use/master/bayesian_helper.R\")\n",
    "source(\"https://raw.githubusercontent.com/HenrikEckermann/in_use/master/mb_helper.R\")\n",
    "source(\"https://raw.githubusercontent.com/HenrikEckermann/in_use/master/reporting.R\")"
   ]
  },
  {
   "cell_type": "code",
   "execution_count": null,
   "metadata": {},
   "outputs": [],
   "source": [
    "load(here(\"data/data_transfer.RData\"))\n",
    "source(here(\"R/read.R\"))"
   ]
  },
  {
   "cell_type": "code",
   "execution_count": null,
   "metadata": {},
   "outputs": [],
   "source": [
    "# take over the meta variables I created in other docs\n",
    "meta_new <- data_transfer[, 1:9] "
   ]
  },
  {
   "cell_type": "code",
   "execution_count": null,
   "metadata": {},
   "outputs": [],
   "source": [
    "# create catories for bf and childcare and specifically for ccyes vs rest\n",
    "meta_new <- meta_new %>%\n",
    "  mutate(\n",
    "      groups = ifelse(time == \"pre\" & cc == \"no\", \"noCCpre\", ifelse(\n",
    "          time == \"pre\" & cc == \"yes\", \"CCpre\", ifelse(\n",
    "              time == \"post\" & cc == \"no\", \"noCCpost\", \"CCpost\"))),\n",
    "      bf = ifelse(bf_ratio <= 0.25, \"lowBF\", ifelse(\n",
    "          bf_ratio <0.75, \"mediumBF\", \"highBF\")),\n",
    "      ccpost = ifelse(groups == \"CCpost\", 1, 0)) %>% \n",
    "  mutate(\n",
    "      groups = as.factor(groups), \n",
    "      bf = as.factor(bf), \n",
    "      ccpost = as.factor(ccpost))"
   ]
  },
  {
   "cell_type": "code",
   "execution_count": null,
   "metadata": {},
   "outputs": [],
   "source": [
    "# create new pseq object (read.R results in the object \"genus\" Leo created)\n",
    "otu <- otu_to_df(genus, transpose = FALSE)\n",
    "otu <- otu %>% \n",
    "    select(species, meta_new$sample_id) %>% \n",
    "    df_to_otu()\n",
    "pseq <- phyloseq(otu, df_to_sd(meta_new), tax_table(genus))\n",
    "# add diversity indeces to sample data\n",
    "diversities <- \n",
    "    global(pseq, index = \"all\") %>% \n",
    "    select(contains(\"diversities\")) %>% \n",
    "    rownames_to_column(\"sample_id\")\n",
    "colnames(diversities) <- gsub(\"diversities_\", \"\", colnames(diversities))\n",
    "\n",
    "sample_data(pseq) <- \n",
    "    sd_to_df(pseq) %>% \n",
    "    left_join(diversities, by = \"sample_id\") %>%\n",
    "    df_to_sd()\n",
    "meta <- sd_to_df(pseq)\n",
    "# clr and relative abundance transformation to deal with compositionality of mb data\n",
    "pseq.clr <- microbiome::transform(pseq, transform = \"clr\")\n",
    "pseq.rel <- microbiome::transform(pseq, \"compositional\")"
   ]
  },
  {
   "cell_type": "code",
   "execution_count": null,
   "metadata": {},
   "outputs": [],
   "source": [
    "future::availableCores()"
   ]
  },
  {
   "cell_type": "code",
   "execution_count": null,
   "metadata": {},
   "outputs": [],
   "source": [
    "library(brms)\n",
    "library(broom)\n",
    "library(parallel)\n",
    "options(mc.cores = 30)"
   ]
  },
  {
   "cell_type": "code",
   "execution_count": null,
   "metadata": {},
   "outputs": [],
   "source": [
    "otus.clr <- otu_to_df(pseq.clr)\n",
    "colnames(otus.clr)[which(colnames(otus.clr) == \"Clostridium \\\\(sensu stricto\\\\)\")] <- \"Clostridium_sensu_stricto\"\n",
    "colnames(otus.clr) <- c(\"sample_id\", gsub(\"_\", \"\", colnames(otus.clr)[-1]))\n",
    "colnames(otus.clr) <- gsub(\"\\\\.\", \"\", colnames(otus.clr))\n",
    "colnames(otus.clr) <- gsub(\" \", \"\", colnames(otus.clr))\n",
    "genus <- colnames(otus.clr)[-1]\n",
    "data <- sd_to_df(pseq.clr) %>%\n",
    "    left_join(otus.clr, by = \"sample_id\")\n",
    "folder <- here(\"models/final_analyses\")"
   ]
  },
  {
   "cell_type": "code",
   "execution_count": 1,
   "metadata": {},
   "outputs": [],
   "source": [
    "# define fitting function for fixed sigma\n",
    "brm_g_mi <- function(genus) {\n",
    "        # delete _ for prior\n",
    "        sub_prior <- gsub(\"_\", \"\", genus)\n",
    "        sub_prior <- gsub(\"\\\\.\", \"\", sub_prior)\n",
    "        # specify prior for mi version\n",
    "        prior_n <- c(\n",
    "            set_prior(\"normal(0, 2)\", class = \"b\", resp = sub_prior),\n",
    "            set_prior(\"exponential(25)\", class = \"sd\", resp = sub_prior),\n",
    "            set_prior(\"normal(0, 10)\", class = \"Intercept\", resp = sub_prior), \n",
    "            set_prior(\"lkj(2)\", class = \"cor\"),             \n",
    "            set_prior(\"normal(0, 2)\", class = \"b\", resp = \"bfcounts\"),\n",
    "            set_prior(\"exponential(25)\", class = \"sd\", resp = \"bfcounts\"),\n",
    "            set_prior(\"normal(0, 10)\", class = \"Intercept\", resp = \"bfcounts\")\n",
    "        )\n",
    "    # specify formula\n",
    "    f1 <- as.formula(glue(\"{genus} |mi() ~ cc*time + age_d_s + mi(bf_count_s) + (1 + time + age_d_s + mi(bf_count_s)|subject_id)\"))\n",
    "    f2 <- as.formula(glue(\"bf_count_s |mi() ~ cc*time + {genus} + age_d_s + (1 + time + age_d_s + {genus}|subject_id)\"))\n",
    "    formula <- bf(f1) + bf(f2) + set_rescor(FALSE)\n",
    "    # give individual model name for storage\n",
    "    model_file <- glue(\"{folder}/gaussian/{genus}_full_mi\")\n",
    "    #fit model\n",
    "    brm(\n",
    "        family = gaussian(), data = data, formula = formula,\n",
    "        chains = 4, warmup = 1000,\n",
    "        control = control, prior = prior_n, file = model_file\n",
    "        )\n",
    "    \n",
    "}"
   ]
  },
  {
   "cell_type": "code",
   "execution_count": 2,
   "metadata": {},
   "outputs": [
    {
     "ename": "ERROR",
     "evalue": "Error in mclapply(genus, brm_g_mi): could not find function \"mclapply\"\n",
     "output_type": "error",
     "traceback": [
      "Error in mclapply(genus, brm_g_mi): could not find function \"mclapply\"\nTraceback:\n"
     ]
    }
   ],
   "source": [
    "models_g <- mclapply(genus, brm_g_mi)"
   ]
  },
  {
   "cell_type": "code",
   "execution_count": 3,
   "metadata": {},
   "outputs": [
    {
     "ename": "ERROR",
     "evalue": "Error in gsub(\"_\", \"\", genus): object 'genus' not found\n",
     "output_type": "error",
     "traceback": [
      "Error in gsub(\"_\", \"\", genus): object 'genus' not found\nTraceback:\n",
      "1. brm_g_mi(genus[i])",
      "2. gsub(\"_\", \"\", genus)   # at line 4 of file <text>"
     ]
    }
   ],
   "source": [
    "# model screening/excluding gaussian\n",
    "exclude_id <- c()\n",
    "for (i in 1:130) {\n",
    "    fit <- brm_g_mi(genus[i])\n",
    "    sum_fit <- summary(fit)\n",
    "    params <- rbind(sum_fit$fixed, sum_fit$random$subject_id, sum_fit$spec_pars) %>% as.data.frame()\n",
    "    # extract n of divergent transitions\n",
    "    n_divergent <- nuts_params(fit) %>% \n",
    "        filter(Parameter == \"divergent__\") %>% \n",
    "        summarise(n = sum(Value))\n",
    "    # extract n of rhat > 1.1        \n",
    "    n_high_rhat <- dim(filter(params, Rhat >= 1.1))[1]             \n",
    "    # check if there are divergent transitions\n",
    "    if (n_high_rhat > 0) {\n",
    "        print(glue(\"{genus[i]} has {n_high_rhat} high Rhat parameter values\"))\n",
    "        exclude_id <- c(exclude_id, i)\n",
    "    } else if (n_divergent$n > 0){\n",
    "        print(glue(\"{genus[i]} has {n_divergent$n} divergent transitions\"))\n",
    "        exclude_id <- c(exclude_id, i)\n",
    "    }     \n",
    "}\n",
    "genus_sel <- genus[-exclude_id_g]"
   ]
  },
  {
   "cell_type": "code",
   "execution_count": 4,
   "metadata": {},
   "outputs": [],
   "source": [
    "calc_treatment_effect <- function(model, var_name, summarise = TRUE, stat = \"mean\") {\n",
    "    var_name <- gsub(\"_\", \"\", var_name)\n",
    "    var_name <- gsub(\"\\\\.\", \"\", var_name)\n",
    "    df <- posterior_samples(model) %>%\n",
    "        select(\n",
    "            glue(\"b_{var_name}_Intercept\"), \n",
    "            glue(\"b_{var_name}_ccyes\"), \n",
    "            glue(\"b_{var_name}_timepost\"), \n",
    "            glue(\"b_{var_name}_ccyes:timepost\"), \n",
    "            glue(\"b_{var_name}_age_d_s\"), \n",
    "            glue(\"bsp_{var_name}_mibf_count_s\")\n",
    "        ) %>%\n",
    "        rename(\n",
    "            no_pre = glue(\"b_{var_name}_Intercept\"), \n",
    "            yes_pre = glue(\"b_{var_name}_ccyes\"),\n",
    "            no_post = glue(\"b_{var_name}_timepost\"),\n",
    "            yes_post = glue(\"b_{var_name}_ccyes:timepost\"),\n",
    "            age = glue(\"b_{var_name}_age_d_s\"),\n",
    "            bf = glue(\"bsp_{var_name}_mibf_count_s\")\n",
    "        ) %>%\n",
    "        mutate(\n",
    "            yes_post = no_pre + yes_pre + no_post + yes_post,\n",
    "            no_post = no_pre + no_post,\n",
    "            yes_pre = no_pre + yes_pre\n",
    "    )    \n",
    "    if (summarise) {\n",
    "        df <- df %>% gather(group, value) %>%\n",
    "            group_by(group) %>%\n",
    "            do(data.frame(\n",
    "                central = ifelse(stat == \"median\", median(.$value), mean(.$value)),\n",
    "                lower = hpdi(.$value)[1],\n",
    "                upper = hpdi(.$value)[2]\n",
    "            ))\n",
    "    }\n",
    "    df\n",
    "}\n",
    "\n",
    "plot_effects <- function(model, var_name) {\n",
    "    var_name <- gsub(\"_\", \"\", var_name)\n",
    "    var_name <- gsub(\"\\\\.\", \"\", var_name)\n",
    "    df_sum <- calc_treatment_effect(model, var_name)\n",
    "    df <- calc_treatment_effect(model, var_name, summarise = F)\n",
    "    # plot\n",
    "    df %>% gather(group, value) %>%\n",
    "        ggplot(aes(x = group, value)) +\n",
    "            geom_jitter(alpha = 0.05, color = \"darkred\") +\n",
    "            geom_point(data = df_sum, aes(x = group, y = central), size = 2, color = \"red\") +\n",
    "            geom_errorbar(data = df_sum, aes(x = group, y = central,  ymin = lower, ymax = upper), color = \"darkred\") +\n",
    "            ggtitle(var_name) +\n",
    "            theme_bw()\n",
    "}\n",
    "\n"
   ]
  },
  {
   "cell_type": "code",
   "execution_count": 5,
   "metadata": {},
   "outputs": [
    {
     "ename": "ERROR",
     "evalue": "Error in tibble(genus = NA, mean = NA, lower = NA, upper = NA, prob = NA, : could not find function \"tibble\"\n",
     "output_type": "error",
     "traceback": [
      "Error in tibble(genus = NA, mean = NA, lower = NA, upper = NA, prob = NA, : could not find function \"tibble\"\nTraceback:\n"
     ]
    }
   ],
   "source": [
    "effect_age <- tibble(genus = NA, mean = NA, lower = NA, upper = NA, prob = NA, effect = NA)\n",
    "effect_bf <- tibble(genus = NA, mean = NA, lower = NA, upper = NA, prob = NA, effect = NA)\n",
    "effect_yespre <- tibble(genus = NA, mean = NA, lower = NA, upper = NA, prob = NA, effect = NA)\n",
    "effect_nopre <- tibble(genus = NA, mean = NA, lower = NA, upper = NA, prob = NA, effect = NA)\n",
    "effect_nopost <- tibble(genus = NA, mean = NA, lower = NA, upper = NA, prob = NA, effect = NA)\n",
    "for (var_name in genus_sel) {\n",
    "    fit <- brm_g_mi(var_name)\n",
    "    df <- calc_treatment_effect(fit, var_name, summarise = F)\n",
    "    df <- df %>% \n",
    "        mutate(            \n",
    "            yespost_yespre = yes_post - yes_pre,\n",
    "            yespost_nopre = yes_post - no_pre,\n",
    "            yespost_nopost = yes_post - no_post) %>%\n",
    "        select(yespost_yespre, yespost_nopre, yespost_nopost, age, bf) %>%\n",
    "        gather(effect, value) %>%\n",
    "        group_by(effect) %>%\n",
    "        do(data.frame(\n",
    "            mean = mean(.$value),\n",
    "            lower = hpdi(.$value)[1],\n",
    "            upper = hpdi(.$value)[2],\n",
    "            prob = mean(.$value < 0)\n",
    "        ))\n",
    "    effect_age <- rbind(effect_age, tibble(genus = var_name, mean = df$mean[1], lower = df$lower[1], upper = df$upper[1], prob = df$prob[1], effect = \"age\"))\n",
    "    effect_bf <- rbind(effect_bf, tibble(genus = var_name, mean = df$mean[2], lower = df$lower[2], upper = df$upper[2], prob = df$prob[2], effect = \"bf\"))\n",
    "    effect_yespre <- rbind(effect_yespre, tibble(genus = var_name, mean = df$mean[3], lower = df$lower[3], upper = df$upper[3], prob = df$prob[3], effect = \"yespre\"))\n",
    "    effect_nopre <- rbind(effect_nopre, tibble(genus = var_name, mean = df$mean[4], lower = df$lower[4], upper = df$upper[4], prob = df$prob[4], effect = \"nopre\"))\n",
    "    effect_nopost <- rbind(effect_nopost, tibble(genus = var_name, mean = df$mean[5], lower = df$lower[5], upper = df$upper[5], prob = df$prob[5], effect = \"nopost\"))                 \n",
    "}\n",
    "\n",
    "effect_age <- na.omit(effect_age)\n",
    "effect_bf <- na.omit(effect_bf)\n",
    "effect_yespre <- na.omit(effect_yespre)\n",
    "effect_nopre <- na.omit(effect_nopre)\n",
    "effect_nopost <- na.omit(effect_nopost)"
   ]
  },
  {
   "cell_type": "code",
   "execution_count": 6,
   "metadata": {},
   "outputs": [
    {
     "ename": "ERROR",
     "evalue": "Error in eval(expr, envir, enclos): object 'effect_age' not found\n",
     "output_type": "error",
     "traceback": [
      "Error in eval(expr, envir, enclos): object 'effect_age' not found\nTraceback:\n"
     ]
    }
   ],
   "source": [
    "# how are effects distributed\n",
    "dfs <- list(effect_age = effect_age, effect_bf = effect_bf, effect_yespre = effect_yespre, effect_nopre = effect_nopre, effect_nopost = effect_nopost)\n",
    "lapply(c(\"effect_age\", \"effect_bf\", \"effect_yespre\", \"effect_nopre\", \"effect_nopost\"), function(x){\n",
    "    df <- dfs[[x]] %>% mutate(prob = report_star_nondirectional(prob))\n",
    "    df1 <- filter(df, genus %in% genus_sel[1:length(genus_sel)/2])\n",
    "    df2 <- filter(df, genus %in% genus_sel[length(genus_sel)/2+1:length(genus_sel)])\n",
    "    p1 <- ggplot(df1, aes(genus, mean, label = prob)) +\n",
    "        geom_pointrange(aes(ymin = lower, ymax = upper)) +\n",
    "        theme(axis.text.x = element_text(angle = 90, hjust = 1)) +\n",
    "        geom_text(nudge_y = 1) +\n",
    "        ggtitle(x) +\n",
    "        geom_hline(yintercept = 0, linetype = \"dashed\", color = \"red\") +\n",
    "        ylim(-2, 2) +\n",
    "        coord_flip() +\n",
    "        theme_bw(base_size = 8)\n",
    "    \n",
    "    p2 <- ggplot(df2, aes(genus, mean, label = prob)) +\n",
    "        geom_pointrange(aes(ymin = lower, ymax = upper)) +\n",
    "        theme(axis.text.x = element_text(angle = 90, hjust = 1)) +\n",
    "        geom_text(nudge_y = 1) +\n",
    "        ggtitle(x) +\n",
    "        geom_hline(yintercept = 0, linetype = \"dashed\", color = \"red\") +\n",
    "        ylim(-2, 2) +\n",
    "        coord_flip() +\n",
    "        theme_bw(base_size = 8)\n",
    "    list(p1, p2)\n",
    "})\n"
   ]
  },
  {
   "cell_type": "code",
   "execution_count": null,
   "metadata": {},
   "outputs": [],
   "source": [
    "effect_age <- effect_age %>% \n",
    "    arrange(prob) %>%\n",
    "    mutate(qvalue = cummean(prob))\n",
    "effect_bf <- effect_bf %>% \n",
    "    arrange(prob) %>%\n",
    "    mutate(qvalue = cummean(prob))\n",
    "effect_yespre <- effect_yespre %>% \n",
    "    arrange(prob) %>%\n",
    "    mutate(qvalue = cummean(prob))\n",
    "effect_nopre <- effect_nopre %>% \n",
    "    arrange(prob) %>%\n",
    "    mutate(qvalue = cummean(prob))\n",
    "effect_nopost <- effect_nopost %>% \n",
    "    arrange(prob) %>%\n",
    "    mutate(qvalue = cummean(prob))\n",
    "effects <- rbind(effect_age, effect_bf, effect_yespre, effect_nopre, effect_nopost)\n",
    "\n",
    "effects %>% filter(qvalue < 0.01)"
   ]
  },
  {
   "cell_type": "code",
   "execution_count": null,
   "metadata": {},
   "outputs": [],
   "source": [
    "# relation to effect size\n",
    "effects %>%\n",
    "    na.omit() %>%\n",
    "    ggplot(aes(mean, prob)) +\n",
    "    geom_point() +\n",
    "    geom_vline(xintercept = 0, linetype = \"dashed\") +\n",
    "    facet_wrap(~effect)"
   ]
  }
 ],
 "metadata": {
  "kernelspec": {
   "display_name": "R",
   "language": "R",
   "name": "ir"
  },
  "language_info": {
   "codemirror_mode": "r",
   "file_extension": ".r",
   "mimetype": "text/x-r-source",
   "name": "R",
   "pygments_lexer": "r",
   "version": "3.5.1"
  }
 },
 "nbformat": 4,
 "nbformat_minor": 2
}
