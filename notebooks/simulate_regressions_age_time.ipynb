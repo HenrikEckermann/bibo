{
 "cells": [
  {
   "cell_type": "code",
   "execution_count": 3,
   "metadata": {},
   "outputs": [],
   "source": [
    "library(tidyverse)"
   ]
  },
  {
   "cell_type": "code",
   "execution_count": 246,
   "metadata": {},
   "outputs": [
    {
     "data": {
      "text/html": [
       "<table>\n",
       "<thead><tr><th scope=col>time</th><th scope=col>cc</th><th scope=col>mean(y)</th></tr></thead>\n",
       "<tbody>\n",
       "\t<tr><td>0       </td><td>0       </td><td>22.91412</td></tr>\n",
       "\t<tr><td>0       </td><td>1       </td><td>22.80612</td></tr>\n",
       "\t<tr><td>1       </td><td>0       </td><td>32.29655</td></tr>\n",
       "\t<tr><td>1       </td><td>1       </td><td>30.80929</td></tr>\n",
       "</tbody>\n",
       "</table>\n"
      ],
      "text/latex": [
       "\\begin{tabular}{r|lll}\n",
       " time & cc & mean(y)\\\\\n",
       "\\hline\n",
       "\t 0        & 0        & 22.91412\\\\\n",
       "\t 0        & 1        & 22.80612\\\\\n",
       "\t 1        & 0        & 32.29655\\\\\n",
       "\t 1        & 1        & 30.80929\\\\\n",
       "\\end{tabular}\n"
      ],
      "text/markdown": [
       "\n",
       "| time | cc | mean(y) |\n",
       "|---|---|---|\n",
       "| 0        | 0        | 22.91412 |\n",
       "| 0        | 1        | 22.80612 |\n",
       "| 1        | 0        | 32.29655 |\n",
       "| 1        | 1        | 30.80929 |\n",
       "\n"
      ],
      "text/plain": [
       "  time cc mean(y) \n",
       "1 0    0  22.91412\n",
       "2 0    1  22.80612\n",
       "3 1    0  32.29655\n",
       "4 1    1  30.80929"
      ]
     },
     "metadata": {},
     "output_type": "display_data"
    }
   ],
   "source": [
    "# simulate situation where time and age are similarly but perfectly correlated\n",
    "# does regression then still work?\n",
    "subject_id <- rep(1:49, 2)\n",
    "subject_intercept <- rnorm(mean = 0, sd = 0.5, n = 49)\n",
    "subject_intercept <- c(subject_intercept, subject_intercept)\n",
    "cc <- rep(c(1, 0), 49)\n",
    "time <- c(rep(0, 49), rep(1, 49))\n",
    "age <- c(rnorm(mean = 10, sd = 0.5, n = 49))\n",
    "age <- c(age, age + 4)\n",
    "mu <- (3 + subject_intercept) +1*time -1*time*cc + 2*age\n",
    "y <- rnorm(mean = mu, sd = 1, n = 98)\n",
    "df <- tibble(subject_id = subject_id, cc = as.factor(cc), time = as.factor(time), age = age, y = y, age_s = scale(age)[, 1])\n",
    "df %>% group_by(time, cc) %>% summarise(mean(y))"
   ]
  },
  {
   "cell_type": "code",
   "execution_count": 247,
   "metadata": {},
   "outputs": [
    {
     "data": {
      "text/plain": [
       "\n",
       "\tPearson's product-moment correlation\n",
       "\n",
       "data:  age and time\n",
       "t = 52.828, df = 96, p-value < 2.2e-16\n",
       "alternative hypothesis: true correlation is not equal to 0\n",
       "95 percent confidence interval:\n",
       " 0.9750339 0.9887531\n",
       "sample estimates:\n",
       "      cor \n",
       "0.9832318 \n"
      ]
     },
     "metadata": {},
     "output_type": "display_data"
    }
   ],
   "source": [
    "cor.test(age, time)"
   ]
  },
  {
   "cell_type": "code",
   "execution_count": 248,
   "metadata": {},
   "outputs": [],
   "source": [
    "library(lme4)\n",
    "fit <- lmer(y ~ age_s+time + (1|subject_id), data = df)"
   ]
  },
  {
   "cell_type": "code",
   "execution_count": 249,
   "metadata": {},
   "outputs": [
    {
     "data": {
      "text/plain": [
       "Linear mixed model fit by REML ['lmerMod']\n",
       "Formula: y ~ age_s + time + (1 | subject_id)\n",
       "   Data: df\n",
       "\n",
       "REML criterion at convergence: 300.6\n",
       "\n",
       "Scaled residuals: \n",
       "     Min       1Q   Median       3Q      Max \n",
       "-2.22799 -0.61162 -0.02813  0.77303  2.00302 \n",
       "\n",
       "Random effects:\n",
       " Groups     Name        Variance Std.Dev.\n",
       " subject_id (Intercept) 0.1653   0.4065  \n",
       " Residual               1.1088   1.0530  \n",
       "Number of obs: 98, groups:  subject_id, 49\n",
       "\n",
       "Fixed effects:\n",
       "            Estimate Std. Error t value\n",
       "(Intercept)   26.402      0.673  39.229\n",
       "age_s          3.622      0.668   5.422\n",
       "time1          1.623      1.324   1.226\n",
       "\n",
       "Correlation of Fixed Effects:\n",
       "      (Intr) age_s \n",
       "age_s  0.971       \n",
       "time1 -0.984 -0.987"
      ]
     },
     "metadata": {},
     "output_type": "display_data"
    }
   ],
   "source": [
    "summary(fit)"
   ]
  },
  {
   "cell_type": "code",
   "execution_count": null,
   "metadata": {},
   "outputs": [],
   "source": []
  },
  {
   "cell_type": "code",
   "execution_count": null,
   "metadata": {},
   "outputs": [],
   "source": []
  },
  {
   "cell_type": "code",
   "execution_count": null,
   "metadata": {},
   "outputs": [],
   "source": []
  }
 ],
 "metadata": {
  "kernelspec": {
   "display_name": "R",
   "language": "R",
   "name": "ir"
  },
  "language_info": {
   "codemirror_mode": "r",
   "file_extension": ".r",
   "mimetype": "text/x-r-source",
   "name": "R",
   "pygments_lexer": "r",
   "version": "3.5.2"
  }
 },
 "nbformat": 4,
 "nbformat_minor": 2
}
