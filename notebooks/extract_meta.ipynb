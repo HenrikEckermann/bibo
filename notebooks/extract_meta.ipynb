{
 "cells": [
  {
   "cell_type": "markdown",
   "metadata": {
    "format": "text/markdown"
   },
   "source": [
    "### Extract and Clean feeding variables\n",
    "\n"
   ]
  },
  {
   "cell_type": "code",
   "execution_count": 44,
   "metadata": {},
   "outputs": [],
   "source": [
    "# import modules\n",
    "import pandas as pd\n",
    "import numpy as np\n",
    "import os\n",
    "import re\n",
    "# path of file \n",
    "directory = \"../data/excel_files/\"\n",
    "all_files = os.listdir(directory) \n",
    "# exlude non-xls files \n",
    "files = [file for file in all_files if file[-3:] == \"xls\"]"
   ]
  },
  {
   "cell_type": "code",
   "execution_count": 45,
   "metadata": {},
   "outputs": [
    {
     "name": "stdout",
     "output_type": "stream",
     "text": [
      "185\n",
      "['443', '450', '451']\n"
     ]
    }
   ],
   "source": [
    "# Extract  ---------------------------\n",
    "\n",
    "# create df in long format but only if data is present\n",
    "# thus, exclude if sheet2 no present\n",
    "sheet_not_found = []\n",
    "df_long = pd.DataFrame()\n",
    "for file in files:\n",
    "  id = file[0:3]\n",
    "  temp_xl = pd.ExcelFile(f\"{directory}/{file}\")\n",
    "  if \"Sheet2\" in temp_xl.sheet_names:\n",
    "    temp_df = temp_xl.parse(\"Sheet2\")\n",
    "    temp_df.insert(loc=0, column='subject', value=id)\n",
    "    df_long = df_long.append(temp_df, sort = True)\n",
    "  else:\n",
    "    sheet_not_found.append(id)\n",
    "\n",
    "# how many files worked\n",
    "print(df_long.subject.unique().size)\n",
    "# which did not work? \n",
    "print(sheet_not_found)\n",
    "# Note: I double checked those excel files and indeed the data is not there"
   ]
  },
  {
   "cell_type": "code",
   "execution_count": 46,
   "metadata": {
    "autoscroll": "auto",
    "options": {
     "caption": false,
     "complete": true,
     "display_data": true,
     "display_stream": true,
     "dpi": 200,
     "echo": true,
     "evaluate": true,
     "f_env": null,
     "f_pos": "htpb",
     "f_size": [
      6,
      4
     ],
     "f_spines": true,
     "fig": true,
     "include": true,
     "name": null,
     "option_string": "",
     "results": "verbatim",
     "term": false,
     "wrap": "output"
    }
   },
   "outputs": [],
   "source": [
    "# drop some unused columns and change colnames\n",
    "df_long = df_long.drop(columns = [\n",
    "  \"Unnamed: 10\", \n",
    "  \"merk en naam poedermelk\",\n",
    "  \"opmerking\",\n",
    "  \"opmerkingen\",\n",
    "  \"welke ziekte\",\n",
    "  \"ziek\"\n",
    "  ])\n",
    "colnames = [\n",
    "    \"expressed_bf\", \n",
    "    \"bf\", \n",
    "    \"pet\", \n",
    "    \"formula\", \n",
    "    \"type_solid_food\", \n",
    "    \"subject\", \n",
    "    \"solid_food\", \n",
    "    \"week\"\n",
    "]\n",
    "df_long.columns = colnames"
   ]
  },
  {
   "cell_type": "code",
   "execution_count": 47,
   "metadata": {
    "format": "text/markdown"
   },
   "outputs": [
    {
     "name": "stdout",
     "output_type": "stream",
     "text": [
      "['6,5', '5,5', '7 tot 8', '.', '.', '.', '.', '.', '5 tot 6', '7,5', '7,5', '7,5', '6,7', '4,5', '4,5', '4,5', '4,5', '3,5', '3,5', '5,5', '5,5', '5,5', '6 tot 7', '3 tot 4', '3 tot 4', '3 tot 4', '3 tot 4', '3 tot 4', '3 tot 4', '.', '.', '.', '.', '5,6', '6,5', '6,5', '5,5', '.', '.', '.', '.', '.', '.', '.', '.', '.', '.', '.', '.', '.', '5 a 6', '5 a 6', '5 a 6', '5 a 6', '5 a 6', '5 a 6', '5 a 6', '5 a 6', '5 a 6', '5 a 6', '5 a 6', '5 a 6', '5 a 6', '5 a 6', '5 a 6', '4 a 5', '3 a 4', '6,5', '7,5', '.', '.', '.', '.', '.', '.', '.', '.', '.', '.', '.', '.', '.', '.', '.', '.', '.', '.', '.', '6,5', '6,5', '.', '.', '.', '4,5', '.', '6,5', '6,5', '5,5', '5,5', '5,5', '6,5', '.', '.', '.', '6,5', '6,5', '4,5', '4,5', '6,5', '6,5', '6,5', '5,5', '.', '.', '7,5', '6,5', '4,5', '5,5', '5,5', '5,5', '5,5', '5,5', '5,5', '5,5', '2,5', '4,5', 'leeg', 'kwijt', ' ', '5,5', '5,5', '5,5', '7,5', '6,5', '.', '.', '.', '.', '6,25', ',', ',', '7,5', '6,5', '5,5', '4,5', '3,5', '1,5', '1,5', '0,5', '6,5', '4,5', '.', '.', '.', '7,5', '5,5', '9,5', ' ', '.', '.', '.', '.', '.', '.', '.', '.', '.', '.', '.', '.', '.', '5,5', '.', '.', '8,5', '8,5', '3 tot 6', '2 tot 6', '3 tot 5', '3 tot 7', '3 tot 6', '3 tot 6', '2 tot 5', '6,5', '8 tot 7', '.', '6 tot 5']\n",
      "['.', '.', '.', '.', '.', '0,5', '0,5', '0,5', '0,5', '0,5', '0,5', '0,5', '.', '.', '.', '.', '0,5', '.', '.', '.', '.', '.', '.', datetime.time(3, 21, 36), '.', '.', '.', '.', '.', '.', '.', '.', '.', '.', '.', '.', '.', '.', '.', '.', '.', '.', '.', '.', '.', '.', '.', '2 (op kdv dagen)', '2 (op kdv dagen)', '2 (op kdv dagen)', '2 (op kdv dagen)', '2 (op kdv dagen)', '2 (op kdv dagen)', '2 (op kdv dagen)', '2 (op kdv dagen)', '.', '.', '.', '.', '.', '2,5', '1,5', '0,86', '0,86', '0,86', '0,86', '0,86', '0,86', '0,86', ',86', '0,57', '0,86', '0,86', '0,86', '0,57', '.', '.', '.', '.', '.', '.', '.', '.', '.', '.', '.', '.', '3 tot 0', '4 tot 0', '2 tot 1', '3 tot 0', '3 tot 0', '3 tot 0', '3 tot 0', datetime.time(0, 0)]\n",
      "['1 tot 2', '.', '.', '.', '.', '.', '.', '0-1', '0-1', '.', '.', '.', '.', '.', '.', '.', '.', '.', '.', ' ', '.', '.', '.', '.', '.', '1 keer vaste voeding geprobeerd', '2 keer geprobeerd', '1 keer geprobeerd', '0,57', '1,5', '1,5', '0,1', '0,3', ',', '1 tot 2', '1 tot 2', '1 tot 2', '1 tot 2', '1 tot 2', '1 tot 2', '.', '.', '.', ' ', '.', '.', '.', '.', '.', '.', '.', '.', '.', ' ', '1 tot 2', '.', '.']\n",
      "['6 tot 7', '5 tot 6', '.', '.', '.', '.', '.', '0,5', '1,5', '0,5', '0,5', '0,5', '0,5', '0,5', '.', '.', '.', '.', '?', '?', '?', '.', '6,5', '5,5', '5,5', '.', '.', '.', '.', '.', '?', '1 a 2', '.', '.', '.', '.', '.', '.', '.', '.', '.', '.', '.', '.', '.', '.', '.', '.', '.', '.', '.', '3,5', '.', '.', '.', '.', '.', '.', '.', '.', '.', '.', '.', '.', '.', '.', '.', '.', '.', '.', '.', '.', '.', '.', '.', '.', '.', '.', '.', '.', '.', '.', '.', '.', '.', '.', '.', '.', '.', '.', '.', '.', '.', '.', '.', '.', '.', '1,5', '3,5', '4,5', '5,5', '4,5', '4,5', '4,5', '.', '.', '1,6', '7,5', '.', '5,5', '3,5', '3,5', '4,5', '4,5', '4,5', '4,5', '4,5', '4,5', '4,5', '4,5', '4,5', '4,5', '.', '.', '.', '.', '.', '.', '.', '.', '.', '.', '.', '.', '.', '.', '.', '.', '.', '.', '.', '.', '.', '.', '.', '.', '.', '.', '.', '.', '.', '.', '.', '.', '.', '.', '.', '.', '.', '.', '.', '4 tot 5', '4 tot 5', '5 tot 6', '4 tot 5', '4 tot 5', '8 (kleine hoev.h.)']\n"
     ]
    }
   ],
   "source": [
    "# define cleaner functions ---------------------------\n",
    "\n",
    "# to learn about the trouble-values I catch them if they are not convertable to floats:\n",
    "def catch_exceptions(values):\n",
    "  problem_values = []\n",
    "  for value in values:\n",
    "    value_str = str(value)\n",
    "    try:\n",
    "       float(value_str)\n",
    "    except ValueError:\n",
    "      problem_values.append(value)\n",
    "  return(problem_values)\n",
    "\n",
    "# which values are not convertable:\n",
    "for col in [\"bf\", \"expressed_bf\", \"solid_food\", \"formula\"]:\n",
    "    print(catch_exceptions(df_long.loc[:, col]))"
   ]
  },
  {
   "cell_type": "code",
   "execution_count": 48,
   "metadata": {},
   "outputs": [],
   "source": [
    "# disregard the rest non-information \n",
    "def clean_value(value):\n",
    "    value = str(value)\n",
    "    value = value.replace(\",\", \".\")\n",
    "    value = value.replace(\"2 (op kdv dagen)\", \"2\")\n",
    "    if value == \"0-1\":\n",
    "        value = \"0.5\"\n",
    "    # we can use the information sometimes for the x tot/a y pattern\n",
    "    # for that I use the average. e.g. 5 tot 6 will become 5.5\n",
    "    if \" tot \" in value or \" a \" in value:\n",
    "        pattern = re.compile(r'(\\d+)(\\s\\w+\\s)(\\d+)')\n",
    "        match_groups = pattern.match(value).groups()\n",
    "        first_n = float(match_groups[0])\n",
    "        second_n = float(match_groups[2])\n",
    "        value = str(np.mean([first_n, second_n]))\n",
    "    # filter some leftover non-information\n",
    "    if value in [\" \", \"leeg\", \"kwijt\", \".\", \"?\", \"nan\", \"`\"] or len(value) > 4:\n",
    "        value = np.nan\n",
    "    return(value)\n",
    "\n",
    "# to later compare if everything worked I clone the df \n",
    "df_long2 = df_long.copy()\n",
    "\n",
    "\n",
    "# use cleaner ---------------------------\n",
    "for col in [\"bf\", \"expressed_bf\", \"solid_food\", \"formula\"]:\n",
    "    temp = df_long.loc[:, col]\n",
    "    df_long.loc[:, col] = temp.apply(clean_value)"
   ]
  },
  {
   "cell_type": "code",
   "execution_count": 49,
   "metadata": {
    "scrolled": false
   },
   "outputs": [
    {
     "name": "stdout",
     "output_type": "stream",
     "text": [
      "[]\n",
      "[]\n",
      "[]\n",
      "[]\n"
     ]
    }
   ],
   "source": [
    "# check if we can now convert to numericals \n",
    "for col in [\"bf\", \"expressed_bf\", \"solid_food\", \"formula\"]:\n",
    "    print(catch_exceptions(df_long.loc[:, col]))\n",
    "# now everything is convertible to numerics where necessary"
   ]
  },
  {
   "cell_type": "code",
   "execution_count": 50,
   "metadata": {},
   "outputs": [],
   "source": [
    "# export back to csv \n",
    "df_long.to_csv(\"../data/meta_variables/metadata_long.csv\")"
   ]
  }
 ],
 "metadata": {
  "kernel_info": {
   "name": "python3"
  },
  "kernelspec": {
   "display_name": "Python 3",
   "language": "python",
   "name": "python3"
  },
  "language_info": {
   "codemirror_mode": {
    "name": "ipython",
    "version": 3
   },
   "file_extension": ".py",
   "mimetype": "text/x-python",
   "name": "python",
   "nbconvert_exporter": "python",
   "pygments_lexer": "ipython3",
   "version": "3.6.6"
  }
 },
 "nbformat": 4,
 "nbformat_minor": 1
}
